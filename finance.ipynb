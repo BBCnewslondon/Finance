{
 "cells": [
  {
   "cell_type": "code",
   "execution_count": 17,
   "id": "8a1fc64d",
   "metadata": {},
   "outputs": [],
   "source": [
    "\n",
    "import pandas as pd\n",
    "import os\n",
    "import numpy as np\n",
    "import matplotlib.pyplot as plt\n",
    "import seaborn as sns\n",
    "import optuna # Add optuna import\n",
    "import yfinance as yf\n",
    "import pandas_ta as ta # Import pandas_ta"
   ]
  },
  {
   "cell_type": "code",
   "execution_count": 18,
   "id": "f130336f",
   "metadata": {},
   "outputs": [
    {
     "data": {
      "application/vnd.microsoft.datawrangler.viewer.v0+json": {
       "columns": [
        {
         "name": "index",
         "rawType": "int64",
         "type": "integer"
        },
        {
         "name": "date",
         "rawType": "object",
         "type": "string"
        },
        {
         "name": "clock",
         "rawType": "object",
         "type": "string"
        },
        {
         "name": "open_eurusd",
         "rawType": "float64",
         "type": "float"
        },
        {
         "name": "high_eurusd",
         "rawType": "float64",
         "type": "float"
        },
        {
         "name": "low_eurusd",
         "rawType": "float64",
         "type": "float"
        },
        {
         "name": "close_eurusd",
         "rawType": "float64",
         "type": "float"
        },
        {
         "name": "tikvol_eurusd",
         "rawType": "int64",
         "type": "integer"
        },
        {
         "name": "open_audusd",
         "rawType": "float64",
         "type": "float"
        },
        {
         "name": "high_audusd",
         "rawType": "float64",
         "type": "float"
        },
        {
         "name": "low_audusd",
         "rawType": "float64",
         "type": "float"
        },
        {
         "name": "close_audusd",
         "rawType": "float64",
         "type": "float"
        },
        {
         "name": "tikvol_audusd",
         "rawType": "int64",
         "type": "integer"
        },
        {
         "name": "open_eurgbp",
         "rawType": "float64",
         "type": "float"
        },
        {
         "name": "high_eurgbp",
         "rawType": "float64",
         "type": "float"
        },
        {
         "name": "low_eurgbp",
         "rawType": "float64",
         "type": "float"
        },
        {
         "name": "close_eurgbp",
         "rawType": "float64",
         "type": "float"
        },
        {
         "name": "tikvol_eurgbp",
         "rawType": "int64",
         "type": "integer"
        },
        {
         "name": "open_gbpusd",
         "rawType": "float64",
         "type": "float"
        },
        {
         "name": "high_gbpusd",
         "rawType": "float64",
         "type": "float"
        },
        {
         "name": "low_gbpusd",
         "rawType": "float64",
         "type": "float"
        },
        {
         "name": "close_gbpusd",
         "rawType": "float64",
         "type": "float"
        },
        {
         "name": "tikvol_gbpusd",
         "rawType": "int64",
         "type": "integer"
        },
        {
         "name": "open_nzdusd",
         "rawType": "float64",
         "type": "float"
        },
        {
         "name": "high_nzdusd",
         "rawType": "float64",
         "type": "float"
        },
        {
         "name": "low_nzdusd",
         "rawType": "float64",
         "type": "float"
        },
        {
         "name": "close_nzdusd",
         "rawType": "float64",
         "type": "float"
        },
        {
         "name": "tikvol_nzdusd",
         "rawType": "int64",
         "type": "integer"
        },
        {
         "name": "open_usdchf",
         "rawType": "float64",
         "type": "float"
        },
        {
         "name": "high_usdchf",
         "rawType": "float64",
         "type": "float"
        },
        {
         "name": "low_usdchf",
         "rawType": "float64",
         "type": "float"
        },
        {
         "name": "close_usdchf",
         "rawType": "float64",
         "type": "float"
        },
        {
         "name": "tikvol_usdchf",
         "rawType": "int64",
         "type": "integer"
        },
        {
         "name": "open_usdjpy",
         "rawType": "float64",
         "type": "float"
        },
        {
         "name": "high_usdjpy",
         "rawType": "float64",
         "type": "float"
        },
        {
         "name": "low_usdjpy",
         "rawType": "float64",
         "type": "float"
        },
        {
         "name": "close_usdjpy",
         "rawType": "float64",
         "type": "float"
        },
        {
         "name": "tikvol_usdjpy",
         "rawType": "int64",
         "type": "integer"
        }
       ],
       "conversionMethod": "pd.DataFrame",
       "ref": "0cfdb6ba-4713-44fa-a93c-a461c5f653e8",
       "rows": [
        [
         "0",
         "2023.04.24",
         "00:00:00",
         "1.09883",
         "1.09904",
         "1.09861",
         "1.09863",
         "552",
         "0.66947",
         "0.66968",
         "0.66906",
         "0.66926",
         "422",
         "0.88273",
         "0.88321",
         "0.88257",
         "0.88267",
         "373",
         "1.24412",
         "1.24442",
         "1.24361",
         "1.24405",
         "328",
         "0.61382",
         "0.61404",
         "0.61346",
         "0.61381",
         "289",
         "1.09883",
         "1.09904",
         "1.09861",
         "1.09863",
         "552",
         "1.09883",
         "1.09904",
         "1.09861",
         "1.09863",
         "552"
        ],
        [
         "1",
         "2023.04.24",
         "01:00:00",
         "1.09868",
         "1.09928",
         "1.09862",
         "1.09921",
         "704",
         "0.66932",
         "0.66967",
         "0.66885",
         "0.66944",
         "903",
         "0.88273",
         "0.8833",
         "0.88273",
         "0.88318",
         "1164",
         "1.24389",
         "1.2446",
         "1.24374",
         "1.24448",
         "1027",
         "0.61381",
         "0.61417",
         "0.61341",
         "0.61407",
         "647",
         "1.09868",
         "1.09928",
         "1.09862",
         "1.09921",
         "704",
         "1.09868",
         "1.09928",
         "1.09862",
         "1.09921",
         "704"
        ],
        [
         "2",
         "2023.04.24",
         "02:00:00",
         "1.09921",
         "1.09956",
         "1.09906",
         "1.09913",
         "625",
         "0.66945",
         "0.66971",
         "0.66903",
         "0.66903",
         "859",
         "0.88319",
         "0.88332",
         "0.88286",
         "0.883",
         "1008",
         "1.24447",
         "1.24519",
         "1.24444",
         "1.24468",
         "830",
         "0.61408",
         "0.61453",
         "0.61401",
         "0.61409",
         "589",
         "1.09921",
         "1.09956",
         "1.09906",
         "1.09913",
         "625",
         "1.09921",
         "1.09956",
         "1.09906",
         "1.09913",
         "625"
        ],
        [
         "3",
         "2023.04.24",
         "03:00:00",
         "1.09913",
         "1.09945",
         "1.09839",
         "1.09943",
         "1451",
         "0.66902",
         "0.66948",
         "0.66817",
         "0.66945",
         "2023",
         "0.883",
         "0.8837",
         "0.88289",
         "0.8832",
         "2576",
         "1.24467",
         "1.2448",
         "1.24375",
         "1.24476",
         "2814",
         "0.61406",
         "0.61443",
         "0.61351",
         "0.61436",
         "1374",
         "1.09913",
         "1.09945",
         "1.09839",
         "1.09943",
         "1451",
         "1.09913",
         "1.09945",
         "1.09839",
         "1.09943",
         "1451"
        ],
        [
         "4",
         "2023.04.24",
         "04:00:00",
         "1.09944",
         "1.09944",
         "1.09864",
         "1.09869",
         "1713",
         "0.66944",
         "0.66948",
         "0.66818",
         "0.66827",
         "2647",
         "0.88321",
         "0.88329",
         "0.88286",
         "0.88304",
         "3061",
         "1.24476",
         "1.245",
         "1.24409",
         "1.24414",
         "3109",
         "0.61435",
         "0.61465",
         "0.61382",
         "0.61388",
         "1701",
         "1.09944",
         "1.09944",
         "1.09864",
         "1.09869",
         "1713",
         "1.09944",
         "1.09944",
         "1.09864",
         "1.09869",
         "1713"
        ]
       ],
       "shape": {
        "columns": 37,
        "rows": 5
       }
      },
      "text/html": [
       "<div>\n",
       "<style scoped>\n",
       "    .dataframe tbody tr th:only-of-type {\n",
       "        vertical-align: middle;\n",
       "    }\n",
       "\n",
       "    .dataframe tbody tr th {\n",
       "        vertical-align: top;\n",
       "    }\n",
       "\n",
       "    .dataframe thead th {\n",
       "        text-align: right;\n",
       "    }\n",
       "</style>\n",
       "<table border=\"1\" class=\"dataframe\">\n",
       "  <thead>\n",
       "    <tr style=\"text-align: right;\">\n",
       "      <th></th>\n",
       "      <th>date</th>\n",
       "      <th>clock</th>\n",
       "      <th>open_eurusd</th>\n",
       "      <th>high_eurusd</th>\n",
       "      <th>low_eurusd</th>\n",
       "      <th>close_eurusd</th>\n",
       "      <th>tikvol_eurusd</th>\n",
       "      <th>open_audusd</th>\n",
       "      <th>high_audusd</th>\n",
       "      <th>low_audusd</th>\n",
       "      <th>...</th>\n",
       "      <th>open_usdchf</th>\n",
       "      <th>high_usdchf</th>\n",
       "      <th>low_usdchf</th>\n",
       "      <th>close_usdchf</th>\n",
       "      <th>tikvol_usdchf</th>\n",
       "      <th>open_usdjpy</th>\n",
       "      <th>high_usdjpy</th>\n",
       "      <th>low_usdjpy</th>\n",
       "      <th>close_usdjpy</th>\n",
       "      <th>tikvol_usdjpy</th>\n",
       "    </tr>\n",
       "  </thead>\n",
       "  <tbody>\n",
       "    <tr>\n",
       "      <th>0</th>\n",
       "      <td>2023.04.24</td>\n",
       "      <td>00:00:00</td>\n",
       "      <td>1.09883</td>\n",
       "      <td>1.09904</td>\n",
       "      <td>1.09861</td>\n",
       "      <td>1.09863</td>\n",
       "      <td>552</td>\n",
       "      <td>0.66947</td>\n",
       "      <td>0.66968</td>\n",
       "      <td>0.66906</td>\n",
       "      <td>...</td>\n",
       "      <td>1.09883</td>\n",
       "      <td>1.09904</td>\n",
       "      <td>1.09861</td>\n",
       "      <td>1.09863</td>\n",
       "      <td>552</td>\n",
       "      <td>1.09883</td>\n",
       "      <td>1.09904</td>\n",
       "      <td>1.09861</td>\n",
       "      <td>1.09863</td>\n",
       "      <td>552</td>\n",
       "    </tr>\n",
       "    <tr>\n",
       "      <th>1</th>\n",
       "      <td>2023.04.24</td>\n",
       "      <td>01:00:00</td>\n",
       "      <td>1.09868</td>\n",
       "      <td>1.09928</td>\n",
       "      <td>1.09862</td>\n",
       "      <td>1.09921</td>\n",
       "      <td>704</td>\n",
       "      <td>0.66932</td>\n",
       "      <td>0.66967</td>\n",
       "      <td>0.66885</td>\n",
       "      <td>...</td>\n",
       "      <td>1.09868</td>\n",
       "      <td>1.09928</td>\n",
       "      <td>1.09862</td>\n",
       "      <td>1.09921</td>\n",
       "      <td>704</td>\n",
       "      <td>1.09868</td>\n",
       "      <td>1.09928</td>\n",
       "      <td>1.09862</td>\n",
       "      <td>1.09921</td>\n",
       "      <td>704</td>\n",
       "    </tr>\n",
       "    <tr>\n",
       "      <th>2</th>\n",
       "      <td>2023.04.24</td>\n",
       "      <td>02:00:00</td>\n",
       "      <td>1.09921</td>\n",
       "      <td>1.09956</td>\n",
       "      <td>1.09906</td>\n",
       "      <td>1.09913</td>\n",
       "      <td>625</td>\n",
       "      <td>0.66945</td>\n",
       "      <td>0.66971</td>\n",
       "      <td>0.66903</td>\n",
       "      <td>...</td>\n",
       "      <td>1.09921</td>\n",
       "      <td>1.09956</td>\n",
       "      <td>1.09906</td>\n",
       "      <td>1.09913</td>\n",
       "      <td>625</td>\n",
       "      <td>1.09921</td>\n",
       "      <td>1.09956</td>\n",
       "      <td>1.09906</td>\n",
       "      <td>1.09913</td>\n",
       "      <td>625</td>\n",
       "    </tr>\n",
       "    <tr>\n",
       "      <th>3</th>\n",
       "      <td>2023.04.24</td>\n",
       "      <td>03:00:00</td>\n",
       "      <td>1.09913</td>\n",
       "      <td>1.09945</td>\n",
       "      <td>1.09839</td>\n",
       "      <td>1.09943</td>\n",
       "      <td>1451</td>\n",
       "      <td>0.66902</td>\n",
       "      <td>0.66948</td>\n",
       "      <td>0.66817</td>\n",
       "      <td>...</td>\n",
       "      <td>1.09913</td>\n",
       "      <td>1.09945</td>\n",
       "      <td>1.09839</td>\n",
       "      <td>1.09943</td>\n",
       "      <td>1451</td>\n",
       "      <td>1.09913</td>\n",
       "      <td>1.09945</td>\n",
       "      <td>1.09839</td>\n",
       "      <td>1.09943</td>\n",
       "      <td>1451</td>\n",
       "    </tr>\n",
       "    <tr>\n",
       "      <th>4</th>\n",
       "      <td>2023.04.24</td>\n",
       "      <td>04:00:00</td>\n",
       "      <td>1.09944</td>\n",
       "      <td>1.09944</td>\n",
       "      <td>1.09864</td>\n",
       "      <td>1.09869</td>\n",
       "      <td>1713</td>\n",
       "      <td>0.66944</td>\n",
       "      <td>0.66948</td>\n",
       "      <td>0.66818</td>\n",
       "      <td>...</td>\n",
       "      <td>1.09944</td>\n",
       "      <td>1.09944</td>\n",
       "      <td>1.09864</td>\n",
       "      <td>1.09869</td>\n",
       "      <td>1713</td>\n",
       "      <td>1.09944</td>\n",
       "      <td>1.09944</td>\n",
       "      <td>1.09864</td>\n",
       "      <td>1.09869</td>\n",
       "      <td>1713</td>\n",
       "    </tr>\n",
       "  </tbody>\n",
       "</table>\n",
       "<p>5 rows × 37 columns</p>\n",
       "</div>"
      ],
      "text/plain": [
       "         date     clock  open_eurusd  high_eurusd  low_eurusd  close_eurusd  \\\n",
       "0  2023.04.24  00:00:00      1.09883      1.09904     1.09861       1.09863   \n",
       "1  2023.04.24  01:00:00      1.09868      1.09928     1.09862       1.09921   \n",
       "2  2023.04.24  02:00:00      1.09921      1.09956     1.09906       1.09913   \n",
       "3  2023.04.24  03:00:00      1.09913      1.09945     1.09839       1.09943   \n",
       "4  2023.04.24  04:00:00      1.09944      1.09944     1.09864       1.09869   \n",
       "\n",
       "   tikvol_eurusd  open_audusd  high_audusd  low_audusd  ...  open_usdchf  \\\n",
       "0            552      0.66947      0.66968     0.66906  ...      1.09883   \n",
       "1            704      0.66932      0.66967     0.66885  ...      1.09868   \n",
       "2            625      0.66945      0.66971     0.66903  ...      1.09921   \n",
       "3           1451      0.66902      0.66948     0.66817  ...      1.09913   \n",
       "4           1713      0.66944      0.66948     0.66818  ...      1.09944   \n",
       "\n",
       "   high_usdchf  low_usdchf  close_usdchf  tikvol_usdchf  open_usdjpy  \\\n",
       "0      1.09904     1.09861       1.09863            552      1.09883   \n",
       "1      1.09928     1.09862       1.09921            704      1.09868   \n",
       "2      1.09956     1.09906       1.09913            625      1.09921   \n",
       "3      1.09945     1.09839       1.09943           1451      1.09913   \n",
       "4      1.09944     1.09864       1.09869           1713      1.09944   \n",
       "\n",
       "   high_usdjpy  low_usdjpy  close_usdjpy  tikvol_usdjpy  \n",
       "0      1.09904     1.09861       1.09863            552  \n",
       "1      1.09928     1.09862       1.09921            704  \n",
       "2      1.09956     1.09906       1.09913            625  \n",
       "3      1.09945     1.09839       1.09943           1451  \n",
       "4      1.09944     1.09864       1.09869           1713  \n",
       "\n",
       "[5 rows x 37 columns]"
      ]
     },
     "execution_count": 18,
     "metadata": {},
     "output_type": "execute_result"
    }
   ],
   "source": [
    "path = r\"C:\\Users\\singh\\.cache\\kagglehub\\datasets\\alifougi\\forex-currency-pairs-dataset-in-1-hour-timeframe\\versions\\1\\forex-1year.csv\"\n",
    "\n",
    "# Load the dataset\n",
    "df = pd.read_csv(path)\n",
    "df.head()\n",
    "\n"
   ]
  },
  {
   "cell_type": "code",
   "execution_count": 19,
   "id": "51dcf35e",
   "metadata": {},
   "outputs": [
    {
     "data": {
      "application/vnd.microsoft.datawrangler.viewer.v0+json": {
       "columns": [
        {
         "name": "datetime",
         "rawType": "datetime64[ns]",
         "type": "datetime"
        },
        {
         "name": "date",
         "rawType": "object",
         "type": "string"
        },
        {
         "name": "clock",
         "rawType": "object",
         "type": "string"
        },
        {
         "name": "open_eurusd",
         "rawType": "float64",
         "type": "float"
        },
        {
         "name": "high_eurusd",
         "rawType": "float64",
         "type": "float"
        },
        {
         "name": "low_eurusd",
         "rawType": "float64",
         "type": "float"
        },
        {
         "name": "close_eurusd",
         "rawType": "float64",
         "type": "float"
        },
        {
         "name": "tikvol_eurusd",
         "rawType": "int64",
         "type": "integer"
        },
        {
         "name": "open_audusd",
         "rawType": "float64",
         "type": "float"
        },
        {
         "name": "high_audusd",
         "rawType": "float64",
         "type": "float"
        },
        {
         "name": "low_audusd",
         "rawType": "float64",
         "type": "float"
        },
        {
         "name": "close_audusd",
         "rawType": "float64",
         "type": "float"
        },
        {
         "name": "tikvol_audusd",
         "rawType": "int64",
         "type": "integer"
        },
        {
         "name": "open_eurgbp",
         "rawType": "float64",
         "type": "float"
        },
        {
         "name": "high_eurgbp",
         "rawType": "float64",
         "type": "float"
        },
        {
         "name": "low_eurgbp",
         "rawType": "float64",
         "type": "float"
        },
        {
         "name": "close_eurgbp",
         "rawType": "float64",
         "type": "float"
        },
        {
         "name": "tikvol_eurgbp",
         "rawType": "int64",
         "type": "integer"
        },
        {
         "name": "open_gbpusd",
         "rawType": "float64",
         "type": "float"
        },
        {
         "name": "high_gbpusd",
         "rawType": "float64",
         "type": "float"
        },
        {
         "name": "low_gbpusd",
         "rawType": "float64",
         "type": "float"
        },
        {
         "name": "close_gbpusd",
         "rawType": "float64",
         "type": "float"
        },
        {
         "name": "tikvol_gbpusd",
         "rawType": "int64",
         "type": "integer"
        },
        {
         "name": "open_nzdusd",
         "rawType": "float64",
         "type": "float"
        },
        {
         "name": "high_nzdusd",
         "rawType": "float64",
         "type": "float"
        },
        {
         "name": "low_nzdusd",
         "rawType": "float64",
         "type": "float"
        },
        {
         "name": "close_nzdusd",
         "rawType": "float64",
         "type": "float"
        },
        {
         "name": "tikvol_nzdusd",
         "rawType": "int64",
         "type": "integer"
        },
        {
         "name": "open_usdchf",
         "rawType": "float64",
         "type": "float"
        },
        {
         "name": "high_usdchf",
         "rawType": "float64",
         "type": "float"
        },
        {
         "name": "low_usdchf",
         "rawType": "float64",
         "type": "float"
        },
        {
         "name": "close_usdchf",
         "rawType": "float64",
         "type": "float"
        },
        {
         "name": "tikvol_usdchf",
         "rawType": "int64",
         "type": "integer"
        },
        {
         "name": "open_usdjpy",
         "rawType": "float64",
         "type": "float"
        },
        {
         "name": "high_usdjpy",
         "rawType": "float64",
         "type": "float"
        },
        {
         "name": "low_usdjpy",
         "rawType": "float64",
         "type": "float"
        },
        {
         "name": "close_usdjpy",
         "rawType": "float64",
         "type": "float"
        },
        {
         "name": "tikvol_usdjpy",
         "rawType": "int64",
         "type": "integer"
        }
       ],
       "conversionMethod": "pd.DataFrame",
       "ref": "67c704bc-1716-4d58-9073-a58072ead2f8",
       "rows": [
        [
         "2023-04-24 00:00:00",
         "2023.04.24",
         "00:00:00",
         "1.09883",
         "1.09904",
         "1.09861",
         "1.09863",
         "552",
         "0.66947",
         "0.66968",
         "0.66906",
         "0.66926",
         "422",
         "0.88273",
         "0.88321",
         "0.88257",
         "0.88267",
         "373",
         "1.24412",
         "1.24442",
         "1.24361",
         "1.24405",
         "328",
         "0.61382",
         "0.61404",
         "0.61346",
         "0.61381",
         "289",
         "1.09883",
         "1.09904",
         "1.09861",
         "1.09863",
         "552",
         "1.09883",
         "1.09904",
         "1.09861",
         "1.09863",
         "552"
        ],
        [
         "2023-04-24 01:00:00",
         "2023.04.24",
         "01:00:00",
         "1.09868",
         "1.09928",
         "1.09862",
         "1.09921",
         "704",
         "0.66932",
         "0.66967",
         "0.66885",
         "0.66944",
         "903",
         "0.88273",
         "0.8833",
         "0.88273",
         "0.88318",
         "1164",
         "1.24389",
         "1.2446",
         "1.24374",
         "1.24448",
         "1027",
         "0.61381",
         "0.61417",
         "0.61341",
         "0.61407",
         "647",
         "1.09868",
         "1.09928",
         "1.09862",
         "1.09921",
         "704",
         "1.09868",
         "1.09928",
         "1.09862",
         "1.09921",
         "704"
        ],
        [
         "2023-04-24 02:00:00",
         "2023.04.24",
         "02:00:00",
         "1.09921",
         "1.09956",
         "1.09906",
         "1.09913",
         "625",
         "0.66945",
         "0.66971",
         "0.66903",
         "0.66903",
         "859",
         "0.88319",
         "0.88332",
         "0.88286",
         "0.883",
         "1008",
         "1.24447",
         "1.24519",
         "1.24444",
         "1.24468",
         "830",
         "0.61408",
         "0.61453",
         "0.61401",
         "0.61409",
         "589",
         "1.09921",
         "1.09956",
         "1.09906",
         "1.09913",
         "625",
         "1.09921",
         "1.09956",
         "1.09906",
         "1.09913",
         "625"
        ],
        [
         "2023-04-24 03:00:00",
         "2023.04.24",
         "03:00:00",
         "1.09913",
         "1.09945",
         "1.09839",
         "1.09943",
         "1451",
         "0.66902",
         "0.66948",
         "0.66817",
         "0.66945",
         "2023",
         "0.883",
         "0.8837",
         "0.88289",
         "0.8832",
         "2576",
         "1.24467",
         "1.2448",
         "1.24375",
         "1.24476",
         "2814",
         "0.61406",
         "0.61443",
         "0.61351",
         "0.61436",
         "1374",
         "1.09913",
         "1.09945",
         "1.09839",
         "1.09943",
         "1451",
         "1.09913",
         "1.09945",
         "1.09839",
         "1.09943",
         "1451"
        ],
        [
         "2023-04-24 04:00:00",
         "2023.04.24",
         "04:00:00",
         "1.09944",
         "1.09944",
         "1.09864",
         "1.09869",
         "1713",
         "0.66944",
         "0.66948",
         "0.66818",
         "0.66827",
         "2647",
         "0.88321",
         "0.88329",
         "0.88286",
         "0.88304",
         "3061",
         "1.24476",
         "1.245",
         "1.24409",
         "1.24414",
         "3109",
         "0.61435",
         "0.61465",
         "0.61382",
         "0.61388",
         "1701",
         "1.09944",
         "1.09944",
         "1.09864",
         "1.09869",
         "1713",
         "1.09944",
         "1.09944",
         "1.09864",
         "1.09869",
         "1713"
        ]
       ],
       "shape": {
        "columns": 37,
        "rows": 5
       }
      },
      "text/html": [
       "<div>\n",
       "<style scoped>\n",
       "    .dataframe tbody tr th:only-of-type {\n",
       "        vertical-align: middle;\n",
       "    }\n",
       "\n",
       "    .dataframe tbody tr th {\n",
       "        vertical-align: top;\n",
       "    }\n",
       "\n",
       "    .dataframe thead th {\n",
       "        text-align: right;\n",
       "    }\n",
       "</style>\n",
       "<table border=\"1\" class=\"dataframe\">\n",
       "  <thead>\n",
       "    <tr style=\"text-align: right;\">\n",
       "      <th></th>\n",
       "      <th>date</th>\n",
       "      <th>clock</th>\n",
       "      <th>open_eurusd</th>\n",
       "      <th>high_eurusd</th>\n",
       "      <th>low_eurusd</th>\n",
       "      <th>close_eurusd</th>\n",
       "      <th>tikvol_eurusd</th>\n",
       "      <th>open_audusd</th>\n",
       "      <th>high_audusd</th>\n",
       "      <th>low_audusd</th>\n",
       "      <th>...</th>\n",
       "      <th>open_usdchf</th>\n",
       "      <th>high_usdchf</th>\n",
       "      <th>low_usdchf</th>\n",
       "      <th>close_usdchf</th>\n",
       "      <th>tikvol_usdchf</th>\n",
       "      <th>open_usdjpy</th>\n",
       "      <th>high_usdjpy</th>\n",
       "      <th>low_usdjpy</th>\n",
       "      <th>close_usdjpy</th>\n",
       "      <th>tikvol_usdjpy</th>\n",
       "    </tr>\n",
       "    <tr>\n",
       "      <th>datetime</th>\n",
       "      <th></th>\n",
       "      <th></th>\n",
       "      <th></th>\n",
       "      <th></th>\n",
       "      <th></th>\n",
       "      <th></th>\n",
       "      <th></th>\n",
       "      <th></th>\n",
       "      <th></th>\n",
       "      <th></th>\n",
       "      <th></th>\n",
       "      <th></th>\n",
       "      <th></th>\n",
       "      <th></th>\n",
       "      <th></th>\n",
       "      <th></th>\n",
       "      <th></th>\n",
       "      <th></th>\n",
       "      <th></th>\n",
       "      <th></th>\n",
       "      <th></th>\n",
       "    </tr>\n",
       "  </thead>\n",
       "  <tbody>\n",
       "    <tr>\n",
       "      <th>2023-04-24 00:00:00</th>\n",
       "      <td>2023.04.24</td>\n",
       "      <td>00:00:00</td>\n",
       "      <td>1.09883</td>\n",
       "      <td>1.09904</td>\n",
       "      <td>1.09861</td>\n",
       "      <td>1.09863</td>\n",
       "      <td>552</td>\n",
       "      <td>0.66947</td>\n",
       "      <td>0.66968</td>\n",
       "      <td>0.66906</td>\n",
       "      <td>...</td>\n",
       "      <td>1.09883</td>\n",
       "      <td>1.09904</td>\n",
       "      <td>1.09861</td>\n",
       "      <td>1.09863</td>\n",
       "      <td>552</td>\n",
       "      <td>1.09883</td>\n",
       "      <td>1.09904</td>\n",
       "      <td>1.09861</td>\n",
       "      <td>1.09863</td>\n",
       "      <td>552</td>\n",
       "    </tr>\n",
       "    <tr>\n",
       "      <th>2023-04-24 01:00:00</th>\n",
       "      <td>2023.04.24</td>\n",
       "      <td>01:00:00</td>\n",
       "      <td>1.09868</td>\n",
       "      <td>1.09928</td>\n",
       "      <td>1.09862</td>\n",
       "      <td>1.09921</td>\n",
       "      <td>704</td>\n",
       "      <td>0.66932</td>\n",
       "      <td>0.66967</td>\n",
       "      <td>0.66885</td>\n",
       "      <td>...</td>\n",
       "      <td>1.09868</td>\n",
       "      <td>1.09928</td>\n",
       "      <td>1.09862</td>\n",
       "      <td>1.09921</td>\n",
       "      <td>704</td>\n",
       "      <td>1.09868</td>\n",
       "      <td>1.09928</td>\n",
       "      <td>1.09862</td>\n",
       "      <td>1.09921</td>\n",
       "      <td>704</td>\n",
       "    </tr>\n",
       "    <tr>\n",
       "      <th>2023-04-24 02:00:00</th>\n",
       "      <td>2023.04.24</td>\n",
       "      <td>02:00:00</td>\n",
       "      <td>1.09921</td>\n",
       "      <td>1.09956</td>\n",
       "      <td>1.09906</td>\n",
       "      <td>1.09913</td>\n",
       "      <td>625</td>\n",
       "      <td>0.66945</td>\n",
       "      <td>0.66971</td>\n",
       "      <td>0.66903</td>\n",
       "      <td>...</td>\n",
       "      <td>1.09921</td>\n",
       "      <td>1.09956</td>\n",
       "      <td>1.09906</td>\n",
       "      <td>1.09913</td>\n",
       "      <td>625</td>\n",
       "      <td>1.09921</td>\n",
       "      <td>1.09956</td>\n",
       "      <td>1.09906</td>\n",
       "      <td>1.09913</td>\n",
       "      <td>625</td>\n",
       "    </tr>\n",
       "    <tr>\n",
       "      <th>2023-04-24 03:00:00</th>\n",
       "      <td>2023.04.24</td>\n",
       "      <td>03:00:00</td>\n",
       "      <td>1.09913</td>\n",
       "      <td>1.09945</td>\n",
       "      <td>1.09839</td>\n",
       "      <td>1.09943</td>\n",
       "      <td>1451</td>\n",
       "      <td>0.66902</td>\n",
       "      <td>0.66948</td>\n",
       "      <td>0.66817</td>\n",
       "      <td>...</td>\n",
       "      <td>1.09913</td>\n",
       "      <td>1.09945</td>\n",
       "      <td>1.09839</td>\n",
       "      <td>1.09943</td>\n",
       "      <td>1451</td>\n",
       "      <td>1.09913</td>\n",
       "      <td>1.09945</td>\n",
       "      <td>1.09839</td>\n",
       "      <td>1.09943</td>\n",
       "      <td>1451</td>\n",
       "    </tr>\n",
       "    <tr>\n",
       "      <th>2023-04-24 04:00:00</th>\n",
       "      <td>2023.04.24</td>\n",
       "      <td>04:00:00</td>\n",
       "      <td>1.09944</td>\n",
       "      <td>1.09944</td>\n",
       "      <td>1.09864</td>\n",
       "      <td>1.09869</td>\n",
       "      <td>1713</td>\n",
       "      <td>0.66944</td>\n",
       "      <td>0.66948</td>\n",
       "      <td>0.66818</td>\n",
       "      <td>...</td>\n",
       "      <td>1.09944</td>\n",
       "      <td>1.09944</td>\n",
       "      <td>1.09864</td>\n",
       "      <td>1.09869</td>\n",
       "      <td>1713</td>\n",
       "      <td>1.09944</td>\n",
       "      <td>1.09944</td>\n",
       "      <td>1.09864</td>\n",
       "      <td>1.09869</td>\n",
       "      <td>1713</td>\n",
       "    </tr>\n",
       "  </tbody>\n",
       "</table>\n",
       "<p>5 rows × 37 columns</p>\n",
       "</div>"
      ],
      "text/plain": [
       "                           date     clock  open_eurusd  high_eurusd  \\\n",
       "datetime                                                              \n",
       "2023-04-24 00:00:00  2023.04.24  00:00:00      1.09883      1.09904   \n",
       "2023-04-24 01:00:00  2023.04.24  01:00:00      1.09868      1.09928   \n",
       "2023-04-24 02:00:00  2023.04.24  02:00:00      1.09921      1.09956   \n",
       "2023-04-24 03:00:00  2023.04.24  03:00:00      1.09913      1.09945   \n",
       "2023-04-24 04:00:00  2023.04.24  04:00:00      1.09944      1.09944   \n",
       "\n",
       "                     low_eurusd  close_eurusd  tikvol_eurusd  open_audusd  \\\n",
       "datetime                                                                    \n",
       "2023-04-24 00:00:00     1.09861       1.09863            552      0.66947   \n",
       "2023-04-24 01:00:00     1.09862       1.09921            704      0.66932   \n",
       "2023-04-24 02:00:00     1.09906       1.09913            625      0.66945   \n",
       "2023-04-24 03:00:00     1.09839       1.09943           1451      0.66902   \n",
       "2023-04-24 04:00:00     1.09864       1.09869           1713      0.66944   \n",
       "\n",
       "                     high_audusd  low_audusd  ...  open_usdchf  high_usdchf  \\\n",
       "datetime                                      ...                             \n",
       "2023-04-24 00:00:00      0.66968     0.66906  ...      1.09883      1.09904   \n",
       "2023-04-24 01:00:00      0.66967     0.66885  ...      1.09868      1.09928   \n",
       "2023-04-24 02:00:00      0.66971     0.66903  ...      1.09921      1.09956   \n",
       "2023-04-24 03:00:00      0.66948     0.66817  ...      1.09913      1.09945   \n",
       "2023-04-24 04:00:00      0.66948     0.66818  ...      1.09944      1.09944   \n",
       "\n",
       "                     low_usdchf  close_usdchf  tikvol_usdchf  open_usdjpy  \\\n",
       "datetime                                                                    \n",
       "2023-04-24 00:00:00     1.09861       1.09863            552      1.09883   \n",
       "2023-04-24 01:00:00     1.09862       1.09921            704      1.09868   \n",
       "2023-04-24 02:00:00     1.09906       1.09913            625      1.09921   \n",
       "2023-04-24 03:00:00     1.09839       1.09943           1451      1.09913   \n",
       "2023-04-24 04:00:00     1.09864       1.09869           1713      1.09944   \n",
       "\n",
       "                     high_usdjpy  low_usdjpy  close_usdjpy  tikvol_usdjpy  \n",
       "datetime                                                                   \n",
       "2023-04-24 00:00:00      1.09904     1.09861       1.09863            552  \n",
       "2023-04-24 01:00:00      1.09928     1.09862       1.09921            704  \n",
       "2023-04-24 02:00:00      1.09956     1.09906       1.09913            625  \n",
       "2023-04-24 03:00:00      1.09945     1.09839       1.09943           1451  \n",
       "2023-04-24 04:00:00      1.09944     1.09864       1.09869           1713  \n",
       "\n",
       "[5 rows x 37 columns]"
      ]
     },
     "execution_count": 19,
     "metadata": {},
     "output_type": "execute_result"
    }
   ],
   "source": [
    "# Combine date and clock into a single datetime column\n",
    "df['datetime'] = pd.to_datetime(df['date'] + ' ' + df['clock'])\n",
    "\n",
    "# Set the new datetime column as the index\n",
    "df = df.set_index('datetime')\n",
    "\n",
    "# Display the first few rows with the new index\n",
    "df.head()"
   ]
  },
  {
   "cell_type": "markdown",
   "id": "323597cb",
   "metadata": {},
   "source": [
    "## Plotting MACD for EUR/USD"
   ]
  },
  {
   "cell_type": "markdown",
   "id": "420bcc09",
   "metadata": {},
   "source": [
    "## Plotting RSI for EUR/USD"
   ]
  },
  {
   "cell_type": "markdown",
   "id": "21b7c1fd",
   "metadata": {},
   "source": [
    "## Plotting EUR/USD Closing Price"
   ]
  },
  {
   "cell_type": "code",
   "execution_count": 20,
   "id": "b898a312",
   "metadata": {},
   "outputs": [
    {
     "data": {
      "image/png": "[encoded data removed]",
      "text/plain": [
       "<Figure size 1200x600 with 1 Axes>"
      ]
     },
     "metadata": {},
     "output_type": "display_data"
    }
   ],
   "source": [
    "# Plot the closing price of EUR/USD\n",
    "plt.figure(figsize=(12, 6)) # Optional: Adjust figure size\n",
    "plt.plot(df.index, df['close_eurusd'])\n",
    "plt.xlabel(\"Date and Time\")\n",
    "plt.ylabel(\"EUR/USD Closing Price\")\n",
    "plt.title(\"EUR/USD Closing Price Over Time\")\n",
    "plt.xticks(rotation=45) # Rotate x-axis labels for better readability\n",
    "plt.tight_layout() # Adjust layout\n",
    "plt.show()"
   ]
  },
  {
   "cell_type": "markdown",
   "id": "a306f98d",
   "metadata": {},
   "source": [
    "## Plotting Distribution of EUR/GBP Closing Prices"
   ]
  },
  {
   "cell_type": "code",
   "execution_count": 21,
   "id": "3e08ea2d",
   "metadata": {},
   "outputs": [
    {
     "data": {
      "image/png": "[encoded data removed]",
      "text/plain": [
       "<Figure size 1000x500 with 1 Axes>"
      ]
     },
     "metadata": {},
     "output_type": "display_data"
    }
   ],
   "source": [
    "# Plot the distribution of EUR/GBP closing prices\n",
    "plt.figure(figsize=(10, 5))\n",
    "sns.histplot(df['close_eurgbp'], kde=True) # Histogram with a density curve\n",
    "plt.title(\"Distribution of EUR/GBP Closing Prices\")\n",
    "plt.xlabel(\"EUR/GBP Closing Price\")\n",
    "plt.ylabel(\"Frequency\")\n",
    "plt.show()"
   ]
  },
  {
   "cell_type": "markdown",
   "id": "cb207403",
   "metadata": {},
   "source": [
    "## Simple EMA Crossover Strategy (8, 20, 200)"
   ]
  },
  {
   "cell_type": "code",
   "execution_count": 22,
   "id": "9148dfc8",
   "metadata": {},
   "outputs": [
    {
     "data": {
      "application/vnd.microsoft.datawrangler.viewer.v0+json": {
       "columns": [
        {
         "name": "datetime",
         "rawType": "datetime64[ns]",
         "type": "datetime"
        },
        {
         "name": "close_eurusd",
         "rawType": "float64",
         "type": "float"
        },
        {
         "name": "ema_8",
         "rawType": "float64",
         "type": "float"
        },
        {
         "name": "ema_20",
         "rawType": "float64",
         "type": "float"
        },
        {
         "name": "ema_200",
         "rawType": "float64",
         "type": "float"
        }
       ],
       "conversionMethod": "pd.DataFrame",
       "ref": "50859262-1e5b-46e7-86fa-93be5b616694",
       "rows": [
        [
         "2024-04-23 20:00:00",
         "1.0704",
         "1.0689427442616424",
         "1.0674791956472416",
         "1.0676484207261823"
        ],
        [
         "2024-04-23 21:00:00",
         "1.0703",
         "1.0692443566479441",
         "1.0677478436808376",
         "1.0676748045995537"
        ],
        [
         "2024-04-23 22:00:00",
         "1.07021",
         "1.0694589440595121",
         "1.067982334758853",
         "1.0677000304244337"
        ],
        [
         "2024-04-23 23:00:00",
         "1.07006",
         "1.0695925120462872",
         "1.0681802076389624",
         "1.0677235127087676"
        ],
        [
         "2024-04-24 00:00:00",
         "1.07007",
         "1.0696986204804457",
         "1.0683601878638231",
         "1.0677468608410188"
        ]
       ],
       "shape": {
        "columns": 4,
        "rows": 5
       }
      },
      "text/html": [
       "<div>\n",
       "<style scoped>\n",
       "    .dataframe tbody tr th:only-of-type {\n",
       "        vertical-align: middle;\n",
       "    }\n",
       "\n",
       "    .dataframe tbody tr th {\n",
       "        vertical-align: top;\n",
       "    }\n",
       "\n",
       "    .dataframe thead th {\n",
       "        text-align: right;\n",
       "    }\n",
       "</style>\n",
       "<table border=\"1\" class=\"dataframe\">\n",
       "  <thead>\n",
       "    <tr style=\"text-align: right;\">\n",
       "      <th></th>\n",
       "      <th>close_eurusd</th>\n",
       "      <th>ema_8</th>\n",
       "      <th>ema_20</th>\n",
       "      <th>ema_200</th>\n",
       "    </tr>\n",
       "    <tr>\n",
       "      <th>datetime</th>\n",
       "      <th></th>\n",
       "      <th></th>\n",
       "      <th></th>\n",
       "      <th></th>\n",
       "    </tr>\n",
       "  </thead>\n",
       "  <tbody>\n",
       "    <tr>\n",
       "      <th>2024-04-23 20:00:00</th>\n",
       "      <td>1.07040</td>\n",
       "      <td>1.068943</td>\n",
       "      <td>1.067479</td>\n",
       "      <td>1.067648</td>\n",
       "    </tr>\n",
       "    <tr>\n",
       "      <th>2024-04-23 21:00:00</th>\n",
       "      <td>1.07030</td>\n",
       "      <td>1.069244</td>\n",
       "      <td>1.067748</td>\n",
       "      <td>1.067675</td>\n",
       "    </tr>\n",
       "    <tr>\n",
       "      <th>2024-04-23 22:00:00</th>\n",
       "      <td>1.07021</td>\n",
       "      <td>1.069459</td>\n",
       "      <td>1.067982</td>\n",
       "      <td>1.067700</td>\n",
       "    </tr>\n",
       "    <tr>\n",
       "      <th>2024-04-23 23:00:00</th>\n",
       "      <td>1.07006</td>\n",
       "      <td>1.069593</td>\n",
       "      <td>1.068180</td>\n",
       "      <td>1.067724</td>\n",
       "    </tr>\n",
       "    <tr>\n",
       "      <th>2024-04-24 00:00:00</th>\n",
       "      <td>1.07007</td>\n",
       "      <td>1.069699</td>\n",
       "      <td>1.068360</td>\n",
       "      <td>1.067747</td>\n",
       "    </tr>\n",
       "  </tbody>\n",
       "</table>\n",
       "</div>"
      ],
      "text/plain": [
       "                     close_eurusd     ema_8    ema_20   ema_200\n",
       "datetime                                                       \n",
       "2024-04-23 20:00:00       1.07040  1.068943  1.067479  1.067648\n",
       "2024-04-23 21:00:00       1.07030  1.069244  1.067748  1.067675\n",
       "2024-04-23 22:00:00       1.07021  1.069459  1.067982  1.067700\n",
       "2024-04-23 23:00:00       1.07006  1.069593  1.068180  1.067724\n",
       "2024-04-24 00:00:00       1.07007  1.069699  1.068360  1.067747"
      ]
     },
     "execution_count": 22,
     "metadata": {},
     "output_type": "execute_result"
    }
   ],
   "source": [
    "# Calculate EMAs\n",
    "df['ema_8'] = df['close_eurusd'].ewm(span=8, adjust=False).mean()\n",
    "df['ema_20'] = df['close_eurusd'].ewm(span=20, adjust=False).mean()\n",
    "df['ema_200'] = df['close_eurusd'].ewm(span=200, adjust=False).mean()\n",
    "\n",
    "df[['close_eurusd', 'ema_8', 'ema_20', 'ema_200']].tail() # Display last few rows with EMAs"
   ]
  },
  {
   "cell_type": "code",
   "execution_count": 23,
   "id": "6c2a24e3",
   "metadata": {},
   "outputs": [
    {
     "name": "stderr",
     "output_type": "stream",
     "text": [
      "C:\\Users\\singh\\AppData\\Local\\Temp\\ipykernel_14248\\4013270939.py:11: FutureWarning: Downcasting object dtype arrays on .fillna, .ffill, .bfill is deprecated and will change in a future version. Call result.infer_objects(copy=False) instead. To opt-in to the future behavior, set `pd.set_option('future.no_silent_downcasting', True)`\n",
      "  df.loc[long_condition & ~long_condition.shift(1).fillna(False), 'signal'] = 1\n",
      "C:\\Users\\singh\\AppData\\Local\\Temp\\ipykernel_14248\\4013270939.py:13: FutureWarning: Downcasting object dtype arrays on .fillna, .ffill, .bfill is deprecated and will change in a future version. Call result.infer_objects(copy=False) instead. To opt-in to the future behavior, set `pd.set_option('future.no_silent_downcasting', True)`\n",
      "  df.loc[short_condition & ~short_condition.shift(1).fillna(False), 'signal'] = -1\n"
     ]
    },
    {
     "data": {
      "application/vnd.microsoft.datawrangler.viewer.v0+json": {
       "columns": [
        {
         "name": "datetime",
         "rawType": "datetime64[ns]",
         "type": "datetime"
        },
        {
         "name": "date",
         "rawType": "object",
         "type": "string"
        },
        {
         "name": "clock",
         "rawType": "object",
         "type": "string"
        },
        {
         "name": "open_eurusd",
         "rawType": "float64",
         "type": "float"
        },
        {
         "name": "high_eurusd",
         "rawType": "float64",
         "type": "float"
        },
        {
         "name": "low_eurusd",
         "rawType": "float64",
         "type": "float"
        },
        {
         "name": "close_eurusd",
         "rawType": "float64",
         "type": "float"
        },
        {
         "name": "tikvol_eurusd",
         "rawType": "int64",
         "type": "integer"
        },
        {
         "name": "open_audusd",
         "rawType": "float64",
         "type": "float"
        },
        {
         "name": "high_audusd",
         "rawType": "float64",
         "type": "float"
        },
        {
         "name": "low_audusd",
         "rawType": "float64",
         "type": "float"
        },
        {
         "name": "close_audusd",
         "rawType": "float64",
         "type": "float"
        },
        {
         "name": "tikvol_audusd",
         "rawType": "int64",
         "type": "integer"
        },
        {
         "name": "open_eurgbp",
         "rawType": "float64",
         "type": "float"
        },
        {
         "name": "high_eurgbp",
         "rawType": "float64",
         "type": "float"
        },
        {
         "name": "low_eurgbp",
         "rawType": "float64",
         "type": "float"
        },
        {
         "name": "close_eurgbp",
         "rawType": "float64",
         "type": "float"
        },
        {
         "name": "tikvol_eurgbp",
         "rawType": "int64",
         "type": "integer"
        },
        {
         "name": "open_gbpusd",
         "rawType": "float64",
         "type": "float"
        },
        {
         "name": "high_gbpusd",
         "rawType": "float64",
         "type": "float"
        },
        {
         "name": "low_gbpusd",
         "rawType": "float64",
         "type": "float"
        },
        {
         "name": "close_gbpusd",
         "rawType": "float64",
         "type": "float"
        },
        {
         "name": "tikvol_gbpusd",
         "rawType": "int64",
         "type": "integer"
        },
        {
         "name": "open_nzdusd",
         "rawType": "float64",
         "type": "float"
        },
        {
         "name": "high_nzdusd",
         "rawType": "float64",
         "type": "float"
        },
        {
         "name": "low_nzdusd",
         "rawType": "float64",
         "type": "float"
        },
        {
         "name": "close_nzdusd",
         "rawType": "float64",
         "type": "float"
        },
        {
         "name": "tikvol_nzdusd",
         "rawType": "int64",
         "type": "integer"
        },
        {
         "name": "open_usdchf",
         "rawType": "float64",
         "type": "float"
        },
        {
         "name": "high_usdchf",
         "rawType": "float64",
         "type": "float"
        },
        {
         "name": "low_usdchf",
         "rawType": "float64",
         "type": "float"
        },
        {
         "name": "close_usdchf",
         "rawType": "float64",
         "type": "float"
        },
        {
         "name": "tikvol_usdchf",
         "rawType": "int64",
         "type": "integer"
        },
        {
         "name": "open_usdjpy",
         "rawType": "float64",
         "type": "float"
        },
        {
         "name": "high_usdjpy",
         "rawType": "float64",
         "type": "float"
        },
        {
         "name": "low_usdjpy",
         "rawType": "float64",
         "type": "float"
        },
        {
         "name": "close_usdjpy",
         "rawType": "float64",
         "type": "float"
        },
        {
         "name": "tikvol_usdjpy",
         "rawType": "int64",
         "type": "integer"
        },
        {
         "name": "ema_8",
         "rawType": "float64",
         "type": "float"
        },
        {
         "name": "ema_20",
         "rawType": "float64",
         "type": "float"
        },
        {
         "name": "ema_200",
         "rawType": "float64",
         "type": "float"
        },
        {
         "name": "signal",
         "rawType": "int64",
         "type": "integer"
        }
       ],
       "conversionMethod": "pd.DataFrame",
       "ref": "76821908-080c-47ab-8207-56f7cca16309",
       "rows": [
        [
         "2023-04-24 02:00:00",
         "2023.04.24",
         "02:00:00",
         "1.09921",
         "1.09956",
         "1.09906",
         "1.09913",
         "625",
         "0.66945",
         "0.66971",
         "0.66903",
         "0.66903",
         "859",
         "0.88319",
         "0.88332",
         "0.88286",
         "0.883",
         "1008",
         "1.24447",
         "1.24519",
         "1.24444",
         "1.24468",
         "830",
         "0.61408",
         "0.61453",
         "0.61401",
         "0.61409",
         "589",
         "1.09921",
         "1.09956",
         "1.09906",
         "1.09913",
         "625",
         "1.09921",
         "1.09956",
         "1.09906",
         "1.09913",
         "625",
         "1.0988413580246914",
         "1.098727596371882",
         "1.0986406888443356",
         "1"
        ],
        [
         "2023-04-24 08:00:00",
         "2023.04.24",
         "08:00:00",
         "1.09799",
         "1.09807",
         "1.09721",
         "1.09779",
         "1442",
         "0.66751",
         "0.66763",
         "0.66695",
         "0.66755",
         "1985",
         "0.88297",
         "0.88341",
         "0.88293",
         "0.88339",
         "2215",
         "1.24345",
         "1.24356",
         "1.24237",
         "1.24262",
         "2665",
         "0.61353",
         "0.6137",
         "0.61256",
         "0.61275",
         "1082",
         "1.09799",
         "1.09807",
         "1.09721",
         "1.09779",
         "1442",
         "1.09799",
         "1.09807",
         "1.09721",
         "1.09779",
         "1442",
         "1.0983054842028501",
         "1.098517663842435",
         "1.0986229732519337",
         "-1"
        ],
        [
         "2023-04-24 12:00:00",
         "2023.04.24",
         "12:00:00",
         "1.10081",
         "1.10199",
         "1.09989",
         "1.09999",
         "3556",
         "0.66877",
         "0.66942",
         "0.66804",
         "0.66813",
         "2634",
         "0.88407",
         "0.88564",
         "0.88392",
         "0.8849",
         "5314",
         "1.24508",
         "1.24585",
         "1.24277",
         "1.243",
         "6771",
         "0.61465",
         "0.61544",
         "0.61422",
         "0.61428",
         "2015",
         "1.10081",
         "1.10199",
         "1.09989",
         "1.09999",
         "3556",
         "1.10081",
         "1.10199",
         "1.09989",
         "1.09999",
         "3556",
         "1.0990576813856183",
         "1.0987834696942629",
         "1.0986461807736398",
         "1"
        ],
        [
         "2023-04-26 02:00:00",
         "2023.04.26",
         "02:00:00",
         "1.09776",
         "1.098",
         "1.09723",
         "1.09774",
         "1114",
         "0.6636",
         "0.66375",
         "0.66301",
         "0.66356",
         "1415",
         "0.88419",
         "0.88442",
         "0.88407",
         "0.8843",
         "1637",
         "1.24148",
         "1.24155",
         "1.24099",
         "1.24133",
         "1537",
         "0.61458",
         "0.61476",
         "0.61422",
         "0.61462",
         "1019",
         "1.09776",
         "1.098",
         "1.09723",
         "1.09774",
         "1114",
         "1.09776",
         "1.098",
         "1.09723",
         "1.09774",
         "1114",
         "1.0978009734520309",
         "1.0993799792104815",
         "1.099603844306085",
         "-1"
        ],
        [
         "2023-04-26 12:00:00",
         "2023.04.26",
         "12:00:00",
         "1.10413",
         "1.10538",
         "1.10364",
         "1.10405",
         "4334",
         "0.6604",
         "0.66061",
         "0.65946",
         "0.65975",
         "2845",
         "0.88481",
         "0.88587",
         "0.88479",
         "0.88544",
         "5789",
         "1.24782",
         "1.24838",
         "1.24661",
         "1.24683",
         "6854",
         "0.61286",
         "0.61309",
         "0.6122",
         "0.61258",
         "2023",
         "1.10413",
         "1.10538",
         "1.10364",
         "1.10405",
         "4334",
         "1.10413",
         "1.10538",
         "1.10364",
         "1.10405",
         "4334",
         "1.1011988320517914",
         "1.1000838323547715",
         "1.0996290242055302",
         "1"
        ]
       ],
       "shape": {
        "columns": 41,
        "rows": 5
       }
      },
      "text/html": [
       "<div>\n",
       "<style scoped>\n",
       "    .dataframe tbody tr th:only-of-type {\n",
       "        vertical-align: middle;\n",
       "    }\n",
       "\n",
       "    .dataframe tbody tr th {\n",
       "        vertical-align: top;\n",
       "    }\n",
       "\n",
       "    .dataframe thead th {\n",
       "        text-align: right;\n",
       "    }\n",
       "</style>\n",
       "<table border=\"1\" class=\"dataframe\">\n",
       "  <thead>\n",
       "    <tr style=\"text-align: right;\">\n",
       "      <th></th>\n",
       "      <th>date</th>\n",
       "      <th>clock</th>\n",
       "      <th>open_eurusd</th>\n",
       "      <th>high_eurusd</th>\n",
       "      <th>low_eurusd</th>\n",
       "      <th>close_eurusd</th>\n",
       "      <th>tikvol_eurusd</th>\n",
       "      <th>open_audusd</th>\n",
       "      <th>high_audusd</th>\n",
       "      <th>low_audusd</th>\n",
       "      <th>...</th>\n",
       "      <th>tikvol_usdchf</th>\n",
       "      <th>open_usdjpy</th>\n",
       "      <th>high_usdjpy</th>\n",
       "      <th>low_usdjpy</th>\n",
       "      <th>close_usdjpy</th>\n",
       "      <th>tikvol_usdjpy</th>\n",
       "      <th>ema_8</th>\n",
       "      <th>ema_20</th>\n",
       "      <th>ema_200</th>\n",
       "      <th>signal</th>\n",
       "    </tr>\n",
       "    <tr>\n",
       "      <th>datetime</th>\n",
       "      <th></th>\n",
       "      <th></th>\n",
       "      <th></th>\n",
       "      <th></th>\n",
       "      <th></th>\n",
       "      <th></th>\n",
       "      <th></th>\n",
       "      <th></th>\n",
       "      <th></th>\n",
       "      <th></th>\n",
       "      <th></th>\n",
       "      <th></th>\n",
       "      <th></th>\n",
       "      <th></th>\n",
       "      <th></th>\n",
       "      <th></th>\n",
       "      <th></th>\n",
       "      <th></th>\n",
       "      <th></th>\n",
       "      <th></th>\n",
       "      <th></th>\n",
       "    </tr>\n",
       "  </thead>\n",
       "  <tbody>\n",
       "    <tr>\n",
       "      <th>2023-04-24 02:00:00</th>\n",
       "      <td>2023.04.24</td>\n",
       "      <td>02:00:00</td>\n",
       "      <td>1.09921</td>\n",
       "      <td>1.09956</td>\n",
       "      <td>1.09906</td>\n",
       "      <td>1.09913</td>\n",
       "      <td>625</td>\n",
       "      <td>0.66945</td>\n",
       "      <td>0.66971</td>\n",
       "      <td>0.66903</td>\n",
       "      <td>...</td>\n",
       "      <td>625</td>\n",
       "      <td>1.09921</td>\n",
       "      <td>1.09956</td>\n",
       "      <td>1.09906</td>\n",
       "      <td>1.09913</td>\n",
       "      <td>625</td>\n",
       "      <td>1.098841</td>\n",
       "      <td>1.098728</td>\n",
       "      <td>1.098641</td>\n",
       "      <td>1</td>\n",
       "    </tr>\n",
       "    <tr>\n",
       "      <th>2023-04-24 08:00:00</th>\n",
       "      <td>2023.04.24</td>\n",
       "      <td>08:00:00</td>\n",
       "      <td>1.09799</td>\n",
       "      <td>1.09807</td>\n",
       "      <td>1.09721</td>\n",
       "      <td>1.09779</td>\n",
       "      <td>1442</td>\n",
       "      <td>0.66751</td>\n",
       "      <td>0.66763</td>\n",
       "      <td>0.66695</td>\n",
       "      <td>...</td>\n",
       "      <td>1442</td>\n",
       "      <td>1.09799</td>\n",
       "      <td>1.09807</td>\n",
       "      <td>1.09721</td>\n",
       "      <td>1.09779</td>\n",
       "      <td>1442</td>\n",
       "      <td>1.098305</td>\n",
       "      <td>1.098518</td>\n",
       "      <td>1.098623</td>\n",
       "      <td>-1</td>\n",
       "    </tr>\n",
       "    <tr>\n",
       "      <th>2023-04-24 12:00:00</th>\n",
       "      <td>2023.04.24</td>\n",
       "      <td>12:00:00</td>\n",
       "      <td>1.10081</td>\n",
       "      <td>1.10199</td>\n",
       "      <td>1.09989</td>\n",
       "      <td>1.09999</td>\n",
       "      <td>3556</td>\n",
       "      <td>0.66877</td>\n",
       "      <td>0.66942</td>\n",
       "      <td>0.66804</td>\n",
       "      <td>...</td>\n",
       "      <td>3556</td>\n",
       "      <td>1.10081</td>\n",
       "      <td>1.10199</td>\n",
       "      <td>1.09989</td>\n",
       "      <td>1.09999</td>\n",
       "      <td>3556</td>\n",
       "      <td>1.099058</td>\n",
       "      <td>1.098783</td>\n",
       "      <td>1.098646</td>\n",
       "      <td>1</td>\n",
       "    </tr>\n",
       "    <tr>\n",
       "      <th>2023-04-26 02:00:00</th>\n",
       "      <td>2023.04.26</td>\n",
       "      <td>02:00:00</td>\n",
       "      <td>1.09776</td>\n",
       "      <td>1.09800</td>\n",
       "      <td>1.09723</td>\n",
       "      <td>1.09774</td>\n",
       "      <td>1114</td>\n",
       "      <td>0.66360</td>\n",
       "      <td>0.66375</td>\n",
       "      <td>0.66301</td>\n",
       "      <td>...</td>\n",
       "      <td>1114</td>\n",
       "      <td>1.09776</td>\n",
       "      <td>1.09800</td>\n",
       "      <td>1.09723</td>\n",
       "      <td>1.09774</td>\n",
       "      <td>1114</td>\n",
       "      <td>1.097801</td>\n",
       "      <td>1.099380</td>\n",
       "      <td>1.099604</td>\n",
       "      <td>-1</td>\n",
       "    </tr>\n",
       "    <tr>\n",
       "      <th>2023-04-26 12:00:00</th>\n",
       "      <td>2023.04.26</td>\n",
       "      <td>12:00:00</td>\n",
       "      <td>1.10413</td>\n",
       "      <td>1.10538</td>\n",
       "      <td>1.10364</td>\n",
       "      <td>1.10405</td>\n",
       "      <td>4334</td>\n",
       "      <td>0.66040</td>\n",
       "      <td>0.66061</td>\n",
       "      <td>0.65946</td>\n",
       "      <td>...</td>\n",
       "      <td>4334</td>\n",
       "      <td>1.10413</td>\n",
       "      <td>1.10538</td>\n",
       "      <td>1.10364</td>\n",
       "      <td>1.10405</td>\n",
       "      <td>4334</td>\n",
       "      <td>1.101199</td>\n",
       "      <td>1.100084</td>\n",
       "      <td>1.099629</td>\n",
       "      <td>1</td>\n",
       "    </tr>\n",
       "  </tbody>\n",
       "</table>\n",
       "<p>5 rows × 41 columns</p>\n",
       "</div>"
      ],
      "text/plain": [
       "                           date     clock  open_eurusd  high_eurusd  \\\n",
       "datetime                                                              \n",
       "2023-04-24 02:00:00  2023.04.24  02:00:00      1.09921      1.09956   \n",
       "2023-04-24 08:00:00  2023.04.24  08:00:00      1.09799      1.09807   \n",
       "2023-04-24 12:00:00  2023.04.24  12:00:00      1.10081      1.10199   \n",
       "2023-04-26 02:00:00  2023.04.26  02:00:00      1.09776      1.09800   \n",
       "2023-04-26 12:00:00  2023.04.26  12:00:00      1.10413      1.10538   \n",
       "\n",
       "                     low_eurusd  close_eurusd  tikvol_eurusd  open_audusd  \\\n",
       "datetime                                                                    \n",
       "2023-04-24 02:00:00     1.09906       1.09913            625      0.66945   \n",
       "2023-04-24 08:00:00     1.09721       1.09779           1442      0.66751   \n",
       "2023-04-24 12:00:00     1.09989       1.09999           3556      0.66877   \n",
       "2023-04-26 02:00:00     1.09723       1.09774           1114      0.66360   \n",
       "2023-04-26 12:00:00     1.10364       1.10405           4334      0.66040   \n",
       "\n",
       "                     high_audusd  low_audusd  ...  tikvol_usdchf  open_usdjpy  \\\n",
       "datetime                                      ...                               \n",
       "2023-04-24 02:00:00      0.66971     0.66903  ...            625      1.09921   \n",
       "2023-04-24 08:00:00      0.66763     0.66695  ...           1442      1.09799   \n",
       "2023-04-24 12:00:00      0.66942     0.66804  ...           3556      1.10081   \n",
       "2023-04-26 02:00:00      0.66375     0.66301  ...           1114      1.09776   \n",
       "2023-04-26 12:00:00      0.66061     0.65946  ...           4334      1.10413   \n",
       "\n",
       "                     high_usdjpy  low_usdjpy  close_usdjpy  tikvol_usdjpy  \\\n",
       "datetime                                                                    \n",
       "2023-04-24 02:00:00      1.09956     1.09906       1.09913            625   \n",
       "2023-04-24 08:00:00      1.09807     1.09721       1.09779           1442   \n",
       "2023-04-24 12:00:00      1.10199     1.09989       1.09999           3556   \n",
       "2023-04-26 02:00:00      1.09800     1.09723       1.09774           1114   \n",
       "2023-04-26 12:00:00      1.10538     1.10364       1.10405           4334   \n",
       "\n",
       "                        ema_8    ema_20   ema_200  signal  \n",
       "datetime                                                   \n",
       "2023-04-24 02:00:00  1.098841  1.098728  1.098641       1  \n",
       "2023-04-24 08:00:00  1.098305  1.098518  1.098623      -1  \n",
       "2023-04-24 12:00:00  1.099058  1.098783  1.098646       1  \n",
       "2023-04-26 02:00:00  1.097801  1.099380  1.099604      -1  \n",
       "2023-04-26 12:00:00  1.101199  1.100084  1.099629       1  \n",
       "\n",
       "[5 rows x 41 columns]"
      ]
     },
     "execution_count": 23,
     "metadata": {},
     "output_type": "execute_result"
    }
   ],
   "source": [
    "# Generate Signals\n",
    "# Conditions for a potential long entry\n",
    "long_condition = (df['ema_8'] > df['ema_200']) & (df['ema_20'] > df['ema_200'])\n",
    "# Conditions for a potential short entry\n",
    "short_condition = (df['ema_8'] < df['ema_200']) & (df['ema_20'] < df['ema_200'])\n",
    "\n",
    "# Determine the actual signal: 1 for long, -1 for short, 0 for no signal\n",
    "# We only signal on the crossover bar\n",
    "df['signal'] = 0\n",
    "# Long signal: current bar meets long condition, previous bar did not\n",
    "df.loc[long_condition & ~long_condition.shift(1).fillna(False), 'signal'] = 1\n",
    "# Short signal: current bar meets short condition, previous bar did not\n",
    "df.loc[short_condition & ~short_condition.shift(1).fillna(False), 'signal'] = -1\n",
    "\n",
    "# Ensure no lookahead bias: Shift signals to the next bar for execution\n",
    "df['signal'] = df['signal'].shift(1).fillna(0).astype(int)\n",
    "\n",
    "# Display rows where a signal is generated\n",
    "df[df['signal'] != 0].head()"
   ]
  },
  {
   "cell_type": "code",
   "execution_count": 24,
   "id": "4d225b74",
   "metadata": {},
   "outputs": [
    {
     "name": "stdout",
     "output_type": "stream",
     "text": [
      "Number of Long Signals: 38\n",
      "Number of Short Signals: 38\n"
     ]
    }
   ],
   "source": [
    "# Count the number of signals\n",
    "print(\"Number of Long Signals:\", (df['signal'] == 1).sum())\n",
    "print(\"Number of Short Signals:\", (df['signal'] == -1).sum())"
   ]
  },
  {
   "cell_type": "markdown",
   "id": "70479b20",
   "metadata": {},
   "source": [
    "## Calculate Stop Loss (SL) and Take Profit (TP)"
   ]
  },
  {
   "cell_type": "code",
   "execution_count": 25,
   "id": "659cdee3",
   "metadata": {},
   "outputs": [
    {
     "name": "stdout",
     "output_type": "stream",
     "text": [
      "Using lookback period: 7 bars\n"
     ]
    },
    {
     "data": {
      "application/vnd.microsoft.datawrangler.viewer.v0+json": {
       "columns": [
        {
         "name": "datetime",
         "rawType": "datetime64[ns]",
         "type": "datetime"
        },
        {
         "name": "close_eurusd",
         "rawType": "float64",
         "type": "float"
        },
        {
         "name": "signal",
         "rawType": "int64",
         "type": "integer"
        },
        {
         "name": "stop_loss",
         "rawType": "float64",
         "type": "float"
        },
        {
         "name": "take_profit",
         "rawType": "float64",
         "type": "float"
        }
       ],
       "conversionMethod": "pd.DataFrame",
       "ref": "ad38c8a5-9499-4ef9-b78c-c459c842a68e",
       "rows": [
        [
         "2023-04-24 02:00:00",
         "1.09913",
         "1",
         null,
         null
        ],
        [
         "2023-04-24 08:00:00",
         "1.09779",
         "-1",
         null,
         null
        ],
        [
         "2023-04-24 12:00:00",
         "1.09999",
         "1",
         null,
         null
        ],
        [
         "2023-04-26 02:00:00",
         "1.09774",
         "-1",
         null,
         null
        ],
        [
         "2023-04-26 12:00:00",
         "1.10405",
         "1",
         null,
         null
        ]
       ],
       "shape": {
        "columns": 4,
        "rows": 5
       }
      },
      "text/html": [
       "<div>\n",
       "<style scoped>\n",
       "    .dataframe tbody tr th:only-of-type {\n",
       "        vertical-align: middle;\n",
       "    }\n",
       "\n",
       "    .dataframe tbody tr th {\n",
       "        vertical-align: top;\n",
       "    }\n",
       "\n",
       "    .dataframe thead th {\n",
       "        text-align: right;\n",
       "    }\n",
       "</style>\n",
       "<table border=\"1\" class=\"dataframe\">\n",
       "  <thead>\n",
       "    <tr style=\"text-align: right;\">\n",
       "      <th></th>\n",
       "      <th>close_eurusd</th>\n",
       "      <th>signal</th>\n",
       "      <th>stop_loss</th>\n",
       "      <th>take_profit</th>\n",
       "    </tr>\n",
       "    <tr>\n",
       "      <th>datetime</th>\n",
       "      <th></th>\n",
       "      <th></th>\n",
       "      <th></th>\n",
       "      <th></th>\n",
       "    </tr>\n",
       "  </thead>\n",
       "  <tbody>\n",
       "    <tr>\n",
       "      <th>2023-04-24 02:00:00</th>\n",
       "      <td>1.09913</td>\n",
       "      <td>1</td>\n",
       "      <td>NaN</td>\n",
       "      <td>NaN</td>\n",
       "    </tr>\n",
       "    <tr>\n",
       "      <th>2023-04-24 08:00:00</th>\n",
       "      <td>1.09779</td>\n",
       "      <td>-1</td>\n",
       "      <td>NaN</td>\n",
       "      <td>NaN</td>\n",
       "    </tr>\n",
       "    <tr>\n",
       "      <th>2023-04-24 12:00:00</th>\n",
       "      <td>1.09999</td>\n",
       "      <td>1</td>\n",
       "      <td>NaN</td>\n",
       "      <td>NaN</td>\n",
       "    </tr>\n",
       "    <tr>\n",
       "      <th>2023-04-26 02:00:00</th>\n",
       "      <td>1.09774</td>\n",
       "      <td>-1</td>\n",
       "      <td>NaN</td>\n",
       "      <td>NaN</td>\n",
       "    </tr>\n",
       "    <tr>\n",
       "      <th>2023-04-26 12:00:00</th>\n",
       "      <td>1.10405</td>\n",
       "      <td>1</td>\n",
       "      <td>NaN</td>\n",
       "      <td>NaN</td>\n",
       "    </tr>\n",
       "  </tbody>\n",
       "</table>\n",
       "</div>"
      ],
      "text/plain": [
       "                     close_eurusd  signal  stop_loss  take_profit\n",
       "datetime                                                         \n",
       "2023-04-24 02:00:00       1.09913       1        NaN          NaN\n",
       "2023-04-24 08:00:00       1.09779      -1        NaN          NaN\n",
       "2023-04-24 12:00:00       1.09999       1        NaN          NaN\n",
       "2023-04-26 02:00:00       1.09774      -1        NaN          NaN\n",
       "2023-04-26 12:00:00       1.10405       1        NaN          NaN"
      ]
     },
     "execution_count": 25,
     "metadata": {},
     "output_type": "execute_result"
    }
   ],
   "source": [
    "# Define lookback period for swing high/low\n",
    "lookback_period = 7\n",
    "\n",
    "# Calculate rolling min low and max high (shifted to look *before* the current bar)\n",
    "df['swing_low'] = df['low_eurusd'].rolling(window=lookback_period).min().shift(1)\n",
    "df['swing_high'] = df['high_eurusd'].rolling(window=lookback_period).max().shift(1)\n",
    "\n",
    "# Initialize SL/TP columns\n",
    "df['stop_loss'] = np.nan\n",
    "df['take_profit'] = np.nan\n",
    "\n",
    "# Get signal indices\n",
    "long_signal_indices = df[df['signal'] == 1].index\n",
    "short_signal_indices = df[df['signal'] == -1].index\n",
    "\n",
    "# Calculate SL/TP for Long signals\n",
    "if not long_signal_indices.empty:\n",
    "    entry_price_long = df.loc[long_signal_indices, 'close_eurusd']\n",
    "    stop_loss_long = df.loc[long_signal_indices, 'swing_low']\n",
    "    take_profit_long = entry_price_long + 2 * (entry_price_long - stop_loss_long)\n",
    "    df.loc[long_signal_indices, 'stop_loss'] = stop_loss_long\n",
    "    df.loc[long_signal_indices, 'take_profit'] = take_profit_long\n",
    "\n",
    "# Calculate SL/TP for Short signals\n",
    "if not short_signal_indices.empty:\n",
    "    entry_price_short = df.loc[short_signal_indices, 'close_eurusd']\n",
    "    stop_loss_short = df.loc[short_signal_indices, 'swing_high']\n",
    "    take_profit_short = entry_price_short - 2 * (stop_loss_short - entry_price_short)\n",
    "    df.loc[short_signal_indices, 'stop_loss'] = stop_loss_short\n",
    "    df.loc[short_signal_indices, 'take_profit'] = take_profit_short\n",
    "\n",
    "# Ensure no lookahead bias: Shift SL/TP to the next bar for execution\n",
    "df['stop_loss'] = df['stop_loss'].shift(1)\n",
    "df['take_profit'] = df['take_profit'].shift(1)\n",
    "\n",
    "# Display signals with SL/TP (dropping helper columns)\n",
    "print(f\"Using lookback period: {lookback_period} bars\")\n",
    "df[df['signal'] != 0][['close_eurusd', 'signal', 'stop_loss', 'take_profit']].head()"
   ]
  },
  {
   "cell_type": "markdown",
   "id": "98c4e750",
   "metadata": {},
   "source": [
    "## Basic Backtesting Implementation"
   ]
  },
  {
   "cell_type": "code",
   "execution_count": 26,
   "id": "783a50d7",
   "metadata": {},
   "outputs": [
    {
     "name": "stdout",
     "output_type": "stream",
     "text": [
      "--- Backtest Results ---\n",
      "Total Trades: 4\n",
      "Winning Trades: 1\n",
      "Losing Trades: 3\n",
      "Win Rate: 25.00%\n",
      "Total PnL (Points): -0.00389\n",
      "Average PnL per Trade: -0.00097\n",
      "Max Profit (Single Trade): 0.00096\n",
      "Max Loss (Single Trade): -0.00197\n"
     ]
    },
    {
     "data": {
      "application/vnd.microsoft.datawrangler.viewer.v0+json": {
       "columns": [
        {
         "name": "index",
         "rawType": "int64",
         "type": "integer"
        },
        {
         "name": "entry_time",
         "rawType": "datetime64[ns]",
         "type": "datetime"
        },
        {
         "name": "exit_time",
         "rawType": "datetime64[ns]",
         "type": "datetime"
        },
        {
         "name": "type",
         "rawType": "object",
         "type": "string"
        },
        {
         "name": "entry",
         "rawType": "float64",
         "type": "float"
        },
        {
         "name": "exit",
         "rawType": "float64",
         "type": "float"
        },
        {
         "name": "pnl",
         "rawType": "float64",
         "type": "float"
        }
       ],
       "conversionMethod": "pd.DataFrame",
       "ref": "ec077454-0d9e-4eeb-b722-7490476f999c",
       "rows": [
        [
         "0",
         "2023-06-29 16:00:00",
         "2023-06-29 17:00:00",
         "short",
         "1.08684",
         "1.08837",
         "-0.0015300000000000313"
        ],
        [
         "1",
         "2023-08-11 13:00:00",
         "2023-08-11 14:00:00",
         "short",
         "1.09925",
         "1.09829",
         "0.0009600000000000719"
        ],
        [
         "2",
         "2023-08-11 16:00:00",
         "2023-08-11 17:00:00",
         "short",
         "1.0962",
         "1.09755",
         "-0.0013499999999999623"
        ],
        [
         "3",
         "2023-10-06 16:00:00",
         "2023-10-06 17:00:00",
         "short",
         "1.0511",
         "1.05307",
         "-0.0019700000000000273"
        ]
       ],
       "shape": {
        "columns": 6,
        "rows": 4
       }
      },
      "text/html": [
       "<div>\n",
       "<style scoped>\n",
       "    .dataframe tbody tr th:only-of-type {\n",
       "        vertical-align: middle;\n",
       "    }\n",
       "\n",
       "    .dataframe tbody tr th {\n",
       "        vertical-align: top;\n",
       "    }\n",
       "\n",
       "    .dataframe thead th {\n",
       "        text-align: right;\n",
       "    }\n",
       "</style>\n",
       "<table border=\"1\" class=\"dataframe\">\n",
       "  <thead>\n",
       "    <tr style=\"text-align: right;\">\n",
       "      <th></th>\n",
       "      <th>entry_time</th>\n",
       "      <th>exit_time</th>\n",
       "      <th>type</th>\n",
       "      <th>entry</th>\n",
       "      <th>exit</th>\n",
       "      <th>pnl</th>\n",
       "    </tr>\n",
       "  </thead>\n",
       "  <tbody>\n",
       "    <tr>\n",
       "      <th>0</th>\n",
       "      <td>2023-06-29 16:00:00</td>\n",
       "      <td>2023-06-29 17:00:00</td>\n",
       "      <td>short</td>\n",
       "      <td>1.08684</td>\n",
       "      <td>1.08837</td>\n",
       "      <td>-0.00153</td>\n",
       "    </tr>\n",
       "    <tr>\n",
       "      <th>1</th>\n",
       "      <td>2023-08-11 13:00:00</td>\n",
       "      <td>2023-08-11 14:00:00</td>\n",
       "      <td>short</td>\n",
       "      <td>1.09925</td>\n",
       "      <td>1.09829</td>\n",
       "      <td>0.00096</td>\n",
       "    </tr>\n",
       "    <tr>\n",
       "      <th>2</th>\n",
       "      <td>2023-08-11 16:00:00</td>\n",
       "      <td>2023-08-11 17:00:00</td>\n",
       "      <td>short</td>\n",
       "      <td>1.09620</td>\n",
       "      <td>1.09755</td>\n",
       "      <td>-0.00135</td>\n",
       "    </tr>\n",
       "    <tr>\n",
       "      <th>3</th>\n",
       "      <td>2023-10-06 16:00:00</td>\n",
       "      <td>2023-10-06 17:00:00</td>\n",
       "      <td>short</td>\n",
       "      <td>1.05110</td>\n",
       "      <td>1.05307</td>\n",
       "      <td>-0.00197</td>\n",
       "    </tr>\n",
       "  </tbody>\n",
       "</table>\n",
       "</div>"
      ],
      "text/plain": [
       "           entry_time           exit_time   type    entry     exit      pnl\n",
       "0 2023-06-29 16:00:00 2023-06-29 17:00:00  short  1.08684  1.08837 -0.00153\n",
       "1 2023-08-11 13:00:00 2023-08-11 14:00:00  short  1.09925  1.09829  0.00096\n",
       "2 2023-08-11 16:00:00 2023-08-11 17:00:00  short  1.09620  1.09755 -0.00135\n",
       "3 2023-10-06 16:00:00 2023-10-06 17:00:00  short  1.05110  1.05307 -0.00197"
      ]
     },
     "execution_count": 26,
     "metadata": {},
     "output_type": "execute_result"
    }
   ],
   "source": [
    "# Initialize backtesting variables\n",
    "position = 0  # 0: flat, 1: long, -1: short\n",
    "entry_price = 0\n",
    "stop_loss_level = 0\n",
    "take_profit_level = 0\n",
    "trades = [] # List to store details of completed trades\n",
    "\n",
    "# Iterate through the DataFrame\n",
    "for i in range(len(df)):\n",
    "    current_signal = df['signal'].iloc[i]\n",
    "    current_low = df['low_eurusd'].iloc[i]\n",
    "    current_high = df['high_eurusd'].iloc[i]\n",
    "    current_close = df['close_eurusd'].iloc[i]\n",
    "    current_time = df.index[i]\n",
    "\n",
    "    # --- Exit Logic ---\n",
    "    if position == 1: # Currently long\n",
    "        if current_low <= stop_loss_level:\n",
    "            # Stop Loss hit\n",
    "            exit_price = stop_loss_level\n",
    "            trades.append({'entry_time': entry_time, 'exit_time': current_time, 'type': 'long', 'entry': entry_price, 'exit': exit_price, 'pnl': exit_price - entry_price})\n",
    "            position = 0\n",
    "        elif current_high >= take_profit_level:\n",
    "            # Take Profit hit\n",
    "            exit_price = take_profit_level\n",
    "            trades.append({'entry_time': entry_time, 'exit_time': current_time, 'type': 'long', 'entry': entry_price, 'exit': exit_price, 'pnl': exit_price - entry_price})\n",
    "            position = 0\n",
    "    elif position == -1: # Currently short\n",
    "        if current_high >= stop_loss_level:\n",
    "            # Stop Loss hit\n",
    "            exit_price = stop_loss_level\n",
    "            trades.append({'entry_time': entry_time, 'exit_time': current_time, 'type': 'short', 'entry': entry_price, 'exit': exit_price, 'pnl': entry_price - exit_price})\n",
    "            position = 0\n",
    "        elif current_low <= take_profit_level:\n",
    "            # Take Profit hit\n",
    "            exit_price = take_profit_level\n",
    "            trades.append({'entry_time': entry_time, 'exit_time': current_time, 'type': 'short', 'entry': entry_price, 'exit': exit_price, 'pnl': entry_price - exit_price})\n",
    "            position = 0\n",
    "\n",
    "    # --- Entry Logic ---\n",
    "    # Check for entry only if flat and there is a signal\n",
    "    if position == 0 and current_signal != 0:\n",
    "        if current_signal == 1 and not pd.isna(df['stop_loss'].iloc[i]) and not pd.isna(df['take_profit'].iloc[i]):\n",
    "            position = 1\n",
    "            entry_price = current_close\n",
    "            stop_loss_level = df['stop_loss'].iloc[i]\n",
    "            take_profit_level = df['take_profit'].iloc[i]\n",
    "            entry_time = current_time\n",
    "        elif current_signal == -1 and not pd.isna(df['stop_loss'].iloc[i]) and not pd.isna(df['take_profit'].iloc[i]):\n",
    "            position = -1\n",
    "            entry_price = current_close\n",
    "            stop_loss_level = df['stop_loss'].iloc[i]\n",
    "            take_profit_level = df['take_profit'].iloc[i]\n",
    "            entry_time = current_time\n",
    "\n",
    "# Convert trades list to DataFrame for analysis\n",
    "trades_df = pd.DataFrame(trades)\n",
    "\n",
    "# --- Basic Performance Analysis ---\n",
    "if not trades_df.empty:\n",
    "    total_pnl = trades_df['pnl'].sum()\n",
    "    num_trades = len(trades_df)\n",
    "    num_wins = (trades_df['pnl'] > 0).sum()\n",
    "    win_rate = (num_wins / num_trades) * 100 if num_trades > 0 else 0\n",
    "\n",
    "    print(f\"--- Backtest Results ---\")\n",
    "    print(f\"Total Trades: {num_trades}\")\n",
    "    print(f\"Winning Trades: {num_wins}\")\n",
    "    print(f\"Losing Trades: {num_trades - num_wins}\")\n",
    "    print(f\"Win Rate: {win_rate:.2f}%\")\n",
    "    # Note: PnL is in points/pips, not currency unless you factor in position size/value per pip\n",
    "    print(f\"Total PnL (Points): {total_pnl:.5f}\")\n",
    "    print(f\"Average PnL per Trade: {trades_df['pnl'].mean():.5f}\")\n",
    "    print(f\"Max Profit (Single Trade): {trades_df['pnl'].max():.5f}\")\n",
    "    print(f\"Max Loss (Single Trade): {trades_df['pnl'].min():.5f}\")\n",
    "else:\n",
    "    print(\"No trades were executed during the backtest.\")\n",
    "\n",
    "# Display first few trades\n",
    "trades_df.head()"
   ]
  },
  {
   "cell_type": "markdown",
   "id": "f82153c5",
   "metadata": {},
   "source": [
    "## Identify Available Currency Pairs"
   ]
  },
  {
   "cell_type": "code",
   "execution_count": 27,
   "id": "7e5d4a98",
   "metadata": {},
   "outputs": [
    {
     "name": "stdout",
     "output_type": "stream",
     "text": [
      "Available currency pairs found: ['eurusd', 'audusd', 'eurgbp', 'gbpusd', 'nzdusd', 'usdchf', 'usdjpy']\n"
     ]
    }
   ],
   "source": [
    "# Identify pairs by looking for columns starting with 'close_'\n",
    "all_columns = df.columns\n",
    "close_columns = [col for col in all_columns if col.startswith('close_')]\n",
    "# Extract the pair suffix (e.g., 'eurusd' from 'close_eurusd')\n",
    "available_pairs = [col.replace('close_', '') for col in close_columns]\n",
    "\n",
    "print(\"Available currency pairs found:\", available_pairs)"
   ]
  },
  {
   "cell_type": "markdown",
   "id": "2c4c6ee3",
   "metadata": {},
   "source": [
    "## Derivative Strategy Backtesting Function (Multiple Exits)"
   ]
  },
  {
   "cell_type": "code",
   "execution_count": 28,
   "id": "61584309",
   "metadata": {},
   "outputs": [],
   "source": [
    "import pandas as pd\n",
    "import numpy as np\n",
    "\n",
    "def run_derivative_backtest_for_pair_with_cooldown(\n",
    "    df_original,\n",
    "    pair_suffix,\n",
    "    exit_strategy='fixed_rr', # 'fixed_rr', 'trailing_sl', 'time_exit'\n",
    "    rr_ratio=2.0,               # Base R:R for 'fixed_rr'\n",
    "    trailing_sl_distance=None,# For 'trailing_sl'\n",
    "    max_hold_bars=None,       # For 'time_exit'\n",
    "    lookback_period=7,       # For swing high/low SL calculation\n",
    "    cooldown_period_bars=3,  # Bars to wait after entry before allowing a new entry\n",
    "    # --- ATR Volatility Filter ---\n",
    "    use_atr_filter=False,\n",
    "    atr_period=14,\n",
    "    atr_ma_period=20, # Period for ATR moving average filter (ATR > MA)\n",
    "    # --- ADX Trend/Whipsaw Filter ---\n",
    "    use_adx_filter=False, # Filter for ADX > adx_trend_threshold\n",
    "    adx_period=14,\n",
    "    adx_trend_threshold=25,\n",
    "    use_adx_whipsaw_filter=False, # Filter OUT if ADX < adx_whipsaw_threshold\n",
    "    adx_whipsaw_threshold=20,\n",
    "    # --- Adaptive R:R (Volatility Based) ---\n",
    "    use_adaptive_rr=False, # Make R:R ratio dynamic based on ATR?\n",
    "    base_rr=2.0,           # Base R:R if use_adaptive_rr is True\n",
    "    atr_multiplier_rr=0.5, # How much ATR affects R:R (can be negative)\n",
    "    adaptive_rr_atr_period=14, # ATR period for adaptive R:R\n",
    "    adaptive_rr_atr_ma_period=50 # ATR MA period for adaptive R:R\n",
    "):\n",
    "    \"\"\"\n",
    "    Runs the 1st/2nd Derivative Turning Point backtest with enhanced filters and adaptive R:R.\n",
    "    - ATR Filter: Enter only if ATR > ATR MA.\n",
    "    - ADX Trend Filter: Enter only if ADX > adx_trend_threshold.\n",
    "    - ADX Whipsaw Filter: AVOID entry if ADX < adx_whipsaw_threshold.\n",
    "    - Adaptive R:R: Adjusts R:R based on current ATR relative to its MA.\n",
    "    \"\"\"\n",
    "    filter_desc = []\n",
    "    if use_atr_filter: filter_desc.append(f\"ATR>{atr_ma_period}MA\")\n",
    "    if use_adx_filter: filter_desc.append(f\"ADX>{adx_trend_threshold}\")\n",
    "    if use_adx_whipsaw_filter: filter_desc.append(f\"ADX>={adx_whipsaw_threshold}\") # Note: Filter requires ADX >= threshold\n",
    "    adaptive_rr_desc = \" AdaptiveRR\" if use_adaptive_rr and exit_strategy == 'fixed_rr' else \"\"\n",
    "    filter_str = f\" Filters: {', '.join(filter_desc)}\" if filter_desc else \"\"\n",
    "    print(f\"\\n--- Running Derivative backtest for: {pair_suffix.upper()} (Exit: {exit_strategy}{adaptive_rr_desc}, Cooldown: {cooldown_period_bars} bars, Lookback: {lookback_period}){filter_str} ---\")\n",
    "\n",
    "    # --- Setup & Data Preparation ---\n",
    "    # Define column names based on suffix BEFORE using them\n",
    "    price_col = f'close_{pair_suffix}'\n",
    "    open_col = f'open_{pair_suffix}'\n",
    "    high_col = f'high_{pair_suffix}'\n",
    "    low_col = f'low_{pair_suffix}'\n",
    "\n",
    "    required_cols = [open_col, high_col, low_col, price_col]\n",
    "    if not all(col in df_original.columns for col in required_cols):\n",
    "        print(f\"  Skipping {pair_suffix.upper()}: Missing required columns ({', '.join(required_cols)}). Check suffix or input DataFrame.\")\n",
    "        # Return empty/skipped results structure\n",
    "        results = {\n",
    "            'pair': pair_suffix.upper(),\n",
    "            'strategy': exit_strategy,\n",
    "            'cooldown': cooldown_period_bars,\n",
    "            'total_trades': 0,\n",
    "            'win_rate': 0.0,\n",
    "            'total_pnl': 0.0,\n",
    "            'sharpe_ratio': np.nan,\n",
    "            'sortino_ratio': np.nan,\n",
    "            # ... add other params with None/default values ...\n",
    "        }\n",
    "        return results, pd.DataFrame()\n",
    "\n",
    "    df = df_original[required_cols].copy()\n",
    "    # Rename columns for internal consistency within the function\n",
    "    df.rename(columns={\n",
    "        price_col: 'close',\n",
    "        open_col: 'open',\n",
    "        high_col: 'high',\n",
    "        low_col: 'low'\n",
    "    }, inplace=True)\n",
    "\n",
    "    # Determine max lookback needed for all indicators\n",
    "    max_lookback_needed = max(\n",
    "        lookback_period,\n",
    "        atr_period if use_atr_filter else 0,\n",
    "        atr_ma_period if use_atr_filter else 0,\n",
    "        adx_period if use_adx_filter or use_adx_whipsaw_filter else 0,\n",
    "        adaptive_rr_atr_period if use_adaptive_rr else 0,\n",
    "        adaptive_rr_atr_ma_period if use_adaptive_rr else 0\n",
    "    ) + 2\n",
    "\n",
    "    if df.empty or len(df) < max_lookback_needed:\n",
    "         print(f\"  Skipping {pair_suffix.upper()}: Insufficient data ({len(df)} rows) for lookback/indicators.\")\n",
    "         # Return empty/skipped results structure (same as above)\n",
    "         results = {\n",
    "            'pair': pair_suffix.upper(),\n",
    "            'strategy': exit_strategy,\n",
    "            'cooldown': cooldown_period_bars,\n",
    "            'total_trades': 0,\n",
    "            'win_rate': 0.0,\n",
    "            'total_pnl': 0.0,\n",
    "            'sharpe_ratio': np.nan,\n",
    "            'sortino_ratio': np.nan,\n",
    "            # ... add other params with None/default values ...\n",
    "         }\n",
    "         return results, pd.DataFrame()\n",
    "\n",
    "    # --- Calculate Indicators --- \n",
    "    # ATR for Volatility Filter\n",
    "    if use_atr_filter:\n",
    "        atr_col = f'ATRr_{atr_period}'\n",
    "        df.ta.atr(length=atr_period, append=True)\n",
    "        if atr_col not in df.columns:\n",
    "            print(f\"  Warning: ATR ({atr_period}) calculation failed. Disabling ATR filter.\")\n",
    "            use_atr_filter = False\n",
    "        else:\n",
    "            df['atr_ma_filter'] = df[atr_col].rolling(window=atr_ma_period).mean()\n",
    "\n",
    "    # ADX for Trend/Whipsaw Filters\n",
    "    if use_adx_filter or use_adx_whipsaw_filter:\n",
    "        adx_col = f'ADX_{adx_period}'\n",
    "        df.ta.adx(length=adx_period, append=True)\n",
    "        if adx_col not in df.columns:\n",
    "             print(f\"  Warning: ADX ({adx_period}) calculation failed. Disabling ADX filters.\")\n",
    "             use_adx_filter = False\n",
    "             use_adx_whipsaw_filter = False\n",
    "\n",
    "    # ATR for Adaptive R:R (calculate even if ATR filter is off, if adaptive RR is on)\n",
    "    if use_adaptive_rr and exit_strategy == 'fixed_rr':\n",
    "        atr_col_rr = f'ATRr_{adaptive_rr_atr_period}'\n",
    "        # Only calculate if not already calculated for the filter\n",
    "        if atr_col_rr not in df.columns:\n",
    "             df.ta.atr(length=adaptive_rr_atr_period, append=True)\n",
    "        if atr_col_rr not in df.columns:\n",
    "            print(f\"  Warning: ATR ({adaptive_rr_atr_period}) for Adaptive R:R failed. Disabling Adaptive R:R.\")\n",
    "            use_adaptive_rr = False\n",
    "        else:\n",
    "            df['atr_ma_rr'] = df[atr_col_rr].rolling(window=adaptive_rr_atr_ma_period).mean()\n",
    "\n",
    "    # --- Signal Generation (No Lookahead Bias) ---\n",
    "    # Calculate derivatives\n",
    "    df['price_change'] = df['close'].diff()\n",
    "    df['acceleration'] = df['price_change'].diff()\n",
    "\n",
    "    # Identify turning points (simplified example: change in sign of acceleration)\n",
    "    # Note: This is a basic example; real turning point logic might be more complex\n",
    "    # Ensure we don't use future data: shift acceleration check\n",
    "    df['turning_point'] = np.where(\n",
    "        (df['acceleration'].shift(1) > 0) & (df['acceleration'] <= 0), 1, # Potential peak (signal short)\n",
    "        np.where((df['acceleration'].shift(1) < 0) & (df['acceleration'] >= 0), -1, 0) # Potential trough (signal long)\n",
    "    )\n",
    "\n",
    "    # Apply signal logic (e.g., only take signal if price change confirms direction)\n",
    "    df['raw_signal'] = 0\n",
    "    # Long signal: turning point is trough (-1) AND price change is positive\n",
    "    df.loc[(df['turning_point'] == -1) & (df['price_change'] > 0), 'raw_signal'] = 1\n",
    "    # Short signal: turning point is peak (1) AND price change is negative\n",
    "    df.loc[(df['turning_point'] == 1) & (df['price_change'] < 0), 'raw_signal'] = -1\n",
    "\n",
    "    # --- SL/TP Calculation (Modified for Adaptive R:R) ---\n",
    "    df['swing_low'] = df['low'].rolling(window=lookback_period).min().shift(1)\n",
    "    df['swing_high'] = df['high'].rolling(window=lookback_period).max().shift(1)\n",
    "    df['stop_loss'] = np.nan\n",
    "    df['take_profit'] = np.nan\n",
    "\n",
    "    long_signal_indices = df[df['raw_signal'] == 1].index\n",
    "    short_signal_indices = df[df['raw_signal'] == -1].index\n",
    "\n",
    "    # --- Calculate Base SL & Risk ---\n",
    "    if not long_signal_indices.empty:\n",
    "        entry_price_long = df.loc[long_signal_indices, 'close']\n",
    "        stop_loss_long = df.loc[long_signal_indices, 'swing_low']\n",
    "        stop_loss_long = np.minimum(stop_loss_long, entry_price_long - 1e-9)\n",
    "        risk_long = entry_price_long - stop_loss_long\n",
    "        valid_long_sl = risk_long > 0\n",
    "        df.loc[long_signal_indices[valid_long_sl], 'stop_loss'] = stop_loss_long[valid_long_sl]\n",
    "        df.loc[long_signal_indices[valid_long_sl], 'risk'] = risk_long[valid_long_sl]\n",
    "\n",
    "    if not short_signal_indices.empty:\n",
    "        entry_price_short = df.loc[short_signal_indices, 'close']\n",
    "        stop_loss_short = df.loc[short_signal_indices, 'swing_high']\n",
    "        stop_loss_short = np.maximum(stop_loss_short, entry_price_short + 1e-9)\n",
    "        risk_short = stop_loss_short - entry_price_short\n",
    "        valid_short_sl = risk_short > 0\n",
    "        df.loc[short_signal_indices[valid_short_sl], 'stop_loss'] = stop_loss_short[valid_short_sl]\n",
    "        df.loc[short_signal_indices[valid_short_sl], 'risk'] = risk_short[valid_short_sl]\n",
    "\n",
    "    # --- Calculate TP for Fixed R:R (Potentially Adaptive) ---\n",
    "    if exit_strategy == 'fixed_rr':\n",
    "        current_rr = base_rr # Start with base\n",
    "        if use_adaptive_rr:\n",
    "            # Calculate adaptive component only where needed and data exists\n",
    "            valid_rr_data = df['atr_ma_rr'].notna() & (df['atr_ma_rr'] > 0) & df[atr_col_rr].notna()\n",
    "            adaptive_factor = pd.Series(index=df.index, dtype=float)\n",
    "            adaptive_factor.loc[valid_rr_data] = atr_multiplier_rr * (df.loc[valid_rr_data, atr_col_rr] / df.loc[valid_rr_data, 'atr_ma_rr'] - 1)\n",
    "            # Apply adaptive factor, ensuring R:R doesn't go below a minimum (e.g., 0.5)\n",
    "            current_rr = (base_rr + adaptive_factor.fillna(0)).clip(lower=0.5)\n",
    "            df['applied_rr'] = current_rr # Store the RR used for analysis\n",
    "        else:\n",
    "            df['applied_rr'] = base_rr # Store the fixed RR used\n",
    "\n",
    "        # Apply potentially adaptive RR to calculate TP\n",
    "        if not long_signal_indices.empty:\n",
    "            valid_long_tp = long_signal_indices[valid_long_sl]\n",
    "            take_profit_long = df.loc[valid_long_tp, 'close'] + df.loc[valid_long_tp, 'applied_rr'] * df.loc[valid_long_tp, 'risk']\n",
    "            df.loc[valid_long_tp, 'take_profit'] = take_profit_long\n",
    "\n",
    "        if not short_signal_indices.empty:\n",
    "            valid_short_tp = short_signal_indices[valid_short_sl]\n",
    "            take_profit_short = df.loc[valid_short_tp, 'close'] - df.loc[valid_short_tp, 'applied_rr'] * df.loc[valid_short_tp, 'risk']\n",
    "            df.loc[valid_short_tp, 'take_profit'] = take_profit_short\n",
    "\n",
    "    # --- Backtesting Loop (Modified for Filters) ---\n",
    "    position = 0\n",
    "    entry_price = 0\n",
    "    stop_loss_level = 0\n",
    "    take_profit_level = 0\n",
    "    entry_time = None\n",
    "    entry_bar_index = -1\n",
    "    last_entry_bar_index = -1 # Track for cooldown\n",
    "    trades = []\n",
    "    current_trailing_sl = None\n",
    "    bars_held = 0\n",
    "\n",
    "    for i in range(len(df)):\n",
    "        current_time = df.index[i]\n",
    "        current_open = df['open'].iloc[i]\n",
    "        current_high = df['high'].iloc[i]\n",
    "        current_low = df['low'].iloc[i]\n",
    "        current_close = df['close'].iloc[i]\n",
    "        current_raw_signal = df['raw_signal'].iloc[i]\n",
    "\n",
    "        # --- Exit Logic ---\n",
    "        exit_price = None\n",
    "        exit_reason = None\n",
    "\n",
    "        if position == 1: # Long\n",
    "            bars_held += 1\n",
    "            # Update Trailing SL if applicable\n",
    "            if exit_strategy == 'trailing_sl' and trailing_sl_distance is not None:\n",
    "                potential_tsl = current_high - trailing_sl_distance\n",
    "                if current_trailing_sl is None or potential_tsl > current_trailing_sl:\n",
    "                    current_trailing_sl = potential_tsl\n",
    "                # Check Trailing SL Hit\n",
    "                if current_low <= current_trailing_sl:\n",
    "                    exit_price = current_trailing_sl\n",
    "                    exit_reason = 'Trailing SL'\n",
    "\n",
    "            # Check Fixed SL Hit (if not already exited by TSL)\n",
    "            if exit_price is None and current_low <= stop_loss_level:\n",
    "                exit_price = stop_loss_level\n",
    "                exit_reason = 'Stop Loss'\n",
    "            # Check Fixed TP Hit (if applicable and not already exited)\n",
    "            elif exit_price is None and exit_strategy == 'fixed_rr' and current_high >= take_profit_level:\n",
    "                exit_price = take_profit_level\n",
    "                exit_reason = 'Take Profit'\n",
    "            # Check Time Exit (if applicable and not already exited)\n",
    "            elif exit_price is None and exit_strategy == 'time_exit' and max_hold_bars is not None and bars_held >= max_hold_bars:\n",
    "                exit_price = current_close # Exit at close on max hold bar\n",
    "                exit_reason = 'Time Exit'\n",
    "\n",
    "        elif position == -1: # Short\n",
    "            bars_held += 1\n",
    "            # Update Trailing SL if applicable\n",
    "            if exit_strategy == 'trailing_sl' and trailing_sl_distance is not None:\n",
    "                potential_tsl = current_low + trailing_sl_distance\n",
    "                if current_trailing_sl is None or potential_tsl < current_trailing_sl:\n",
    "                    current_trailing_sl = potential_tsl\n",
    "                # Check Trailing SL Hit\n",
    "                if current_high >= current_trailing_sl:\n",
    "                    exit_price = current_trailing_sl\n",
    "                    exit_reason = 'Trailing SL'\n",
    "\n",
    "            # Check Fixed SL Hit (if not already exited by TSL)\n",
    "            if exit_price is None and current_high >= stop_loss_level:\n",
    "                exit_price = stop_loss_level\n",
    "                exit_reason = 'Stop Loss'\n",
    "            # Check Fixed TP Hit (if applicable and not already exited)\n",
    "            elif exit_price is None and exit_strategy == 'fixed_rr' and current_low <= take_profit_level:\n",
    "                exit_price = take_profit_level\n",
    "                exit_reason = 'Take Profit'\n",
    "            # Check Time Exit (if applicable and not already exited)\n",
    "            elif exit_price is None and exit_strategy == 'time_exit' and max_hold_bars is not None and bars_held >= max_hold_bars:\n",
    "                exit_price = current_close # Exit at close on max hold bar\n",
    "                exit_reason = 'Time Exit'\n",
    "\n",
    "        # Process Exit if triggered\n",
    "        if exit_price is not None:\n",
    "            pnl = (exit_price - entry_price) if position == 1 else (entry_price - exit_price)\n",
    "            trades.append({\n",
    "                'entry_time': entry_time,\n",
    "                'exit_time': current_time,\n",
    "                'type': 'long' if position == 1 else 'short',\n",
    "                'entry': entry_price,\n",
    "                'exit': exit_price,\n",
    "                'pnl': pnl,\n",
    "                'exit_reason': exit_reason,\n",
    "                'bars_held': bars_held\n",
    "            })\n",
    "            position = 0\n",
    "            current_trailing_sl = None\n",
    "            bars_held = 0\n",
    "\n",
    "        # --- Entry Logic (only if flat AND cooldown period has passed AND filters pass) ---\n",
    "        can_trade_cooldown = (last_entry_bar_index == -1) or ((i - last_entry_bar_index) > cooldown_period_bars)\n",
    "\n",
    "        if can_trade_cooldown and current_raw_signal != 0:\n",
    "            # --- Check Filters ---\n",
    "            passes_filters = True\n",
    "\n",
    "            # ATR Filter: Only trade if ATR is above its moving average\n",
    "            if use_atr_filter:\n",
    "                if pd.isna(df['atr_ma_filter'].iloc[i]) or pd.isna(df[atr_col].iloc[i]) or not (df[atr_col].iloc[i] > df['atr_ma_filter'].iloc[i]):\n",
    "                    passes_filters = False\n",
    "\n",
    "            # ADX Trend Filter: Only trade if ADX is above threshold\n",
    "            if use_adx_filter and passes_filters:\n",
    "                if pd.isna(df[adx_col].iloc[i]) or not (df[adx_col].iloc[i] > adx_trend_threshold):\n",
    "                    passes_filters = False\n",
    "\n",
    "            # ADX Whipsaw Filter: AVOID trade if ADX is below threshold\n",
    "            if use_adx_whipsaw_filter and passes_filters:\n",
    "                if pd.isna(df[adx_col].iloc[i]) or (df[adx_col].iloc[i] < adx_whipsaw_threshold):\n",
    "                    passes_filters = False # Fail filter if ADX is too low\n",
    "            # --- End Filter Checks ---\n",
    "\n",
    "            if passes_filters:\n",
    "                sl_value = df['stop_loss'].iloc[i]\n",
    "                tp_value = df['take_profit'].iloc[i] # Used for fixed_rr\n",
    "\n",
    "                # Check if SL is valid (not NaN)\n",
    "                if not pd.isna(sl_value):\n",
    "                    # Check if TP is valid ONLY IF using fixed_rr strategy\n",
    "                    if exit_strategy == 'fixed_rr' and pd.isna(tp_value):\n",
    "                        pass # Skip entry if fixed TP is invalid for this strategy\n",
    "                    else:\n",
    "                        # --- Process Entry ---\n",
    "                        position = int(current_raw_signal)\n",
    "                        entry_price = current_close\n",
    "                        stop_loss_level = sl_value\n",
    "                        if exit_strategy == 'fixed_rr':\n",
    "                            take_profit_level = tp_value\n",
    "                        else:\n",
    "                            take_profit_level = None # Not used for other strategies\n",
    "                        entry_time = current_time\n",
    "                        entry_bar_index = i\n",
    "                        last_entry_bar_index = i # Update cooldown tracker\n",
    "                        bars_held = 0 # Reset bars held counter\n",
    "                        current_trailing_sl = None # Reset trailing SL for new trade\n",
    "\n",
    "    # --- Results Analysis ---\n",
    "    trades_df = pd.DataFrame(trades)\n",
    "    results = {\n",
    "        'pair': pair_suffix.upper(),\n",
    "        'strategy': exit_strategy,\n",
    "        'cooldown': cooldown_period_bars,\n",
    "        'total_trades': 0,\n",
    "        'win_rate': 0.0, # Return as float\n",
    "        'total_pnl': 0.0, # Return as float\n",
    "        'sharpe_ratio': np.nan, # Initialize Sharpe Ratio\n",
    "        'sortino_ratio': np.nan, # Initialize Sortino Ratio\n",
    "        # Add parameters used for this run\n",
    "        'rr_ratio': rr_ratio if exit_strategy == 'fixed_rr' and not use_adaptive_rr else None,\n",
    "        'trailing_sl_distance': trailing_sl_distance if exit_strategy == 'trailing_sl' else None,\n",
    "        'max_hold_bars': max_hold_bars if exit_strategy == 'time_exit' else None,\n",
    "        'lookback_period': lookback_period,\n",
    "        # Add filter and adaptive parameters to results\n",
    "        'use_atr_filter': use_atr_filter,\n",
    "        'atr_period': atr_period if use_atr_filter else None,\n",
    "        'atr_ma_period': atr_ma_period if use_atr_filter else None,\n",
    "        'use_adx_filter': use_adx_filter,\n",
    "        'adx_period': adx_period if use_adx_filter or use_adx_whipsaw_filter else None,\n",
    "        'adx_trend_threshold': adx_trend_threshold if use_adx_filter else None,\n",
    "        'use_adx_whipsaw_filter': use_adx_whipsaw_filter,\n",
    "        'adx_whipsaw_threshold': adx_whipsaw_threshold if use_adx_whipsaw_filter else None,\n",
    "        'use_adaptive_rr': use_adaptive_rr if exit_strategy == 'fixed_rr' else False,\n",
    "        'base_rr': base_rr if use_adaptive_rr and exit_strategy == 'fixed_rr' else None,\n",
    "        'atr_multiplier_rr': atr_multiplier_rr if use_adaptive_rr and exit_strategy == 'fixed_rr' else None\n",
    "    }\n",
    "\n",
    "    if not trades_df.empty:\n",
    "        total_pnl = trades_df['pnl'].sum()\n",
    "        num_trades = len(trades_df)\n",
    "        num_wins = (trades_df['pnl'] > 0).sum()\n",
    "        win_rate = (num_wins / num_trades) * 100 if num_trades > 0 else 0\n",
    "\n",
    "        # --- Calculate Sharpe Ratio ---\n",
    "        pnl_std_dev = trades_df['pnl'].std()\n",
    "        if pnl_std_dev is not None and pnl_std_dev != 0 and num_trades > 1:\n",
    "            sharpe_ratio = trades_df['pnl'].mean() / pnl_std_dev\n",
    "        else:\n",
    "            sharpe_ratio = np.nan\n",
    "\n",
    "        # --- Calculate Sortino Ratio ---\n",
    "        negative_pnl = trades_df[trades_df['pnl'] < 0]['pnl']\n",
    "        downside_std_dev = negative_pnl.std()\n",
    "        if downside_std_dev is not None and downside_std_dev != 0 and num_trades > 1 and not negative_pnl.empty:\n",
    "            sortino_ratio = trades_df['pnl'].mean() / downside_std_dev\n",
    "        else:\n",
    "            sortino_ratio = np.nan\n",
    "\n",
    "        results.update({\n",
    "            'total_trades': num_trades,\n",
    "            'win_rate': win_rate,\n",
    "            'total_pnl': total_pnl,\n",
    "            'sharpe_ratio': sharpe_ratio,\n",
    "            'sortino_ratio': sortino_ratio\n",
    "        })\n",
    "        print(f\"  Total Trades: {num_trades}\")\n",
    "        print(f\"  Win Rate: {win_rate:.2f}% ({num_wins} wins)\")\n",
    "        print(f\"  Total PnL (Points): {total_pnl*10000:.5f}\")\n",
    "        print(f\"  Sharpe Ratio: {sharpe_ratio:.3f}\")\n",
    "        print(f\"  Sortino Ratio: {sortino_ratio:.3f}\")\n",
    "    else:\n",
    "        print(\"  No trades were executed.\")\n",
    "\n",
    "    return results, trades_df"
   ]
  },
  {
   "cell_type": "markdown",
   "id": "f77b6695",
   "metadata": {},
   "source": [
    "## Run Derivative Backtest for All Pairs"
   ]
  },
  {
   "cell_type": "code",
   "execution_count": 29,
   "id": "101ae20a",
   "metadata": {},
   "outputs": [
    {
     "name": "stdout",
     "output_type": "stream",
     "text": [
      "\n",
      "===== Processing EURUSD =====\n",
      "\n",
      "--- Running Derivative backtest for: EURUSD (Exit: fixed_rr, Cooldown: 3 bars, Lookback: 7) ---\n",
      "  Total Trades: 472\n",
      "  Win Rate: 23.94% (113 wins)\n",
      "  Total PnL (Points): -2183.20000\n",
      "  Sharpe Ratio: -0.251\n",
      "  Sortino Ratio: -0.490\n",
      "\n",
      "--- Running Derivative backtest for: EURUSD (Exit: trailing_sl, Cooldown: 3 bars, Lookback: 7) ---\n",
      "  Total Trades: 472\n",
      "  Win Rate: 23.94% (113 wins)\n",
      "  Total PnL (Points): -2183.20000\n",
      "  Sharpe Ratio: -0.251\n",
      "  Sortino Ratio: -0.490\n",
      "\n",
      "--- Running Derivative backtest for: EURUSD (Exit: trailing_sl, Cooldown: 3 bars, Lookback: 7) ---\n",
      "  Total Trades: 868\n",
      "  Win Rate: 24.88% (216 wins)\n",
      "  Total PnL (Points): -3241.30000\n",
      "  Sharpe Ratio: -0.373\n",
      "  Sortino Ratio: -0.834\n",
      "\n",
      "--- Running Derivative backtest for: EURUSD (Exit: time_exit, Cooldown: 3 bars, Lookback: 7) ---\n",
      "  Total Trades: 868\n",
      "  Win Rate: 24.88% (216 wins)\n",
      "  Total PnL (Points): -3241.30000\n",
      "  Sharpe Ratio: -0.373\n",
      "  Sortino Ratio: -0.834\n",
      "\n",
      "--- Running Derivative backtest for: EURUSD (Exit: time_exit, Cooldown: 3 bars, Lookback: 7) ---\n",
      "  Total Trades: 788\n",
      "  Win Rate: 34.64% (273 wins)\n",
      "  Total PnL (Points): -1762.40000\n",
      "  Sharpe Ratio: -0.134\n",
      "  Sortino Ratio: -0.247\n",
      "\n",
      "===== Processing AUDUSD =====\n",
      "\n",
      "--- Running Derivative backtest for: AUDUSD (Exit: fixed_rr, Cooldown: 3 bars, Lookback: 7) ---\n",
      "  Total Trades: 788\n",
      "  Win Rate: 34.64% (273 wins)\n",
      "  Total PnL (Points): -1762.40000\n",
      "  Sharpe Ratio: -0.134\n",
      "  Sortino Ratio: -0.247\n",
      "\n",
      "===== Processing AUDUSD =====\n",
      "\n",
      "--- Running Derivative backtest for: AUDUSD (Exit: fixed_rr, Cooldown: 3 bars, Lookback: 7) ---\n",
      "  Total Trades: 462\n",
      "  Win Rate: 21.00% (97 wins)\n",
      "  Total PnL (Points): -2658.60000\n",
      "  Sharpe Ratio: -0.380\n",
      "  Sortino Ratio: -0.662\n",
      "\n",
      "--- Running Derivative backtest for: AUDUSD (Exit: trailing_sl, Cooldown: 3 bars, Lookback: 7) ---\n",
      "  Total Trades: 462\n",
      "  Win Rate: 21.00% (97 wins)\n",
      "  Total PnL (Points): -2658.60000\n",
      "  Sharpe Ratio: -0.380\n",
      "  Sortino Ratio: -0.662\n",
      "\n",
      "--- Running Derivative backtest for: AUDUSD (Exit: trailing_sl, Cooldown: 3 bars, Lookback: 7) ---\n",
      "  Total Trades: 873\n",
      "  Win Rate: 23.71% (207 wins)\n",
      "  Total PnL (Points): -3713.90000\n",
      "  Sharpe Ratio: -0.457\n",
      "  Sortino Ratio: -0.998\n",
      "\n",
      "--- Running Derivative backtest for: AUDUSD (Exit: time_exit, Cooldown: 3 bars, Lookback: 7) ---\n",
      "  Total Trades: 873\n",
      "  Win Rate: 23.71% (207 wins)\n",
      "  Total PnL (Points): -3713.90000\n",
      "  Sharpe Ratio: -0.457\n",
      "  Sortino Ratio: -0.998\n",
      "\n",
      "--- Running Derivative backtest for: AUDUSD (Exit: time_exit, Cooldown: 3 bars, Lookback: 7) ---\n",
      "  Total Trades: 775\n",
      "  Win Rate: 32.77% (254 wins)\n",
      "  Total PnL (Points): -1905.80000\n",
      "  Sharpe Ratio: -0.157\n",
      "  Sortino Ratio: -0.288\n",
      "\n",
      "===== Processing EURGBP =====\n",
      "\n",
      "--- Running Derivative backtest for: EURGBP (Exit: fixed_rr, Cooldown: 3 bars, Lookback: 7) ---\n",
      "  Total Trades: 775\n",
      "  Win Rate: 32.77% (254 wins)\n",
      "  Total PnL (Points): -1905.80000\n",
      "  Sharpe Ratio: -0.157\n",
      "  Sortino Ratio: -0.288\n",
      "\n",
      "===== Processing EURGBP =====\n",
      "\n",
      "--- Running Derivative backtest for: EURGBP (Exit: fixed_rr, Cooldown: 3 bars, Lookback: 7) ---\n",
      "  Total Trades: 509\n",
      "  Win Rate: 22.79% (116 wins)\n",
      "  Total PnL (Points): -1646.50000\n",
      "  Sharpe Ratio: -0.342\n",
      "  Sortino Ratio: -0.653\n",
      "\n",
      "--- Running Derivative backtest for: EURGBP (Exit: trailing_sl, Cooldown: 3 bars, Lookback: 7) ---\n",
      "  Total Trades: 509\n",
      "  Win Rate: 22.79% (116 wins)\n",
      "  Total PnL (Points): -1646.50000\n",
      "  Sharpe Ratio: -0.342\n",
      "  Sortino Ratio: -0.653\n",
      "\n",
      "--- Running Derivative backtest for: EURGBP (Exit: trailing_sl, Cooldown: 3 bars, Lookback: 7) ---\n",
      "  Total Trades: 599\n",
      "  Win Rate: 12.19% (73 wins)\n",
      "  Total PnL (Points): -3290.50000\n",
      "  Sharpe Ratio: -0.946\n",
      "  Sortino Ratio: -1.340\n",
      "\n",
      "--- Running Derivative backtest for: EURGBP (Exit: time_exit, Cooldown: 3 bars, Lookback: 7) ---\n",
      "  Total Trades: 599\n",
      "  Win Rate: 12.19% (73 wins)\n",
      "  Total PnL (Points): -3290.50000\n",
      "  Sharpe Ratio: -0.946\n",
      "  Sortino Ratio: -1.340\n",
      "\n",
      "--- Running Derivative backtest for: EURGBP (Exit: time_exit, Cooldown: 3 bars, Lookback: 7) ---\n",
      "  Total Trades: 812\n",
      "  Win Rate: 30.54% (248 wins)\n",
      "  Total PnL (Points): -1530.90000\n",
      "  Sharpe Ratio: -0.210\n",
      "  Sortino Ratio: -0.393\n",
      "\n",
      "===== Processing GBPUSD =====\n",
      "\n",
      "--- Running Derivative backtest for: GBPUSD (Exit: fixed_rr, Cooldown: 3 bars, Lookback: 7) ---\n",
      "  Total Trades: 812\n",
      "  Win Rate: 30.54% (248 wins)\n",
      "  Total PnL (Points): -1530.90000\n",
      "  Sharpe Ratio: -0.210\n",
      "  Sortino Ratio: -0.393\n",
      "\n",
      "===== Processing GBPUSD =====\n",
      "\n",
      "--- Running Derivative backtest for: GBPUSD (Exit: fixed_rr, Cooldown: 3 bars, Lookback: 7) ---\n",
      "  Total Trades: 467\n",
      "  Win Rate: 22.91% (107 wins)\n",
      "  Total PnL (Points): -3132.00000\n",
      "  Sharpe Ratio: -0.287\n",
      "  Sortino Ratio: -0.548\n",
      "\n",
      "--- Running Derivative backtest for: GBPUSD (Exit: trailing_sl, Cooldown: 3 bars, Lookback: 7) ---\n",
      "  Total Trades: 467\n",
      "  Win Rate: 22.91% (107 wins)\n",
      "  Total PnL (Points): -3132.00000\n",
      "  Sharpe Ratio: -0.287\n",
      "  Sortino Ratio: -0.548\n",
      "\n",
      "--- Running Derivative backtest for: GBPUSD (Exit: trailing_sl, Cooldown: 3 bars, Lookback: 7) ---\n",
      "  Total Trades: 1007\n",
      "  Win Rate: 30.59% (308 wins)\n",
      "  Total PnL (Points): -2843.90000\n",
      "  Sharpe Ratio: -0.274\n",
      "  Sortino Ratio: -0.645\n",
      "\n",
      "--- Running Derivative backtest for: GBPUSD (Exit: time_exit, Cooldown: 3 bars, Lookback: 7) ---\n",
      "  Total Trades: 1007\n",
      "  Win Rate: 30.59% (308 wins)\n",
      "  Total PnL (Points): -2843.90000\n",
      "  Sharpe Ratio: -0.274\n",
      "  Sortino Ratio: -0.645\n",
      "\n",
      "--- Running Derivative backtest for: GBPUSD (Exit: time_exit, Cooldown: 3 bars, Lookback: 7) ---\n",
      "  Total Trades: 779\n",
      "  Win Rate: 34.53% (269 wins)\n",
      "  Total PnL (Points): -2361.70000\n",
      "  Sharpe Ratio: -0.141\n",
      "  Sortino Ratio: -0.265\n",
      "\n",
      "===== Processing NZDUSD =====\n",
      "\n",
      "--- Running Derivative backtest for: NZDUSD (Exit: fixed_rr, Cooldown: 3 bars, Lookback: 7) ---\n",
      "  Total Trades: 779\n",
      "  Win Rate: 34.53% (269 wins)\n",
      "  Total PnL (Points): -2361.70000\n",
      "  Sharpe Ratio: -0.141\n",
      "  Sortino Ratio: -0.265\n",
      "\n",
      "===== Processing NZDUSD =====\n",
      "\n",
      "--- Running Derivative backtest for: NZDUSD (Exit: fixed_rr, Cooldown: 3 bars, Lookback: 7) ---\n",
      "  Total Trades: 458\n",
      "  Win Rate: 22.49% (103 wins)\n",
      "  Total PnL (Points): -2533.00000\n",
      "  Sharpe Ratio: -0.366\n",
      "  Sortino Ratio: -0.710\n",
      "\n",
      "--- Running Derivative backtest for: NZDUSD (Exit: trailing_sl, Cooldown: 3 bars, Lookback: 7) ---\n",
      "  Total Trades: 458\n",
      "  Win Rate: 22.49% (103 wins)\n",
      "  Total PnL (Points): -2533.00000\n",
      "  Sharpe Ratio: -0.366\n",
      "  Sortino Ratio: -0.710\n",
      "\n",
      "--- Running Derivative backtest for: NZDUSD (Exit: trailing_sl, Cooldown: 3 bars, Lookback: 7) ---\n",
      "  Total Trades: 906\n",
      "  Win Rate: 20.64% (187 wins)\n",
      "  Total PnL (Points): -4475.80000\n",
      "  Sharpe Ratio: -0.606\n",
      "  Sortino Ratio: -1.146\n",
      "\n",
      "--- Running Derivative backtest for: NZDUSD (Exit: time_exit, Cooldown: 3 bars, Lookback: 7) ---\n",
      "  Total Trades: 906\n",
      "  Win Rate: 20.64% (187 wins)\n",
      "  Total PnL (Points): -4475.80000\n",
      "  Sharpe Ratio: -0.606\n",
      "  Sortino Ratio: -1.146\n",
      "\n",
      "--- Running Derivative backtest for: NZDUSD (Exit: time_exit, Cooldown: 3 bars, Lookback: 7) ---\n",
      "  Total Trades: 783\n",
      "  Win Rate: 32.95% (258 wins)\n",
      "  Total PnL (Points): -2076.90000\n",
      "  Sharpe Ratio: -0.184\n",
      "  Sortino Ratio: -0.359\n",
      "\n",
      "===== Processing USDCHF =====\n",
      "\n",
      "--- Running Derivative backtest for: USDCHF (Exit: fixed_rr, Cooldown: 3 bars, Lookback: 7) ---\n",
      "  Total Trades: 783\n",
      "  Win Rate: 32.95% (258 wins)\n",
      "  Total PnL (Points): -2076.90000\n",
      "  Sharpe Ratio: -0.184\n",
      "  Sortino Ratio: -0.359\n",
      "\n",
      "===== Processing USDCHF =====\n",
      "\n",
      "--- Running Derivative backtest for: USDCHF (Exit: fixed_rr, Cooldown: 3 bars, Lookback: 7) ---\n",
      "  Total Trades: 472\n",
      "  Win Rate: 23.94% (113 wins)\n",
      "  Total PnL (Points): -2183.20000\n",
      "  Sharpe Ratio: -0.251\n",
      "  Sortino Ratio: -0.490\n",
      "\n",
      "--- Running Derivative backtest for: USDCHF (Exit: trailing_sl, Cooldown: 3 bars, Lookback: 7) ---\n",
      "  Total Trades: 472\n",
      "  Win Rate: 23.94% (113 wins)\n",
      "  Total PnL (Points): -2183.20000\n",
      "  Sharpe Ratio: -0.251\n",
      "  Sortino Ratio: -0.490\n",
      "\n",
      "--- Running Derivative backtest for: USDCHF (Exit: trailing_sl, Cooldown: 3 bars, Lookback: 7) ---\n",
      "  Total Trades: 868\n",
      "  Win Rate: 24.88% (216 wins)\n",
      "  Total PnL (Points): -3241.30000\n",
      "  Sharpe Ratio: -0.373\n",
      "  Sortino Ratio: -0.834\n",
      "\n",
      "--- Running Derivative backtest for: USDCHF (Exit: time_exit, Cooldown: 3 bars, Lookback: 7) ---\n",
      "  Total Trades: 868\n",
      "  Win Rate: 24.88% (216 wins)\n",
      "  Total PnL (Points): -3241.30000\n",
      "  Sharpe Ratio: -0.373\n",
      "  Sortino Ratio: -0.834\n",
      "\n",
      "--- Running Derivative backtest for: USDCHF (Exit: time_exit, Cooldown: 3 bars, Lookback: 7) ---\n",
      "  Total Trades: 788\n",
      "  Win Rate: 34.64% (273 wins)\n",
      "  Total PnL (Points): -1762.40000\n",
      "  Sharpe Ratio: -0.134\n",
      "  Sortino Ratio: -0.247\n",
      "\n",
      "===== Processing USDJPY =====\n",
      "\n",
      "--- Running Derivative backtest for: USDJPY (Exit: fixed_rr, Cooldown: 3 bars, Lookback: 7) ---\n",
      "  Total Trades: 788\n",
      "  Win Rate: 34.64% (273 wins)\n",
      "  Total PnL (Points): -1762.40000\n",
      "  Sharpe Ratio: -0.134\n",
      "  Sortino Ratio: -0.247\n",
      "\n",
      "===== Processing USDJPY =====\n",
      "\n",
      "--- Running Derivative backtest for: USDJPY (Exit: fixed_rr, Cooldown: 3 bars, Lookback: 7) ---\n",
      "  Total Trades: 472\n",
      "  Win Rate: 23.94% (113 wins)\n",
      "  Total PnL (Points): -2183.20000\n",
      "  Sharpe Ratio: -0.251\n",
      "  Sortino Ratio: -0.490\n",
      "\n",
      "--- Running Derivative backtest for: USDJPY (Exit: trailing_sl, Cooldown: 3 bars, Lookback: 7) ---\n",
      "  Total Trades: 472\n",
      "  Win Rate: 23.94% (113 wins)\n",
      "  Total PnL (Points): -2183.20000\n",
      "  Sharpe Ratio: -0.251\n",
      "  Sortino Ratio: -0.490\n",
      "\n",
      "--- Running Derivative backtest for: USDJPY (Exit: trailing_sl, Cooldown: 3 bars, Lookback: 7) ---\n",
      "  Total Trades: 868\n",
      "  Win Rate: 24.88% (216 wins)\n",
      "  Total PnL (Points): -3241.30000\n",
      "  Sharpe Ratio: -0.373\n",
      "  Sortino Ratio: -0.834\n",
      "\n",
      "--- Running Derivative backtest for: USDJPY (Exit: time_exit, Cooldown: 3 bars, Lookback: 7) ---\n",
      "  Total Trades: 868\n",
      "  Win Rate: 24.88% (216 wins)\n",
      "  Total PnL (Points): -3241.30000\n",
      "  Sharpe Ratio: -0.373\n",
      "  Sortino Ratio: -0.834\n",
      "\n",
      "--- Running Derivative backtest for: USDJPY (Exit: time_exit, Cooldown: 3 bars, Lookback: 7) ---\n",
      "  Total Trades: 788\n",
      "  Win Rate: 34.64% (273 wins)\n",
      "  Total PnL (Points): -1762.40000\n",
      "  Sharpe Ratio: -0.134\n",
      "  Sortino Ratio: -0.247\n",
      "\n",
      "\n",
      "===== Overall Results Comparison =====\n",
      "      pair     strategy  cooldown  total_trades   win_rate  total_pnl  sharpe_ratio  sortino_ratio  rr_ratio  trailing_sl_distance  max_hold_bars  lookback_period  use_atr_filter atr_period atr_ma_period  use_adx_filter adx_period adx_trend_threshold  use_adx_whipsaw_filter adx_whipsaw_threshold  use_adaptive_rr base_rr atr_multiplier_rr\n",
      "0   EURUSD     fixed_rr         3           472  23.940678   -0.21832     -0.250518      -0.490140       2.4                   NaN            NaN                7           False       None          None           False       None                None                   False                  None            False    None              None\n",
      "1   EURUSD  trailing_sl         3           868  24.884793   -0.32413     -0.373292      -0.834442       NaN                0.0015            NaN                7           False       None          None           False       None                None                   False                  None            False    None              None\n",
      "2   EURUSD    time_exit         3           788  34.644670   -0.17624     -0.134027      -0.246823       NaN                   NaN            5.0                7           False       None          None           False       None                None                   False                  None            False    None              None\n",
      "3   AUDUSD     fixed_rr         3           462  20.995671   -0.26586     -0.379640      -0.662172       2.4                   NaN            NaN                7           False       None          None           False       None                None                   False                  None            False    None              None\n",
      "4   AUDUSD  trailing_sl         3           873  23.711340   -0.37139     -0.456819      -0.998313       NaN                0.0015            NaN                7           False       None          None           False       None                None                   False                  None            False    None              None\n",
      "5   AUDUSD    time_exit         3           775  32.774194   -0.19058     -0.157214      -0.288360       NaN                   NaN            5.0                7           False       None          None           False       None                None                   False                  None            False    None              None\n",
      "6   EURGBP     fixed_rr         3           509  22.789784   -0.16465     -0.341910      -0.653491       2.4                   NaN            NaN                7           False       None          None           False       None                None                   False                  None            False    None              None\n",
      "7   EURGBP  trailing_sl         3           599  12.186978   -0.32905     -0.945993      -1.340231       NaN                0.0015            NaN                7           False       None          None           False       None                None                   False                  None            False    None              None\n",
      "8   EURGBP    time_exit         3           812  30.541872   -0.15309     -0.210394      -0.392889       NaN                   NaN            5.0                7           False       None          None           False       None                None                   False                  None            False    None              None\n",
      "9   GBPUSD     fixed_rr         3           467  22.912206   -0.31320     -0.287304      -0.548397       2.4                   NaN            NaN                7           False       None          None           False       None                None                   False                  None            False    None              None\n",
      "10  GBPUSD  trailing_sl         3          1007  30.585899   -0.28439     -0.273649      -0.644620       NaN                0.0015            NaN                7           False       None          None           False       None                None                   False                  None            False    None              None\n",
      "11  GBPUSD    time_exit         3           779  34.531451   -0.23617     -0.141079      -0.265259       NaN                   NaN            5.0                7           False       None          None           False       None                None                   False                  None            False    None              None\n",
      "12  NZDUSD     fixed_rr         3           458  22.489083   -0.25330     -0.365509      -0.710142       2.4                   NaN            NaN                7           False       None          None           False       None                None                   False                  None            False    None              None\n",
      "13  NZDUSD  trailing_sl         3           906  20.640177   -0.44758     -0.606497      -1.145542       NaN                0.0015            NaN                7           False       None          None           False       None                None                   False                  None            False    None              None\n",
      "14  NZDUSD    time_exit         3           783  32.950192   -0.20769     -0.183515      -0.358967       NaN                   NaN            5.0                7           False       None          None           False       None                None                   False                  None            False    None              None\n",
      "15  USDCHF     fixed_rr         3           472  23.940678   -0.21832     -0.250518      -0.490140       2.4                   NaN            NaN                7           False       None          None           False       None                None                   False                  None            False    None              None\n",
      "16  USDCHF  trailing_sl         3           868  24.884793   -0.32413     -0.373292      -0.834442       NaN                0.0015            NaN                7           False       None          None           False       None                None                   False                  None            False    None              None\n",
      "17  USDCHF    time_exit         3           788  34.644670   -0.17624     -0.134027      -0.246823       NaN                   NaN            5.0                7           False       None          None           False       None                None                   False                  None            False    None              None\n",
      "18  USDJPY     fixed_rr         3           472  23.940678   -0.21832     -0.250518      -0.490140       2.4                   NaN            NaN                7           False       None          None           False       None                None                   False                  None            False    None              None\n",
      "19  USDJPY  trailing_sl         3           868  24.884793   -0.32413     -0.373292      -0.834442       NaN                0.0015            NaN                7           False       None          None           False       None                None                   False                  None            False    None              None\n",
      "20  USDJPY    time_exit         3           788  34.644670   -0.17624     -0.134027      -0.246823       NaN                   NaN            5.0                7           False       None          None           False       None                None                   False                  None            False    None              None\n",
      "\n",
      "\n",
      "===== Total Returns for Each Strategy =====\n",
      "strategy\n",
      "fixed_rr      -16519.7\n",
      "time_exit     -13162.5\n",
      "trailing_sl   -24048.0\n",
      "Name: total_pnl_numeric, dtype: float64\n",
      "  Total Trades: 788\n",
      "  Win Rate: 34.64% (273 wins)\n",
      "  Total PnL (Points): -1762.40000\n",
      "  Sharpe Ratio: -0.134\n",
      "  Sortino Ratio: -0.247\n",
      "\n",
      "\n",
      "===== Overall Results Comparison =====\n",
      "      pair     strategy  cooldown  total_trades   win_rate  total_pnl  sharpe_ratio  sortino_ratio  rr_ratio  trailing_sl_distance  max_hold_bars  lookback_period  use_atr_filter atr_period atr_ma_period  use_adx_filter adx_period adx_trend_threshold  use_adx_whipsaw_filter adx_whipsaw_threshold  use_adaptive_rr base_rr atr_multiplier_rr\n",
      "0   EURUSD     fixed_rr         3           472  23.940678   -0.21832     -0.250518      -0.490140       2.4                   NaN            NaN                7           False       None          None           False       None                None                   False                  None            False    None              None\n",
      "1   EURUSD  trailing_sl         3           868  24.884793   -0.32413     -0.373292      -0.834442       NaN                0.0015            NaN                7           False       None          None           False       None                None                   False                  None            False    None              None\n",
      "2   EURUSD    time_exit         3           788  34.644670   -0.17624     -0.134027      -0.246823       NaN                   NaN            5.0                7           False       None          None           False       None                None                   False                  None            False    None              None\n",
      "3   AUDUSD     fixed_rr         3           462  20.995671   -0.26586     -0.379640      -0.662172       2.4                   NaN            NaN                7           False       None          None           False       None                None                   False                  None            False    None              None\n",
      "4   AUDUSD  trailing_sl         3           873  23.711340   -0.37139     -0.456819      -0.998313       NaN                0.0015            NaN                7           False       None          None           False       None                None                   False                  None            False    None              None\n",
      "5   AUDUSD    time_exit         3           775  32.774194   -0.19058     -0.157214      -0.288360       NaN                   NaN            5.0                7           False       None          None           False       None                None                   False                  None            False    None              None\n",
      "6   EURGBP     fixed_rr         3           509  22.789784   -0.16465     -0.341910      -0.653491       2.4                   NaN            NaN                7           False       None          None           False       None                None                   False                  None            False    None              None\n",
      "7   EURGBP  trailing_sl         3           599  12.186978   -0.32905     -0.945993      -1.340231       NaN                0.0015            NaN                7           False       None          None           False       None                None                   False                  None            False    None              None\n",
      "8   EURGBP    time_exit         3           812  30.541872   -0.15309     -0.210394      -0.392889       NaN                   NaN            5.0                7           False       None          None           False       None                None                   False                  None            False    None              None\n",
      "9   GBPUSD     fixed_rr         3           467  22.912206   -0.31320     -0.287304      -0.548397       2.4                   NaN            NaN                7           False       None          None           False       None                None                   False                  None            False    None              None\n",
      "10  GBPUSD  trailing_sl         3          1007  30.585899   -0.28439     -0.273649      -0.644620       NaN                0.0015            NaN                7           False       None          None           False       None                None                   False                  None            False    None              None\n",
      "11  GBPUSD    time_exit         3           779  34.531451   -0.23617     -0.141079      -0.265259       NaN                   NaN            5.0                7           False       None          None           False       None                None                   False                  None            False    None              None\n",
      "12  NZDUSD     fixed_rr         3           458  22.489083   -0.25330     -0.365509      -0.710142       2.4                   NaN            NaN                7           False       None          None           False       None                None                   False                  None            False    None              None\n",
      "13  NZDUSD  trailing_sl         3           906  20.640177   -0.44758     -0.606497      -1.145542       NaN                0.0015            NaN                7           False       None          None           False       None                None                   False                  None            False    None              None\n",
      "14  NZDUSD    time_exit         3           783  32.950192   -0.20769     -0.183515      -0.358967       NaN                   NaN            5.0                7           False       None          None           False       None                None                   False                  None            False    None              None\n",
      "15  USDCHF     fixed_rr         3           472  23.940678   -0.21832     -0.250518      -0.490140       2.4                   NaN            NaN                7           False       None          None           False       None                None                   False                  None            False    None              None\n",
      "16  USDCHF  trailing_sl         3           868  24.884793   -0.32413     -0.373292      -0.834442       NaN                0.0015            NaN                7           False       None          None           False       None                None                   False                  None            False    None              None\n",
      "17  USDCHF    time_exit         3           788  34.644670   -0.17624     -0.134027      -0.246823       NaN                   NaN            5.0                7           False       None          None           False       None                None                   False                  None            False    None              None\n",
      "18  USDJPY     fixed_rr         3           472  23.940678   -0.21832     -0.250518      -0.490140       2.4                   NaN            NaN                7           False       None          None           False       None                None                   False                  None            False    None              None\n",
      "19  USDJPY  trailing_sl         3           868  24.884793   -0.32413     -0.373292      -0.834442       NaN                0.0015            NaN                7           False       None          None           False       None                None                   False                  None            False    None              None\n",
      "20  USDJPY    time_exit         3           788  34.644670   -0.17624     -0.134027      -0.246823       NaN                   NaN            5.0                7           False       None          None           False       None                None                   False                  None            False    None              None\n",
      "\n",
      "\n",
      "===== Total Returns for Each Strategy =====\n",
      "strategy\n",
      "fixed_rr      -16519.7\n",
      "time_exit     -13162.5\n",
      "trailing_sl   -24048.0\n",
      "Name: total_pnl_numeric, dtype: float64\n"
     ]
    }
   ],
   "source": [
    "all_results = []\n",
    "all_trades = {}\n",
    "\n",
    "# Define parameters for strategies\n",
    "TRAIL_PIPS = 0.0015\n",
    "MAX_HOLD = 5\n",
    "RR_RATIO = 2.4\n",
    "\n",
    "for pair in available_pairs:\n",
    "    pair_suffix = pair.lower()\n",
    "    print(f\"\\n===== Processing {pair_suffix.upper()} =====\")\n",
    "\n",
    "    # Fixed R:R\n",
    "    results_fixed, trades_fixed = run_derivative_backtest_for_pair_with_cooldown(\n",
    "        df_original=df, pair_suffix=pair_suffix, exit_strategy='fixed_rr', rr_ratio=RR_RATIO\n",
    "    )\n",
    "    all_results.append(results_fixed)\n",
    "    all_trades[f'{pair_suffix}_fixed_rr'] = trades_fixed\n",
    "\n",
    "    # Trailing Stop Loss\n",
    "    results_trail, trades_trail = run_derivative_backtest_for_pair_with_cooldown(\n",
    "        df_original=df, pair_suffix=pair_suffix, exit_strategy='trailing_sl', trailing_sl_distance=TRAIL_PIPS\n",
    "    )\n",
    "    all_results.append(results_trail)\n",
    "    all_trades[f'{pair_suffix}_trailing_sl'] = trades_trail\n",
    "\n",
    "    # Time-Based Exit\n",
    "    results_time, trades_time = run_derivative_backtest_for_pair_with_cooldown(\n",
    "        df_original=df, pair_suffix=pair_suffix, exit_strategy='time_exit', max_hold_bars=MAX_HOLD\n",
    "    )\n",
    "    all_results.append(results_time)\n",
    "    all_trades[f'{pair_suffix}_time_exit'] = trades_time\n",
    "\n",
    "# Display Comparison\n",
    "print(\"\\n\\n===== Overall Results Comparison =====\")\n",
    "results_df = pd.DataFrame(all_results)\n",
    "print(results_df.to_string())\n",
    "\n",
    "#showing total returns for each strategy\n",
    "print(\"\\n\\n===== Total Returns for Each Strategy =====\")\n",
    "# Convert 'total_pnl' to numeric, coercing errors to NaN\n",
    "results_df['total_pnl_numeric'] = pd.to_numeric(results_df['total_pnl'], errors='coerce')\n",
    "# Group by strategy and sum the numeric PnL, handling potential NaNs\n",
    "total_returns = results_df.groupby('strategy')['total_pnl_numeric'].sum()*10000\n",
    "print(total_returns)\n",
    "# Optional: Save results to CSV"
   ]
  },
  {
   "cell_type": "markdown",
   "id": "463df1a0",
   "metadata": {},
   "source": [
    "## Optimization Experiment: Testing Different Parameters"
   ]
  },
  {
   "cell_type": "code",
   "execution_count": null,
   "id": "6aacee9b",
   "metadata": {},
   "outputs": [
    {
     "name": "stdout",
     "output_type": "stream",
     "text": [
      "\n",
      "\n",
      "===== Testing Optimal EURUSD Parameters (rr=1.5, lookback=13) on All Pairs =====\n",
      "\n",
      "--- Testing on EURUSD ---\n"
     ]
    },
    {
     "ename": "NameError",
     "evalue": "name 'run_derivative_backtest_for_pair' is not defined",
     "output_type": "error",
     "traceback": [
      "\u001b[1;31m---------------------------------------------------------------------------\u001b[0m",
      "\u001b[1;31mNameError\u001b[0m                                 Traceback (most recent call last)",
      "Cell \u001b[1;32mIn[45], line 18\u001b[0m\n\u001b[0;32m     16\u001b[0m pair_suffix \u001b[38;5;241m=\u001b[39m pair\u001b[38;5;241m.\u001b[39mlower()\n\u001b[0;32m     17\u001b[0m \u001b[38;5;28mprint\u001b[39m(\u001b[38;5;124mf\u001b[39m\u001b[38;5;124m\"\u001b[39m\u001b[38;5;130;01m\\n\u001b[39;00m\u001b[38;5;124m--- Testing on \u001b[39m\u001b[38;5;132;01m{\u001b[39;00mpair_suffix\u001b[38;5;241m.\u001b[39mupper()\u001b[38;5;132;01m}\u001b[39;00m\u001b[38;5;124m ---\u001b[39m\u001b[38;5;124m\"\u001b[39m)\n\u001b[1;32m---> 18\u001b[0m results, trades \u001b[38;5;241m=\u001b[39m \u001b[43mrun_derivative_backtest_for_pair\u001b[49m(\n\u001b[0;32m     19\u001b[0m     df_original\u001b[38;5;241m=\u001b[39mdf,\n\u001b[0;32m     20\u001b[0m     pair_suffix\u001b[38;5;241m=\u001b[39mpair_suffix,\n\u001b[0;32m     21\u001b[0m     exit_strategy\u001b[38;5;241m=\u001b[39moptimal_exit_strategy,\n\u001b[0;32m     22\u001b[0m     rr_ratio\u001b[38;5;241m=\u001b[39moptimal_rr,\n\u001b[0;32m     23\u001b[0m     lookback_period\u001b[38;5;241m=\u001b[39moptimal_lookback\n\u001b[0;32m     24\u001b[0m )\n\u001b[0;32m     25\u001b[0m results_optimal_params\u001b[38;5;241m.\u001b[39mappend(results)\n\u001b[0;32m     26\u001b[0m trades_optimal_params[\u001b[38;5;124mf\u001b[39m\u001b[38;5;124m'\u001b[39m\u001b[38;5;132;01m{\u001b[39;00mpair_suffix\u001b[38;5;132;01m}\u001b[39;00m\u001b[38;5;124m_\u001b[39m\u001b[38;5;132;01m{\u001b[39;00moptimal_exit_strategy\u001b[38;5;132;01m}\u001b[39;00m\u001b[38;5;124m'\u001b[39m] \u001b[38;5;241m=\u001b[39m trades \u001b[38;5;66;03m# Optional\u001b[39;00m\n",
      "\u001b[1;31mNameError\u001b[0m: name 'run_derivative_backtest_for_pair' is not defined"
     ]
    }
   ],
   "source": [
    "# --- Test Optimal EURUSD Parameters on All Pairs ---\n",
    "print(\"\\n\\n===== Testing Optimal EURUSD Parameters (rr=1.5, lookback=13) on All Pairs =====\")\n",
    "\n",
    "optimal_rr = 1.5\n",
    "optimal_lookback = 13\n",
    "optimal_exit_strategy = 'fixed_rr'\n",
    "\n",
    "results_optimal_params = []\n",
    "trades_optimal_params = {} # Optional: Store trades if needed later\n",
    "\n",
    "# Assuming 'available_pairs' and 'df' are already defined from previous cells\n",
    "if 'available_pairs' not in locals() or 'df' not in locals():\n",
    "    print(\"Error: 'available_pairs' or 'df' not defined. Please run previous cells.\")\n",
    "else:\n",
    "    for pair in available_pairs:\n",
    "        pair_suffix = pair.lower()\n",
    "        print(f\"\\n--- Testing on {pair_suffix.upper()} ---\")\n",
    "        results, trades = run_derivative_backtest_for_pair(\n",
    "            df_original=df,\n",
    "            pair_suffix=pair_suffix,\n",
    "            exit_strategy=optimal_exit_strategy,\n",
    "            rr_ratio=optimal_rr,\n",
    "            lookback_period=optimal_lookback\n",
    "        )\n",
    "        results_optimal_params.append(results)\n",
    "        trades_optimal_params[f'{pair_suffix}_{optimal_exit_strategy}'] = trades # Optional\n",
    "\n",
    "    # Display Comparison\n",
    "    print(\"\\n\\n===== Results with Optimal EURUSD Parameters (rr=1.5, lookback=13) =====\")\n",
    "    optimal_results_df = pd.DataFrame(results_optimal_params)\n",
    "    print(optimal_results_df.to_string())\n",
    "\n",
    "    # Optional: Analyze the results further, e.g., sort by PnL\n",
    "    print(\"\\n--- Sorted by Total PnL ---\")\n",
    "    # Convert PnL to numeric for sorting, coercing errors\n",
    "    optimal_results_df['total_pnl_numeric'] = pd.to_numeric(optimal_results_df['total_pnl'], errors='coerce')\n",
    "    print(optimal_results_df.sort_values(by='total_pnl_numeric', ascending=False).drop(columns=['total_pnl_numeric']).to_string())"
   ]
  },
  {
   "cell_type": "markdown",
   "id": "cf21ad48",
   "metadata": {},
   "source": [
    "## Optuna Parameter Optimization"
   ]
  },
  {
   "cell_type": "code",
   "execution_count": 33,
   "id": "68c5079c",
   "metadata": {},
   "outputs": [],
   "source": [
    "import optuna\n",
    "\n",
    "# Define the objective function for Optuna\n",
    "def objective(trial, df_optimize): # Add df_optimize as an argument\n",
    "    # --- Parameters to Optimize ---\n",
    "    # Suggest values for the parameters within defined ranges\n",
    "    pair_to_optimize = 'eurusd' # Focus on one pair for optimization\n",
    "    exit_strategy_to_optimize = 'fixed_rr' # Focus on one strategy for this example\n",
    "\n",
    "    # Suggest parameters relevant to the chosen strategy and general setup\n",
    "    lookback_period = trial.suggest_int('lookback_period', 5, 20) # Example range for SL lookback\n",
    "    cooldown_period = trial.suggest_int('cooldown_period_bars', 1, 10) # Example range for cooldown\n",
    "\n",
    "    # --- Optimize Filters ---\n",
    "    use_atr = trial.suggest_categorical('use_atr_filter', [True, False])\n",
    "    atr_p = trial.suggest_int('atr_period', 7, 21) if use_atr else 14 # Only suggest if used\n",
    "    atr_ma_p = trial.suggest_int('atr_ma_period', 10, 50) if use_atr else 20 # Only suggest if used\n",
    "\n",
    "    use_adx_trend = trial.suggest_categorical('use_adx_filter', [True, False])\n",
    "    adx_p_trend = trial.suggest_int('adx_period_trend', 7, 21) if use_adx_trend else 14 # Use different name if optimizing both ADX filters\n",
    "    adx_thresh_trend = trial.suggest_int('adx_trend_threshold', 15, 35) if use_adx_trend else 25\n",
    "\n",
    "    use_adx_whip = trial.suggest_categorical('use_adx_whipsaw_filter', [True, False])\n",
    "    # Use the same period as trend filter or optimize separately?\n",
    "    # Let's use the same period for simplicity here, but could be separate: adx_p_whip = trial.suggest_int(...)\n",
    "    adx_p_whip = adx_p_trend # Use same period as trend filter\n",
    "    adx_thresh_whip = trial.suggest_int('adx_whipsaw_threshold', 10, 25) if use_adx_whip else 20\n",
    "\n",
    "    # --- Optimize Exit Strategy Specific Params ---\n",
    "    if exit_strategy_to_optimize == 'fixed_rr':\n",
    "        use_adaptive = trial.suggest_categorical('use_adaptive_rr', [True, False])\n",
    "        base_rr_val = trial.suggest_float('base_rr', 1.0, 4.0)\n",
    "        atr_mult_rr = trial.suggest_float('atr_multiplier_rr', -0.5, 1.0) if use_adaptive else 0.5 # Only suggest if used\n",
    "        # Use fixed ATR periods for adaptive RR for simplicity, or optimize them too\n",
    "        adaptive_rr_atr_p = 14\n",
    "        adaptive_rr_atr_ma_p = 50\n",
    "        # Assign rr_ratio based on whether adaptive is used\n",
    "        rr_ratio_param = base_rr_val # This is used if adaptive is False, or as base if True\n",
    "        trailing_sl_param = None\n",
    "        max_hold_param = None\n",
    "    elif exit_strategy_to_optimize == 'trailing_sl':\n",
    "        trailing_sl_param = trial.suggest_float('trailing_sl_distance', 0.0005, 0.0030, step=0.0005)\n",
    "        rr_ratio_param = None\n",
    "        max_hold_param = None\n",
    "        use_adaptive = False # Not applicable\n",
    "        base_rr_val = None\n",
    "        atr_mult_rr = None\n",
    "    elif exit_strategy_to_optimize == 'time_exit':\n",
    "        max_hold_param = trial.suggest_int('max_hold_bars', 5, 40)\n",
    "        rr_ratio_param = None\n",
    "        trailing_sl_param = None\n",
    "        use_adaptive = False # Not applicable\n",
    "        base_rr_val = None\n",
    "        atr_mult_rr = None\n",
    "    else:\n",
    "        # Default case or handle error\n",
    "        rr_ratio_param = 2.0\n",
    "        trailing_sl_param = None\n",
    "        max_hold_param = None\n",
    "        use_adaptive = False\n",
    "        base_rr_val = None\n",
    "        atr_mult_rr = None\n",
    "\n",
    "    # --- Run the Backtest ---\n",
    "    # Call your existing backtest function with the suggested parameters\n",
    "    results, _ = run_derivative_backtest_for_pair_with_cooldown(\n",
    "        df_original=df_optimize, # Use the passed in-sample data\n",
    "        pair_suffix=pair_to_optimize,\n",
    "        exit_strategy=exit_strategy_to_optimize,\n",
    "        # General params\n",
    "        lookback_period=lookback_period,\n",
    "        cooldown_period_bars=cooldown_period,\n",
    "        # Filter params\n",
    "        use_atr_filter=use_atr,\n",
    "        atr_period=atr_p,\n",
    "        atr_ma_period=atr_ma_p,\n",
    "        use_adx_filter=use_adx_trend,\n",
    "        adx_period=adx_p_trend, # Assuming same period for both ADX filters\n",
    "        adx_trend_threshold=adx_thresh_trend,\n",
    "        use_adx_whipsaw_filter=use_adx_whip,\n",
    "        adx_whipsaw_threshold=adx_thresh_whip,\n",
    "        # Exit specific params\n",
    "        rr_ratio=rr_ratio_param, # Used as base_rr if use_adaptive is True\n",
    "        trailing_sl_distance=trailing_sl_param,\n",
    "        max_hold_bars=max_hold_param,\n",
    "        # Adaptive RR params (only relevant if exit_strategy is fixed_rr)\n",
    "        use_adaptive_rr=use_adaptive,\n",
    "        base_rr=base_rr_val, # Pass the suggested base_rr\n",
    "        atr_multiplier_rr=atr_mult_rr,\n",
    "        adaptive_rr_atr_period=adaptive_rr_atr_p,\n",
    "        adaptive_rr_atr_ma_period=adaptive_rr_atr_ma_p\n",
    "    )\n",
    "\n",
    "    # --- Return the Metric to Maximize (PnL) ---\n",
    "    pnl = results.get('total_pnl', 0.0)\n",
    "    if not isinstance(pnl, (int, float)) or pd.isna(pnl):\n",
    "        pnl = -1e9 # Penalize heavily if PnL is not valid\n",
    "\n",
    "    num_trades = results.get('total_trades', 0)\n",
    "    if not isinstance(num_trades, int) or num_trades < 5: # Increased minimum trades threshold\n",
    "        return -1e9 # Return a very small number if too few trades\n",
    "\n",
    "    return pnl"
   ]
  },
  {
   "cell_type": "code",
   "execution_count": 45,
   "id": "311f8ecc",
   "metadata": {},
   "outputs": [
    {
     "name": "stderr",
     "output_type": "stream",
     "text": [
      "[I 2025-04-22 01:01:23,019] A new study created in memory with name: no-name-430e43a2-b6ea-4e81-aed3-59152e7c8450\n",
      "[W 2025-04-22 01:01:23,028] Trial 0 failed with parameters: {} because of the following error: TypeError(\"objective() missing 1 required positional argument: 'df_optimize'\").\n",
      "Traceback (most recent call last):\n",
      "  File \"c:\\Users\\singh\\OneDrive\\Desktop\\Finance\\.venv\\lib\\site-packages\\optuna\\study\\_optimize.py\", line 197, in _run_trial\n",
      "    value_or_values = func(trial)\n",
      "TypeError: objective() missing 1 required positional argument: 'df_optimize'\n",
      "[W 2025-04-22 01:01:23,040] Trial 0 failed with value None.\n"
     ]
    },
    {
     "ename": "TypeError",
     "evalue": "objective() missing 1 required positional argument: 'df_optimize'",
     "output_type": "error",
     "traceback": [
      "\u001b[1;31m---------------------------------------------------------------------------\u001b[0m",
      "\u001b[1;31mTypeError\u001b[0m                                 Traceback (most recent call last)",
      "Cell \u001b[1;32mIn[45], line 8\u001b[0m\n\u001b[0;32m      5\u001b[0m \u001b[38;5;66;03m# Run the optimization process\u001b[39;00m\n\u001b[0;32m      6\u001b[0m \u001b[38;5;66;03m# n_trials determines how many different parameter combinations Optuna will test\u001b[39;00m\n\u001b[0;32m      7\u001b[0m n_trials \u001b[38;5;241m=\u001b[39m \u001b[38;5;241m50\u001b[39m \u001b[38;5;66;03m# Adjust as needed (more trials = longer runtime, potentially better results)\u001b[39;00m\n\u001b[1;32m----> 8\u001b[0m \u001b[43mstudy\u001b[49m\u001b[38;5;241;43m.\u001b[39;49m\u001b[43moptimize\u001b[49m\u001b[43m(\u001b[49m\u001b[43mobjective\u001b[49m\u001b[43m,\u001b[49m\u001b[43m \u001b[49m\u001b[43mn_trials\u001b[49m\u001b[38;5;241;43m=\u001b[39;49m\u001b[43mn_trials\u001b[49m\u001b[43m)\u001b[49m\n\u001b[0;32m     10\u001b[0m \u001b[38;5;66;03m# --- Display Best Results ---\u001b[39;00m\n\u001b[0;32m     11\u001b[0m \u001b[38;5;28mprint\u001b[39m(\u001b[38;5;124m\"\u001b[39m\u001b[38;5;130;01m\\n\u001b[39;00m\u001b[38;5;130;01m\\n\u001b[39;00m\u001b[38;5;124m===== Optuna Optimization Results =====\u001b[39m\u001b[38;5;124m\"\u001b[39m)\n",
      "File \u001b[1;32mc:\\Users\\singh\\OneDrive\\Desktop\\Finance\\.venv\\lib\\site-packages\\optuna\\study\\study.py:475\u001b[0m, in \u001b[0;36mStudy.optimize\u001b[1;34m(self, func, n_trials, timeout, n_jobs, catch, callbacks, gc_after_trial, show_progress_bar)\u001b[0m\n\u001b[0;32m    373\u001b[0m \u001b[38;5;28;01mdef\u001b[39;00m\u001b[38;5;250m \u001b[39m\u001b[38;5;21moptimize\u001b[39m(\n\u001b[0;32m    374\u001b[0m     \u001b[38;5;28mself\u001b[39m,\n\u001b[0;32m    375\u001b[0m     func: ObjectiveFuncType,\n\u001b[1;32m   (...)\u001b[0m\n\u001b[0;32m    382\u001b[0m     show_progress_bar: \u001b[38;5;28mbool\u001b[39m \u001b[38;5;241m=\u001b[39m \u001b[38;5;28;01mFalse\u001b[39;00m,\n\u001b[0;32m    383\u001b[0m ) \u001b[38;5;241m-\u001b[39m\u001b[38;5;241m>\u001b[39m \u001b[38;5;28;01mNone\u001b[39;00m:\n\u001b[0;32m    384\u001b[0m \u001b[38;5;250m    \u001b[39m\u001b[38;5;124;03m\"\"\"Optimize an objective function.\u001b[39;00m\n\u001b[0;32m    385\u001b[0m \n\u001b[0;32m    386\u001b[0m \u001b[38;5;124;03m    Optimization is done by choosing a suitable set of hyperparameter values from a given\u001b[39;00m\n\u001b[1;32m   (...)\u001b[0m\n\u001b[0;32m    473\u001b[0m \u001b[38;5;124;03m            If nested invocation of this method occurs.\u001b[39;00m\n\u001b[0;32m    474\u001b[0m \u001b[38;5;124;03m    \"\"\"\u001b[39;00m\n\u001b[1;32m--> 475\u001b[0m     \u001b[43m_optimize\u001b[49m\u001b[43m(\u001b[49m\n\u001b[0;32m    476\u001b[0m \u001b[43m        \u001b[49m\u001b[43mstudy\u001b[49m\u001b[38;5;241;43m=\u001b[39;49m\u001b[38;5;28;43mself\u001b[39;49m\u001b[43m,\u001b[49m\n\u001b[0;32m    477\u001b[0m \u001b[43m        \u001b[49m\u001b[43mfunc\u001b[49m\u001b[38;5;241;43m=\u001b[39;49m\u001b[43mfunc\u001b[49m\u001b[43m,\u001b[49m\n\u001b[0;32m    478\u001b[0m \u001b[43m        \u001b[49m\u001b[43mn_trials\u001b[49m\u001b[38;5;241;43m=\u001b[39;49m\u001b[43mn_trials\u001b[49m\u001b[43m,\u001b[49m\n\u001b[0;32m    479\u001b[0m \u001b[43m        \u001b[49m\u001b[43mtimeout\u001b[49m\u001b[38;5;241;43m=\u001b[39;49m\u001b[43mtimeout\u001b[49m\u001b[43m,\u001b[49m\n\u001b[0;32m    480\u001b[0m \u001b[43m        \u001b[49m\u001b[43mn_jobs\u001b[49m\u001b[38;5;241;43m=\u001b[39;49m\u001b[43mn_jobs\u001b[49m\u001b[43m,\u001b[49m\n\u001b[0;32m    481\u001b[0m \u001b[43m        \u001b[49m\u001b[43mcatch\u001b[49m\u001b[38;5;241;43m=\u001b[39;49m\u001b[38;5;28;43mtuple\u001b[39;49m\u001b[43m(\u001b[49m\u001b[43mcatch\u001b[49m\u001b[43m)\u001b[49m\u001b[43m \u001b[49m\u001b[38;5;28;43;01mif\u001b[39;49;00m\u001b[43m \u001b[49m\u001b[38;5;28;43misinstance\u001b[39;49m\u001b[43m(\u001b[49m\u001b[43mcatch\u001b[49m\u001b[43m,\u001b[49m\u001b[43m \u001b[49m\u001b[43mIterable\u001b[49m\u001b[43m)\u001b[49m\u001b[43m \u001b[49m\u001b[38;5;28;43;01melse\u001b[39;49;00m\u001b[43m \u001b[49m\u001b[43m(\u001b[49m\u001b[43mcatch\u001b[49m\u001b[43m,\u001b[49m\u001b[43m)\u001b[49m\u001b[43m,\u001b[49m\n\u001b[0;32m    482\u001b[0m \u001b[43m        \u001b[49m\u001b[43mcallbacks\u001b[49m\u001b[38;5;241;43m=\u001b[39;49m\u001b[43mcallbacks\u001b[49m\u001b[43m,\u001b[49m\n\u001b[0;32m    483\u001b[0m \u001b[43m        \u001b[49m\u001b[43mgc_after_trial\u001b[49m\u001b[38;5;241;43m=\u001b[39;49m\u001b[43mgc_after_trial\u001b[49m\u001b[43m,\u001b[49m\n\u001b[0;32m    484\u001b[0m \u001b[43m        \u001b[49m\u001b[43mshow_progress_bar\u001b[49m\u001b[38;5;241;43m=\u001b[39;49m\u001b[43mshow_progress_bar\u001b[49m\u001b[43m,\u001b[49m\n\u001b[0;32m    485\u001b[0m \u001b[43m    \u001b[49m\u001b[43m)\u001b[49m\n",
      "File \u001b[1;32mc:\\Users\\singh\\OneDrive\\Desktop\\Finance\\.venv\\lib\\site-packages\\optuna\\study\\_optimize.py:63\u001b[0m, in \u001b[0;36m_optimize\u001b[1;34m(study, func, n_trials, timeout, n_jobs, catch, callbacks, gc_after_trial, show_progress_bar)\u001b[0m\n\u001b[0;32m     61\u001b[0m \u001b[38;5;28;01mtry\u001b[39;00m:\n\u001b[0;32m     62\u001b[0m     \u001b[38;5;28;01mif\u001b[39;00m n_jobs \u001b[38;5;241m==\u001b[39m \u001b[38;5;241m1\u001b[39m:\n\u001b[1;32m---> 63\u001b[0m         \u001b[43m_optimize_sequential\u001b[49m\u001b[43m(\u001b[49m\n\u001b[0;32m     64\u001b[0m \u001b[43m            \u001b[49m\u001b[43mstudy\u001b[49m\u001b[43m,\u001b[49m\n\u001b[0;32m     65\u001b[0m \u001b[43m            \u001b[49m\u001b[43mfunc\u001b[49m\u001b[43m,\u001b[49m\n\u001b[0;32m     66\u001b[0m \u001b[43m            \u001b[49m\u001b[43mn_trials\u001b[49m\u001b[43m,\u001b[49m\n\u001b[0;32m     67\u001b[0m \u001b[43m            \u001b[49m\u001b[43mtimeout\u001b[49m\u001b[43m,\u001b[49m\n\u001b[0;32m     68\u001b[0m \u001b[43m            \u001b[49m\u001b[43mcatch\u001b[49m\u001b[43m,\u001b[49m\n\u001b[0;32m     69\u001b[0m \u001b[43m            \u001b[49m\u001b[43mcallbacks\u001b[49m\u001b[43m,\u001b[49m\n\u001b[0;32m     70\u001b[0m \u001b[43m            \u001b[49m\u001b[43mgc_after_trial\u001b[49m\u001b[43m,\u001b[49m\n\u001b[0;32m     71\u001b[0m \u001b[43m            \u001b[49m\u001b[43mreseed_sampler_rng\u001b[49m\u001b[38;5;241;43m=\u001b[39;49m\u001b[38;5;28;43;01mFalse\u001b[39;49;00m\u001b[43m,\u001b[49m\n\u001b[0;32m     72\u001b[0m \u001b[43m            \u001b[49m\u001b[43mtime_start\u001b[49m\u001b[38;5;241;43m=\u001b[39;49m\u001b[38;5;28;43;01mNone\u001b[39;49;00m\u001b[43m,\u001b[49m\n\u001b[0;32m     73\u001b[0m \u001b[43m            \u001b[49m\u001b[43mprogress_bar\u001b[49m\u001b[38;5;241;43m=\u001b[39;49m\u001b[43mprogress_bar\u001b[49m\u001b[43m,\u001b[49m\n\u001b[0;32m     74\u001b[0m \u001b[43m        \u001b[49m\u001b[43m)\u001b[49m\n\u001b[0;32m     75\u001b[0m     \u001b[38;5;28;01melse\u001b[39;00m:\n\u001b[0;32m     76\u001b[0m         \u001b[38;5;28;01mif\u001b[39;00m n_jobs \u001b[38;5;241m==\u001b[39m \u001b[38;5;241m-\u001b[39m\u001b[38;5;241m1\u001b[39m:\n",
      "File \u001b[1;32mc:\\Users\\singh\\OneDrive\\Desktop\\Finance\\.venv\\lib\\site-packages\\optuna\\study\\_optimize.py:160\u001b[0m, in \u001b[0;36m_optimize_sequential\u001b[1;34m(study, func, n_trials, timeout, catch, callbacks, gc_after_trial, reseed_sampler_rng, time_start, progress_bar)\u001b[0m\n\u001b[0;32m    157\u001b[0m         \u001b[38;5;28;01mbreak\u001b[39;00m\n\u001b[0;32m    159\u001b[0m \u001b[38;5;28;01mtry\u001b[39;00m:\n\u001b[1;32m--> 160\u001b[0m     frozen_trial \u001b[38;5;241m=\u001b[39m \u001b[43m_run_trial\u001b[49m\u001b[43m(\u001b[49m\u001b[43mstudy\u001b[49m\u001b[43m,\u001b[49m\u001b[43m \u001b[49m\u001b[43mfunc\u001b[49m\u001b[43m,\u001b[49m\u001b[43m \u001b[49m\u001b[43mcatch\u001b[49m\u001b[43m)\u001b[49m\n\u001b[0;32m    161\u001b[0m \u001b[38;5;28;01mfinally\u001b[39;00m:\n\u001b[0;32m    162\u001b[0m     \u001b[38;5;66;03m# The following line mitigates memory problems that can be occurred in some\u001b[39;00m\n\u001b[0;32m    163\u001b[0m     \u001b[38;5;66;03m# environments (e.g., services that use computing containers such as GitHub Actions).\u001b[39;00m\n\u001b[0;32m    164\u001b[0m     \u001b[38;5;66;03m# Please refer to the following PR for further details:\u001b[39;00m\n\u001b[0;32m    165\u001b[0m     \u001b[38;5;66;03m# https://github.com/optuna/optuna/pull/325.\u001b[39;00m\n\u001b[0;32m    166\u001b[0m     \u001b[38;5;28;01mif\u001b[39;00m gc_after_trial:\n",
      "File \u001b[1;32mc:\\Users\\singh\\OneDrive\\Desktop\\Finance\\.venv\\lib\\site-packages\\optuna\\study\\_optimize.py:248\u001b[0m, in \u001b[0;36m_run_trial\u001b[1;34m(study, func, catch)\u001b[0m\n\u001b[0;32m    241\u001b[0m         \u001b[38;5;28;01massert\u001b[39;00m \u001b[38;5;28;01mFalse\u001b[39;00m, \u001b[38;5;124m\"\u001b[39m\u001b[38;5;124mShould not reach.\u001b[39m\u001b[38;5;124m\"\u001b[39m\n\u001b[0;32m    243\u001b[0m \u001b[38;5;28;01mif\u001b[39;00m (\n\u001b[0;32m    244\u001b[0m     frozen_trial\u001b[38;5;241m.\u001b[39mstate \u001b[38;5;241m==\u001b[39m TrialState\u001b[38;5;241m.\u001b[39mFAIL\n\u001b[0;32m    245\u001b[0m     \u001b[38;5;129;01mand\u001b[39;00m func_err \u001b[38;5;129;01mis\u001b[39;00m \u001b[38;5;129;01mnot\u001b[39;00m \u001b[38;5;28;01mNone\u001b[39;00m\n\u001b[0;32m    246\u001b[0m     \u001b[38;5;129;01mand\u001b[39;00m \u001b[38;5;129;01mnot\u001b[39;00m \u001b[38;5;28misinstance\u001b[39m(func_err, catch)\n\u001b[0;32m    247\u001b[0m ):\n\u001b[1;32m--> 248\u001b[0m     \u001b[38;5;28;01mraise\u001b[39;00m func_err\n\u001b[0;32m    249\u001b[0m \u001b[38;5;28;01mreturn\u001b[39;00m frozen_trial\n",
      "File \u001b[1;32mc:\\Users\\singh\\OneDrive\\Desktop\\Finance\\.venv\\lib\\site-packages\\optuna\\study\\_optimize.py:197\u001b[0m, in \u001b[0;36m_run_trial\u001b[1;34m(study, func, catch)\u001b[0m\n\u001b[0;32m    195\u001b[0m \u001b[38;5;28;01mwith\u001b[39;00m get_heartbeat_thread(trial\u001b[38;5;241m.\u001b[39m_trial_id, study\u001b[38;5;241m.\u001b[39m_storage):\n\u001b[0;32m    196\u001b[0m     \u001b[38;5;28;01mtry\u001b[39;00m:\n\u001b[1;32m--> 197\u001b[0m         value_or_values \u001b[38;5;241m=\u001b[39m \u001b[43mfunc\u001b[49m\u001b[43m(\u001b[49m\u001b[43mtrial\u001b[49m\u001b[43m)\u001b[49m\n\u001b[0;32m    198\u001b[0m     \u001b[38;5;28;01mexcept\u001b[39;00m exceptions\u001b[38;5;241m.\u001b[39mTrialPruned \u001b[38;5;28;01mas\u001b[39;00m e:\n\u001b[0;32m    199\u001b[0m         \u001b[38;5;66;03m# TODO(mamu): Handle multi-objective cases.\u001b[39;00m\n\u001b[0;32m    200\u001b[0m         state \u001b[38;5;241m=\u001b[39m TrialState\u001b[38;5;241m.\u001b[39mPRUNED\n",
      "\u001b[1;31mTypeError\u001b[0m: objective() missing 1 required positional argument: 'df_optimize'"
     ]
    }
   ],
   "source": [
    "# --- Create and Run the Optuna Study ---\n",
    "# We want to maximize the PnL returned by the objective function\n",
    "study = optuna.create_study(direction='maximize')\n",
    "\n",
    "# Run the optimization process\n",
    "# n_trials determines how many different parameter combinations Optuna will test\n",
    "n_trials = 50 # Adjust as needed (more trials = longer runtime, potentially better results)\n",
    "study.optimize(objective, n_trials=n_trials)\n",
    "\n",
    "# --- Display Best Results ---\n",
    "print(\"\\n\\n===== Optuna Optimization Results =====\")\n",
    "print(f\"Number of finished trials: {len(study.trials)}\")\n",
    "\n",
    "best_trial = study.best_trial\n",
    "print(f\"Best trial value (Max PnL): {best_trial.value:.5f}\")\n",
    "\n",
    "print(\"Best parameters found:\")\n",
    "for key, value in best_trial.params.items():\n",
    "    print(f\"  {key}: {value}\")"
   ]
  },
  {
   "cell_type": "markdown",
   "id": "adb311d8",
   "metadata": {},
   "source": [
    "### Optuna Visualizations (Optional)"
   ]
  },
  {
   "cell_type": "code",
   "execution_count": null,
   "id": "c5f551f8",
   "metadata": {},
   "outputs": [
    {
     "name": "stdout",
     "output_type": "stream",
     "text": [
      "An error occurred during plot generation: Mime type rendering requires nbformat>=4.2.0 but it is not installed\n"
     ]
    }
   ],
   "source": [
    "# Optional: Install visualization libraries if needed\n",
    "# !pip install plotly kaleido\n",
    "\n",
    "try:\n",
    "    # Visualize optimization history\n",
    "    fig1 = optuna.visualization.plot_optimization_history(study)\n",
    "    fig1.show()\n",
    "\n",
    "    # Visualize parameter importance\n",
    "    fig2 = optuna.visualization.plot_param_importances(study)\n",
    "    fig2.show()\n",
    "\n",
    "    # Visualize slices for individual parameters\n",
    "    # Useful to see how PnL changes with each parameter\n",
    "    for param_name in study.best_params.keys():\n",
    "        fig = optuna.visualization.plot_slice(study, params=[param_name])\n",
    "        fig.show()\n",
    "\n",
    "except ImportError:\n",
    "    print(\"\\nCould not generate Optuna plots. Please install plotly and kaleido:\")\n",
    "    print(\"pip install plotly kaleido\")\n",
    "except Exception as e:\n",
    "    print(f\"An error occurred during plot generation: {e}\")"
   ]
  },
  {
   "cell_type": "markdown",
   "id": "8eed93a3",
   "metadata": {},
   "source": [
    "## Backtesting with yfinance Data"
   ]
  },
  {
   "cell_type": "code",
   "execution_count": 35,
   "id": "bdd6889c",
   "metadata": {},
   "outputs": [
    {
     "name": "stdout",
     "output_type": "stream",
     "text": [
      "Fetching 1h data for EURUSD=X over the last 1y...\n"
     ]
    },
    {
     "name": "stderr",
     "output_type": "stream",
     "text": [
      "[*********************100%***********************]  1 of 1 completed"
     ]
    },
    {
     "name": "stdout",
     "output_type": "stream",
     "text": [
      "Successfully downloaded 6177 data points.\n",
      "Price                         Close      High       Low      Open   Volume\n",
      "Ticker                     EURUSD=X  EURUSD=X  EURUSD=X  EURUSD=X EURUSD=X\n",
      "Datetime                                                                  \n",
      "2024-04-21 23:00:00+00:00  1.066098  1.066439  1.066098  1.066212        0\n",
      "2024-04-22 00:00:00+00:00  1.065644  1.066667  1.065530  1.066098        0\n",
      "2024-04-22 01:00:00+00:00  1.067008  1.067236  1.065644  1.065644        0\n",
      "2024-04-22 02:00:00+00:00  1.066780  1.067350  1.066667  1.067122        0\n",
      "2024-04-22 03:00:00+00:00  1.066439  1.066780  1.066325  1.066667        0\n"
     ]
    },
    {
     "name": "stderr",
     "output_type": "stream",
     "text": [
      "\n"
     ]
    }
   ],
   "source": [
    "import yfinance as yf\n",
    "\n",
    "# --- Define Ticker and Parameters ---\n",
    "ticker = 'EURUSD=X' # Example: EUR/USD Forex pair from Yahoo Finance\n",
    "# ticker = 'AAPL'   # Example: Apple stock\n",
    "period = '1y'       # e.g., '1d', '5d', '1mo', '3mo', '6mo', '1y', '2y', '5y', '10y', 'ytd', 'max'\n",
    "interval = '1h'     # e.g., '1m', '2m', '5m', '15m', '30m', '60m', '90m', '1h', '1d', '5d', '1wk', '1mo', '3mo'\n",
    "\n",
    "print(f\"Fetching {interval} data for {ticker} over the last {period}...\")\n",
    "df_yf = yf.download(ticker, period=period, interval=interval)\n",
    "\n",
    "if df_yf.empty:\n",
    "    print(f\"Could not download data for {ticker}. Check ticker symbol, period, and interval.\")\n",
    "else:\n",
    "    print(f\"Successfully downloaded {len(df_yf)} data points.\")\n",
    "    print(df_yf.head())"
   ]
  },
  {
   "cell_type": "code",
   "execution_count": 36,
   "id": "4028bacf",
   "metadata": {},
   "outputs": [
    {
     "name": "stdout",
     "output_type": "stream",
     "text": [
      "Using suffix: eurusd\n",
      "Adapted DataFrame head:\n",
      "                           open_eurusd  high_eurusd  low_eurusd  close_eurusd\n",
      "Datetime                                                                     \n",
      "2024-04-21 23:00:00+00:00     1.066212     1.066439    1.066098      1.066098\n",
      "2024-04-22 00:00:00+00:00     1.066098     1.066667    1.065530      1.065644\n",
      "2024-04-22 01:00:00+00:00     1.065644     1.067236    1.065644      1.067008\n",
      "2024-04-22 02:00:00+00:00     1.067122     1.067350    1.066667      1.066780\n",
      "2024-04-22 03:00:00+00:00     1.066667     1.066780    1.066325      1.066439\n"
     ]
    }
   ],
   "source": [
    "# --- Adapt yfinance Data to Match Backtester Expectations ---\n",
    "if not df_yf.empty:\n",
    "    # Create a suffix based on the ticker (e.g., 'eurusd' from 'EURUSD=X')\n",
    "    # You might need more robust parsing for different ticker types\n",
    "    pair_suffix_yf = ticker.split('=')[0].lower()\n",
    "    print(f\"Using suffix: {pair_suffix_yf}\")\n",
    "\n",
    "    # Rename columns to the format expected by the backtester\n",
    "    df_yf_adapted = df_yf[['Open', 'High', 'Low', 'Close']].copy() # Select only OHLC\n",
    "    df_yf_adapted.columns = [\n",
    "        f'open_{pair_suffix_yf}',\n",
    "        f'high_{pair_suffix_yf}',\n",
    "        f'low_{pair_suffix_yf}',\n",
    "        f'close_{pair_suffix_yf}'\n",
    "    ]\n",
    "\n",
    "    # The index is already datetime, which is good.\n",
    "    print(\"Adapted DataFrame head:\")\n",
    "    print(df_yf_adapted.head())\n",
    "else:\n",
    "    print(\"Skipping adaptation as yfinance data failed to download.\")"
   ]
  },
  {
   "cell_type": "code",
   "execution_count": 37,
   "id": "8be0fea8",
   "metadata": {},
   "outputs": [
    {
     "name": "stdout",
     "output_type": "stream",
     "text": [
      "\n",
      "===== Running Backtest on EURUSD yfinance data =====\n",
      "\n",
      "--- Running Derivative backtest for: EURUSD (Exit: fixed_rr, Cooldown: 3 bars, Lookback: 14) ---\n",
      "  Total Trades: 355\n",
      "  Win Rate: 22.25% (79 wins)\n",
      "  Total PnL (Points): -2236.31501\n",
      "  Sharpe Ratio: -0.311\n",
      "  Sortino Ratio: -0.592\n",
      "\n",
      "--- Running Derivative backtest for: EURUSD (Exit: trailing_sl, Cooldown: 3 bars, Lookback: 14) ---\n",
      "  Total Trades: 355\n",
      "  Win Rate: 22.25% (79 wins)\n",
      "  Total PnL (Points): -2236.31501\n",
      "  Sharpe Ratio: -0.311\n",
      "  Sortino Ratio: -0.592\n",
      "\n",
      "--- Running Derivative backtest for: EURUSD (Exit: trailing_sl, Cooldown: 3 bars, Lookback: 14) ---\n",
      "  Total Trades: 777\n",
      "  Win Rate: 27.54% (214 wins)\n",
      "  Total PnL (Points): -2834.92908\n",
      "  Sharpe Ratio: -0.317\n",
      "  Sortino Ratio: -0.767\n",
      "\n",
      "--- Running Derivative backtest for: EURUSD (Exit: time_exit, Cooldown: 3 bars, Lookback: 14) ---\n",
      "  Total Trades: 777\n",
      "  Win Rate: 27.54% (214 wins)\n",
      "  Total PnL (Points): -2834.92908\n",
      "  Sharpe Ratio: -0.317\n",
      "  Sortino Ratio: -0.767\n",
      "\n",
      "--- Running Derivative backtest for: EURUSD (Exit: time_exit, Cooldown: 3 bars, Lookback: 14) ---\n",
      "  Total Trades: 743\n",
      "  Win Rate: 37.01% (275 wins)\n",
      "  Total PnL (Points): -1259.57251\n",
      "  Sharpe Ratio: -0.086\n",
      "  Sortino Ratio: -0.157\n",
      "\n",
      "\n",
      "===== yfinance Backtest Results Comparison =====\n",
      "     pair     strategy  cooldown  total_trades   win_rate  total_pnl  sharpe_ratio  sortino_ratio  rr_ratio  trailing_sl_distance  max_hold_bars  lookback_period  use_atr_filter atr_period atr_ma_period  use_adx_filter adx_period adx_trend_threshold  use_adx_whipsaw_filter adx_whipsaw_threshold  use_adaptive_rr base_rr atr_multiplier_rr\n",
      "0  EURUSD     fixed_rr         3           355  22.253521  -0.223632     -0.311127      -0.591634       1.7                   NaN            NaN               14           False       None          None           False       None                None                   False                  None            False    None              None\n",
      "1  EURUSD  trailing_sl         3           777  27.541828  -0.283493     -0.316858      -0.766667       NaN                0.0015            NaN               14           False       None          None           False       None                None                   False                  None            False    None              None\n",
      "2  EURUSD    time_exit         3           743  37.012113  -0.125957     -0.085525      -0.156750       NaN                   NaN            5.0               14           False       None          None           False       None                None                   False                  None            False    None              None\n",
      "  Total Trades: 743\n",
      "  Win Rate: 37.01% (275 wins)\n",
      "  Total PnL (Points): -1259.57251\n",
      "  Sharpe Ratio: -0.086\n",
      "  Sortino Ratio: -0.157\n",
      "\n",
      "\n",
      "===== yfinance Backtest Results Comparison =====\n",
      "     pair     strategy  cooldown  total_trades   win_rate  total_pnl  sharpe_ratio  sortino_ratio  rr_ratio  trailing_sl_distance  max_hold_bars  lookback_period  use_atr_filter atr_period atr_ma_period  use_adx_filter adx_period adx_trend_threshold  use_adx_whipsaw_filter adx_whipsaw_threshold  use_adaptive_rr base_rr atr_multiplier_rr\n",
      "0  EURUSD     fixed_rr         3           355  22.253521  -0.223632     -0.311127      -0.591634       1.7                   NaN            NaN               14           False       None          None           False       None                None                   False                  None            False    None              None\n",
      "1  EURUSD  trailing_sl         3           777  27.541828  -0.283493     -0.316858      -0.766667       NaN                0.0015            NaN               14           False       None          None           False       None                None                   False                  None            False    None              None\n",
      "2  EURUSD    time_exit         3           743  37.012113  -0.125957     -0.085525      -0.156750       NaN                   NaN            5.0               14           False       None          None           False       None                None                   False                  None            False    None              None\n"
     ]
    }
   ],
   "source": [
    "# --- Run Backtest on Adapted yfinance Data ---\n",
    "if not df_yf.empty:\n",
    "    # Define parameters for the strategy (can reuse or redefine)\n",
    "    TRAIL_PIPS_YF = 0.0015 # Adjust if needed based on the asset's volatility\n",
    "    MAX_HOLD_YF = 5      # Adjust if needed\n",
    "    RR_RATIO_YF = 1.7  # Adjust if needed\n",
    "    LOOKBACK_YF = 14      # Adjust if needed\n",
    "    COOLDOWN_YF = 3     # Adjust if needed\n",
    "\n",
    "    yf_results = []\n",
    "    yf_trades = {}\n",
    "\n",
    "    print(f\"\\n===== Running Backtest on {pair_suffix_yf.upper()} yfinance data =====\")\n",
    "\n",
    "    # Fixed R:R\n",
    "    results_fixed_yf, trades_fixed_yf = run_derivative_backtest_for_pair_with_cooldown(\n",
    "        df_original=df_yf_adapted, # Use the adapted yfinance DataFrame\n",
    "        pair_suffix=pair_suffix_yf, # Use the derived suffix\n",
    "        exit_strategy='fixed_rr',\n",
    "        rr_ratio=RR_RATIO_YF,\n",
    "        lookback_period=LOOKBACK_YF,\n",
    "        cooldown_period_bars=COOLDOWN_YF\n",
    "    )\n",
    "    yf_results.append(results_fixed_yf)\n",
    "    yf_trades[f'{pair_suffix_yf}_fixed_rr'] = trades_fixed_yf\n",
    "\n",
    "    # Trailing Stop Loss\n",
    "    results_trail_yf, trades_trail_yf = run_derivative_backtest_for_pair_with_cooldown(\n",
    "        df_original=df_yf_adapted,\n",
    "        pair_suffix=pair_suffix_yf,\n",
    "        exit_strategy='trailing_sl',\n",
    "        trailing_sl_distance=TRAIL_PIPS_YF,\n",
    "        lookback_period=LOOKBACK_YF,\n",
    "        cooldown_period_bars=COOLDOWN_YF\n",
    "    )\n",
    "    yf_results.append(results_trail_yf)\n",
    "    yf_trades[f'{pair_suffix_yf}_trailing_sl'] = trades_trail_yf\n",
    "\n",
    "    # Time-Based Exit\n",
    "    results_time_yf, trades_time_yf = run_derivative_backtest_for_pair_with_cooldown(\n",
    "        df_original=df_yf_adapted,\n",
    "        pair_suffix=pair_suffix_yf,\n",
    "        exit_strategy='time_exit',\n",
    "        max_hold_bars=MAX_HOLD_YF,\n",
    "        lookback_period=LOOKBACK_YF,\n",
    "        cooldown_period_bars=COOLDOWN_YF\n",
    "    )\n",
    "    yf_results.append(results_time_yf)\n",
    "    yf_trades[f'{pair_suffix_yf}_time_exit'] = trades_time_yf\n",
    "\n",
    "    # Display Comparison for yfinance data\n",
    "    print(\"\\n\\n===== yfinance Backtest Results Comparison =====\")\n",
    "    results_df_yf = pd.DataFrame(yf_results)\n",
    "    print(results_df_yf.to_string())\n",
    "else:\n",
    "    print(\"Skipping backtest as yfinance data failed to download.\")"
   ]
  },
  {
   "cell_type": "code",
   "execution_count": 38,
   "id": "dbdd6a11",
   "metadata": {},
   "outputs": [
    {
     "name": "stderr",
     "output_type": "stream",
     "text": [
      "[I 2025-04-21 23:09:01,250] A new study created in memory with name: wf_run_1\n"
     ]
    },
    {
     "name": "stdout",
     "output_type": "stream",
     "text": [
      "Starting Walk-Forward Analysis...\n",
      "Optimize Duration: 180 days 00:00:00\n",
      "Test Duration: 90 days 00:00:00\n",
      "Step Duration: 90 days 00:00:00\n",
      "------------------------------\n",
      "\\n===== Walk-Forward Run 1 =====\n",
      "Optimize Period: 2024-04-21 to 2024-10-18\n",
      "Test Period    : 2024-10-18 to 2025-01-16\n",
      "  Running Optuna (25 trials) on optimization data...\n",
      "\n",
      "--- Running Derivative backtest for: EURUSD (Exit: fixed_rr AdaptiveRR, Cooldown: 4 bars, Lookback: 18) Filters: ATR>35MA, ADX>29, ADX>=19 ---\n"
     ]
    },
    {
     "name": "stderr",
     "output_type": "stream",
     "text": [
      "[I 2025-04-21 23:09:01,634] Trial 0 finished with value: -0.04803743267699789 and parameters: {'lookback_period': 18, 'cooldown_period_bars': 4, 'use_atr_filter': True, 'atr_period': 11, 'atr_ma_period': 35, 'use_adx_filter': True, 'adx_period_trend': 20, 'adx_trend_threshold': 29, 'use_adx_whipsaw_filter': True, 'adx_whipsaw_threshold': 19, 'use_adaptive_rr': True, 'base_rr': 3.2505835208118365, 'atr_multiplier_rr': 0.17024035489636968}. Best is trial 0 with value: -0.04803743267699789.\n"
     ]
    },
    {
     "name": "stdout",
     "output_type": "stream",
     "text": [
      "  Total Trades: 24\n",
      "  Win Rate: 12.50% (3 wins)\n",
      "  Total PnL (Points): -480.37433\n",
      "  Sharpe Ratio: -0.756\n",
      "  Sortino Ratio: -0.969\n",
      "\n",
      "--- Running Derivative backtest for: EURUSD (Exit: fixed_rr AdaptiveRR, Cooldown: 6 bars, Lookback: 7) Filters: ATR>41MA ---\n"
     ]
    },
    {
     "name": "stderr",
     "output_type": "stream",
     "text": [
      "[I 2025-04-21 23:09:01,869] Trial 1 finished with value: -0.06959971315201852 and parameters: {'lookback_period': 7, 'cooldown_period_bars': 6, 'use_atr_filter': True, 'atr_period': 8, 'atr_ma_period': 41, 'use_adx_filter': False, 'use_adx_whipsaw_filter': False, 'use_adaptive_rr': True, 'base_rr': 1.5146917352031113, 'atr_multiplier_rr': 0.25063983921115307}. Best is trial 0 with value: -0.04803743267699789.\n"
     ]
    },
    {
     "name": "stdout",
     "output_type": "stream",
     "text": [
      "  Total Trades: 121\n",
      "  Win Rate: 25.62% (31 wins)\n",
      "  Total PnL (Points): -695.99713\n",
      "  Sharpe Ratio: -0.288\n",
      "  Sortino Ratio: -0.588\n",
      "\n",
      "--- Running Derivative backtest for: EURUSD (Exit: fixed_rr, Cooldown: 9 bars, Lookback: 7) Filters: ADX>28, ADX>=22 ---\n"
     ]
    },
    {
     "name": "stderr",
     "output_type": "stream",
     "text": [
      "[I 2025-04-21 23:09:02,104] Trial 2 finished with value: -0.04687529498215404 and parameters: {'lookback_period': 7, 'cooldown_period_bars': 9, 'use_atr_filter': False, 'use_adx_filter': True, 'adx_period_trend': 14, 'adx_trend_threshold': 28, 'use_adx_whipsaw_filter': True, 'adx_whipsaw_threshold': 22, 'use_adaptive_rr': False, 'base_rr': 1.2428777514981975}. Best is trial 2 with value: -0.04687529498215404.\n"
     ]
    },
    {
     "name": "stdout",
     "output_type": "stream",
     "text": [
      "  Total Trades: 80\n",
      "  Win Rate: 30.00% (24 wins)\n",
      "  Total PnL (Points): -468.75295\n",
      "  Sharpe Ratio: -0.333\n",
      "  Sortino Ratio: -0.555\n",
      "\n",
      "--- Running Derivative backtest for: EURUSD (Exit: fixed_rr AdaptiveRR, Cooldown: 1 bars, Lookback: 15) Filters: ADX>=18 ---\n"
     ]
    },
    {
     "name": "stderr",
     "output_type": "stream",
     "text": [
      "[I 2025-04-21 23:09:02,370] Trial 3 finished with value: -0.07910697539144262 and parameters: {'lookback_period': 15, 'cooldown_period_bars': 1, 'use_atr_filter': False, 'use_adx_filter': False, 'use_adx_whipsaw_filter': True, 'adx_whipsaw_threshold': 18, 'use_adaptive_rr': True, 'base_rr': 1.1759107579291688, 'atr_multiplier_rr': -0.013128510073337651}. Best is trial 2 with value: -0.04687529498215404.\n"
     ]
    },
    {
     "name": "stdout",
     "output_type": "stream",
     "text": [
      "  Total Trades: 178\n",
      "  Win Rate: 28.65% (51 wins)\n",
      "  Total PnL (Points): -791.06975\n",
      "  Sharpe Ratio: -0.308\n",
      "  Sortino Ratio: -0.590\n",
      "\n",
      "--- Running Derivative backtest for: EURUSD (Exit: fixed_rr AdaptiveRR, Cooldown: 5 bars, Lookback: 15) Filters: ATR>13MA ---\n"
     ]
    },
    {
     "name": "stderr",
     "output_type": "stream",
     "text": [
      "[I 2025-04-21 23:09:02,751] Trial 4 finished with value: -0.08093533030976996 and parameters: {'lookback_period': 15, 'cooldown_period_bars': 5, 'use_atr_filter': True, 'atr_period': 7, 'atr_ma_period': 13, 'use_adx_filter': False, 'use_adx_whipsaw_filter': False, 'use_adaptive_rr': True, 'base_rr': 3.2057003538519044, 'atr_multiplier_rr': -0.3718154712579519}. Best is trial 2 with value: -0.04687529498215404.\n"
     ]
    },
    {
     "name": "stdout",
     "output_type": "stream",
     "text": [
      "  Total Trades: 96\n",
      "  Win Rate: 13.54% (13 wins)\n",
      "  Total PnL (Points): -809.35330\n",
      "  Sharpe Ratio: -0.421\n",
      "  Sortino Ratio: -0.962\n",
      "\n",
      "--- Running Derivative backtest for: EURUSD (Exit: fixed_rr AdaptiveRR, Cooldown: 2 bars, Lookback: 15) Filters: ATR>45MA, ADX>31 ---\n"
     ]
    },
    {
     "name": "stderr",
     "output_type": "stream",
     "text": [
      "[I 2025-04-21 23:09:03,182] Trial 5 finished with value: -0.07972072922803686 and parameters: {'lookback_period': 15, 'cooldown_period_bars': 2, 'use_atr_filter': True, 'atr_period': 10, 'atr_ma_period': 45, 'use_adx_filter': True, 'adx_period_trend': 9, 'adx_trend_threshold': 31, 'use_adx_whipsaw_filter': False, 'use_adaptive_rr': True, 'base_rr': 1.5621913673675765, 'atr_multiplier_rr': 0.5804265835515661}. Best is trial 2 with value: -0.04687529498215404.\n"
     ]
    },
    {
     "name": "stdout",
     "output_type": "stream",
     "text": [
      "  Total Trades: 76\n",
      "  Win Rate: 21.05% (16 wins)\n",
      "  Total PnL (Points): -797.20729\n",
      "  Sharpe Ratio: -0.449\n",
      "  Sortino Ratio: -0.700\n",
      "\n",
      "--- Running Derivative backtest for: EURUSD (Exit: fixed_rr AdaptiveRR, Cooldown: 8 bars, Lookback: 15) Filters: ADX>34, ADX>=23 ---\n"
     ]
    },
    {
     "name": "stderr",
     "output_type": "stream",
     "text": [
      "[I 2025-04-21 23:09:03,652] Trial 6 finished with value: -0.06655703784708966 and parameters: {'lookback_period': 15, 'cooldown_period_bars': 8, 'use_atr_filter': False, 'use_adx_filter': True, 'adx_period_trend': 10, 'adx_trend_threshold': 34, 'use_adx_whipsaw_filter': True, 'adx_whipsaw_threshold': 23, 'use_adaptive_rr': True, 'base_rr': 2.000027425151888, 'atr_multiplier_rr': 0.9709959938513626}. Best is trial 2 with value: -0.04687529498215404.\n"
     ]
    },
    {
     "name": "stdout",
     "output_type": "stream",
     "text": [
      "  Total Trades: 56\n",
      "  Win Rate: 17.86% (10 wins)\n",
      "  Total PnL (Points): -665.57038\n",
      "  Sharpe Ratio: -0.500\n",
      "  Sortino Ratio: -0.724\n",
      "\n",
      "--- Running Derivative backtest for: EURUSD (Exit: fixed_rr AdaptiveRR, Cooldown: 7 bars, Lookback: 10) Filters: ADX>23, ADX>=25 ---\n"
     ]
    },
    {
     "name": "stderr",
     "output_type": "stream",
     "text": [
      "[I 2025-04-21 23:09:04,167] Trial 7 finished with value: -0.09269828924489953 and parameters: {'lookback_period': 10, 'cooldown_period_bars': 7, 'use_atr_filter': False, 'use_adx_filter': True, 'adx_period_trend': 12, 'adx_trend_threshold': 23, 'use_adx_whipsaw_filter': True, 'adx_whipsaw_threshold': 25, 'use_adaptive_rr': True, 'base_rr': 3.2688481056338228, 'atr_multiplier_rr': 0.8745059162911688}. Best is trial 2 with value: -0.04687529498215404.\n"
     ]
    },
    {
     "name": "stdout",
     "output_type": "stream",
     "text": [
      "  Total Trades: 91\n",
      "  Win Rate: 9.89% (9 wins)\n",
      "  Total PnL (Points): -926.98289\n",
      "  Sharpe Ratio: -0.581\n",
      "  Sortino Ratio: -1.071\n",
      "\n",
      "--- Running Derivative backtest for: EURUSD (Exit: fixed_rr AdaptiveRR, Cooldown: 7 bars, Lookback: 15) Filters: ADX>=19 ---\n"
     ]
    },
    {
     "name": "stderr",
     "output_type": "stream",
     "text": [
      "[I 2025-04-21 23:09:04,636] Trial 8 finished with value: -0.07887351690472855 and parameters: {'lookback_period': 15, 'cooldown_period_bars': 7, 'use_atr_filter': False, 'use_adx_filter': False, 'use_adx_whipsaw_filter': True, 'adx_whipsaw_threshold': 19, 'use_adaptive_rr': True, 'base_rr': 1.5841989354247776, 'atr_multiplier_rr': -0.05107025418256128}. Best is trial 2 with value: -0.04687529498215404.\n"
     ]
    },
    {
     "name": "stdout",
     "output_type": "stream",
     "text": [
      "  Total Trades: 98\n",
      "  Win Rate: 19.39% (19 wins)\n",
      "  Total PnL (Points): -788.73517\n",
      "  Sharpe Ratio: -0.431\n",
      "  Sortino Ratio: -0.782\n",
      "\n",
      "--- Running Derivative backtest for: EURUSD (Exit: fixed_rr, Cooldown: 5 bars, Lookback: 8) Filters: ATR>15MA, ADX>28, ADX>=10 ---\n"
     ]
    },
    {
     "name": "stderr",
     "output_type": "stream",
     "text": [
      "[I 2025-04-21 23:09:05,161] Trial 9 finished with value: -0.07469626229473758 and parameters: {'lookback_period': 8, 'cooldown_period_bars': 5, 'use_atr_filter': True, 'atr_period': 9, 'atr_ma_period': 15, 'use_adx_filter': True, 'adx_period_trend': 17, 'adx_trend_threshold': 28, 'use_adx_whipsaw_filter': True, 'adx_whipsaw_threshold': 10, 'use_adaptive_rr': False, 'base_rr': 2.1420682558502557}. Best is trial 2 with value: -0.04687529498215404.\n"
     ]
    },
    {
     "name": "stdout",
     "output_type": "stream",
     "text": [
      "  Total Trades: 46\n",
      "  Win Rate: 15.22% (7 wins)\n",
      "  Total PnL (Points): -746.96262\n",
      "  Sharpe Ratio: -0.585\n",
      "  Sortino Ratio: -0.781\n",
      "\n",
      "--- Running Derivative backtest for: EURUSD (Exit: fixed_rr, Cooldown: 10 bars, Lookback: 5) Filters: ADX>16 ---\n"
     ]
    },
    {
     "name": "stderr",
     "output_type": "stream",
     "text": [
      "[I 2025-04-21 23:09:05,635] Trial 10 finished with value: -0.0504250023170838 and parameters: {'lookback_period': 5, 'cooldown_period_bars': 10, 'use_atr_filter': False, 'use_adx_filter': True, 'adx_period_trend': 15, 'adx_trend_threshold': 16, 'use_adx_whipsaw_filter': False, 'use_adaptive_rr': False, 'base_rr': 2.621728900605985}. Best is trial 2 with value: -0.04687529498215404.\n"
     ]
    },
    {
     "name": "stdout",
     "output_type": "stream",
     "text": [
      "  Total Trades: 138\n",
      "  Win Rate: 24.64% (34 wins)\n",
      "  Total PnL (Points): -504.25002\n",
      "  Sharpe Ratio: -0.205\n",
      "  Sortino Ratio: -0.426\n",
      "\n",
      "--- Running Derivative backtest for: EURUSD (Exit: fixed_rr, Cooldown: 3 bars, Lookback: 20) Filters: ATR>31MA, ADX>24, ADX>=21 ---\n"
     ]
    },
    {
     "name": "stderr",
     "output_type": "stream",
     "text": [
      "[I 2025-04-21 23:09:06,279] Trial 11 finished with value: -0.05600943921229007 and parameters: {'lookback_period': 20, 'cooldown_period_bars': 3, 'use_atr_filter': True, 'atr_period': 17, 'atr_ma_period': 31, 'use_adx_filter': True, 'adx_period_trend': 20, 'adx_trend_threshold': 24, 'use_adx_whipsaw_filter': True, 'adx_whipsaw_threshold': 21, 'use_adaptive_rr': False, 'base_rr': 3.874524414266139}. Best is trial 2 with value: -0.04687529498215404.\n"
     ]
    },
    {
     "name": "stdout",
     "output_type": "stream",
     "text": [
      "  Total Trades: 39\n",
      "  Win Rate: 5.13% (2 wins)\n",
      "  Total PnL (Points): -560.09439\n",
      "  Sharpe Ratio: -0.855\n",
      "  Sortino Ratio: -1.413\n",
      "\n",
      "--- Running Derivative backtest for: EURUSD (Exit: fixed_rr, Cooldown: 10 bars, Lookback: 20) Filters: ATR>29MA, ADX>28, ADX>=14 ---\n"
     ]
    },
    {
     "name": "stderr",
     "output_type": "stream",
     "text": [
      "[I 2025-04-21 23:09:06,914] Trial 12 finished with value: -0.02291906302006086 and parameters: {'lookback_period': 20, 'cooldown_period_bars': 10, 'use_atr_filter': True, 'atr_period': 14, 'atr_ma_period': 29, 'use_adx_filter': True, 'adx_period_trend': 21, 'adx_trend_threshold': 28, 'use_adx_whipsaw_filter': True, 'adx_whipsaw_threshold': 14, 'use_adaptive_rr': False, 'base_rr': 2.9564587067701846}. Best is trial 12 with value: -0.02291906302006086.\n"
     ]
    },
    {
     "name": "stdout",
     "output_type": "stream",
     "text": [
      "  Total Trades: 20\n",
      "  Win Rate: 20.00% (4 wins)\n",
      "  Total PnL (Points): -229.19063\n",
      "  Sharpe Ratio: -0.207\n",
      "  Sortino Ratio: -0.484\n",
      "\n",
      "--- Running Derivative backtest for: EURUSD (Exit: fixed_rr, Cooldown: 10 bars, Lookback: 11) Filters: ADX>21, ADX>=13 ---\n"
     ]
    },
    {
     "name": "stderr",
     "output_type": "stream",
     "text": [
      "[I 2025-04-21 23:09:07,459] Trial 13 finished with value: -0.03982093601670211 and parameters: {'lookback_period': 11, 'cooldown_period_bars': 10, 'use_atr_filter': False, 'use_adx_filter': True, 'adx_period_trend': 16, 'adx_trend_threshold': 21, 'use_adx_whipsaw_filter': True, 'adx_whipsaw_threshold': 13, 'use_adaptive_rr': False, 'base_rr': 2.684847528220969}. Best is trial 12 with value: -0.02291906302006086.\n"
     ]
    },
    {
     "name": "stdout",
     "output_type": "stream",
     "text": [
      "  Total Trades: 83\n",
      "  Win Rate: 20.48% (17 wins)\n",
      "  Total PnL (Points): -398.20936\n",
      "  Sharpe Ratio: -0.223\n",
      "  Sortino Ratio: -0.492\n",
      "\n",
      "--- Running Derivative backtest for: EURUSD (Exit: fixed_rr, Cooldown: 10 bars, Lookback: 11) Filters: ADX>19, ADX>=13 ---\n"
     ]
    },
    {
     "name": "stderr",
     "output_type": "stream",
     "text": [
      "[I 2025-04-21 23:09:07,924] Trial 14 finished with value: -0.0690070198812498 and parameters: {'lookback_period': 11, 'cooldown_period_bars': 10, 'use_atr_filter': False, 'use_adx_filter': True, 'adx_period_trend': 21, 'adx_trend_threshold': 19, 'use_adx_whipsaw_filter': True, 'adx_whipsaw_threshold': 13, 'use_adaptive_rr': False, 'base_rr': 2.7551669225088045}. Best is trial 12 with value: -0.02291906302006086.\n"
     ]
    },
    {
     "name": "stdout",
     "output_type": "stream",
     "text": [
      "  Total Trades: 85\n",
      "  Win Rate: 14.12% (12 wins)\n",
      "  Total PnL (Points): -690.07020\n",
      "  Sharpe Ratio: -0.373\n",
      "  Sortino Ratio: -0.728\n",
      "\n",
      "--- Running Derivative backtest for: EURUSD (Exit: fixed_rr, Cooldown: 9 bars, Lookback: 12) Filters: ATR>20MA, ADX>21, ADX>=14 ---\n"
     ]
    },
    {
     "name": "stderr",
     "output_type": "stream",
     "text": [
      "[I 2025-04-21 23:09:08,439] Trial 15 finished with value: -0.06450355005408248 and parameters: {'lookback_period': 12, 'cooldown_period_bars': 9, 'use_atr_filter': True, 'atr_period': 21, 'atr_ma_period': 20, 'use_adx_filter': True, 'adx_period_trend': 17, 'adx_trend_threshold': 21, 'use_adx_whipsaw_filter': True, 'adx_whipsaw_threshold': 14, 'use_adaptive_rr': False, 'base_rr': 2.8231550694770666}. Best is trial 12 with value: -0.02291906302006086.\n"
     ]
    },
    {
     "name": "stdout",
     "output_type": "stream",
     "text": [
      "  Total Trades: 53\n",
      "  Win Rate: 15.09% (8 wins)\n",
      "  Total PnL (Points): -645.03550\n",
      "  Sharpe Ratio: -0.538\n",
      "  Sortino Ratio: -0.993\n",
      "\n",
      "--- Running Derivative backtest for: EURUSD (Exit: fixed_rr, Cooldown: 8 bars, Lookback: 19) Filters: ATR>26MA, ADX>18, ADX>=14 ---\n"
     ]
    },
    {
     "name": "stderr",
     "output_type": "stream",
     "text": [
      "[I 2025-04-21 23:09:08,983] Trial 16 finished with value: -0.0884996233114883 and parameters: {'lookback_period': 19, 'cooldown_period_bars': 8, 'use_atr_filter': True, 'atr_period': 15, 'atr_ma_period': 26, 'use_adx_filter': True, 'adx_period_trend': 18, 'adx_trend_threshold': 18, 'use_adx_whipsaw_filter': True, 'adx_whipsaw_threshold': 14, 'use_adaptive_rr': False, 'base_rr': 3.735645134122792}. Best is trial 12 with value: -0.02291906302006086.\n"
     ]
    },
    {
     "name": "stdout",
     "output_type": "stream",
     "text": [
      "  Total Trades: 58\n",
      "  Win Rate: 10.34% (6 wins)\n",
      "  Total PnL (Points): -884.99623\n",
      "  Sharpe Ratio: -0.729\n",
      "  Sortino Ratio: -1.159\n",
      "\n",
      "--- Running Derivative backtest for: EURUSD (Exit: fixed_rr, Cooldown: 10 bars, Lookback: 17) Filters: ADX>25, ADX>=11 ---\n"
     ]
    },
    {
     "name": "stderr",
     "output_type": "stream",
     "text": [
      "[I 2025-04-21 23:09:09,434] Trial 17 finished with value: -0.06469203197957185 and parameters: {'lookback_period': 17, 'cooldown_period_bars': 10, 'use_atr_filter': False, 'use_adx_filter': True, 'adx_period_trend': 14, 'adx_trend_threshold': 25, 'use_adx_whipsaw_filter': True, 'adx_whipsaw_threshold': 11, 'use_adaptive_rr': False, 'base_rr': 2.243946114367016}. Best is trial 12 with value: -0.02291906302006086.\n"
     ]
    },
    {
     "name": "stdout",
     "output_type": "stream",
     "text": [
      "  Total Trades: 71\n",
      "  Win Rate: 21.13% (15 wins)\n",
      "  Total PnL (Points): -646.92032\n",
      "  Sharpe Ratio: -0.341\n",
      "  Sortino Ratio: -0.585\n",
      "\n",
      "--- Running Derivative backtest for: EURUSD (Exit: fixed_rr, Cooldown: 8 bars, Lookback: 13) Filters: ATR>24MA ---\n"
     ]
    },
    {
     "name": "stderr",
     "output_type": "stream",
     "text": [
      "[I 2025-04-21 23:09:09,954] Trial 18 finished with value: -0.11099364750203922 and parameters: {'lookback_period': 13, 'cooldown_period_bars': 8, 'use_atr_filter': True, 'atr_period': 13, 'atr_ma_period': 24, 'use_adx_filter': False, 'use_adx_whipsaw_filter': False, 'use_adaptive_rr': False, 'base_rr': 2.9889449184781833}. Best is trial 12 with value: -0.02291906302006086.\n"
     ]
    },
    {
     "name": "stdout",
     "output_type": "stream",
     "text": [
      "  Total Trades: 85\n",
      "  Win Rate: 9.41% (8 wins)\n",
      "  Total PnL (Points): -1109.93648\n",
      "  Sharpe Ratio: -0.613\n",
      "  Sortino Ratio: -1.010\n",
      "\n",
      "--- Running Derivative backtest for: EURUSD (Exit: fixed_rr, Cooldown: 9 bars, Lookback: 10) Filters: ADX>35, ADX>=16 ---\n"
     ]
    },
    {
     "name": "stderr",
     "output_type": "stream",
     "text": [
      "[I 2025-04-21 23:09:10,448] Trial 19 finished with value: -0.039132225629774586 and parameters: {'lookback_period': 10, 'cooldown_period_bars': 9, 'use_atr_filter': False, 'use_adx_filter': True, 'adx_period_trend': 7, 'adx_trend_threshold': 35, 'use_adx_whipsaw_filter': True, 'adx_whipsaw_threshold': 16, 'use_adaptive_rr': False, 'base_rr': 2.4142744566348537}. Best is trial 12 with value: -0.02291906302006086.\n"
     ]
    },
    {
     "name": "stdout",
     "output_type": "stream",
     "text": [
      "  Total Trades: 86\n",
      "  Win Rate: 22.09% (19 wins)\n",
      "  Total PnL (Points): -391.32226\n",
      "  Sharpe Ratio: -0.176\n",
      "  Sortino Ratio: -0.297\n",
      "\n",
      "--- Running Derivative backtest for: EURUSD (Exit: fixed_rr, Cooldown: 9 bars, Lookback: 13) Filters: ADX>34, ADX>=16 ---\n"
     ]
    },
    {
     "name": "stderr",
     "output_type": "stream",
     "text": [
      "[I 2025-04-21 23:09:11,034] Trial 20 finished with value: -0.04499095169134959 and parameters: {'lookback_period': 13, 'cooldown_period_bars': 9, 'use_atr_filter': False, 'use_adx_filter': True, 'adx_period_trend': 7, 'adx_trend_threshold': 34, 'use_adx_whipsaw_filter': True, 'adx_whipsaw_threshold': 16, 'use_adaptive_rr': False, 'base_rr': 2.366981050761022}. Best is trial 12 with value: -0.02291906302006086.\n"
     ]
    },
    {
     "name": "stdout",
     "output_type": "stream",
     "text": [
      "  Total Trades: 84\n",
      "  Win Rate: 20.24% (17 wins)\n",
      "  Total PnL (Points): -449.90952\n",
      "  Sharpe Ratio: -0.200\n",
      "  Sortino Ratio: -0.326\n",
      "\n",
      "--- Running Derivative backtest for: EURUSD (Exit: fixed_rr, Cooldown: 10 bars, Lookback: 9) Filters: ADX>31, ADX>=16 ---\n"
     ]
    },
    {
     "name": "stderr",
     "output_type": "stream",
     "text": [
      "[I 2025-04-21 23:09:11,566] Trial 21 finished with value: -0.026611614295756647 and parameters: {'lookback_period': 9, 'cooldown_period_bars': 10, 'use_atr_filter': False, 'use_adx_filter': True, 'adx_period_trend': 12, 'adx_trend_threshold': 31, 'use_adx_whipsaw_filter': True, 'adx_whipsaw_threshold': 16, 'use_adaptive_rr': False, 'base_rr': 1.935307032460889}. Best is trial 12 with value: -0.02291906302006086.\n"
     ]
    },
    {
     "name": "stdout",
     "output_type": "stream",
     "text": [
      "  Total Trades: 60\n",
      "  Win Rate: 31.67% (19 wins)\n",
      "  Total PnL (Points): -266.11614\n",
      "  Sharpe Ratio: -0.171\n",
      "  Sortino Ratio: -0.231\n",
      "\n",
      "--- Running Derivative backtest for: EURUSD (Exit: fixed_rr, Cooldown: 9 bars, Lookback: 9) Filters: ADX>32, ADX>=16 ---\n"
     ]
    },
    {
     "name": "stderr",
     "output_type": "stream",
     "text": [
      "[I 2025-04-21 23:09:12,053] Trial 22 finished with value: -0.037348754121257155 and parameters: {'lookback_period': 9, 'cooldown_period_bars': 9, 'use_atr_filter': False, 'use_adx_filter': True, 'adx_period_trend': 7, 'adx_trend_threshold': 32, 'use_adx_whipsaw_filter': True, 'adx_whipsaw_threshold': 16, 'use_adaptive_rr': False, 'base_rr': 1.9570625805101303}. Best is trial 12 with value: -0.02291906302006086.\n"
     ]
    },
    {
     "name": "stdout",
     "output_type": "stream",
     "text": [
      "  Total Trades: 111\n",
      "  Win Rate: 27.93% (31 wins)\n",
      "  Total PnL (Points): -373.48754\n",
      "  Sharpe Ratio: -0.149\n",
      "  Sortino Ratio: -0.237\n",
      "\n",
      "--- Running Derivative backtest for: EURUSD (Exit: fixed_rr, Cooldown: 7 bars, Lookback: 9) Filters: ADX>31, ADX>=16 ---\n"
     ]
    },
    {
     "name": "stderr",
     "output_type": "stream",
     "text": [
      "[I 2025-04-21 23:09:12,700] Trial 23 finished with value: -0.026763153772170867 and parameters: {'lookback_period': 9, 'cooldown_period_bars': 7, 'use_atr_filter': False, 'use_adx_filter': True, 'adx_period_trend': 12, 'adx_trend_threshold': 31, 'use_adx_whipsaw_filter': True, 'adx_whipsaw_threshold': 16, 'use_adaptive_rr': False, 'base_rr': 1.918518274562939}. Best is trial 12 with value: -0.02291906302006086.\n"
     ]
    },
    {
     "name": "stdout",
     "output_type": "stream",
     "text": [
      "  Total Trades: 71\n",
      "  Win Rate: 28.17% (20 wins)\n",
      "  Total PnL (Points): -267.63154\n",
      "  Sharpe Ratio: -0.183\n",
      "  Sortino Ratio: -0.319\n",
      "\n",
      "--- Running Derivative backtest for: EURUSD (Exit: fixed_rr, Cooldown: 7 bars, Lookback: 5) Filters: ADX>30, ADX>=15 ---\n"
     ]
    },
    {
     "name": "stderr",
     "output_type": "stream",
     "text": [
      "[I 2025-04-21 23:09:13,297] Trial 24 finished with value: -0.06714069433221281 and parameters: {'lookback_period': 5, 'cooldown_period_bars': 7, 'use_atr_filter': False, 'use_adx_filter': True, 'adx_period_trend': 12, 'adx_trend_threshold': 30, 'use_adx_whipsaw_filter': True, 'adx_whipsaw_threshold': 15, 'use_adaptive_rr': False, 'base_rr': 1.836688864400701}. Best is trial 12 with value: -0.02291906302006086.\n",
      "[I 2025-04-21 23:09:13,301] A new study created in memory with name: wf_run_2\n",
      "[I 2025-04-21 23:09:13,301] A new study created in memory with name: wf_run_2\n"
     ]
    },
    {
     "name": "stdout",
     "output_type": "stream",
     "text": [
      "  Total Trades: 90\n",
      "  Win Rate: 17.78% (16 wins)\n",
      "  Total PnL (Points): -671.40694\n",
      "  Sharpe Ratio: -0.458\n",
      "  Sortino Ratio: -0.738\n",
      "  Optimization complete. Best PnL (in-sample): -0.02292\n",
      "  Best parameters found: {'lookback_period': 20, 'cooldown_period_bars': 10, 'use_atr_filter': True, 'atr_period': 14, 'atr_ma_period': 29, 'use_adx_filter': True, 'adx_period_trend': 21, 'adx_trend_threshold': 28, 'use_adx_whipsaw_filter': True, 'adx_whipsaw_threshold': 14, 'use_adaptive_rr': False, 'base_rr': 2.9564587067701846}\n",
      "  Running backtest on test data with best parameters...\n",
      "  Error during Optuna optimization or OOS backtest for run 1: run_derivative_backtest_for_pair_with_cooldown() got an unexpected keyword argument 'adx_period_trend'\n",
      "\\n===== Walk-Forward Run 2 =====\n",
      "Optimize Period: 2024-07-20 to 2025-01-16\n",
      "Test Period    : 2025-01-16 to 2025-04-16\n",
      "  Running Optuna (25 trials) on optimization data...\n",
      "\n",
      "--- Running Derivative backtest for: EURUSD (Exit: fixed_rr, Cooldown: 6 bars, Lookback: 8) Filters: ADX>23, ADX>=25 ---\n"
     ]
    },
    {
     "name": "stderr",
     "output_type": "stream",
     "text": [
      "[I 2025-04-21 23:09:13,784] Trial 0 finished with value: -0.07720732444450285 and parameters: {'lookback_period': 8, 'cooldown_period_bars': 6, 'use_atr_filter': False, 'use_adx_filter': True, 'adx_period_trend': 9, 'adx_trend_threshold': 23, 'use_adx_whipsaw_filter': True, 'adx_whipsaw_threshold': 25, 'use_adaptive_rr': False, 'base_rr': 3.747669028212955}. Best is trial 0 with value: -0.07720732444450285.\n"
     ]
    },
    {
     "name": "stdout",
     "output_type": "stream",
     "text": [
      "  Total Trades: 120\n",
      "  Win Rate: 10.83% (13 wins)\n",
      "  Total PnL (Points): -772.07324\n",
      "  Sharpe Ratio: -0.333\n",
      "  Sortino Ratio: -0.785\n",
      "\n",
      "--- Running Derivative backtest for: EURUSD (Exit: fixed_rr AdaptiveRR, Cooldown: 7 bars, Lookback: 15) Filters: ADX>=18 ---\n"
     ]
    },
    {
     "name": "stderr",
     "output_type": "stream",
     "text": [
      "[I 2025-04-21 23:09:14,285] Trial 1 finished with value: -0.15006108695678733 and parameters: {'lookback_period': 15, 'cooldown_period_bars': 7, 'use_atr_filter': False, 'use_adx_filter': False, 'use_adx_whipsaw_filter': True, 'adx_whipsaw_threshold': 18, 'use_adaptive_rr': True, 'base_rr': 3.192859021267164, 'atr_multiplier_rr': -0.23740772617458789}. Best is trial 0 with value: -0.07720732444450285.\n"
     ]
    },
    {
     "name": "stdout",
     "output_type": "stream",
     "text": [
      "  Total Trades: 108\n",
      "  Win Rate: 7.41% (8 wins)\n",
      "  Total PnL (Points): -1500.61087\n",
      "  Sharpe Ratio: -0.686\n",
      "  Sortino Ratio: -0.939\n",
      "\n",
      "--- Running Derivative backtest for: EURUSD (Exit: fixed_rr AdaptiveRR, Cooldown: 3 bars, Lookback: 16) Filters: ADX>33 ---\n"
     ]
    },
    {
     "name": "stderr",
     "output_type": "stream",
     "text": [
      "[I 2025-04-21 23:09:14,787] Trial 2 finished with value: -0.02079473529366349 and parameters: {'lookback_period': 16, 'cooldown_period_bars': 3, 'use_atr_filter': False, 'use_adx_filter': True, 'adx_period_trend': 14, 'adx_trend_threshold': 33, 'use_adx_whipsaw_filter': False, 'use_adaptive_rr': True, 'base_rr': 1.3696515475917037, 'atr_multiplier_rr': 0.7670779012536679}. Best is trial 2 with value: -0.02079473529366349.\n"
     ]
    },
    {
     "name": "stdout",
     "output_type": "stream",
     "text": [
      "  Total Trades: 48\n",
      "  Win Rate: 29.17% (14 wins)\n",
      "  Total PnL (Points): -207.94735\n",
      "  Sharpe Ratio: -0.180\n",
      "  Sortino Ratio: -0.355\n",
      "\n",
      "--- Running Derivative backtest for: EURUSD (Exit: fixed_rr AdaptiveRR, Cooldown: 5 bars, Lookback: 14) Filters: ATR>21MA, ADX>17 ---\n"
     ]
    },
    {
     "name": "stderr",
     "output_type": "stream",
     "text": [
      "[I 2025-04-21 23:09:15,343] Trial 3 finished with value: -0.1055382388164885 and parameters: {'lookback_period': 14, 'cooldown_period_bars': 5, 'use_atr_filter': True, 'atr_period': 9, 'atr_ma_period': 21, 'use_adx_filter': True, 'adx_period_trend': 19, 'adx_trend_threshold': 17, 'use_adx_whipsaw_filter': False, 'use_adaptive_rr': True, 'base_rr': 3.189125031175203, 'atr_multiplier_rr': 0.1715252954246791}. Best is trial 2 with value: -0.02079473529366349.\n"
     ]
    },
    {
     "name": "stdout",
     "output_type": "stream",
     "text": [
      "  Total Trades: 67\n",
      "  Win Rate: 10.45% (7 wins)\n",
      "  Total PnL (Points): -1055.38239\n",
      "  Sharpe Ratio: -0.584\n",
      "  Sortino Ratio: -0.850\n",
      "\n",
      "--- Running Derivative backtest for: EURUSD (Exit: fixed_rr AdaptiveRR, Cooldown: 10 bars, Lookback: 19) Filters: ATR>37MA, ADX>20 ---\n"
     ]
    },
    {
     "name": "stderr",
     "output_type": "stream",
     "text": [
      "[I 2025-04-21 23:09:16,057] Trial 4 finished with value: 0.026128138404788448 and parameters: {'lookback_period': 19, 'cooldown_period_bars': 10, 'use_atr_filter': True, 'atr_period': 14, 'atr_ma_period': 37, 'use_adx_filter': True, 'adx_period_trend': 13, 'adx_trend_threshold': 20, 'use_adx_whipsaw_filter': False, 'use_adaptive_rr': True, 'base_rr': 1.0651165148448438, 'atr_multiplier_rr': -0.25819587327027854}. Best is trial 4 with value: 0.026128138404788448.\n"
     ]
    },
    {
     "name": "stdout",
     "output_type": "stream",
     "text": [
      "  Total Trades: 74\n",
      "  Win Rate: 55.41% (41 wins)\n",
      "  Total PnL (Points): 261.28138\n",
      "  Sharpe Ratio: 0.110\n",
      "  Sortino Ratio: 0.205\n",
      "\n",
      "--- Running Derivative backtest for: EURUSD (Exit: fixed_rr AdaptiveRR, Cooldown: 3 bars, Lookback: 20) Filters: ADX>15, ADX>=15 ---\n"
     ]
    },
    {
     "name": "stderr",
     "output_type": "stream",
     "text": [
      "[I 2025-04-21 23:09:16,642] Trial 5 finished with value: -0.07002190807587594 and parameters: {'lookback_period': 20, 'cooldown_period_bars': 3, 'use_atr_filter': False, 'use_adx_filter': True, 'adx_period_trend': 15, 'adx_trend_threshold': 15, 'use_adx_whipsaw_filter': True, 'adx_whipsaw_threshold': 15, 'use_adaptive_rr': True, 'base_rr': 1.430232006822091, 'atr_multiplier_rr': 0.7232248010129849}. Best is trial 4 with value: 0.026128138404788448.\n"
     ]
    },
    {
     "name": "stdout",
     "output_type": "stream",
     "text": [
      "  Total Trades: 160\n",
      "  Win Rate: 31.87% (51 wins)\n",
      "  Total PnL (Points): -700.21908\n",
      "  Sharpe Ratio: -0.201\n",
      "  Sortino Ratio: -0.404\n",
      "\n",
      "--- Running Derivative backtest for: EURUSD (Exit: fixed_rr, Cooldown: 4 bars, Lookback: 12) Filters: ADX>22, ADX>=16 ---\n"
     ]
    },
    {
     "name": "stderr",
     "output_type": "stream",
     "text": [
      "[I 2025-04-21 23:09:17,113] Trial 6 finished with value: -0.0857158234184987 and parameters: {'lookback_period': 12, 'cooldown_period_bars': 4, 'use_atr_filter': False, 'use_adx_filter': True, 'adx_period_trend': 12, 'adx_trend_threshold': 22, 'use_adx_whipsaw_filter': True, 'adx_whipsaw_threshold': 16, 'use_adaptive_rr': False, 'base_rr': 3.225890266176242}. Best is trial 4 with value: 0.026128138404788448.\n"
     ]
    },
    {
     "name": "stdout",
     "output_type": "stream",
     "text": [
      "  Total Trades: 114\n",
      "  Win Rate: 16.67% (19 wins)\n",
      "  Total PnL (Points): -857.15823\n",
      "  Sharpe Ratio: -0.353\n",
      "  Sortino Ratio: -0.718\n",
      "\n",
      "--- Running Derivative backtest for: EURUSD (Exit: fixed_rr, Cooldown: 3 bars, Lookback: 20) Filters: ADX>28 ---\n"
     ]
    },
    {
     "name": "stderr",
     "output_type": "stream",
     "text": [
      "[I 2025-04-21 23:09:17,685] Trial 7 finished with value: -0.0561706950009464 and parameters: {'lookback_period': 20, 'cooldown_period_bars': 3, 'use_atr_filter': False, 'use_adx_filter': True, 'adx_period_trend': 19, 'adx_trend_threshold': 28, 'use_adx_whipsaw_filter': False, 'use_adaptive_rr': False, 'base_rr': 2.519515672744527}. Best is trial 4 with value: 0.026128138404788448.\n"
     ]
    },
    {
     "name": "stdout",
     "output_type": "stream",
     "text": [
      "  Total Trades: 42\n",
      "  Win Rate: 9.52% (4 wins)\n",
      "  Total PnL (Points): -561.70695\n",
      "  Sharpe Ratio: -0.673\n",
      "  Sortino Ratio: -1.110\n",
      "\n",
      "--- Running Derivative backtest for: EURUSD (Exit: fixed_rr AdaptiveRR, Cooldown: 2 bars, Lookback: 11) Filters: ADX>=15 ---\n"
     ]
    },
    {
     "name": "stderr",
     "output_type": "stream",
     "text": [
      "[I 2025-04-21 23:09:18,202] Trial 8 finished with value: -0.12943587020518588 and parameters: {'lookback_period': 11, 'cooldown_period_bars': 2, 'use_atr_filter': False, 'use_adx_filter': False, 'use_adx_whipsaw_filter': True, 'adx_whipsaw_threshold': 15, 'use_adaptive_rr': True, 'base_rr': 3.1086330428992874, 'atr_multiplier_rr': 0.33263110377136773}. Best is trial 4 with value: 0.026128138404788448.\n"
     ]
    },
    {
     "name": "stdout",
     "output_type": "stream",
     "text": [
      "  Total Trades: 164\n",
      "  Win Rate: 11.59% (19 wins)\n",
      "  Total PnL (Points): -1294.35870\n",
      "  Sharpe Ratio: -0.498\n",
      "  Sortino Ratio: -0.947\n",
      "\n",
      "--- Running Derivative backtest for: EURUSD (Exit: fixed_rr AdaptiveRR, Cooldown: 3 bars, Lookback: 17) Filters: ADX>=11 ---\n"
     ]
    },
    {
     "name": "stderr",
     "output_type": "stream",
     "text": [
      "[I 2025-04-21 23:09:18,737] Trial 9 finished with value: -0.09207216082787051 and parameters: {'lookback_period': 17, 'cooldown_period_bars': 3, 'use_atr_filter': False, 'use_adx_filter': False, 'use_adx_whipsaw_filter': True, 'adx_whipsaw_threshold': 11, 'use_adaptive_rr': True, 'base_rr': 1.9865134418758843, 'atr_multiplier_rr': -0.42733100655544004}. Best is trial 4 with value: 0.026128138404788448.\n"
     ]
    },
    {
     "name": "stdout",
     "output_type": "stream",
     "text": [
      "  Total Trades: 163\n",
      "  Win Rate: 20.86% (34 wins)\n",
      "  Total PnL (Points): -920.72161\n",
      "  Sharpe Ratio: -0.293\n",
      "  Sortino Ratio: -0.706\n",
      "\n",
      "--- Running Derivative backtest for: EURUSD (Exit: fixed_rr, Cooldown: 10 bars, Lookback: 6) Filters: ATR>49MA ---\n"
     ]
    },
    {
     "name": "stderr",
     "output_type": "stream",
     "text": [
      "[I 2025-04-21 23:09:19,298] Trial 10 finished with value: -0.011222554160560172 and parameters: {'lookback_period': 6, 'cooldown_period_bars': 10, 'use_atr_filter': True, 'atr_period': 19, 'atr_ma_period': 49, 'use_adx_filter': False, 'use_adx_whipsaw_filter': False, 'use_adaptive_rr': False, 'base_rr': 1.0318688713263158}. Best is trial 4 with value: 0.026128138404788448.\n"
     ]
    },
    {
     "name": "stdout",
     "output_type": "stream",
     "text": [
      "  Total Trades: 104\n",
      "  Win Rate: 43.27% (45 wins)\n",
      "  Total PnL (Points): -112.22554\n",
      "  Sharpe Ratio: -0.044\n",
      "  Sortino Ratio: -0.080\n",
      "\n",
      "--- Running Derivative backtest for: EURUSD (Exit: fixed_rr, Cooldown: 10 bars, Lookback: 5) Filters: ATR>50MA ---\n"
     ]
    },
    {
     "name": "stderr",
     "output_type": "stream",
     "text": [
      "[I 2025-04-21 23:09:20,009] Trial 11 finished with value: -0.014773677249205086 and parameters: {'lookback_period': 5, 'cooldown_period_bars': 10, 'use_atr_filter': True, 'atr_period': 20, 'atr_ma_period': 50, 'use_adx_filter': False, 'use_adx_whipsaw_filter': False, 'use_adaptive_rr': False, 'base_rr': 1.101887142890634}. Best is trial 4 with value: 0.026128138404788448.\n"
     ]
    },
    {
     "name": "stdout",
     "output_type": "stream",
     "text": [
      "  Total Trades: 109\n",
      "  Win Rate: 44.04% (48 wins)\n",
      "  Total PnL (Points): -147.73677\n",
      "  Sharpe Ratio: -0.056\n",
      "  Sortino Ratio: -0.104\n",
      "\n",
      "--- Running Derivative backtest for: EURUSD (Exit: fixed_rr, Cooldown: 10 bars, Lookback: 9) Filters: ATR>45MA ---\n"
     ]
    },
    {
     "name": "stderr",
     "output_type": "stream",
     "text": [
      "[I 2025-04-21 23:09:20,481] Trial 12 finished with value: -0.022878407721840688 and parameters: {'lookback_period': 9, 'cooldown_period_bars': 10, 'use_atr_filter': True, 'atr_period': 16, 'atr_ma_period': 45, 'use_adx_filter': False, 'use_adx_whipsaw_filter': False, 'use_adaptive_rr': False, 'base_rr': 1.8786007754774303}. Best is trial 4 with value: 0.026128138404788448.\n"
     ]
    },
    {
     "name": "stdout",
     "output_type": "stream",
     "text": [
      "  Total Trades: 87\n",
      "  Win Rate: 33.33% (29 wins)\n",
      "  Total PnL (Points): -228.78408\n",
      "  Sharpe Ratio: -0.085\n",
      "  Sortino Ratio: -0.191\n",
      "\n",
      "--- Running Derivative backtest for: EURUSD (Exit: fixed_rr, Cooldown: 8 bars, Lookback: 6) Filters: ATR>36MA ---\n"
     ]
    },
    {
     "name": "stderr",
     "output_type": "stream",
     "text": [
      "[I 2025-04-21 23:09:20,829] Trial 13 finished with value: -0.040688043868873924 and parameters: {'lookback_period': 6, 'cooldown_period_bars': 8, 'use_atr_filter': True, 'atr_period': 14, 'atr_ma_period': 36, 'use_adx_filter': False, 'use_adx_whipsaw_filter': False, 'use_adaptive_rr': False, 'base_rr': 1.0953522876751638}. Best is trial 4 with value: 0.026128138404788448.\n"
     ]
    },
    {
     "name": "stdout",
     "output_type": "stream",
     "text": [
      "  Total Trades: 117\n",
      "  Win Rate: 37.61% (44 wins)\n",
      "  Total PnL (Points): -406.88044\n",
      "  Sharpe Ratio: -0.139\n",
      "  Sortino Ratio: -0.263\n",
      "\n",
      "--- Running Derivative backtest for: EURUSD (Exit: fixed_rr AdaptiveRR, Cooldown: 9 bars, Lookback: 18) Filters: ATR>34MA, ADX>20 ---\n"
     ]
    },
    {
     "name": "stderr",
     "output_type": "stream",
     "text": [
      "[I 2025-04-21 23:09:21,423] Trial 14 finished with value: -0.0856659178696666 and parameters: {'lookback_period': 18, 'cooldown_period_bars': 9, 'use_atr_filter': True, 'atr_period': 15, 'atr_ma_period': 34, 'use_adx_filter': True, 'adx_period_trend': 7, 'adx_trend_threshold': 20, 'use_adx_whipsaw_filter': False, 'use_adaptive_rr': True, 'base_rr': 1.833753970714323, 'atr_multiplier_rr': -0.05046741422044054}. Best is trial 4 with value: 0.026128138404788448.\n"
     ]
    },
    {
     "name": "stdout",
     "output_type": "stream",
     "text": [
      "  Total Trades: 64\n",
      "  Win Rate: 21.88% (14 wins)\n",
      "  Total PnL (Points): -856.65918\n",
      "  Sharpe Ratio: -0.456\n",
      "  Sortino Ratio: -0.738\n",
      "\n",
      "--- Running Derivative backtest for: EURUSD (Exit: fixed_rr, Cooldown: 8 bars, Lookback: 10) Filters: ATR>41MA ---\n"
     ]
    },
    {
     "name": "stderr",
     "output_type": "stream",
     "text": [
      "[I 2025-04-21 23:09:22,068] Trial 15 finished with value: -0.06169031940795411 and parameters: {'lookback_period': 10, 'cooldown_period_bars': 8, 'use_atr_filter': True, 'atr_period': 21, 'atr_ma_period': 41, 'use_adx_filter': False, 'use_adx_whipsaw_filter': False, 'use_adaptive_rr': False, 'base_rr': 2.2958325085776163}. Best is trial 4 with value: 0.026128138404788448.\n"
     ]
    },
    {
     "name": "stdout",
     "output_type": "stream",
     "text": [
      "  Total Trades: 78\n",
      "  Win Rate: 23.08% (18 wins)\n",
      "  Total PnL (Points): -616.90319\n",
      "  Sharpe Ratio: -0.262\n",
      "  Sortino Ratio: -0.569\n",
      "\n",
      "--- Running Derivative backtest for: EURUSD (Exit: fixed_rr, Cooldown: 9 bars, Lookback: 7) Filters: ATR>24MA ---\n"
     ]
    },
    {
     "name": "stderr",
     "output_type": "stream",
     "text": [
      "[I 2025-04-21 23:09:22,742] Trial 16 finished with value: -0.05408451840037043 and parameters: {'lookback_period': 7, 'cooldown_period_bars': 9, 'use_atr_filter': True, 'atr_period': 11, 'atr_ma_period': 24, 'use_adx_filter': False, 'use_adx_whipsaw_filter': False, 'use_adaptive_rr': False, 'base_rr': 1.5239425946823966}. Best is trial 4 with value: 0.026128138404788448.\n"
     ]
    },
    {
     "name": "stdout",
     "output_type": "stream",
     "text": [
      "  Total Trades: 92\n",
      "  Win Rate: 30.43% (28 wins)\n",
      "  Total PnL (Points): -540.84518\n",
      "  Sharpe Ratio: -0.231\n",
      "  Sortino Ratio: -0.436\n",
      "\n",
      "--- Running Derivative backtest for: EURUSD (Exit: fixed_rr AdaptiveRR, Cooldown: 7 bars, Lookback: 13) Filters: ATR>10MA, ADX>28 ---\n"
     ]
    },
    {
     "name": "stderr",
     "output_type": "stream",
     "text": [
      "[I 2025-04-21 23:09:23,531] Trial 17 finished with value: -0.005564850281669864 and parameters: {'lookback_period': 13, 'cooldown_period_bars': 7, 'use_atr_filter': True, 'atr_period': 17, 'atr_ma_period': 10, 'use_adx_filter': True, 'adx_period_trend': 11, 'adx_trend_threshold': 28, 'use_adx_whipsaw_filter': False, 'use_adaptive_rr': True, 'base_rr': 1.0378119622348712, 'atr_multiplier_rr': -0.49928661077099173}. Best is trial 4 with value: 0.026128138404788448.\n"
     ]
    },
    {
     "name": "stdout",
     "output_type": "stream",
     "text": [
      "  Total Trades: 71\n",
      "  Win Rate: 46.48% (33 wins)\n",
      "  Total PnL (Points): -55.64850\n",
      "  Sharpe Ratio: -0.026\n",
      "  Sortino Ratio: -0.037\n",
      "\n",
      "--- Running Derivative backtest for: EURUSD (Exit: fixed_rr AdaptiveRR, Cooldown: 6 bars, Lookback: 13) Filters: ATR>10MA, ADX>29 ---\n"
     ]
    },
    {
     "name": "stderr",
     "output_type": "stream",
     "text": [
      "[I 2025-04-21 23:09:24,266] Trial 18 finished with value: -0.05156885722572824 and parameters: {'lookback_period': 13, 'cooldown_period_bars': 6, 'use_atr_filter': True, 'atr_period': 12, 'atr_ma_period': 10, 'use_adx_filter': True, 'adx_period_trend': 11, 'adx_trend_threshold': 29, 'use_adx_whipsaw_filter': False, 'use_adaptive_rr': True, 'base_rr': 2.545136089358318, 'atr_multiplier_rr': -0.4601677483832136}. Best is trial 4 with value: 0.026128138404788448.\n"
     ]
    },
    {
     "name": "stdout",
     "output_type": "stream",
     "text": [
      "  Total Trades: 56\n",
      "  Win Rate: 25.00% (14 wins)\n",
      "  Total PnL (Points): -515.68857\n",
      "  Sharpe Ratio: -0.259\n",
      "  Sortino Ratio: -0.384\n",
      "\n",
      "--- Running Derivative backtest for: EURUSD (Exit: fixed_rr AdaptiveRR, Cooldown: 7 bars, Lookback: 18) Filters: ATR>10MA, ADX>27 ---\n"
     ]
    },
    {
     "name": "stderr",
     "output_type": "stream",
     "text": [
      "[I 2025-04-21 23:09:25,178] Trial 19 finished with value: -0.05626170782791773 and parameters: {'lookback_period': 18, 'cooldown_period_bars': 7, 'use_atr_filter': True, 'atr_period': 17, 'atr_ma_period': 10, 'use_adx_filter': True, 'adx_period_trend': 15, 'adx_trend_threshold': 27, 'use_adx_whipsaw_filter': False, 'use_adaptive_rr': True, 'base_rr': 1.5826785518641486, 'atr_multiplier_rr': -0.15615886316876465}. Best is trial 4 with value: 0.026128138404788448.\n"
     ]
    },
    {
     "name": "stdout",
     "output_type": "stream",
     "text": [
      "  Total Trades: 48\n",
      "  Win Rate: 27.08% (13 wins)\n",
      "  Total PnL (Points): -562.61708\n",
      "  Sharpe Ratio: -0.268\n",
      "  Sortino Ratio: -0.374\n",
      "\n",
      "--- Running Derivative backtest for: EURUSD (Exit: fixed_rr AdaptiveRR, Cooldown: 8 bars, Lookback: 14) Filters: ATR>26MA, ADX>33 ---\n"
     ]
    },
    {
     "name": "stderr",
     "output_type": "stream",
     "text": [
      "[I 2025-04-21 23:09:25,951] Trial 20 finished with value: -0.04675079462913123 and parameters: {'lookback_period': 14, 'cooldown_period_bars': 8, 'use_atr_filter': True, 'atr_period': 18, 'atr_ma_period': 26, 'use_adx_filter': True, 'adx_period_trend': 12, 'adx_trend_threshold': 33, 'use_adx_whipsaw_filter': False, 'use_adaptive_rr': True, 'base_rr': 2.166014104972569, 'atr_multiplier_rr': 0.13057831664805036}. Best is trial 4 with value: 0.026128138404788448.\n"
     ]
    },
    {
     "name": "stdout",
     "output_type": "stream",
     "text": [
      "  Total Trades: 35\n",
      "  Win Rate: 25.71% (9 wins)\n",
      "  Total PnL (Points): -467.50795\n",
      "  Sharpe Ratio: -0.310\n",
      "  Sortino Ratio: -0.407\n",
      "\n",
      "--- Running Derivative backtest for: EURUSD (Exit: fixed_rr AdaptiveRR, Cooldown: 10 bars, Lookback: 11) Filters: ATR>50MA, ADX>19 ---\n"
     ]
    },
    {
     "name": "stderr",
     "output_type": "stream",
     "text": [
      "[I 2025-04-21 23:09:26,616] Trial 21 finished with value: 0.010638119027597703 and parameters: {'lookback_period': 11, 'cooldown_period_bars': 10, 'use_atr_filter': True, 'atr_period': 19, 'atr_ma_period': 50, 'use_adx_filter': True, 'adx_period_trend': 9, 'adx_trend_threshold': 19, 'use_adx_whipsaw_filter': False, 'use_adaptive_rr': True, 'base_rr': 1.0059016251467963, 'atr_multiplier_rr': -0.4797487002972598}. Best is trial 4 with value: 0.026128138404788448.\n"
     ]
    },
    {
     "name": "stdout",
     "output_type": "stream",
     "text": [
      "  Total Trades: 96\n",
      "  Win Rate: 52.08% (50 wins)\n",
      "  Total PnL (Points): 106.38119\n",
      "  Sharpe Ratio: 0.038\n",
      "  Sortino Ratio: 0.072\n",
      "\n",
      "--- Running Derivative backtest for: EURUSD (Exit: fixed_rr AdaptiveRR, Cooldown: 9 bars, Lookback: 11) Filters: ATR>41MA, ADX>19 ---\n"
     ]
    },
    {
     "name": "stderr",
     "output_type": "stream",
     "text": [
      "[I 2025-04-21 23:09:27,362] Trial 22 finished with value: -0.0037727945357406423 and parameters: {'lookback_period': 11, 'cooldown_period_bars': 9, 'use_atr_filter': True, 'atr_period': 14, 'atr_ma_period': 41, 'use_adx_filter': True, 'adx_period_trend': 9, 'adx_trend_threshold': 19, 'use_adx_whipsaw_filter': False, 'use_adaptive_rr': True, 'base_rr': 1.2862504189905155, 'atr_multiplier_rr': -0.4701101098453909}. Best is trial 4 with value: 0.026128138404788448.\n"
     ]
    },
    {
     "name": "stdout",
     "output_type": "stream",
     "text": [
      "  Total Trades: 84\n",
      "  Win Rate: 45.24% (38 wins)\n",
      "  Total PnL (Points): -37.72795\n",
      "  Sharpe Ratio: -0.017\n",
      "  Sortino Ratio: -0.033\n",
      "\n",
      "--- Running Derivative backtest for: EURUSD (Exit: fixed_rr AdaptiveRR, Cooldown: 9 bars, Lookback: 11) Filters: ATR>41MA, ADX>19 ---\n"
     ]
    },
    {
     "name": "stderr",
     "output_type": "stream",
     "text": [
      "[I 2025-04-21 23:09:28,001] Trial 23 finished with value: -0.051590395000020495 and parameters: {'lookback_period': 11, 'cooldown_period_bars': 9, 'use_atr_filter': True, 'atr_period': 13, 'atr_ma_period': 41, 'use_adx_filter': True, 'adx_period_trend': 7, 'adx_trend_threshold': 19, 'use_adx_whipsaw_filter': False, 'use_adaptive_rr': True, 'base_rr': 1.34435729603341, 'atr_multiplier_rr': -0.26090963624201463}. Best is trial 4 with value: 0.026128138404788448.\n"
     ]
    },
    {
     "name": "stdout",
     "output_type": "stream",
     "text": [
      "  Total Trades: 86\n",
      "  Win Rate: 36.05% (31 wins)\n",
      "  Total PnL (Points): -515.90395\n",
      "  Sharpe Ratio: -0.228\n",
      "  Sortino Ratio: -0.383\n",
      "\n",
      "--- Running Derivative backtest for: EURUSD (Exit: fixed_rr AdaptiveRR, Cooldown: 10 bars, Lookback: 9) Filters: ATR>40MA, ADX>19 ---\n"
     ]
    },
    {
     "name": "stderr",
     "output_type": "stream",
     "text": [
      "[I 2025-04-21 23:09:28,643] Trial 24 finished with value: -0.02694534057115372 and parameters: {'lookback_period': 9, 'cooldown_period_bars': 10, 'use_atr_filter': True, 'atr_period': 10, 'atr_ma_period': 40, 'use_adx_filter': True, 'adx_period_trend': 9, 'adx_trend_threshold': 19, 'use_adx_whipsaw_filter': False, 'use_adaptive_rr': True, 'base_rr': 1.6846117165753471, 'atr_multiplier_rr': -0.33994032630545856}. Best is trial 4 with value: 0.026128138404788448.\n"
     ]
    },
    {
     "name": "stdout",
     "output_type": "stream",
     "text": [
      "  Total Trades: 85\n",
      "  Win Rate: 32.94% (28 wins)\n",
      "  Total PnL (Points): -269.45341\n",
      "  Sharpe Ratio: -0.103\n",
      "  Sortino Ratio: -0.223\n",
      "  Optimization complete. Best PnL (in-sample): 0.02613\n",
      "  Best parameters found: {'lookback_period': 19, 'cooldown_period_bars': 10, 'use_atr_filter': True, 'atr_period': 14, 'atr_ma_period': 37, 'use_adx_filter': True, 'adx_period_trend': 13, 'adx_trend_threshold': 20, 'use_adx_whipsaw_filter': False, 'use_adaptive_rr': True, 'base_rr': 1.0651165148448438, 'atr_multiplier_rr': -0.25819587327027854}\n",
      "  Running backtest on test data with best parameters...\n",
      "  Error during Optuna optimization or OOS backtest for run 2: run_derivative_backtest_for_pair_with_cooldown() got an unexpected keyword argument 'adx_period_trend'\n",
      "\\n==============================\n",
      "Walk-Forward Analysis Complete.\n",
      "==============================\\n\n",
      "No walk-forward runs were completed successfully.\n"
     ]
    }
   ],
   "source": [
    "import pandas as pd\n",
    "import numpy as np\n",
    "import optuna\n",
    "from datetime import timedelta # Useful for date-based slicing\n",
    "\n",
    "# --- 1. Define Walk-Forward Parameters ---\n",
    "\n",
    "# Use the DataFrame you want to test on (e.g., df from CSV or df_yf_adapted from yfinance)\n",
    "# Ensure it has a DatetimeIndex\n",
    "data_to_use = df_yf_adapted # Or df if using the original CSV data\n",
    "\n",
    "# Define the length of the optimization (in-sample) and testing (out-of-sample) periods\n",
    "# Using Timedeltas for date-based slicing (adjust as needed)\n",
    "optimize_duration = pd.Timedelta(days=180) # e.g., 6 months for optimization\n",
    "test_duration = pd.Timedelta(days=90)    # e.g., 3 months for testing (out-of-sample)\n",
    "step_duration = pd.Timedelta(days=90)     # How much to slide the window forward each time\n",
    "\n",
    "# Or use number of bars if preferred (requires integer index or careful calculation)\n",
    "# optimize_bars = 1000\n",
    "# test_bars = 500\n",
    "# step_bars = 500\n",
    "\n",
    "# Define the pair and strategy to perform walk-forward on\n",
    "wf_pair_suffix = 'eurusd' # Make sure this matches the suffix in data_to_use\n",
    "wf_exit_strategy = 'fixed_rr' # Choose the strategy ('fixed_rr', 'trailing_sl', 'time_exit')\n",
    "\n",
    "# Optuna settings for each optimization window\n",
    "n_optuna_trials_wf = 25 # Number of trials per optimization window (keep it lower for faster WF)\n",
    "\n",
    "# --- 2. Walk-Forward Loop ---\n",
    "\n",
    "all_oos_results = [] # List to store results from each out-of-sample period\n",
    "all_oos_trades = {}  # Dictionary to store trades from each out-of-sample period\n",
    "\n",
    "start_date = data_to_use.index.min()\n",
    "end_date = data_to_use.index.max()\n",
    "\n",
    "current_optimize_start = start_date\n",
    "\n",
    "wf_run_count = 0\n",
    "\n",
    "print(\"Starting Walk-Forward Analysis...\")\n",
    "print(f\"Optimize Duration: {optimize_duration}\")\n",
    "print(f\"Test Duration: {test_duration}\")\n",
    "print(f\"Step Duration: {step_duration}\")\n",
    "print(\"-\" * 30)\n",
    "\n",
    "while current_optimize_start + optimize_duration + test_duration <= end_date:\n",
    "    wf_run_count += 1\n",
    "    optimize_end = current_optimize_start + optimize_duration\n",
    "    test_start = optimize_end\n",
    "    test_end = test_start + test_duration\n",
    "\n",
    "    print(f\"\\\\n===== Walk-Forward Run {wf_run_count} =====\")\n",
    "    print(f\"Optimize Period: {current_optimize_start.date()} to {optimize_end.date()}\")\n",
    "    print(f\"Test Period    : {test_start.date()} to {test_end.date()}\")\n",
    "\n",
    "    # --- 3. Data Slicing ---\n",
    "    df_optimize = data_to_use.loc[current_optimize_start:optimize_end].copy()\n",
    "    df_test = data_to_use.loc[test_start:test_end].copy()\n",
    "\n",
    "    if df_optimize.empty or df_test.empty:\n",
    "        print(\"  Skipping run: Insufficient data in optimize or test period.\")\n",
    "        current_optimize_start += step_duration\n",
    "        continue\n",
    "\n",
    "    # --- 4. Optimization (In-Sample) ---\n",
    "    print(f\"  Running Optuna ({n_optuna_trials_wf} trials) on optimization data...\")\n",
    "    # Use a lambda to pass the optimization data slice to the objective function\n",
    "    study_wf = optuna.create_study(direction='maximize', study_name=f\"wf_run_{wf_run_count}\")\n",
    "    try:\n",
    "        study_wf.optimize(lambda trial: objective(trial, df_optimize), n_trials=n_optuna_trials_wf, n_jobs=1) # n_jobs=1 might be safer depending on function side effects\n",
    "        best_params_wf = study_wf.best_params\n",
    "        print(f\"  Optimization complete. Best PnL (in-sample): {study_wf.best_value:.5f}\")\n",
    "        print(f\"  Best parameters found: {best_params_wf}\")\n",
    "\n",
    "        # --- 5. Testing (Out-of-Sample) ---\n",
    "        print(f\"  Running backtest on test data with best parameters...\")\n",
    "\n",
    "        # Prepare parameters for the backtest function call\n",
    "        backtest_params = {\n",
    "            'df_original': df_test,\n",
    "            'pair_suffix': wf_pair_suffix,\n",
    "            'exit_strategy': wf_exit_strategy,\n",
    "            **best_params_wf # Unpack the best parameters found by Optuna\n",
    "            # Add any fixed parameters not optimized by Optuna if needed\n",
    "            # e.g., 'use_atr_filter': False,\n",
    "        }\n",
    "\n",
    "        # Adjust parameter names if Optuna names differ from function args (should match now)\n",
    "        # e.g., if Optuna used 'rr' but function needs 'rr_ratio':\n",
    "        # if 'rr' in best_params_wf:\n",
    "        #     backtest_params['rr_ratio'] = best_params_wf.pop('rr')\n",
    "\n",
    "        oos_results, oos_trades = run_derivative_backtest_for_pair_with_cooldown(**backtest_params)\n",
    "\n",
    "        # Add window info to results\n",
    "        oos_results['optimize_start'] = current_optimize_start\n",
    "        oos_results['optimize_end'] = optimize_end\n",
    "        oos_results['test_start'] = test_start\n",
    "        oos_results['test_end'] = test_end\n",
    "\n",
    "        all_oos_results.append(oos_results)\n",
    "        if not oos_trades.empty:\n",
    "             # Store trades with a unique key for this run\n",
    "             all_oos_trades[f\"run_{wf_run_count}_{test_start.date()}_{test_end.date()}\"] = oos_trades\n",
    "\n",
    "    except Exception as e:\n",
    "        print(f\"  Error during Optuna optimization or OOS backtest for run {wf_run_count}: {e}\")\n",
    "        # Optionally log the error or handle it as needed\n",
    "\n",
    "    # --- Slide Window ---\n",
    "    current_optimize_start += step_duration\n",
    "\n",
    "print(\"\\\\n\" + \"=\" * 30)\n",
    "print(\"Walk-Forward Analysis Complete.\")\n",
    "print(\"=\" * 30 + \"\\\\n\")\n",
    "\n",
    "# --- 6. Aggregate and Display Results ---\n",
    "if all_oos_results:\n",
    "    wf_results_df = pd.DataFrame(all_oos_results)\n",
    "\n",
    "    print(\"===== Walk-Forward Out-of-Sample Results Summary =====\")\n",
    "    # Set display options to show all rows and columns\n",
    "    pd.set_option('display.max_rows', None)\n",
    "    pd.set_option('display.max_columns', None)\n",
    "    pd.set_option('display.width', 1000) # Wider display\n",
    "    print(wf_results_df.to_string())\n",
    "\n",
    "    print(\"\\\\n===== Aggregated Out-of-Sample Performance =====\")\n",
    "    # Convert relevant columns to numeric, coercing errors\n",
    "    wf_results_df['total_pnl_numeric'] = pd.to_numeric(wf_results_df['total_pnl'], errors='coerce').fillna(0)\n",
    "    wf_results_df['total_trades_numeric'] = pd.to_numeric(wf_results_df['total_trades'], errors='coerce').fillna(0)\n",
    "\n",
    "    total_oos_pnl = wf_results_df['total_pnl_numeric'].sum()\n",
    "    total_oos_trades = wf_results_df['total_trades_numeric'].sum()\n",
    "\n",
    "    # Calculate overall win rate (weighted by trades per period might be better if desired)\n",
    "    # Simple average win rate:\n",
    "    avg_oos_win_rate = pd.to_numeric(wf_results_df['win_rate'], errors='coerce').mean()\n",
    "    # Weighted win rate (more accurate if trade counts vary significantly):\n",
    "    wf_results_df['weighted_wins'] = pd.to_numeric(wf_results_df['win_rate'], errors='coerce')/100 * wf_results_df['total_trades_numeric']\n",
    "    total_oos_wins = wf_results_df['weighted_wins'].sum()\n",
    "    overall_weighted_win_rate = (total_oos_wins / total_oos_trades * 100) if total_oos_trades > 0 else 0\n",
    "\n",
    "\n",
    "    print(f\"Total Out-of-Sample PnL: {total_oos_pnl:.5f}\")\n",
    "    print(f\"Total Out-of-Sample Trades: {int(total_oos_trades)}\")\n",
    "    # print(f\"Average Out-of-Sample Win Rate: {avg_oos_win_rate:.2f}%\")\n",
    "    print(f\"Overall Weighted Out-of-Sample Win Rate: {overall_weighted_win_rate:.2f}%\")\n",
    "\n",
    "    # Combine all OOS trades into one DataFrame for further analysis if needed\n",
    "    if all_oos_trades:\n",
    "        combined_oos_trades_df = pd.concat(all_oos_trades.values(), ignore_index=True)\n",
    "        print(f\"\\\\nCombined {len(combined_oos_trades_df)} trades from all OOS periods.\")\n",
    "        # You can now analyze combined_oos_trades_df (e.g., plot equity curve)\n",
    "    else:\n",
    "        print(\"\\\\nNo trades recorded across all OOS periods.\")\n",
    "\n",
    "else:\n",
    "    print(\"No walk-forward runs were completed successfully.\")\n",
    "\n",
    "# Reset display options if desired\n",
    "# pd.reset_option('display.max_rows')\n",
    "# pd.reset_option('display.max_columns')\n",
    "# pd.reset_option('display.width')"
   ]
  },
  {
   "cell_type": "code",
   "execution_count": 53,
   "id": "0b1f4bfa",
   "metadata": {},
   "outputs": [
    {
     "name": "stderr",
     "output_type": "stream",
     "text": [
      "[I 2025-04-22 01:14:41,582] A new study created in memory with name: wf_run_1\n"
     ]
    },
    {
     "name": "stdout",
     "output_type": "stream",
     "text": [
      "Starting Walk-Forward Analysis...\n",
      "Optimize Duration: 180 days 00:00:00\n",
      "Test Duration: 90 days 00:00:00\n",
      "Step Duration: 90 days 00:00:00\n",
      "------------------------------\n",
      "\\n===== Walk-Forward Run 1 =====\n",
      "Optimize Period: 2024-04-21 to 2024-10-18\n",
      "Test Period    : 2024-10-18 to 2025-01-16\n",
      "  Running Optuna (25 trials) on optimization data...\n",
      "\n",
      "--- Running Derivative backtest for: EURUSD (Exit: fixed_rr AdaptiveRR, Cooldown: 4 bars, Lookback: 8) Filters: ATR>25MA, ADX>=24 ---\n"
     ]
    },
    {
     "name": "stderr",
     "output_type": "stream",
     "text": [
      "[I 2025-04-22 01:14:41,911] Trial 0 finished with value: -0.052421022573395426 and parameters: {'lookback_period': 8, 'cooldown_period_bars': 4, 'use_atr_filter': True, 'atr_period': 16, 'atr_ma_period': 25, 'use_adx_filter': False, 'use_adx_whipsaw_filter': True, 'adx_whipsaw_threshold': 24, 'use_adaptive_rr': True, 'base_rr': 1.5699698644733187, 'atr_multiplier_rr': -0.0187821758968158}. Best is trial 0 with value: -0.052421022573395426.\n"
     ]
    },
    {
     "name": "stdout",
     "output_type": "stream",
     "text": [
      "  Total Trades: 77\n",
      "  Win Rate: 24.68% (19 wins)\n",
      "  Total PnL (Points): -524.21023\n",
      "  Sharpe Ratio: -0.362\n",
      "  Sortino Ratio: -0.642\n",
      "\n",
      "--- Running Derivative backtest for: EURUSD (Exit: fixed_rr, Cooldown: 6 bars, Lookback: 19) Filters: ATR>33MA, ADX>34, ADX>=16 ---\n"
     ]
    },
    {
     "name": "stderr",
     "output_type": "stream",
     "text": [
      "[I 2025-04-22 01:14:42,230] Trial 1 finished with value: -0.06527098886610272 and parameters: {'lookback_period': 19, 'cooldown_period_bars': 6, 'use_atr_filter': True, 'atr_period': 21, 'atr_ma_period': 33, 'use_adx_filter': True, 'adx_period_trend': 10, 'adx_trend_threshold': 34, 'use_adx_whipsaw_filter': True, 'adx_whipsaw_threshold': 16, 'use_adaptive_rr': False, 'base_rr': 3.297427187588357}. Best is trial 0 with value: -0.052421022573395426.\n"
     ]
    },
    {
     "name": "stdout",
     "output_type": "stream",
     "text": [
      "  Total Trades: 40\n",
      "  Win Rate: 10.00% (4 wins)\n",
      "  Total PnL (Points): -652.70989\n",
      "  Sharpe Ratio: -0.695\n",
      "  Sortino Ratio: -0.893\n",
      "\n",
      "--- Running Derivative backtest for: EURUSD (Exit: fixed_rr AdaptiveRR, Cooldown: 7 bars, Lookback: 5) ---\n"
     ]
    },
    {
     "name": "stderr",
     "output_type": "stream",
     "text": [
      "[I 2025-04-22 01:14:42,516] Trial 2 finished with value: -0.0861986921160065 and parameters: {'lookback_period': 5, 'cooldown_period_bars': 7, 'use_atr_filter': False, 'use_adx_filter': False, 'use_adx_whipsaw_filter': False, 'use_adaptive_rr': True, 'base_rr': 2.642600942721118, 'atr_multiplier_rr': -0.24833461179648664}. Best is trial 0 with value: -0.052421022573395426.\n"
     ]
    },
    {
     "name": "stdout",
     "output_type": "stream",
     "text": [
      "  Total Trades: 197\n",
      "  Win Rate: 19.29% (38 wins)\n",
      "  Total PnL (Points): -861.98692\n",
      "  Sharpe Ratio: -0.279\n",
      "  Sortino Ratio: -0.684\n",
      "\n",
      "--- Running Derivative backtest for: EURUSD (Exit: fixed_rr AdaptiveRR, Cooldown: 6 bars, Lookback: 10) Filters: ATR>10MA, ADX>25, ADX>=15 ---\n"
     ]
    },
    {
     "name": "stderr",
     "output_type": "stream",
     "text": [
      "[I 2025-04-22 01:14:42,826] Trial 3 finished with value: -0.085534688172902 and parameters: {'lookback_period': 10, 'cooldown_period_bars': 6, 'use_atr_filter': True, 'atr_period': 10, 'atr_ma_period': 10, 'use_adx_filter': True, 'adx_period_trend': 15, 'adx_trend_threshold': 25, 'use_adx_whipsaw_filter': True, 'adx_whipsaw_threshold': 15, 'use_adaptive_rr': True, 'base_rr': 2.3404158666262154, 'atr_multiplier_rr': 0.7092563915396422}. Best is trial 0 with value: -0.052421022573395426.\n"
     ]
    },
    {
     "name": "stdout",
     "output_type": "stream",
     "text": [
      "  Total Trades: 61\n",
      "  Win Rate: 16.39% (10 wins)\n",
      "  Total PnL (Points): -855.34688\n",
      "  Sharpe Ratio: -0.557\n",
      "  Sortino Ratio: -0.784\n",
      "\n",
      "--- Running Derivative backtest for: EURUSD (Exit: fixed_rr AdaptiveRR, Cooldown: 1 bars, Lookback: 8) Filters: ATR>15MA, ADX>31, ADX>=11 ---\n"
     ]
    },
    {
     "name": "stderr",
     "output_type": "stream",
     "text": [
      "[I 2025-04-22 01:14:43,196] Trial 4 finished with value: -0.04510437987338878 and parameters: {'lookback_period': 8, 'cooldown_period_bars': 1, 'use_atr_filter': True, 'atr_period': 9, 'atr_ma_period': 15, 'use_adx_filter': True, 'adx_period_trend': 8, 'adx_trend_threshold': 31, 'use_adx_whipsaw_filter': True, 'adx_whipsaw_threshold': 11, 'use_adaptive_rr': True, 'base_rr': 1.7814175117108886, 'atr_multiplier_rr': 0.7439947335126109}. Best is trial 4 with value: -0.04510437987338878.\n"
     ]
    },
    {
     "name": "stdout",
     "output_type": "stream",
     "text": [
      "  Total Trades: 87\n",
      "  Win Rate: 26.44% (23 wins)\n",
      "  Total PnL (Points): -451.04380\n",
      "  Sharpe Ratio: -0.217\n",
      "  Sortino Ratio: -0.348\n",
      "\n",
      "--- Running Derivative backtest for: EURUSD (Exit: fixed_rr AdaptiveRR, Cooldown: 8 bars, Lookback: 5) Filters: ADX>30 ---\n"
     ]
    },
    {
     "name": "stderr",
     "output_type": "stream",
     "text": [
      "[I 2025-04-22 01:14:43,438] Trial 5 finished with value: -0.03673156002571476 and parameters: {'lookback_period': 5, 'cooldown_period_bars': 8, 'use_atr_filter': False, 'use_adx_filter': True, 'adx_period_trend': 7, 'adx_trend_threshold': 30, 'use_adx_whipsaw_filter': False, 'use_adaptive_rr': True, 'base_rr': 1.3868471841495054, 'atr_multiplier_rr': -0.11203766594594267}. Best is trial 5 with value: -0.03673156002571476.\n"
     ]
    },
    {
     "name": "stdout",
     "output_type": "stream",
     "text": [
      "  Total Trades: 140\n",
      "  Win Rate: 33.57% (47 wins)\n",
      "  Total PnL (Points): -367.31560\n",
      "  Sharpe Ratio: -0.155\n",
      "  Sortino Ratio: -0.312\n",
      "\n",
      "--- Running Derivative backtest for: EURUSD (Exit: fixed_rr, Cooldown: 10 bars, Lookback: 7) Filters: ADX>16, ADX>=23 ---\n"
     ]
    },
    {
     "name": "stderr",
     "output_type": "stream",
     "text": [
      "[I 2025-04-22 01:14:43,684] Trial 6 finished with value: -0.07839259648066799 and parameters: {'lookback_period': 7, 'cooldown_period_bars': 10, 'use_atr_filter': False, 'use_adx_filter': True, 'adx_period_trend': 14, 'adx_trend_threshold': 16, 'use_adx_whipsaw_filter': True, 'adx_whipsaw_threshold': 23, 'use_adaptive_rr': False, 'base_rr': 3.8049495006628486}. Best is trial 5 with value: -0.03673156002571476.\n"
     ]
    },
    {
     "name": "stdout",
     "output_type": "stream",
     "text": [
      "  Total Trades: 92\n",
      "  Win Rate: 11.96% (11 wins)\n",
      "  Total PnL (Points): -783.92596\n",
      "  Sharpe Ratio: -0.543\n",
      "  Sortino Ratio: -0.967\n",
      "\n",
      "--- Running Derivative backtest for: EURUSD (Exit: fixed_rr AdaptiveRR, Cooldown: 6 bars, Lookback: 18) Filters: ADX>32, ADX>=14 ---\n"
     ]
    },
    {
     "name": "stderr",
     "output_type": "stream",
     "text": [
      "[I 2025-04-22 01:14:43,967] Trial 7 finished with value: -0.029708802024217995 and parameters: {'lookback_period': 18, 'cooldown_period_bars': 6, 'use_atr_filter': False, 'use_adx_filter': True, 'adx_period_trend': 19, 'adx_trend_threshold': 32, 'use_adx_whipsaw_filter': True, 'adx_whipsaw_threshold': 14, 'use_adaptive_rr': True, 'base_rr': 3.139864174012056, 'atr_multiplier_rr': 0.36644013599266156}. Best is trial 7 with value: -0.029708802024217995.\n"
     ]
    },
    {
     "name": "stdout",
     "output_type": "stream",
     "text": [
      "  Total Trades: 30\n",
      "  Win Rate: 20.00% (6 wins)\n",
      "  Total PnL (Points): -297.08802\n",
      "  Sharpe Ratio: -0.271\n",
      "  Sortino Ratio: -0.539\n",
      "\n",
      "--- Running Derivative backtest for: EURUSD (Exit: fixed_rr, Cooldown: 1 bars, Lookback: 15) Filters: ADX>21 ---\n"
     ]
    },
    {
     "name": "stderr",
     "output_type": "stream",
     "text": [
      "[I 2025-04-22 01:14:44,338] Trial 8 finished with value: -0.09472015452983018 and parameters: {'lookback_period': 15, 'cooldown_period_bars': 1, 'use_atr_filter': False, 'use_adx_filter': True, 'adx_period_trend': 13, 'adx_trend_threshold': 21, 'use_adx_whipsaw_filter': False, 'use_adaptive_rr': False, 'base_rr': 3.9974148761834893}. Best is trial 7 with value: -0.029708802024217995.\n"
     ]
    },
    {
     "name": "stdout",
     "output_type": "stream",
     "text": [
      "  Total Trades: 122\n",
      "  Win Rate: 9.02% (11 wins)\n",
      "  Total PnL (Points): -947.20155\n",
      "  Sharpe Ratio: -0.439\n",
      "  Sortino Ratio: -0.930\n",
      "\n",
      "--- Running Derivative backtest for: EURUSD (Exit: fixed_rr AdaptiveRR, Cooldown: 2 bars, Lookback: 20) Filters: ATR>47MA, ADX>25 ---\n"
     ]
    },
    {
     "name": "stderr",
     "output_type": "stream",
     "text": [
      "[I 2025-04-22 01:14:44,725] Trial 9 finished with value: -0.05887740470304759 and parameters: {'lookback_period': 20, 'cooldown_period_bars': 2, 'use_atr_filter': True, 'atr_period': 17, 'atr_ma_period': 47, 'use_adx_filter': True, 'adx_period_trend': 20, 'adx_trend_threshold': 25, 'use_adx_whipsaw_filter': False, 'use_adaptive_rr': True, 'base_rr': 2.737912311390405, 'atr_multiplier_rr': 0.3536394365120562}. Best is trial 7 with value: -0.029708802024217995.\n"
     ]
    },
    {
     "name": "stdout",
     "output_type": "stream",
     "text": [
      "  Total Trades: 40\n",
      "  Win Rate: 10.00% (4 wins)\n",
      "  Total PnL (Points): -588.77405\n",
      "  Sharpe Ratio: -0.654\n",
      "  Sortino Ratio: -0.914\n",
      "\n",
      "--- Running Derivative backtest for: EURUSD (Exit: fixed_rr, Cooldown: 4 bars, Lookback: 15) Filters: ADX>=11 ---\n"
     ]
    },
    {
     "name": "stderr",
     "output_type": "stream",
     "text": [
      "[I 2025-04-22 01:14:45,017] Trial 10 finished with value: -0.1254150679644872 and parameters: {'lookback_period': 15, 'cooldown_period_bars': 4, 'use_atr_filter': False, 'use_adx_filter': False, 'use_adx_whipsaw_filter': True, 'adx_whipsaw_threshold': 11, 'use_adaptive_rr': False, 'base_rr': 3.2396770472631617}. Best is trial 7 with value: -0.029708802024217995.\n"
     ]
    },
    {
     "name": "stdout",
     "output_type": "stream",
     "text": [
      "  Total Trades: 136\n",
      "  Win Rate: 9.56% (13 wins)\n",
      "  Total PnL (Points): -1254.15068\n",
      "  Sharpe Ratio: -0.650\n",
      "  Sortino Ratio: -1.124\n",
      "\n",
      "--- Running Derivative backtest for: EURUSD (Exit: fixed_rr AdaptiveRR, Cooldown: 9 bars, Lookback: 13) Filters: ADX>30 ---\n"
     ]
    },
    {
     "name": "stderr",
     "output_type": "stream",
     "text": [
      "[I 2025-04-22 01:14:45,266] Trial 11 finished with value: -0.02867697119293755 and parameters: {'lookback_period': 13, 'cooldown_period_bars': 9, 'use_atr_filter': False, 'use_adx_filter': True, 'adx_period_trend': 21, 'adx_trend_threshold': 30, 'use_adx_whipsaw_filter': False, 'use_adaptive_rr': True, 'base_rr': 1.0323564841395103, 'atr_multiplier_rr': 0.22383132409474715}. Best is trial 11 with value: -0.02867697119293755.\n"
     ]
    },
    {
     "name": "stdout",
     "output_type": "stream",
     "text": [
      "  Total Trades: 34\n",
      "  Win Rate: 38.24% (13 wins)\n",
      "  Total PnL (Points): -286.76971\n",
      "  Sharpe Ratio: -0.309\n",
      "  Sortino Ratio: -0.360\n",
      "\n",
      "--- Running Derivative backtest for: EURUSD (Exit: fixed_rr AdaptiveRR, Cooldown: 10 bars, Lookback: 16) Filters: ADX>35 ---\n"
     ]
    },
    {
     "name": "stderr",
     "output_type": "stream",
     "text": [
      "[I 2025-04-22 01:14:45,576] Trial 12 finished with value: -0.000989971775321452 and parameters: {'lookback_period': 16, 'cooldown_period_bars': 10, 'use_atr_filter': False, 'use_adx_filter': True, 'adx_period_trend': 21, 'adx_trend_threshold': 35, 'use_adx_whipsaw_filter': False, 'use_adaptive_rr': True, 'base_rr': 1.0285972936046155, 'atr_multiplier_rr': 0.3207769214451325}. Best is trial 12 with value: -0.000989971775321452.\n"
     ]
    },
    {
     "name": "stdout",
     "output_type": "stream",
     "text": [
      "  Total Trades: 16\n",
      "  Win Rate: 43.75% (7 wins)\n",
      "  Total PnL (Points): -9.89972\n",
      "  Sharpe Ratio: -0.029\n",
      "  Sortino Ratio: -0.088\n",
      "\n",
      "--- Running Derivative backtest for: EURUSD (Exit: fixed_rr AdaptiveRR, Cooldown: 10 bars, Lookback: 13) Filters: ADX>35 ---\n"
     ]
    },
    {
     "name": "stderr",
     "output_type": "stream",
     "text": [
      "[I 2025-04-22 01:14:45,829] Trial 13 finished with value: 0.0032946960399868885 and parameters: {'lookback_period': 13, 'cooldown_period_bars': 10, 'use_atr_filter': False, 'use_adx_filter': True, 'adx_period_trend': 21, 'adx_trend_threshold': 35, 'use_adx_whipsaw_filter': False, 'use_adaptive_rr': True, 'base_rr': 1.020400682429777, 'atr_multiplier_rr': 0.26310718054568083}. Best is trial 13 with value: 0.0032946960399868885.\n"
     ]
    },
    {
     "name": "stdout",
     "output_type": "stream",
     "text": [
      "  Total Trades: 16\n",
      "  Win Rate: 50.00% (8 wins)\n",
      "  Total PnL (Points): 32.94696\n",
      "  Sharpe Ratio: 0.105\n",
      "  Sortino Ratio: 0.365\n",
      "\n",
      "--- Running Derivative backtest for: EURUSD (Exit: fixed_rr AdaptiveRR, Cooldown: 10 bars, Lookback: 16) ---\n"
     ]
    },
    {
     "name": "stderr",
     "output_type": "stream",
     "text": [
      "[I 2025-04-22 01:14:46,150] Trial 14 finished with value: -0.0027405501343793492 and parameters: {'lookback_period': 16, 'cooldown_period_bars': 10, 'use_atr_filter': False, 'use_adx_filter': False, 'use_adx_whipsaw_filter': False, 'use_adaptive_rr': True, 'base_rr': 1.0962200925509438, 'atr_multiplier_rr': 0.2144052322662493}. Best is trial 13 with value: 0.0032946960399868885.\n"
     ]
    },
    {
     "name": "stdout",
     "output_type": "stream",
     "text": [
      "  Total Trades: 133\n",
      "  Win Rate: 43.61% (58 wins)\n",
      "  Total PnL (Points): -27.40550\n",
      "  Sharpe Ratio: -0.010\n",
      "  Sortino Ratio: -0.018\n",
      "\n",
      "--- Running Derivative backtest for: EURUSD (Exit: fixed_rr AdaptiveRR, Cooldown: 8 bars, Lookback: 11) Filters: ADX>35 ---\n"
     ]
    },
    {
     "name": "stderr",
     "output_type": "stream",
     "text": [
      "[I 2025-04-22 01:14:46,510] Trial 15 finished with value: -0.02702739222672701 and parameters: {'lookback_period': 11, 'cooldown_period_bars': 8, 'use_atr_filter': False, 'use_adx_filter': True, 'adx_period_trend': 17, 'adx_trend_threshold': 35, 'use_adx_whipsaw_filter': False, 'use_adaptive_rr': True, 'base_rr': 1.9283332510584668, 'atr_multiplier_rr': -0.46959744276752313}. Best is trial 13 with value: 0.0032946960399868885.\n"
     ]
    },
    {
     "name": "stdout",
     "output_type": "stream",
     "text": [
      "  Total Trades: 31\n",
      "  Win Rate: 25.81% (8 wins)\n",
      "  Total PnL (Points): -270.27392\n",
      "  Sharpe Ratio: -0.411\n",
      "  Sortino Ratio: -0.625\n",
      "\n",
      "--- Running Derivative backtest for: EURUSD (Exit: fixed_rr AdaptiveRR, Cooldown: 9 bars, Lookback: 13) Filters: ADX>35 ---\n"
     ]
    },
    {
     "name": "stderr",
     "output_type": "stream",
     "text": [
      "[I 2025-04-22 01:14:46,856] Trial 16 finished with value: -0.014944225129887911 and parameters: {'lookback_period': 13, 'cooldown_period_bars': 9, 'use_atr_filter': False, 'use_adx_filter': True, 'adx_period_trend': 18, 'adx_trend_threshold': 35, 'use_adx_whipsaw_filter': False, 'use_adaptive_rr': True, 'base_rr': 2.1752170873137606, 'atr_multiplier_rr': 0.6096613633472394}. Best is trial 13 with value: 0.0032946960399868885.\n"
     ]
    },
    {
     "name": "stdout",
     "output_type": "stream",
     "text": [
      "  Total Trades: 21\n",
      "  Win Rate: 23.81% (5 wins)\n",
      "  Total PnL (Points): -149.44225\n",
      "  Sharpe Ratio: -0.338\n",
      "  Sortino Ratio: -0.568\n",
      "\n",
      "--- Running Derivative backtest for: EURUSD (Exit: fixed_rr AdaptiveRR, Cooldown: 10 bars, Lookback: 16) Filters: ADX>28 ---\n"
     ]
    },
    {
     "name": "stderr",
     "output_type": "stream",
     "text": [
      "[I 2025-04-22 01:14:47,161] Trial 17 finished with value: -0.0491593244613604 and parameters: {'lookback_period': 16, 'cooldown_period_bars': 10, 'use_atr_filter': False, 'use_adx_filter': True, 'adx_period_trend': 21, 'adx_trend_threshold': 28, 'use_adx_whipsaw_filter': False, 'use_adaptive_rr': True, 'base_rr': 1.4179407917684288, 'atr_multiplier_rr': 0.4846760105534703}. Best is trial 13 with value: 0.0032946960399868885.\n"
     ]
    },
    {
     "name": "stdout",
     "output_type": "stream",
     "text": [
      "  Total Trades: 37\n",
      "  Win Rate: 27.03% (10 wins)\n",
      "  Total PnL (Points): -491.59324\n",
      "  Sharpe Ratio: -0.396\n",
      "  Sortino Ratio: -0.507\n",
      "\n",
      "--- Running Derivative backtest for: EURUSD (Exit: fixed_rr, Cooldown: 8 bars, Lookback: 11) ---\n"
     ]
    },
    {
     "name": "stderr",
     "output_type": "stream",
     "text": [
      "[I 2025-04-22 01:14:47,638] Trial 18 finished with value: -0.017796119263525645 and parameters: {'lookback_period': 11, 'cooldown_period_bars': 8, 'use_atr_filter': False, 'use_adx_filter': False, 'use_adx_whipsaw_filter': False, 'use_adaptive_rr': False, 'base_rr': 1.013795294575307}. Best is trial 13 with value: 0.0032946960399868885.\n"
     ]
    },
    {
     "name": "stdout",
     "output_type": "stream",
     "text": [
      "  Total Trades: 169\n",
      "  Win Rate: 42.60% (72 wins)\n",
      "  Total PnL (Points): -177.96119\n",
      "  Sharpe Ratio: -0.067\n",
      "  Sortino Ratio: -0.148\n",
      "\n",
      "--- Running Derivative backtest for: EURUSD (Exit: fixed_rr AdaptiveRR, Cooldown: 4 bars, Lookback: 17) Filters: ADX>21 ---\n"
     ]
    },
    {
     "name": "stderr",
     "output_type": "stream",
     "text": [
      "[I 2025-04-22 01:14:48,025] Trial 19 finished with value: -0.04991060096805078 and parameters: {'lookback_period': 17, 'cooldown_period_bars': 4, 'use_atr_filter': False, 'use_adx_filter': True, 'adx_period_trend': 16, 'adx_trend_threshold': 21, 'use_adx_whipsaw_filter': False, 'use_adaptive_rr': True, 'base_rr': 1.911074752580344, 'atr_multiplier_rr': 0.9493248461288504}. Best is trial 13 with value: 0.0032946960399868885.\n"
     ]
    },
    {
     "name": "stdout",
     "output_type": "stream",
     "text": [
      "  Total Trades: 95\n",
      "  Win Rate: 23.16% (22 wins)\n",
      "  Total PnL (Points): -499.10601\n",
      "  Sharpe Ratio: -0.263\n",
      "  Sortino Ratio: -0.534\n",
      "\n",
      "--- Running Derivative backtest for: EURUSD (Exit: fixed_rr AdaptiveRR, Cooldown: 9 bars, Lookback: 14) Filters: ADX>27 ---\n"
     ]
    },
    {
     "name": "stderr",
     "output_type": "stream",
     "text": [
      "[I 2025-04-22 01:14:48,680] Trial 20 finished with value: -0.04265263869878266 and parameters: {'lookback_period': 14, 'cooldown_period_bars': 9, 'use_atr_filter': False, 'use_adx_filter': True, 'adx_period_trend': 12, 'adx_trend_threshold': 27, 'use_adx_whipsaw_filter': False, 'use_adaptive_rr': True, 'base_rr': 1.2973096980232135, 'atr_multiplier_rr': 0.07523079392974305}. Best is trial 13 with value: 0.0032946960399868885.\n"
     ]
    },
    {
     "name": "stdout",
     "output_type": "stream",
     "text": [
      "  Total Trades: 83\n",
      "  Win Rate: 36.14% (30 wins)\n",
      "  Total PnL (Points): -426.52639\n",
      "  Sharpe Ratio: -0.228\n",
      "  Sortino Ratio: -0.416\n",
      "\n",
      "--- Running Derivative backtest for: EURUSD (Exit: fixed_rr AdaptiveRR, Cooldown: 10 bars, Lookback: 17) ---\n"
     ]
    },
    {
     "name": "stderr",
     "output_type": "stream",
     "text": [
      "[I 2025-04-22 01:14:49,526] Trial 21 finished with value: 0.00984800586374246 and parameters: {'lookback_period': 17, 'cooldown_period_bars': 10, 'use_atr_filter': False, 'use_adx_filter': False, 'use_adx_whipsaw_filter': False, 'use_adaptive_rr': True, 'base_rr': 1.0191294127060513, 'atr_multiplier_rr': 0.17792686503986235}. Best is trial 21 with value: 0.00984800586374246.\n"
     ]
    },
    {
     "name": "stdout",
     "output_type": "stream",
     "text": [
      "  Total Trades: 134\n",
      "  Win Rate: 47.01% (63 wins)\n",
      "  Total PnL (Points): 98.48006\n",
      "  Sharpe Ratio: 0.035\n",
      "  Sortino Ratio: 0.068\n",
      "\n",
      "--- Running Derivative backtest for: EURUSD (Exit: fixed_rr AdaptiveRR, Cooldown: 10 bars, Lookback: 18) ---\n"
     ]
    },
    {
     "name": "stderr",
     "output_type": "stream",
     "text": [
      "[I 2025-04-22 01:14:50,179] Trial 22 finished with value: -0.039867924636314944 and parameters: {'lookback_period': 18, 'cooldown_period_bars': 10, 'use_atr_filter': False, 'use_adx_filter': False, 'use_adx_whipsaw_filter': False, 'use_adaptive_rr': True, 'base_rr': 1.6574701019725713, 'atr_multiplier_rr': 0.12241087632234035}. Best is trial 21 with value: 0.00984800586374246.\n"
     ]
    },
    {
     "name": "stdout",
     "output_type": "stream",
     "text": [
      "  Total Trades: 106\n",
      "  Win Rate: 29.25% (31 wins)\n",
      "  Total PnL (Points): -398.67925\n",
      "  Sharpe Ratio: -0.184\n",
      "  Sortino Ratio: -0.394\n",
      "\n",
      "--- Running Derivative backtest for: EURUSD (Exit: fixed_rr AdaptiveRR, Cooldown: 9 bars, Lookback: 17) ---\n"
     ]
    },
    {
     "name": "stderr",
     "output_type": "stream",
     "text": [
      "[I 2025-04-22 01:14:50,749] Trial 23 finished with value: -0.04953623008461139 and parameters: {'lookback_period': 17, 'cooldown_period_bars': 9, 'use_atr_filter': False, 'use_adx_filter': False, 'use_adx_whipsaw_filter': False, 'use_adaptive_rr': True, 'base_rr': 1.2620468610602553, 'atr_multiplier_rr': 0.4446127062461279}. Best is trial 21 with value: 0.00984800586374246.\n"
     ]
    },
    {
     "name": "stdout",
     "output_type": "stream",
     "text": [
      "  Total Trades: 137\n",
      "  Win Rate: 37.96% (52 wins)\n",
      "  Total PnL (Points): -495.36230\n",
      "  Sharpe Ratio: -0.190\n",
      "  Sortino Ratio: -0.341\n",
      "\n",
      "--- Running Derivative backtest for: EURUSD (Exit: fixed_rr AdaptiveRR, Cooldown: 7 bars, Lookback: 12) ---\n"
     ]
    },
    {
     "name": "stderr",
     "output_type": "stream",
     "text": [
      "[I 2025-04-22 01:14:51,157] Trial 24 finished with value: -0.074809140201753 and parameters: {'lookback_period': 12, 'cooldown_period_bars': 7, 'use_atr_filter': False, 'use_adx_filter': False, 'use_adx_whipsaw_filter': False, 'use_adaptive_rr': True, 'base_rr': 1.5139690519041986, 'atr_multiplier_rr': -0.12714901262481812}. Best is trial 21 with value: 0.00984800586374246.\n"
     ]
    },
    {
     "name": "stdout",
     "output_type": "stream",
     "text": [
      "  Total Trades: 157\n",
      "  Win Rate: 27.39% (43 wins)\n",
      "  Total PnL (Points): -748.09140\n",
      "  Sharpe Ratio: -0.276\n",
      "  Sortino Ratio: -0.593\n",
      "  Optimization complete. Best PnL (in-sample): 0.00985\n",
      "  Best parameters found: {'lookback_period': 17, 'cooldown_period_bars': 10, 'use_atr_filter': False, 'use_adx_filter': False, 'use_adx_whipsaw_filter': False, 'use_adaptive_rr': True, 'base_rr': 1.0191294127060513, 'atr_multiplier_rr': 0.17792686503986235}\n",
      "  Running backtest on test data with best parameters...\n",
      "\n",
      "--- Running Derivative backtest for: EURUSD (Exit: fixed_rr AdaptiveRR, Cooldown: 10 bars, Lookback: 17) ---\n",
      "  Total Trades: 65\n",
      "  Win Rate: 50.77% (33 wins)\n",
      "  Total PnL (Points): 222.90683\n",
      "  Sharpe Ratio: 0.127\n",
      "  Sortino Ratio: 0.259\n",
      "\\n===== Walk-Forward Run 2 =====\n",
      "Optimize Period: 2024-07-20 to 2025-01-16\n",
      "Test Period    : 2025-01-16 to 2025-04-16\n"
     ]
    },
    {
     "name": "stderr",
     "output_type": "stream",
     "text": [
      "[I 2025-04-22 01:14:51,372] A new study created in memory with name: wf_run_2\n"
     ]
    },
    {
     "name": "stdout",
     "output_type": "stream",
     "text": [
      "  Running Optuna (25 trials) on optimization data...\n",
      "\n",
      "--- Running Derivative backtest for: EURUSD (Exit: fixed_rr AdaptiveRR, Cooldown: 6 bars, Lookback: 20) Filters: ATR>43MA, ADX>28, ADX>=18 ---\n"
     ]
    },
    {
     "name": "stderr",
     "output_type": "stream",
     "text": [
      "[I 2025-04-22 01:14:51,741] Trial 0 finished with value: -0.0713261075307372 and parameters: {'lookback_period': 20, 'cooldown_period_bars': 6, 'use_atr_filter': True, 'atr_period': 8, 'atr_ma_period': 43, 'use_adx_filter': True, 'adx_period_trend': 9, 'adx_trend_threshold': 28, 'use_adx_whipsaw_filter': True, 'adx_whipsaw_threshold': 18, 'use_adaptive_rr': True, 'base_rr': 3.450502917645329, 'atr_multiplier_rr': 0.9780988691269681}. Best is trial 0 with value: -0.0713261075307372.\n"
     ]
    },
    {
     "name": "stdout",
     "output_type": "stream",
     "text": [
      "  Total Trades: 51\n",
      "  Win Rate: 13.73% (7 wins)\n",
      "  Total PnL (Points): -713.26108\n",
      "  Sharpe Ratio: -0.542\n",
      "  Sortino Ratio: -0.823\n",
      "\n",
      "--- Running Derivative backtest for: EURUSD (Exit: fixed_rr, Cooldown: 5 bars, Lookback: 13) ---\n"
     ]
    },
    {
     "name": "stderr",
     "output_type": "stream",
     "text": [
      "[I 2025-04-22 01:14:52,021] Trial 1 finished with value: -0.1138982338690937 and parameters: {'lookback_period': 13, 'cooldown_period_bars': 5, 'use_atr_filter': False, 'use_adx_filter': False, 'use_adx_whipsaw_filter': False, 'use_adaptive_rr': False, 'base_rr': 2.79608614313569}. Best is trial 0 with value: -0.0713261075307372.\n"
     ]
    },
    {
     "name": "stdout",
     "output_type": "stream",
     "text": [
      "  Total Trades: 151\n",
      "  Win Rate: 15.89% (24 wins)\n",
      "  Total PnL (Points): -1138.98234\n",
      "  Sharpe Ratio: -0.340\n",
      "  Sortino Ratio: -0.650\n",
      "\n",
      "--- Running Derivative backtest for: EURUSD (Exit: fixed_rr, Cooldown: 6 bars, Lookback: 19) Filters: ATR>18MA, ADX>=15 ---\n"
     ]
    },
    {
     "name": "stderr",
     "output_type": "stream",
     "text": [
      "[I 2025-04-22 01:14:52,508] Trial 2 finished with value: -0.05750907921257742 and parameters: {'lookback_period': 19, 'cooldown_period_bars': 6, 'use_atr_filter': True, 'atr_period': 21, 'atr_ma_period': 18, 'use_adx_filter': False, 'use_adx_whipsaw_filter': True, 'adx_whipsaw_threshold': 15, 'use_adaptive_rr': False, 'base_rr': 1.2229126025729846}. Best is trial 2 with value: -0.05750907921257742.\n"
     ]
    },
    {
     "name": "stdout",
     "output_type": "stream",
     "text": [
      "  Total Trades: 91\n",
      "  Win Rate: 34.07% (31 wins)\n",
      "  Total PnL (Points): -575.09079\n",
      "  Sharpe Ratio: -0.207\n",
      "  Sortino Ratio: -0.370\n",
      "\n",
      "--- Running Derivative backtest for: EURUSD (Exit: fixed_rr AdaptiveRR, Cooldown: 9 bars, Lookback: 6) Filters: ADX>23 ---\n"
     ]
    },
    {
     "name": "stderr",
     "output_type": "stream",
     "text": [
      "[I 2025-04-22 01:14:52,925] Trial 3 finished with value: -0.042713227800642795 and parameters: {'lookback_period': 6, 'cooldown_period_bars': 9, 'use_atr_filter': False, 'use_adx_filter': True, 'adx_period_trend': 7, 'adx_trend_threshold': 23, 'use_adx_whipsaw_filter': False, 'use_adaptive_rr': True, 'base_rr': 2.6028374992989782, 'atr_multiplier_rr': -0.1066548523005309}. Best is trial 3 with value: -0.042713227800642795.\n"
     ]
    },
    {
     "name": "stdout",
     "output_type": "stream",
     "text": [
      "  Total Trades: 136\n",
      "  Win Rate: 22.06% (30 wins)\n",
      "  Total PnL (Points): -427.13228\n",
      "  Sharpe Ratio: -0.138\n",
      "  Sortino Ratio: -0.359\n",
      "\n",
      "--- Running Derivative backtest for: EURUSD (Exit: fixed_rr AdaptiveRR, Cooldown: 6 bars, Lookback: 13) ---\n"
     ]
    },
    {
     "name": "stderr",
     "output_type": "stream",
     "text": [
      "[I 2025-04-22 01:14:53,240] Trial 4 finished with value: -0.04819995821195944 and parameters: {'lookback_period': 13, 'cooldown_period_bars': 6, 'use_atr_filter': False, 'use_adx_filter': False, 'use_adx_whipsaw_filter': False, 'use_adaptive_rr': True, 'base_rr': 2.7325678634152295, 'atr_multiplier_rr': 0.5865791641858382}. Best is trial 3 with value: -0.042713227800642795.\n"
     ]
    },
    {
     "name": "stdout",
     "output_type": "stream",
     "text": [
      "  Total Trades: 134\n",
      "  Win Rate: 19.40% (26 wins)\n",
      "  Total PnL (Points): -481.99958\n",
      "  Sharpe Ratio: -0.146\n",
      "  Sortino Ratio: -0.439\n",
      "\n",
      "--- Running Derivative backtest for: EURUSD (Exit: fixed_rr AdaptiveRR, Cooldown: 3 bars, Lookback: 11) Filters: ATR>26MA, ADX>21 ---\n"
     ]
    },
    {
     "name": "stderr",
     "output_type": "stream",
     "text": [
      "[I 2025-04-22 01:14:53,633] Trial 5 finished with value: -0.06887581168493218 and parameters: {'lookback_period': 11, 'cooldown_period_bars': 3, 'use_atr_filter': True, 'atr_period': 12, 'atr_ma_period': 26, 'use_adx_filter': True, 'adx_period_trend': 17, 'adx_trend_threshold': 21, 'use_adx_whipsaw_filter': False, 'use_adaptive_rr': True, 'base_rr': 3.158337540554074, 'atr_multiplier_rr': 0.42717076178195157}. Best is trial 3 with value: -0.042713227800642795.\n"
     ]
    },
    {
     "name": "stdout",
     "output_type": "stream",
     "text": [
      "  Total Trades: 69\n",
      "  Win Rate: 14.49% (10 wins)\n",
      "  Total PnL (Points): -688.75812\n",
      "  Sharpe Ratio: -0.337\n",
      "  Sortino Ratio: -0.669\n",
      "\n",
      "--- Running Derivative backtest for: EURUSD (Exit: fixed_rr, Cooldown: 8 bars, Lookback: 9) Filters: ATR>12MA ---\n"
     ]
    },
    {
     "name": "stderr",
     "output_type": "stream",
     "text": [
      "[I 2025-04-22 01:14:53,959] Trial 6 finished with value: -0.06858497406681918 and parameters: {'lookback_period': 9, 'cooldown_period_bars': 8, 'use_atr_filter': True, 'atr_period': 7, 'atr_ma_period': 12, 'use_adx_filter': False, 'use_adx_whipsaw_filter': False, 'use_adaptive_rr': False, 'base_rr': 2.093202886495034}. Best is trial 3 with value: -0.042713227800642795.\n"
     ]
    },
    {
     "name": "stdout",
     "output_type": "stream",
     "text": [
      "  Total Trades: 104\n",
      "  Win Rate: 23.08% (24 wins)\n",
      "  Total PnL (Points): -685.84974\n",
      "  Sharpe Ratio: -0.282\n",
      "  Sortino Ratio: -0.536\n",
      "\n",
      "--- Running Derivative backtest for: EURUSD (Exit: fixed_rr AdaptiveRR, Cooldown: 5 bars, Lookback: 16) ---\n"
     ]
    },
    {
     "name": "stderr",
     "output_type": "stream",
     "text": [
      "[I 2025-04-22 01:14:54,267] Trial 7 finished with value: -0.14232356085442 and parameters: {'lookback_period': 16, 'cooldown_period_bars': 5, 'use_atr_filter': False, 'use_adx_filter': False, 'use_adx_whipsaw_filter': False, 'use_adaptive_rr': True, 'base_rr': 3.12118269892934, 'atr_multiplier_rr': -0.06350123600761437}. Best is trial 3 with value: -0.042713227800642795.\n"
     ]
    },
    {
     "name": "stdout",
     "output_type": "stream",
     "text": [
      "  Total Trades: 135\n",
      "  Win Rate: 12.59% (17 wins)\n",
      "  Total PnL (Points): -1423.23561\n",
      "  Sharpe Ratio: -0.519\n",
      "  Sortino Ratio: -0.857\n",
      "\n",
      "--- Running Derivative backtest for: EURUSD (Exit: fixed_rr AdaptiveRR, Cooldown: 5 bars, Lookback: 7) Filters: ATR>11MA ---\n"
     ]
    },
    {
     "name": "stderr",
     "output_type": "stream",
     "text": [
      "[I 2025-04-22 01:14:54,637] Trial 8 finished with value: -0.14134037560740387 and parameters: {'lookback_period': 7, 'cooldown_period_bars': 5, 'use_atr_filter': True, 'atr_period': 11, 'atr_ma_period': 11, 'use_adx_filter': False, 'use_adx_whipsaw_filter': False, 'use_adaptive_rr': True, 'base_rr': 3.9996978200850064, 'atr_multiplier_rr': 0.669870134009031}. Best is trial 3 with value: -0.042713227800642795.\n"
     ]
    },
    {
     "name": "stdout",
     "output_type": "stream",
     "text": [
      "  Total Trades: 105\n",
      "  Win Rate: 9.52% (10 wins)\n",
      "  Total PnL (Points): -1413.40376\n",
      "  Sharpe Ratio: -0.551\n",
      "  Sortino Ratio: -0.819\n",
      "\n",
      "--- Running Derivative backtest for: EURUSD (Exit: fixed_rr AdaptiveRR, Cooldown: 10 bars, Lookback: 12) Filters: ATR>42MA, ADX>=19 ---\n"
     ]
    },
    {
     "name": "stderr",
     "output_type": "stream",
     "text": [
      "[I 2025-04-22 01:14:54,999] Trial 9 finished with value: -0.0021996237406982644 and parameters: {'lookback_period': 12, 'cooldown_period_bars': 10, 'use_atr_filter': True, 'atr_period': 14, 'atr_ma_period': 42, 'use_adx_filter': False, 'use_adx_whipsaw_filter': True, 'adx_whipsaw_threshold': 19, 'use_adaptive_rr': True, 'base_rr': 1.7182249657795583, 'atr_multiplier_rr': -0.03528790565523304}. Best is trial 9 with value: -0.0021996237406982644.\n"
     ]
    },
    {
     "name": "stdout",
     "output_type": "stream",
     "text": [
      "  Total Trades: 69\n",
      "  Win Rate: 39.13% (27 wins)\n",
      "  Total PnL (Points): -21.99624\n",
      "  Sharpe Ratio: -0.009\n",
      "  Sortino Ratio: -0.022\n",
      "\n",
      "--- Running Derivative backtest for: EURUSD (Exit: fixed_rr, Cooldown: 10 bars, Lookback: 16) Filters: ATR>50MA, ADX>35, ADX>=25 ---\n"
     ]
    },
    {
     "name": "stderr",
     "output_type": "stream",
     "text": [
      "[I 2025-04-22 01:14:55,730] Trial 10 finished with value: -0.006208085182839218 and parameters: {'lookback_period': 16, 'cooldown_period_bars': 10, 'use_atr_filter': True, 'atr_period': 17, 'atr_ma_period': 50, 'use_adx_filter': True, 'adx_period_trend': 21, 'adx_trend_threshold': 35, 'use_adx_whipsaw_filter': True, 'adx_whipsaw_threshold': 25, 'use_adaptive_rr': False, 'base_rr': 1.7192786929341486}. Best is trial 9 with value: -0.0021996237406982644.\n"
     ]
    },
    {
     "name": "stdout",
     "output_type": "stream",
     "text": [
      "  Total Trades: 11\n",
      "  Win Rate: 27.27% (3 wins)\n",
      "  Total PnL (Points): -62.08085\n",
      "  Sharpe Ratio: -0.104\n",
      "  Sortino Ratio: -0.359\n",
      "\n",
      "--- Running Derivative backtest for: EURUSD (Exit: fixed_rr, Cooldown: 10 bars, Lookback: 16) Filters: ATR>50MA, ADX>35, ADX>=25 ---\n"
     ]
    },
    {
     "name": "stderr",
     "output_type": "stream",
     "text": [
      "[I 2025-04-22 01:14:56,201] Trial 11 finished with value: -0.006817072599042406 and parameters: {'lookback_period': 16, 'cooldown_period_bars': 10, 'use_atr_filter': True, 'atr_period': 17, 'atr_ma_period': 50, 'use_adx_filter': True, 'adx_period_trend': 21, 'adx_trend_threshold': 35, 'use_adx_whipsaw_filter': True, 'adx_whipsaw_threshold': 25, 'use_adaptive_rr': False, 'base_rr': 1.6722260111732545}. Best is trial 9 with value: -0.0021996237406982644.\n"
     ]
    },
    {
     "name": "stdout",
     "output_type": "stream",
     "text": [
      "  Total Trades: 11\n",
      "  Win Rate: 27.27% (3 wins)\n",
      "  Total PnL (Points): -68.17073\n",
      "  Sharpe Ratio: -0.117\n",
      "  Sortino Ratio: -0.395\n",
      "\n",
      "--- Running Derivative backtest for: EURUSD (Exit: fixed_rr, Cooldown: 10 bars, Lookback: 15) Filters: ATR>40MA, ADX>35, ADX>=25 ---\n"
     ]
    },
    {
     "name": "stderr",
     "output_type": "stream",
     "text": [
      "[I 2025-04-22 01:14:56,654] Trial 12 finished with value: 0.0020728752720824417 and parameters: {'lookback_period': 15, 'cooldown_period_bars': 10, 'use_atr_filter': True, 'atr_period': 16, 'atr_ma_period': 40, 'use_adx_filter': True, 'adx_period_trend': 21, 'adx_trend_threshold': 35, 'use_adx_whipsaw_filter': True, 'adx_whipsaw_threshold': 25, 'use_adaptive_rr': False, 'base_rr': 1.789774503018553}. Best is trial 12 with value: 0.0020728752720824417.\n"
     ]
    },
    {
     "name": "stdout",
     "output_type": "stream",
     "text": [
      "  Total Trades: 11\n",
      "  Win Rate: 36.36% (4 wins)\n",
      "  Total PnL (Points): 20.72875\n",
      "  Sharpe Ratio: 0.044\n",
      "  Sortino Ratio: 0.125\n",
      "\n",
      "--- Running Derivative backtest for: EURUSD (Exit: fixed_rr, Cooldown: 8 bars, Lookback: 10) Filters: ATR>37MA, ADX>15, ADX>=19 ---\n"
     ]
    },
    {
     "name": "stderr",
     "output_type": "stream",
     "text": [
      "[I 2025-04-22 01:14:57,133] Trial 13 finished with value: 0.0004012910439390449 and parameters: {'lookback_period': 10, 'cooldown_period_bars': 8, 'use_atr_filter': True, 'atr_period': 15, 'atr_ma_period': 37, 'use_adx_filter': True, 'adx_period_trend': 14, 'adx_trend_threshold': 15, 'use_adx_whipsaw_filter': True, 'adx_whipsaw_threshold': 19, 'use_adaptive_rr': False, 'base_rr': 1.110032127328477}. Best is trial 12 with value: 0.0020728752720824417.\n"
     ]
    },
    {
     "name": "stdout",
     "output_type": "stream",
     "text": [
      "  Total Trades: 84\n",
      "  Win Rate: 46.43% (39 wins)\n",
      "  Total PnL (Points): 4.01291\n",
      "  Sharpe Ratio: 0.002\n",
      "  Sortino Ratio: 0.003\n",
      "\n",
      "--- Running Derivative backtest for: EURUSD (Exit: fixed_rr, Cooldown: 8 bars, Lookback: 9) Filters: ATR>34MA, ADX>17, ADX>=21 ---\n"
     ]
    },
    {
     "name": "stderr",
     "output_type": "stream",
     "text": [
      "[I 2025-04-22 01:14:57,598] Trial 14 finished with value: 0.0066125946825243975 and parameters: {'lookback_period': 9, 'cooldown_period_bars': 8, 'use_atr_filter': True, 'atr_period': 17, 'atr_ma_period': 34, 'use_adx_filter': True, 'adx_period_trend': 14, 'adx_trend_threshold': 17, 'use_adx_whipsaw_filter': True, 'adx_whipsaw_threshold': 21, 'use_adaptive_rr': False, 'base_rr': 1.0796145132633375}. Best is trial 14 with value: 0.0066125946825243975.\n"
     ]
    },
    {
     "name": "stdout",
     "output_type": "stream",
     "text": [
      "  Total Trades: 71\n",
      "  Win Rate: 49.30% (35 wins)\n",
      "  Total PnL (Points): 66.12595\n",
      "  Sharpe Ratio: 0.036\n",
      "  Sortino Ratio: 0.069\n",
      "\n",
      "--- Running Derivative backtest for: EURUSD (Exit: fixed_rr, Cooldown: 8 bars, Lookback: 8) Filters: ATR>31MA, ADX>15, ADX>=23 ---\n"
     ]
    },
    {
     "name": "stderr",
     "output_type": "stream",
     "text": [
      "[I 2025-04-22 01:14:58,025] Trial 15 finished with value: -0.019165663678574862 and parameters: {'lookback_period': 8, 'cooldown_period_bars': 8, 'use_atr_filter': True, 'atr_period': 20, 'atr_ma_period': 31, 'use_adx_filter': True, 'adx_period_trend': 14, 'adx_trend_threshold': 15, 'use_adx_whipsaw_filter': True, 'adx_whipsaw_threshold': 23, 'use_adaptive_rr': False, 'base_rr': 2.1343901304782213}. Best is trial 14 with value: 0.0066125946825243975.\n"
     ]
    },
    {
     "name": "stdout",
     "output_type": "stream",
     "text": [
      "  Total Trades: 59\n",
      "  Win Rate: 27.12% (16 wins)\n",
      "  Total PnL (Points): -191.65664\n",
      "  Sharpe Ratio: -0.096\n",
      "  Sortino Ratio: -0.242\n",
      "\n",
      "--- Running Derivative backtest for: EURUSD (Exit: fixed_rr, Cooldown: 1 bars, Lookback: 5) Filters: ATR>31MA, ADX>29, ADX>=10 ---\n"
     ]
    },
    {
     "name": "stderr",
     "output_type": "stream",
     "text": [
      "[I 2025-04-22 01:14:58,470] Trial 16 finished with value: 0.007272077247780118 and parameters: {'lookback_period': 5, 'cooldown_period_bars': 1, 'use_atr_filter': True, 'atr_period': 17, 'atr_ma_period': 31, 'use_adx_filter': True, 'adx_period_trend': 17, 'adx_trend_threshold': 29, 'use_adx_whipsaw_filter': True, 'adx_whipsaw_threshold': 10, 'use_adaptive_rr': False, 'base_rr': 1.3860774873277377}. Best is trial 16 with value: 0.007272077247780118.\n"
     ]
    },
    {
     "name": "stdout",
     "output_type": "stream",
     "text": [
      "  Total Trades: 64\n",
      "  Win Rate: 35.94% (23 wins)\n",
      "  Total PnL (Points): 72.72077\n",
      "  Sharpe Ratio: 0.058\n",
      "  Sortino Ratio: 0.166\n",
      "\n",
      "--- Running Derivative backtest for: EURUSD (Exit: fixed_rr, Cooldown: 1 bars, Lookback: 5) Filters: ATR>28MA, ADX>28, ADX>=10 ---\n"
     ]
    },
    {
     "name": "stderr",
     "output_type": "stream",
     "text": [
      "[I 2025-04-22 01:14:58,961] Trial 17 finished with value: 0.0019006924812583481 and parameters: {'lookback_period': 5, 'cooldown_period_bars': 1, 'use_atr_filter': True, 'atr_period': 19, 'atr_ma_period': 28, 'use_adx_filter': True, 'adx_period_trend': 17, 'adx_trend_threshold': 28, 'use_adx_whipsaw_filter': True, 'adx_whipsaw_threshold': 10, 'use_adaptive_rr': False, 'base_rr': 1.0068905475757803}. Best is trial 16 with value: 0.007272077247780118.\n"
     ]
    },
    {
     "name": "stdout",
     "output_type": "stream",
     "text": [
      "  Total Trades: 72\n",
      "  Win Rate: 40.28% (29 wins)\n",
      "  Total PnL (Points): 19.00692\n",
      "  Sharpe Ratio: 0.014\n",
      "  Sortino Ratio: 0.032\n",
      "\n",
      "--- Running Derivative backtest for: EURUSD (Exit: fixed_rr, Cooldown: 1 bars, Lookback: 5) Filters: ADX>29, ADX>=10 ---\n"
     ]
    },
    {
     "name": "stderr",
     "output_type": "stream",
     "text": [
      "[I 2025-04-22 01:14:59,374] Trial 18 finished with value: -0.05728170888235007 and parameters: {'lookback_period': 5, 'cooldown_period_bars': 1, 'use_atr_filter': False, 'use_adx_filter': True, 'adx_period_trend': 11, 'adx_trend_threshold': 29, 'use_adx_whipsaw_filter': True, 'adx_whipsaw_threshold': 10, 'use_adaptive_rr': False, 'base_rr': 1.3999766236993259}. Best is trial 16 with value: 0.007272077247780118.\n"
     ]
    },
    {
     "name": "stdout",
     "output_type": "stream",
     "text": [
      "  Total Trades: 180\n",
      "  Win Rate: 28.33% (51 wins)\n",
      "  Total PnL (Points): -572.81709\n",
      "  Sharpe Ratio: -0.186\n",
      "  Sortino Ratio: -0.323\n",
      "\n",
      "--- Running Derivative backtest for: EURUSD (Exit: fixed_rr, Cooldown: 3 bars, Lookback: 8) Filters: ATR>34MA, ADX>19, ADX>=15 ---\n"
     ]
    },
    {
     "name": "stderr",
     "output_type": "stream",
     "text": [
      "[I 2025-04-22 01:14:59,795] Trial 19 finished with value: -0.05788218182333593 and parameters: {'lookback_period': 8, 'cooldown_period_bars': 3, 'use_atr_filter': True, 'atr_period': 18, 'atr_ma_period': 34, 'use_adx_filter': True, 'adx_period_trend': 16, 'adx_trend_threshold': 19, 'use_adx_whipsaw_filter': True, 'adx_whipsaw_threshold': 15, 'use_adaptive_rr': False, 'base_rr': 2.1988880356423244}. Best is trial 16 with value: 0.007272077247780118.\n"
     ]
    },
    {
     "name": "stdout",
     "output_type": "stream",
     "text": [
      "  Total Trades: 85\n",
      "  Win Rate: 23.53% (20 wins)\n",
      "  Total PnL (Points): -578.82182\n",
      "  Sharpe Ratio: -0.252\n",
      "  Sortino Ratio: -0.507\n",
      "\n",
      "--- Running Derivative backtest for: EURUSD (Exit: fixed_rr, Cooldown: 3 bars, Lookback: 7) Filters: ATR>23MA, ADX>25, ADX>=21 ---\n"
     ]
    },
    {
     "name": "stderr",
     "output_type": "stream",
     "text": [
      "[I 2025-04-22 01:15:00,239] Trial 20 finished with value: -0.05841974589947063 and parameters: {'lookback_period': 7, 'cooldown_period_bars': 3, 'use_atr_filter': True, 'atr_period': 13, 'atr_ma_period': 23, 'use_adx_filter': True, 'adx_period_trend': 13, 'adx_trend_threshold': 25, 'use_adx_whipsaw_filter': True, 'adx_whipsaw_threshold': 21, 'use_adaptive_rr': False, 'base_rr': 1.363553518941833}. Best is trial 16 with value: 0.007272077247780118.\n"
     ]
    },
    {
     "name": "stdout",
     "output_type": "stream",
     "text": [
      "  Total Trades: 87\n",
      "  Win Rate: 31.03% (27 wins)\n",
      "  Total PnL (Points): -584.19746\n",
      "  Sharpe Ratio: -0.314\n",
      "  Sortino Ratio: -0.573\n",
      "\n",
      "--- Running Derivative backtest for: EURUSD (Exit: fixed_rr, Cooldown: 7 bars, Lookback: 15) Filters: ATR>37MA, ADX>32, ADX>=22 ---\n"
     ]
    },
    {
     "name": "stderr",
     "output_type": "stream",
     "text": [
      "[I 2025-04-22 01:15:00,665] Trial 21 finished with value: -0.015157152480764102 and parameters: {'lookback_period': 15, 'cooldown_period_bars': 7, 'use_atr_filter': True, 'atr_period': 16, 'atr_ma_period': 37, 'use_adx_filter': True, 'adx_period_trend': 19, 'adx_trend_threshold': 32, 'use_adx_whipsaw_filter': True, 'adx_whipsaw_threshold': 22, 'use_adaptive_rr': False, 'base_rr': 1.5153347423868972}. Best is trial 16 with value: 0.007272077247780118.\n"
     ]
    },
    {
     "name": "stdout",
     "output_type": "stream",
     "text": [
      "  Total Trades: 23\n",
      "  Win Rate: 26.09% (6 wins)\n",
      "  Total PnL (Points): -151.57152\n",
      "  Sharpe Ratio: -0.187\n",
      "  Sortino Ratio: -0.400\n",
      "\n",
      "--- Running Derivative backtest for: EURUSD (Exit: fixed_rr, Cooldown: 9 bars, Lookback: 18) Filters: ATR>42MA, ADX>31, ADX>=14 ---\n"
     ]
    },
    {
     "name": "stderr",
     "output_type": "stream",
     "text": [
      "[I 2025-04-22 01:15:01,093] Trial 22 finished with value: -0.012741333438372582 and parameters: {'lookback_period': 18, 'cooldown_period_bars': 9, 'use_atr_filter': True, 'atr_period': 15, 'atr_ma_period': 42, 'use_adx_filter': True, 'adx_period_trend': 19, 'adx_trend_threshold': 31, 'use_adx_whipsaw_filter': True, 'adx_whipsaw_threshold': 14, 'use_adaptive_rr': False, 'base_rr': 1.9387565908739877}. Best is trial 16 with value: 0.007272077247780118.\n"
     ]
    },
    {
     "name": "stdout",
     "output_type": "stream",
     "text": [
      "  Total Trades: 22\n",
      "  Win Rate: 27.27% (6 wins)\n",
      "  Total PnL (Points): -127.41333\n",
      "  Sharpe Ratio: -0.150\n",
      "  Sortino Ratio: -0.402\n",
      "\n",
      "--- Running Derivative backtest for: EURUSD (Exit: fixed_rr, Cooldown: 9 bars, Lookback: 14) Filters: ATR>35MA, ADX>18, ADX>=21 ---\n"
     ]
    },
    {
     "name": "stderr",
     "output_type": "stream",
     "text": [
      "[I 2025-04-22 01:15:01,516] Trial 23 finished with value: -0.038194814136495836 and parameters: {'lookback_period': 14, 'cooldown_period_bars': 9, 'use_atr_filter': True, 'atr_period': 18, 'atr_ma_period': 35, 'use_adx_filter': True, 'adx_period_trend': 16, 'adx_trend_threshold': 18, 'use_adx_whipsaw_filter': True, 'adx_whipsaw_threshold': 21, 'use_adaptive_rr': False, 'base_rr': 2.366051847988145}. Best is trial 16 with value: 0.007272077247780118.\n"
     ]
    },
    {
     "name": "stdout",
     "output_type": "stream",
     "text": [
      "  Total Trades: 53\n",
      "  Win Rate: 22.64% (12 wins)\n",
      "  Total PnL (Points): -381.94814\n",
      "  Sharpe Ratio: -0.212\n",
      "  Sortino Ratio: -0.489\n",
      "\n",
      "--- Running Derivative backtest for: EURUSD (Exit: fixed_rr, Cooldown: 2 bars, Lookback: 10) Filters: ATR>32MA, ADX>25, ADX>=13 ---\n"
     ]
    },
    {
     "name": "stderr",
     "output_type": "stream",
     "text": [
      "[I 2025-04-22 01:15:01,954] Trial 24 finished with value: -0.046920067274135224 and parameters: {'lookback_period': 10, 'cooldown_period_bars': 2, 'use_atr_filter': True, 'atr_period': 16, 'atr_ma_period': 32, 'use_adx_filter': True, 'adx_period_trend': 19, 'adx_trend_threshold': 25, 'use_adx_whipsaw_filter': True, 'adx_whipsaw_threshold': 13, 'use_adaptive_rr': False, 'base_rr': 1.8778601276597635}. Best is trial 16 with value: 0.007272077247780118.\n"
     ]
    },
    {
     "name": "stdout",
     "output_type": "stream",
     "text": [
      "  Total Trades: 55\n",
      "  Win Rate: 20.00% (11 wins)\n",
      "  Total PnL (Points): -469.20067\n",
      "  Sharpe Ratio: -0.291\n",
      "  Sortino Ratio: -0.485\n",
      "  Optimization complete. Best PnL (in-sample): 0.00727\n",
      "  Best parameters found: {'lookback_period': 5, 'cooldown_period_bars': 1, 'use_atr_filter': True, 'atr_period': 17, 'atr_ma_period': 31, 'use_adx_filter': True, 'adx_period_trend': 17, 'adx_trend_threshold': 29, 'use_adx_whipsaw_filter': True, 'adx_whipsaw_threshold': 10, 'use_adaptive_rr': False, 'base_rr': 1.3860774873277377}\n",
      "  Running backtest on test data with best parameters...\n",
      "  Error during Optuna optimization or OOS backtest for run 2: run_derivative_backtest_for_pair_with_cooldown() got an unexpected keyword argument 'adx_period_trend'\n",
      "\\n==============================\n",
      "Walk-Forward Analysis Complete.\n",
      "==============================\\n\n",
      "===== Walk-Forward Out-of-Sample Results Summary =====\n",
      "     pair  strategy  cooldown  total_trades   win_rate  total_pnl  sharpe_ratio  sortino_ratio rr_ratio trailing_sl_distance max_hold_bars  lookback_period  use_atr_filter atr_period atr_ma_period  use_adx_filter adx_period adx_trend_threshold  use_adx_whipsaw_filter adx_whipsaw_threshold  use_adaptive_rr   base_rr  atr_multiplier_rr            optimize_start              optimize_end                test_start                  test_end\n",
      "0  EURUSD  fixed_rr        10            65  50.769231   0.022291      0.127123       0.258544     None                 None          None               17           False       None          None           False       None                None                   False                  None             True  1.019129           0.177927 2024-04-21 23:00:00+00:00 2024-10-18 23:00:00+00:00 2024-10-18 23:00:00+00:00 2025-01-16 23:00:00+00:00\n",
      "\\n===== Aggregated Out-of-Sample Performance =====\n",
      "Total Out-of-Sample PnL: 0.02229\n",
      "Total Out-of-Sample Trades: 65\n",
      "Overall Weighted Out-of-Sample Win Rate: 50.77%\n",
      "\\nCombined 65 trades from all OOS periods.\n"
     ]
    }
   ],
   "source": [
    "import pandas as pd\n",
    "import numpy as np\n",
    "import optuna\n",
    "from datetime import timedelta # Useful for date-based slicing\n",
    "\n",
    "# --- 1. Define Walk-Forward Parameters ---\n",
    "\n",
    "# Use the DataFrame you want to test on (e.g., df from CSV or df_yf_adapted from yfinance)\n",
    "# Ensure it has a DatetimeIndex\n",
    "data_to_use = df_yf_adapted # Or df if using the original CSV data\n",
    "\n",
    "# Define the length of the optimization (in-sample) and testing (out-of-sample) periods\n",
    "# Using Timedeltas for date-based slicing (adjust as needed)\n",
    "optimize_duration = pd.Timedelta(days=180) # e.g., 6 months for optimization\n",
    "test_duration = pd.Timedelta(days=90)    # e.g., 3 months for testing (out-of-sample)\n",
    "step_duration = pd.Timedelta(days=90)     # How much to slide the window forward each time\n",
    "\n",
    "# Or use number of bars if preferred (requires integer index or careful calculation)\n",
    "# optimize_bars = 1000\n",
    "# test_bars = 500\n",
    "# step_bars = 500\n",
    "\n",
    "# Define the pair and strategy to perform walk-forward on\n",
    "wf_pair_suffix = 'eurusd' # Make sure this matches the suffix in data_to_use\n",
    "wf_exit_strategy = 'fixed_rr' # Choose the strategy ('fixed_rr', 'trailing_sl', 'time_exit')\n",
    "\n",
    "# Optuna settings for each optimization window\n",
    "n_optuna_trials_wf = 25 # Number of trials per optimization window (keep it lower for faster WF)\n",
    "\n",
    "# --- 2. Walk-Forward Loop ---\n",
    "\n",
    "all_oos_results = [] # List to store results from each out-of-sample period\n",
    "all_oos_trades = {}  # Dictionary to store trades from each out-of-sample period\n",
    "\n",
    "start_date = data_to_use.index.min()\n",
    "end_date = data_to_use.index.max()\n",
    "\n",
    "current_optimize_start = start_date\n",
    "\n",
    "wf_run_count = 0\n",
    "\n",
    "print(\"Starting Walk-Forward Analysis...\")\n",
    "print(f\"Optimize Duration: {optimize_duration}\")\n",
    "print(f\"Test Duration: {test_duration}\")\n",
    "print(f\"Step Duration: {step_duration}\")\n",
    "print(\"-\" * 30)\n",
    "\n",
    "while current_optimize_start + optimize_duration + test_duration <= end_date:\n",
    "    wf_run_count += 1\n",
    "    optimize_end = current_optimize_start + optimize_duration\n",
    "    test_start = optimize_end\n",
    "    test_end = test_start + test_duration\n",
    "\n",
    "    print(f\"\\\\n===== Walk-Forward Run {wf_run_count} =====\")\n",
    "    print(f\"Optimize Period: {current_optimize_start.date()} to {optimize_end.date()}\")\n",
    "    print(f\"Test Period    : {test_start.date()} to {test_end.date()}\")\n",
    "\n",
    "    # --- 3. Data Slicing ---\n",
    "    df_optimize = data_to_use.loc[current_optimize_start:optimize_end].copy()\n",
    "    df_test = data_to_use.loc[test_start:test_end].copy()\n",
    "\n",
    "    if df_optimize.empty or df_test.empty:\n",
    "        print(\"  Skipping run: Insufficient data in optimize or test period.\")\n",
    "        current_optimize_start += step_duration\n",
    "        continue\n",
    "\n",
    "    # --- 4. Optimization (In-Sample) ---\n",
    "    print(f\"  Running Optuna ({n_optuna_trials_wf} trials) on optimization data...\")\n",
    "    # Use a lambda to pass the optimization data slice to the objective function\n",
    "    study_wf = optuna.create_study(direction='maximize', study_name=f\"wf_run_{wf_run_count}\")\n",
    "    try:\n",
    "        study_wf.optimize(lambda trial: objective(trial, df_optimize), n_trials=n_optuna_trials_wf, n_jobs=1) # n_jobs=1 might be safer depending on function side effects\n",
    "        best_params_wf = study_wf.best_params\n",
    "        print(f\"  Optimization complete. Best PnL (in-sample): {study_wf.best_value:.5f}\")\n",
    "        print(f\"  Best parameters found: {best_params_wf}\")\n",
    "\n",
    "        # --- 5. Testing (Out-of-Sample) ---\n",
    "        print(f\"  Running backtest on test data with best parameters...\")\n",
    "\n",
    "        # Prepare parameters for the backtest function call\n",
    "        backtest_params = {\n",
    "            'df_original': df_test,\n",
    "            'pair_suffix': wf_pair_suffix,\n",
    "            'exit_strategy': wf_exit_strategy,\n",
    "            **best_params_wf # Unpack the best parameters found by Optuna\n",
    "            # Add any fixed parameters not optimized by Optuna if needed\n",
    "            # e.g., 'use_atr_filter': False,\n",
    "        }\n",
    "\n",
    "        # Adjust parameter names if Optuna names differ from function args (should match now)\n",
    "        # e.g., if Optuna used 'rr' but function needs 'rr_ratio':\n",
    "        # if 'rr' in best_params_wf:\n",
    "        #     backtest_params['rr_ratio'] = best_params_wf.pop('rr')\n",
    "\n",
    "        oos_results, oos_trades = run_derivative_backtest_for_pair_with_cooldown(**backtest_params)\n",
    "\n",
    "        # Add window info to results\n",
    "        oos_results['optimize_start'] = current_optimize_start\n",
    "        oos_results['optimize_end'] = optimize_end\n",
    "        oos_results['test_start'] = test_start\n",
    "        oos_results['test_end'] = test_end\n",
    "\n",
    "        all_oos_results.append(oos_results)\n",
    "        if not oos_trades.empty:\n",
    "             # Store trades with a unique key for this run\n",
    "             all_oos_trades[f\"run_{wf_run_count}_{test_start.date()}_{test_end.date()}\"] = oos_trades\n",
    "\n",
    "    except Exception as e:\n",
    "        print(f\"  Error during Optuna optimization or OOS backtest for run {wf_run_count}: {e}\")\n",
    "        # Optionally log the error or handle it as needed\n",
    "\n",
    "    # --- Slide Window ---\n",
    "    current_optimize_start += step_duration\n",
    "\n",
    "print(\"\\\\n\" + \"=\" * 30)\n",
    "print(\"Walk-Forward Analysis Complete.\")\n",
    "print(\"=\" * 30 + \"\\\\n\")\n",
    "\n",
    "# --- 6. Aggregate and Display Results ---\n",
    "if all_oos_results:\n",
    "    wf_results_df = pd.DataFrame(all_oos_results)\n",
    "\n",
    "    print(\"===== Walk-Forward Out-of-Sample Results Summary =====\")\n",
    "    # Set display options to show all rows and columns\n",
    "    pd.set_option('display.max_rows', None)\n",
    "    pd.set_option('display.max_columns', None)\n",
    "    pd.set_option('display.width', 1000) # Wider display\n",
    "    print(wf_results_df.to_string())\n",
    "\n",
    "    print(\"\\\\n===== Aggregated Out-of-Sample Performance =====\")\n",
    "    # Convert relevant columns to numeric, coercing errors\n",
    "    wf_results_df['total_pnl_numeric'] = pd.to_numeric(wf_results_df['total_pnl'], errors='coerce').fillna(0)\n",
    "    wf_results_df['total_trades_numeric'] = pd.to_numeric(wf_results_df['total_trades'], errors='coerce').fillna(0)\n",
    "\n",
    "    total_oos_pnl = wf_results_df['total_pnl_numeric'].sum()\n",
    "    total_oos_trades = wf_results_df['total_trades_numeric'].sum()\n",
    "\n",
    "    # Calculate overall win rate (weighted by trades per period might be better if desired)\n",
    "    # Simple average win rate:\n",
    "    avg_oos_win_rate = pd.to_numeric(wf_results_df['win_rate'], errors='coerce').mean()\n",
    "    # Weighted win rate (more accurate if trade counts vary significantly):\n",
    "    wf_results_df['weighted_wins'] = pd.to_numeric(wf_results_df['win_rate'], errors='coerce')/100 * wf_results_df['total_trades_numeric']\n",
    "    total_oos_wins = wf_results_df['weighted_wins'].sum()\n",
    "    overall_weighted_win_rate = (total_oos_wins / total_oos_trades * 100) if total_oos_trades > 0 else 0\n",
    "\n",
    "\n",
    "    print(f\"Total Out-of-Sample PnL: {total_oos_pnl:.5f}\")\n",
    "    print(f\"Total Out-of-Sample Trades: {int(total_oos_trades)}\")\n",
    "    # print(f\"Average Out-of-Sample Win Rate: {avg_oos_win_rate:.2f}%\")\n",
    "    print(f\"Overall Weighted Out-of-Sample Win Rate: {overall_weighted_win_rate:.2f}%\")\n",
    "\n",
    "    # Combine all OOS trades into one DataFrame for further analysis if needed\n",
    "    if all_oos_trades:\n",
    "        combined_oos_trades_df = pd.concat(all_oos_trades.values(), ignore_index=True)\n",
    "        print(f\"\\\\nCombined {len(combined_oos_trades_df)} trades from all OOS periods.\")\n",
    "        # You can now analyze combined_oos_trades_df (e.g., plot equity curve)\n",
    "    else:\n",
    "        print(\"\\\\nNo trades recorded across all OOS periods.\")\n",
    "\n",
    "else:\n",
    "    print(\"No walk-forward runs were completed successfully.\")\n",
    "\n",
    "# Reset display options if desired\n",
    "# pd.reset_option('display.max_rows')\n",
    "# pd.reset_option('display.max_columns')\n",
    "# pd.reset_option('display.width')"
   ]
  },
  {
   "cell_type": "code",
   "execution_count": 54,
   "id": "6d8ebe81",
   "metadata": {},
   "outputs": [
    {
     "name": "stdout",
     "output_type": "stream",
     "text": [
      "Plotting trades from walk-forward out-of-sample periods...\n"
     ]
    },
    {
     "data": {
      "image/png": "[encoded data removed]",
      "text/plain": [
       "<Figure size 1500x800 with 1 Axes>"
      ]
     },
     "metadata": {},
     "output_type": "display_data"
    }
   ],
   "source": [
    "import matplotlib.pyplot as plt\n",
    "import matplotlib.dates as mdates\n",
    "\n",
    "# --- Ensure necessary variables exist ---\n",
    "if 'combined_oos_trades_df' in locals() and not combined_oos_trades_df.empty and \\\n",
    "   'data_to_use' in locals() and not data_to_use.empty and \\\n",
    "   'wf_pair_suffix' in locals():\n",
    "\n",
    "    print(\"Plotting trades from walk-forward out-of-sample periods...\")\n",
    "\n",
    "    # Get the relevant price column from the data used in walk-forward\n",
    "    price_col_name = f'close_{wf_pair_suffix}'\n",
    "    if price_col_name not in data_to_use.columns:\n",
    "        print(f\"Error: Price column '{price_col_name}' not found in the data used for walk-forward.\")\n",
    "    else:\n",
    "        # --- Create the Plot ---\n",
    "        fig, ax = plt.subplots(figsize=(15, 8))\n",
    "\n",
    "        # 1. Plot the price series for the entire period covered by trades\n",
    "        plot_data = data_to_use.loc[combined_oos_trades_df['entry_time'].min():combined_oos_trades_df['exit_time'].max()]\n",
    "        ax.plot(plot_data.index, plot_data[price_col_name], label=f'{wf_pair_suffix.upper()} Close Price', color='lightblue', linewidth=1)\n",
    "\n",
    "        # 2. Plot Entry and Exit Markers\n",
    "        # Long Entries\n",
    "        long_entries = combined_oos_trades_df[combined_oos_trades_df['type'] == 'long']\n",
    "        ax.plot(long_entries['entry_time'], long_entries['entry'], '^', markersize=8, color='lime', label='Long Entry', markeredgecolor='k')\n",
    "\n",
    "        # Short Entries\n",
    "        short_entries = combined_oos_trades_df[combined_oos_trades_df['type'] == 'short']\n",
    "        ax.plot(short_entries['entry_time'], short_entries['entry'], 'v', markersize=8, color='red', label='Short Entry', markeredgecolor='k')\n",
    "\n",
    "        # Exits (use entry price for plotting exit marker location for simplicity, or use exit price)\n",
    "        # You could plot exits differently based on SL/TP/Time if desired using 'exit_reason'\n",
    "        ax.plot(combined_oos_trades_df['exit_time'], combined_oos_trades_df['exit'], 'x', markersize=7, color='black', label='Exit')\n",
    "\n",
    "\n",
    "        # --- Formatting ---\n",
    "        ax.set_title(f'Walk-Forward Out-of-Sample Trades for {wf_pair_suffix.upper()} ({wf_exit_strategy})')\n",
    "        ax.set_xlabel('Date')\n",
    "        ax.set_ylabel('Price')\n",
    "        ax.legend()\n",
    "        ax.grid(True, alpha=0.3)\n",
    "\n",
    "        # Improve date formatting\n",
    "        fig.autofmt_xdate()\n",
    "        ax.xaxis.set_major_formatter(mdates.DateFormatter('%Y-%m-%d %H:%M'))\n",
    "        # Optional: Adjust locator frequency if needed\n",
    "        # ax.xaxis.set_major_locator(mdates.DayLocator(interval=5))\n",
    "\n",
    "        plt.tight_layout()\n",
    "        plt.show()\n",
    "\n",
    "else:\n",
    "    print(\"Could not plot trades. Ensure walk-forward analysis has run successfully and \")\n",
    "    print(\"'combined_oos_trades_df', 'data_to_use', and 'wf_pair_suffix' variables exist.\")"
   ]
  },
  {
   "cell_type": "code",
   "execution_count": 55,
   "id": "2ba621e7",
   "metadata": {},
   "outputs": [
    {
     "name": "stderr",
     "output_type": "stream",
     "text": [
      "[I 2025-04-22 01:15:02,522] A new study created in memory with name: wf_sharpe_run_1\n"
     ]
    },
    {
     "name": "stdout",
     "output_type": "stream",
     "text": [
      "Starting Walk-Forward Analysis (Optimizing for Sharpe Ratio)...\n",
      "Optimize Duration: 180 days 00:00:00\n",
      "Test Duration: 90 days 00:00:00\n",
      "Step Duration: 90 days 00:00:00\n",
      "------------------------------\n",
      "\n",
      "===== Sharpe WF Run 1 =====\n",
      "Optimize Period: 2024-04-21 to 2024-10-18\n",
      "Test Period    : 2024-10-18 to 2025-01-16\n",
      "  Running Optuna (100 trials, maximizing Sharpe) on optimization data...\n",
      "\n",
      "--- Running Derivative backtest for: EURUSD (Exit: fixed_rr, Cooldown: 1 bars, Lookback: 9) Filters: ATR>14MA, ADX>26, ADX>=22 ---\n"
     ]
    },
    {
     "name": "stderr",
     "output_type": "stream",
     "text": [
      "[I 2025-04-22 01:15:02,972] Trial 0 finished with value: -0.591492605606201 and parameters: {'lookback_period': 9, 'cooldown_period_bars': 1, 'use_atr_filter': True, 'atr_period': 9, 'atr_ma_period': 14, 'use_adx_filter': True, 'adx_period_trend': 14, 'adx_trend_threshold': 26, 'use_adx_whipsaw_filter': True, 'adx_whipsaw_threshold': 22, 'use_adaptive_rr': False, 'base_rr': 3.048499854637786}. Best is trial 0 with value: -0.591492605606201.\n"
     ]
    },
    {
     "name": "stdout",
     "output_type": "stream",
     "text": [
      "  Total Trades: 64\n",
      "  Win Rate: 10.94% (7 wins)\n",
      "  Total PnL (Points): -898.21129\n",
      "  Sharpe Ratio: -0.591\n",
      "  Sortino Ratio: -0.799\n",
      "\n",
      "--- Running Derivative backtest for: EURUSD (Exit: fixed_rr AdaptiveRR, Cooldown: 6 bars, Lookback: 10) Filters: ATR>50MA, ADX>17 ---\n"
     ]
    },
    {
     "name": "stderr",
     "output_type": "stream",
     "text": [
      "[I 2025-04-22 01:15:03,413] Trial 1 finished with value: -0.22372138803529126 and parameters: {'lookback_period': 10, 'cooldown_period_bars': 6, 'use_atr_filter': True, 'atr_period': 7, 'atr_ma_period': 50, 'use_adx_filter': True, 'adx_period_trend': 11, 'adx_trend_threshold': 17, 'use_adx_whipsaw_filter': False, 'use_adaptive_rr': True, 'base_rr': 1.1014172167745742, 'atr_multiplier_rr': 0.42788387209230594}. Best is trial 1 with value: -0.22372138803529126.\n"
     ]
    },
    {
     "name": "stdout",
     "output_type": "stream",
     "text": [
      "  Total Trades: 111\n",
      "  Win Rate: 32.43% (36 wins)\n",
      "  Total PnL (Points): -526.97569\n",
      "  Sharpe Ratio: -0.224\n",
      "  Sortino Ratio: -0.420\n",
      "\n",
      "--- Running Derivative backtest for: EURUSD (Exit: fixed_rr, Cooldown: 3 bars, Lookback: 16) Filters: ATR>17MA, ADX>16, ADX>=12 ---\n"
     ]
    },
    {
     "name": "stderr",
     "output_type": "stream",
     "text": [
      "[I 2025-04-22 01:15:03,813] Trial 2 finished with value: -0.17166184548303917 and parameters: {'lookback_period': 16, 'cooldown_period_bars': 3, 'use_atr_filter': True, 'atr_period': 10, 'atr_ma_period': 17, 'use_adx_filter': True, 'adx_period_trend': 7, 'adx_trend_threshold': 16, 'use_adx_whipsaw_filter': True, 'adx_whipsaw_threshold': 12, 'use_adaptive_rr': False, 'base_rr': 1.4452848783628967}. Best is trial 2 with value: -0.17166184548303917.\n"
     ]
    },
    {
     "name": "stdout",
     "output_type": "stream",
     "text": [
      "  Total Trades: 115\n",
      "  Win Rate: 29.57% (34 wins)\n",
      "  Total PnL (Points): -405.48235\n",
      "  Sharpe Ratio: -0.172\n",
      "  Sortino Ratio: -0.405\n",
      "\n",
      "--- Running Derivative backtest for: EURUSD (Exit: fixed_rr, Cooldown: 9 bars, Lookback: 16) Filters: ADX>=23 ---\n"
     ]
    },
    {
     "name": "stderr",
     "output_type": "stream",
     "text": [
      "[I 2025-04-22 01:15:04,134] Trial 3 finished with value: -0.41889619173764175 and parameters: {'lookback_period': 16, 'cooldown_period_bars': 9, 'use_atr_filter': False, 'use_adx_filter': False, 'use_adx_whipsaw_filter': True, 'adx_whipsaw_threshold': 23, 'use_adaptive_rr': False, 'base_rr': 3.4194056324412063}. Best is trial 2 with value: -0.17166184548303917.\n"
     ]
    },
    {
     "name": "stdout",
     "output_type": "stream",
     "text": [
      "  Total Trades: 82\n",
      "  Win Rate: 13.41% (11 wins)\n",
      "  Total PnL (Points): -854.27400\n",
      "  Sharpe Ratio: -0.419\n",
      "  Sortino Ratio: -0.825\n",
      "\n",
      "--- Running Derivative backtest for: EURUSD (Exit: fixed_rr AdaptiveRR, Cooldown: 6 bars, Lookback: 10) Filters: ATR>24MA, ADX>=10 ---\n"
     ]
    },
    {
     "name": "stderr",
     "output_type": "stream",
     "text": [
      "[I 2025-04-22 01:15:04,521] Trial 4 finished with value: -0.7217702296633671 and parameters: {'lookback_period': 10, 'cooldown_period_bars': 6, 'use_atr_filter': True, 'atr_period': 8, 'atr_ma_period': 24, 'use_adx_filter': False, 'use_adx_whipsaw_filter': True, 'adx_whipsaw_threshold': 10, 'use_adaptive_rr': True, 'base_rr': 3.489687915585903, 'atr_multiplier_rr': 0.21575279146446602}. Best is trial 2 with value: -0.17166184548303917.\n"
     ]
    },
    {
     "name": "stdout",
     "output_type": "stream",
     "text": [
      "  Total Trades: 88\n",
      "  Win Rate: 7.95% (7 wins)\n",
      "  Total PnL (Points): -1068.95354\n",
      "  Sharpe Ratio: -0.722\n",
      "  Sortino Ratio: -1.174\n",
      "\n",
      "--- Running Derivative backtest for: EURUSD (Exit: fixed_rr AdaptiveRR, Cooldown: 9 bars, Lookback: 9) Filters: ATR>23MA ---\n"
     ]
    },
    {
     "name": "stderr",
     "output_type": "stream",
     "text": [
      "[I 2025-04-22 01:15:04,877] Trial 5 finished with value: -0.5163956071586474 and parameters: {'lookback_period': 9, 'cooldown_period_bars': 9, 'use_atr_filter': True, 'atr_period': 16, 'atr_ma_period': 23, 'use_adx_filter': False, 'use_adx_whipsaw_filter': False, 'use_adaptive_rr': True, 'base_rr': 3.7139439483790966, 'atr_multiplier_rr': -0.11172323353765856}. Best is trial 2 with value: -0.17166184548303917.\n"
     ]
    },
    {
     "name": "stdout",
     "output_type": "stream",
     "text": [
      "  Total Trades: 79\n",
      "  Win Rate: 10.13% (8 wins)\n",
      "  Total PnL (Points): -840.79054\n",
      "  Sharpe Ratio: -0.516\n",
      "  Sortino Ratio: -0.902\n",
      "\n",
      "--- Running Derivative backtest for: EURUSD (Exit: fixed_rr AdaptiveRR, Cooldown: 2 bars, Lookback: 9) Filters: ADX>15, ADX>=17 ---\n"
     ]
    },
    {
     "name": "stderr",
     "output_type": "stream",
     "text": [
      "[I 2025-04-22 01:15:05,233] Trial 6 finished with value: -0.2836309714840543 and parameters: {'lookback_period': 9, 'cooldown_period_bars': 2, 'use_atr_filter': False, 'use_adx_filter': True, 'adx_period_trend': 11, 'adx_trend_threshold': 15, 'use_adx_whipsaw_filter': True, 'adx_whipsaw_threshold': 17, 'use_adaptive_rr': True, 'base_rr': 2.53179610546512, 'atr_multiplier_rr': 0.5139905905278397}. Best is trial 2 with value: -0.17166184548303917.\n"
     ]
    },
    {
     "name": "stdout",
     "output_type": "stream",
     "text": [
      "  Total Trades: 202\n",
      "  Win Rate: 17.82% (36 wins)\n",
      "  Total PnL (Points): -888.96781\n",
      "  Sharpe Ratio: -0.284\n",
      "  Sortino Ratio: -0.622\n",
      "\n",
      "--- Running Derivative backtest for: EURUSD (Exit: fixed_rr AdaptiveRR, Cooldown: 9 bars, Lookback: 17) Filters: ATR>34MA, ADX>30 ---\n"
     ]
    },
    {
     "name": "stderr",
     "output_type": "stream",
     "text": [
      "[I 2025-04-22 01:15:05,676] Trial 7 finished with value: -0.5344232675597658 and parameters: {'lookback_period': 17, 'cooldown_period_bars': 9, 'use_atr_filter': True, 'atr_period': 14, 'atr_ma_period': 34, 'use_adx_filter': True, 'adx_period_trend': 16, 'adx_trend_threshold': 30, 'use_adx_whipsaw_filter': False, 'use_adaptive_rr': True, 'base_rr': 3.624007950236544, 'atr_multiplier_rr': 0.3250362077644182}. Best is trial 2 with value: -0.17166184548303917.\n"
     ]
    },
    {
     "name": "stdout",
     "output_type": "stream",
     "text": [
      "  Total Trades: 31\n",
      "  Win Rate: 16.13% (5 wins)\n",
      "  Total PnL (Points): -508.73232\n",
      "  Sharpe Ratio: -0.534\n",
      "  Sortino Ratio: -0.801\n",
      "\n",
      "--- Running Derivative backtest for: EURUSD (Exit: fixed_rr AdaptiveRR, Cooldown: 5 bars, Lookback: 12) Filters: ADX>15 ---\n"
     ]
    },
    {
     "name": "stderr",
     "output_type": "stream",
     "text": [
      "[I 2025-04-22 01:15:06,036] Trial 8 finished with value: -0.22839670068471912 and parameters: {'lookback_period': 12, 'cooldown_period_bars': 5, 'use_atr_filter': False, 'use_adx_filter': True, 'adx_period_trend': 18, 'adx_trend_threshold': 15, 'use_adx_whipsaw_filter': False, 'use_adaptive_rr': True, 'base_rr': 1.1256199310909767, 'atr_multiplier_rr': -0.40191183344225423}. Best is trial 2 with value: -0.17166184548303917.\n"
     ]
    },
    {
     "name": "stdout",
     "output_type": "stream",
     "text": [
      "  Total Trades: 166\n",
      "  Win Rate: 35.54% (59 wins)\n",
      "  Total PnL (Points): -584.60807\n",
      "  Sharpe Ratio: -0.228\n",
      "  Sortino Ratio: -0.414\n",
      "\n",
      "--- Running Derivative backtest for: EURUSD (Exit: fixed_rr, Cooldown: 3 bars, Lookback: 5) Filters: ADX>27, ADX>=23 ---\n"
     ]
    },
    {
     "name": "stderr",
     "output_type": "stream",
     "text": [
      "[I 2025-04-22 01:15:06,393] Trial 9 finished with value: -0.20917904798911788 and parameters: {'lookback_period': 5, 'cooldown_period_bars': 3, 'use_atr_filter': False, 'use_adx_filter': True, 'adx_period_trend': 9, 'adx_trend_threshold': 27, 'use_adx_whipsaw_filter': True, 'adx_whipsaw_threshold': 23, 'use_adaptive_rr': False, 'base_rr': 1.7040337857941812}. Best is trial 2 with value: -0.17166184548303917.\n"
     ]
    },
    {
     "name": "stdout",
     "output_type": "stream",
     "text": [
      "  Total Trades: 166\n",
      "  Win Rate: 24.10% (40 wins)\n",
      "  Total PnL (Points): -559.43070\n",
      "  Sharpe Ratio: -0.209\n",
      "  Sortino Ratio: -0.415\n",
      "\n",
      "--- Running Derivative backtest for: EURUSD (Exit: fixed_rr, Cooldown: 4 bars, Lookback: 20) Filters: ATR>12MA, ADX>=10 ---\n"
     ]
    },
    {
     "name": "stderr",
     "output_type": "stream",
     "text": [
      "[I 2025-04-22 01:15:06,817] Trial 10 finished with value: -0.11512202126756557 and parameters: {'lookback_period': 20, 'cooldown_period_bars': 4, 'use_atr_filter': True, 'atr_period': 21, 'atr_ma_period': 12, 'use_adx_filter': False, 'use_adx_whipsaw_filter': True, 'adx_whipsaw_threshold': 10, 'use_adaptive_rr': False, 'base_rr': 1.8948727727499652}. Best is trial 10 with value: -0.11512202126756557.\n"
     ]
    },
    {
     "name": "stdout",
     "output_type": "stream",
     "text": [
      "  Total Trades: 99\n",
      "  Win Rate: 28.28% (28 wins)\n",
      "  Total PnL (Points): -292.16799\n",
      "  Sharpe Ratio: -0.115\n",
      "  Sortino Ratio: -0.309\n",
      "\n",
      "--- Running Derivative backtest for: EURUSD (Exit: fixed_rr, Cooldown: 4 bars, Lookback: 20) Filters: ATR>11MA, ADX>=10 ---\n"
     ]
    },
    {
     "name": "stderr",
     "output_type": "stream",
     "text": [
      "[I 2025-04-22 01:15:07,194] Trial 11 finished with value: -0.23572141711222072 and parameters: {'lookback_period': 20, 'cooldown_period_bars': 4, 'use_atr_filter': True, 'atr_period': 21, 'atr_ma_period': 11, 'use_adx_filter': False, 'use_adx_whipsaw_filter': True, 'adx_whipsaw_threshold': 10, 'use_adaptive_rr': False, 'base_rr': 1.910891916424039}. Best is trial 10 with value: -0.11512202126756557.\n"
     ]
    },
    {
     "name": "stdout",
     "output_type": "stream",
     "text": [
      "  Total Trades: 100\n",
      "  Win Rate: 23.00% (23 wins)\n",
      "  Total PnL (Points): -569.88374\n",
      "  Sharpe Ratio: -0.236\n",
      "  Sortino Ratio: -0.581\n",
      "\n",
      "--- Running Derivative backtest for: EURUSD (Exit: fixed_rr, Cooldown: 4 bars, Lookback: 20) Filters: ATR>17MA, ADX>=14 ---\n"
     ]
    },
    {
     "name": "stderr",
     "output_type": "stream",
     "text": [
      "[I 2025-04-22 01:15:07,683] Trial 12 finished with value: -0.17700644103580365 and parameters: {'lookback_period': 20, 'cooldown_period_bars': 4, 'use_atr_filter': True, 'atr_period': 13, 'atr_ma_period': 17, 'use_adx_filter': False, 'use_adx_whipsaw_filter': True, 'adx_whipsaw_threshold': 14, 'use_adaptive_rr': False, 'base_rr': 1.8075470685460213}. Best is trial 10 with value: -0.11512202126756557.\n"
     ]
    },
    {
     "name": "stdout",
     "output_type": "stream",
     "text": [
      "  Total Trades: 97\n",
      "  Win Rate: 27.84% (27 wins)\n",
      "  Total PnL (Points): -411.38674\n",
      "  Sharpe Ratio: -0.177\n",
      "  Sortino Ratio: -0.362\n",
      "\n",
      "--- Running Derivative backtest for: EURUSD (Exit: fixed_rr, Cooldown: 7 bars, Lookback: 16) Filters: ATR>34MA, ADX>=14 ---\n"
     ]
    },
    {
     "name": "stderr",
     "output_type": "stream",
     "text": [
      "[I 2025-04-22 01:15:08,087] Trial 13 finished with value: -0.5453553973188651 and parameters: {'lookback_period': 16, 'cooldown_period_bars': 7, 'use_atr_filter': True, 'atr_period': 21, 'atr_ma_period': 34, 'use_adx_filter': False, 'use_adx_whipsaw_filter': True, 'adx_whipsaw_threshold': 14, 'use_adaptive_rr': False, 'base_rr': 2.318472393810165}. Best is trial 10 with value: -0.11512202126756557.\n"
     ]
    },
    {
     "name": "stdout",
     "output_type": "stream",
     "text": [
      "  Total Trades: 76\n",
      "  Win Rate: 13.16% (10 wins)\n",
      "  Total PnL (Points): -986.62460\n",
      "  Sharpe Ratio: -0.545\n",
      "  Sortino Ratio: -0.841\n",
      "\n",
      "--- Running Derivative backtest for: EURUSD (Exit: fixed_rr, Cooldown: 1 bars, Lookback: 18) Filters: ATR>10MA, ADX>21, ADX>=14 ---\n"
     ]
    },
    {
     "name": "stderr",
     "output_type": "stream",
     "text": [
      "[I 2025-04-22 01:15:08,556] Trial 14 finished with value: -0.33036208220381613 and parameters: {'lookback_period': 18, 'cooldown_period_bars': 1, 'use_atr_filter': True, 'atr_period': 11, 'atr_ma_period': 10, 'use_adx_filter': True, 'adx_period_trend': 7, 'adx_trend_threshold': 21, 'use_adx_whipsaw_filter': True, 'adx_whipsaw_threshold': 14, 'use_adaptive_rr': False, 'base_rr': 1.5008832914145807}. Best is trial 10 with value: -0.11512202126756557.\n"
     ]
    },
    {
     "name": "stdout",
     "output_type": "stream",
     "text": [
      "  Total Trades: 139\n",
      "  Win Rate: 23.74% (33 wins)\n",
      "  Total PnL (Points): -989.83387\n",
      "  Sharpe Ratio: -0.330\n",
      "  Sortino Ratio: -0.533\n",
      "\n",
      "--- Running Derivative backtest for: EURUSD (Exit: fixed_rr, Cooldown: 3 bars, Lookback: 14) Filters: ATR>20MA, ADX>=12 ---\n"
     ]
    },
    {
     "name": "stderr",
     "output_type": "stream",
     "text": [
      "[I 2025-04-22 01:15:08,979] Trial 15 finished with value: -0.4316513346622441 and parameters: {'lookback_period': 14, 'cooldown_period_bars': 3, 'use_atr_filter': True, 'atr_period': 17, 'atr_ma_period': 20, 'use_adx_filter': False, 'use_adx_whipsaw_filter': True, 'adx_whipsaw_threshold': 12, 'use_adaptive_rr': False, 'base_rr': 2.363382032730402}. Best is trial 10 with value: -0.11512202126756557.\n"
     ]
    },
    {
     "name": "stdout",
     "output_type": "stream",
     "text": [
      "  Total Trades: 93\n",
      "  Win Rate: 15.05% (14 wins)\n",
      "  Total PnL (Points): -795.47341\n",
      "  Sharpe Ratio: -0.432\n",
      "  Sortino Ratio: -0.849\n",
      "\n",
      "--- Running Derivative backtest for: EURUSD (Exit: fixed_rr, Cooldown: 3 bars, Lookback: 14) Filters: ATR>29MA, ADX>=18 ---\n"
     ]
    },
    {
     "name": "stderr",
     "output_type": "stream",
     "text": [
      "[I 2025-04-22 01:15:09,430] Trial 16 finished with value: -0.15044664817040865 and parameters: {'lookback_period': 14, 'cooldown_period_bars': 3, 'use_atr_filter': True, 'atr_period': 18, 'atr_ma_period': 29, 'use_adx_filter': False, 'use_adx_whipsaw_filter': True, 'adx_whipsaw_threshold': 18, 'use_adaptive_rr': False, 'base_rr': 1.4134692621411928}. Best is trial 10 with value: -0.11512202126756557.\n"
     ]
    },
    {
     "name": "stdout",
     "output_type": "stream",
     "text": [
      "  Total Trades: 93\n",
      "  Win Rate: 32.26% (30 wins)\n",
      "  Total PnL (Points): -357.81271\n",
      "  Sharpe Ratio: -0.150\n",
      "  Sortino Ratio: -0.296\n",
      "\n",
      "--- Running Derivative backtest for: EURUSD (Exit: fixed_rr, Cooldown: 7 bars, Lookback: 13) Filters: ATR>43MA, ADX>=19 ---\n"
     ]
    },
    {
     "name": "stderr",
     "output_type": "stream",
     "text": [
      "[I 2025-04-22 01:15:09,886] Trial 17 finished with value: -0.23683944916394162 and parameters: {'lookback_period': 13, 'cooldown_period_bars': 7, 'use_atr_filter': True, 'atr_period': 19, 'atr_ma_period': 43, 'use_adx_filter': False, 'use_adx_whipsaw_filter': True, 'adx_whipsaw_threshold': 19, 'use_adaptive_rr': False, 'base_rr': 2.1172850363855344}. Best is trial 10 with value: -0.11512202126756557.\n"
     ]
    },
    {
     "name": "stdout",
     "output_type": "stream",
     "text": [
      "  Total Trades: 69\n",
      "  Win Rate: 24.64% (17 wins)\n",
      "  Total PnL (Points): -415.50294\n",
      "  Sharpe Ratio: -0.237\n",
      "  Sortino Ratio: -0.454\n",
      "\n",
      "--- Running Derivative backtest for: EURUSD (Exit: fixed_rr, Cooldown: 5 bars, Lookback: 5) ---\n"
     ]
    },
    {
     "name": "stderr",
     "output_type": "stream",
     "text": [
      "[I 2025-04-22 01:15:10,239] Trial 18 finished with value: -0.46866471734437676 and parameters: {'lookback_period': 5, 'cooldown_period_bars': 5, 'use_atr_filter': False, 'use_adx_filter': False, 'use_adx_whipsaw_filter': False, 'use_adaptive_rr': False, 'base_rr': 3.042081946956646}. Best is trial 10 with value: -0.11512202126756557.\n"
     ]
    },
    {
     "name": "stdout",
     "output_type": "stream",
     "text": [
      "  Total Trades: 200\n",
      "  Win Rate: 12.00% (24 wins)\n",
      "  Total PnL (Points): -1132.40972\n",
      "  Sharpe Ratio: -0.469\n",
      "  Sortino Ratio: -0.970\n",
      "\n",
      "--- Running Derivative backtest for: EURUSD (Exit: fixed_rr, Cooldown: 2 bars, Lookback: 18) Filters: ATR>28MA, ADX>=19 ---\n"
     ]
    },
    {
     "name": "stderr",
     "output_type": "stream",
     "text": [
      "[I 2025-04-22 01:15:10,715] Trial 19 finished with value: -0.5489813926312048 and parameters: {'lookback_period': 18, 'cooldown_period_bars': 2, 'use_atr_filter': True, 'atr_period': 18, 'atr_ma_period': 28, 'use_adx_filter': False, 'use_adx_whipsaw_filter': True, 'adx_whipsaw_threshold': 19, 'use_adaptive_rr': False, 'base_rr': 2.75525143776456}. Best is trial 10 with value: -0.11512202126756557.\n"
     ]
    },
    {
     "name": "stdout",
     "output_type": "stream",
     "text": [
      "  Total Trades: 81\n",
      "  Win Rate: 13.58% (11 wins)\n",
      "  Total PnL (Points): -934.13978\n",
      "  Sharpe Ratio: -0.549\n",
      "  Sortino Ratio: -0.797\n",
      "\n",
      "--- Running Derivative backtest for: EURUSD (Exit: fixed_rr, Cooldown: 4 bars, Lookback: 14) Filters: ATR>39MA, ADX>=17 ---\n"
     ]
    },
    {
     "name": "stderr",
     "output_type": "stream",
     "text": [
      "[I 2025-04-22 01:15:11,170] Trial 20 finished with value: -0.1970174706252339 and parameters: {'lookback_period': 14, 'cooldown_period_bars': 4, 'use_atr_filter': True, 'atr_period': 19, 'atr_ma_period': 39, 'use_adx_filter': False, 'use_adx_whipsaw_filter': True, 'adx_whipsaw_threshold': 17, 'use_adaptive_rr': False, 'base_rr': 1.4684577886505887}. Best is trial 10 with value: -0.11512202126756557.\n"
     ]
    },
    {
     "name": "stdout",
     "output_type": "stream",
     "text": [
      "  Total Trades: 89\n",
      "  Win Rate: 32.58% (29 wins)\n",
      "  Total PnL (Points): -406.36851\n",
      "  Sharpe Ratio: -0.197\n",
      "  Sortino Ratio: -0.335\n",
      "\n",
      "--- Running Derivative backtest for: EURUSD (Exit: fixed_rr, Cooldown: 3 bars, Lookback: 15) Filters: ATR>18MA, ADX>35, ADX>=12 ---\n"
     ]
    },
    {
     "name": "stderr",
     "output_type": "stream",
     "text": [
      "[I 2025-04-22 01:15:11,663] Trial 21 finished with value: -0.14495723024385596 and parameters: {'lookback_period': 15, 'cooldown_period_bars': 3, 'use_atr_filter': True, 'atr_period': 11, 'atr_ma_period': 18, 'use_adx_filter': True, 'adx_period_trend': 7, 'adx_trend_threshold': 35, 'use_adx_whipsaw_filter': True, 'adx_whipsaw_threshold': 12, 'use_adaptive_rr': False, 'base_rr': 1.4120168224496505}. Best is trial 10 with value: -0.11512202126756557.\n"
     ]
    },
    {
     "name": "stdout",
     "output_type": "stream",
     "text": [
      "  Total Trades: 71\n",
      "  Win Rate: 35.21% (25 wins)\n",
      "  Total PnL (Points): -272.08226\n",
      "  Sharpe Ratio: -0.145\n",
      "  Sortino Ratio: -0.214\n",
      "\n",
      "--- Running Derivative backtest for: EURUSD (Exit: fixed_rr, Cooldown: 2 bars, Lookback: 12) Filters: ATR>28MA, ADX>=12 ---\n"
     ]
    },
    {
     "name": "stderr",
     "output_type": "stream",
     "text": [
      "[I 2025-04-22 01:15:12,145] Trial 22 finished with value: -0.14745970284020563 and parameters: {'lookback_period': 12, 'cooldown_period_bars': 2, 'use_atr_filter': True, 'atr_period': 12, 'atr_ma_period': 28, 'use_adx_filter': False, 'use_adx_whipsaw_filter': True, 'adx_whipsaw_threshold': 12, 'use_adaptive_rr': False, 'base_rr': 1.2961236129817475}. Best is trial 10 with value: -0.11512202126756557.\n"
     ]
    },
    {
     "name": "stdout",
     "output_type": "stream",
     "text": [
      "  Total Trades: 123\n",
      "  Win Rate: 33.33% (41 wins)\n",
      "  Total PnL (Points): -382.48095\n",
      "  Sharpe Ratio: -0.147\n",
      "  Sortino Ratio: -0.292\n",
      "\n",
      "--- Running Derivative backtest for: EURUSD (Exit: fixed_rr, Cooldown: 2 bars, Lookback: 12) Filters: ATR>23MA, ADX>35, ADX>=12 ---\n"
     ]
    },
    {
     "name": "stderr",
     "output_type": "stream",
     "text": [
      "[I 2025-04-22 01:15:12,633] Trial 23 finished with value: -0.5709493020041786 and parameters: {'lookback_period': 12, 'cooldown_period_bars': 2, 'use_atr_filter': True, 'atr_period': 12, 'atr_ma_period': 23, 'use_adx_filter': True, 'adx_period_trend': 21, 'adx_trend_threshold': 35, 'use_adx_whipsaw_filter': True, 'adx_whipsaw_threshold': 12, 'use_adaptive_rr': False, 'base_rr': 2.0140173432836743}. Best is trial 10 with value: -0.11512202126756557.\n"
     ]
    },
    {
     "name": "stdout",
     "output_type": "stream",
     "text": [
      "  Total Trades: 15\n",
      "  Win Rate: 20.00% (3 wins)\n",
      "  Total PnL (Points): -232.87567\n",
      "  Sharpe Ratio: -0.571\n",
      "  Sortino Ratio: -0.729\n",
      "\n",
      "--- Running Derivative backtest for: EURUSD (Exit: fixed_rr, Cooldown: 1 bars, Lookback: 19) Filters: ATR>16MA, ADX>=10 ---\n"
     ]
    },
    {
     "name": "stderr",
     "output_type": "stream",
     "text": [
      "[I 2025-04-22 01:15:13,063] Trial 24 finished with value: -0.2343400107055425 and parameters: {'lookback_period': 19, 'cooldown_period_bars': 1, 'use_atr_filter': True, 'atr_period': 15, 'atr_ma_period': 16, 'use_adx_filter': False, 'use_adx_whipsaw_filter': True, 'adx_whipsaw_threshold': 10, 'use_adaptive_rr': False, 'base_rr': 1.0455036334636318}. Best is trial 10 with value: -0.11512202126756557.\n"
     ]
    },
    {
     "name": "stdout",
     "output_type": "stream",
     "text": [
      "  Total Trades: 130\n",
      "  Win Rate: 36.92% (48 wins)\n",
      "  Total PnL (Points): -557.23174\n",
      "  Sharpe Ratio: -0.234\n",
      "  Sortino Ratio: -0.415\n",
      "\n",
      "--- Running Derivative backtest for: EURUSD (Exit: fixed_rr, Cooldown: 4 bars, Lookback: 7) Filters: ATR>13MA, ADX>=15 ---\n"
     ]
    },
    {
     "name": "stderr",
     "output_type": "stream",
     "text": [
      "[I 2025-04-22 01:15:13,489] Trial 25 finished with value: -0.17741262165926044 and parameters: {'lookback_period': 7, 'cooldown_period_bars': 4, 'use_atr_filter': True, 'atr_period': 12, 'atr_ma_period': 13, 'use_adx_filter': False, 'use_adx_whipsaw_filter': True, 'adx_whipsaw_threshold': 15, 'use_adaptive_rr': False, 'base_rr': 1.6494499322596878}. Best is trial 10 with value: -0.11512202126756557.\n"
     ]
    },
    {
     "name": "stdout",
     "output_type": "stream",
     "text": [
      "  Total Trades: 127\n",
      "  Win Rate: 31.50% (40 wins)\n",
      "  Total PnL (Points): -431.33006\n",
      "  Sharpe Ratio: -0.177\n",
      "  Sortino Ratio: -0.410\n",
      "\n",
      "--- Running Derivative backtest for: EURUSD (Exit: fixed_rr, Cooldown: 2 bars, Lookback: 15) Filters: ADX>35 ---\n"
     ]
    },
    {
     "name": "stderr",
     "output_type": "stream",
     "text": [
      "[I 2025-04-22 01:15:13,900] Trial 26 finished with value: -0.2337050212731628 and parameters: {'lookback_period': 15, 'cooldown_period_bars': 2, 'use_atr_filter': False, 'use_adx_filter': True, 'adx_period_trend': 13, 'adx_trend_threshold': 35, 'use_adx_whipsaw_filter': False, 'use_adaptive_rr': False, 'base_rr': 1.2629265238273009}. Best is trial 10 with value: -0.11512202126756557.\n"
     ]
    },
    {
     "name": "stdout",
     "output_type": "stream",
     "text": [
      "  Total Trades: 69\n",
      "  Win Rate: 33.33% (23 wins)\n",
      "  Total PnL (Points): -453.51108\n",
      "  Sharpe Ratio: -0.234\n",
      "  Sortino Ratio: -0.319\n",
      "\n",
      "--- Running Derivative backtest for: EURUSD (Exit: fixed_rr, Cooldown: 5 bars, Lookback: 11) Filters: ATR>19MA, ADX>=12 ---\n"
     ]
    },
    {
     "name": "stderr",
     "output_type": "stream",
     "text": [
      "[I 2025-04-22 01:15:14,332] Trial 27 finished with value: -0.27855338522033374 and parameters: {'lookback_period': 11, 'cooldown_period_bars': 5, 'use_atr_filter': True, 'atr_period': 10, 'atr_ma_period': 19, 'use_adx_filter': False, 'use_adx_whipsaw_filter': True, 'adx_whipsaw_threshold': 12, 'use_adaptive_rr': False, 'base_rr': 2.135894303067884}. Best is trial 10 with value: -0.11512202126756557.\n"
     ]
    },
    {
     "name": "stdout",
     "output_type": "stream",
     "text": [
      "  Total Trades: 95\n",
      "  Win Rate: 23.16% (22 wins)\n",
      "  Total PnL (Points): -572.18450\n",
      "  Sharpe Ratio: -0.279\n",
      "  Sortino Ratio: -0.600\n",
      "\n",
      "--- Running Derivative backtest for: EURUSD (Exit: fixed_rr, Cooldown: 3 bars, Lookback: 18) Filters: ATR>26MA, ADX>31, ADX>=11 ---\n"
     ]
    },
    {
     "name": "stderr",
     "output_type": "stream",
     "text": [
      "[I 2025-04-22 01:15:14,834] Trial 28 finished with value: -0.32897205982063277 and parameters: {'lookback_period': 18, 'cooldown_period_bars': 3, 'use_atr_filter': True, 'atr_period': 14, 'atr_ma_period': 26, 'use_adx_filter': True, 'adx_period_trend': 10, 'adx_trend_threshold': 31, 'use_adx_whipsaw_filter': True, 'adx_whipsaw_threshold': 11, 'use_adaptive_rr': False, 'base_rr': 1.6633886327395713}. Best is trial 10 with value: -0.11512202126756557.\n"
     ]
    },
    {
     "name": "stdout",
     "output_type": "stream",
     "text": [
      "  Total Trades: 59\n",
      "  Win Rate: 23.73% (14 wins)\n",
      "  Total PnL (Points): -527.55782\n",
      "  Sharpe Ratio: -0.329\n",
      "  Sortino Ratio: -0.567\n",
      "\n",
      "--- Running Derivative backtest for: EURUSD (Exit: fixed_rr, Cooldown: 1 bars, Lookback: 13) Filters: ATR>32MA, ADX>21, ADX>=15 ---\n"
     ]
    },
    {
     "name": "stderr",
     "output_type": "stream",
     "text": [
      "[I 2025-04-22 01:15:15,321] Trial 29 finished with value: -0.5460668590206923 and parameters: {'lookback_period': 13, 'cooldown_period_bars': 1, 'use_atr_filter': True, 'atr_period': 12, 'atr_ma_period': 32, 'use_adx_filter': True, 'adx_period_trend': 17, 'adx_trend_threshold': 21, 'use_adx_whipsaw_filter': True, 'adx_whipsaw_threshold': 15, 'use_adaptive_rr': False, 'base_rr': 3.9738365376898694}. Best is trial 10 with value: -0.11512202126756557.\n"
     ]
    },
    {
     "name": "stdout",
     "output_type": "stream",
     "text": [
      "  Total Trades: 66\n",
      "  Win Rate: 7.58% (5 wins)\n",
      "  Total PnL (Points): -720.09679\n",
      "  Sharpe Ratio: -0.546\n",
      "  Sortino Ratio: -0.974\n",
      "\n",
      "--- Running Derivative backtest for: EURUSD (Exit: fixed_rr, Cooldown: 2 bars, Lookback: 7) Filters: ATR>20MA, ADX>=13 ---\n"
     ]
    },
    {
     "name": "stderr",
     "output_type": "stream",
     "text": [
      "[I 2025-04-22 01:15:15,792] Trial 30 finished with value: -0.08256585869701849 and parameters: {'lookback_period': 7, 'cooldown_period_bars': 2, 'use_atr_filter': True, 'atr_period': 10, 'atr_ma_period': 20, 'use_adx_filter': False, 'use_adx_whipsaw_filter': True, 'adx_whipsaw_threshold': 13, 'use_adaptive_rr': False, 'base_rr': 1.2809164580435488}. Best is trial 30 with value: -0.08256585869701849.\n"
     ]
    },
    {
     "name": "stdout",
     "output_type": "stream",
     "text": [
      "  Total Trades: 139\n",
      "  Win Rate: 35.25% (49 wins)\n",
      "  Total PnL (Points): -229.08964\n",
      "  Sharpe Ratio: -0.083\n",
      "  Sortino Ratio: -0.174\n",
      "\n",
      "--- Running Derivative backtest for: EURUSD (Exit: fixed_rr, Cooldown: 2 bars, Lookback: 7) Filters: ATR>19MA, ADX>=13 ---\n"
     ]
    },
    {
     "name": "stderr",
     "output_type": "stream",
     "text": [
      "[I 2025-04-22 01:15:16,242] Trial 31 finished with value: -0.09271331262040992 and parameters: {'lookback_period': 7, 'cooldown_period_bars': 2, 'use_atr_filter': True, 'atr_period': 10, 'atr_ma_period': 19, 'use_adx_filter': False, 'use_adx_whipsaw_filter': True, 'adx_whipsaw_threshold': 13, 'use_adaptive_rr': False, 'base_rr': 1.281583890839023}. Best is trial 30 with value: -0.08256585869701849.\n"
     ]
    },
    {
     "name": "stdout",
     "output_type": "stream",
     "text": [
      "  Total Trades: 143\n",
      "  Win Rate: 36.36% (52 wins)\n",
      "  Total PnL (Points): -267.96142\n",
      "  Sharpe Ratio: -0.093\n",
      "  Sortino Ratio: -0.195\n",
      "\n",
      "--- Running Derivative backtest for: EURUSD (Exit: fixed_rr, Cooldown: 1 bars, Lookback: 7) Filters: ATR>20MA, ADX>=13 ---\n"
     ]
    },
    {
     "name": "stderr",
     "output_type": "stream",
     "text": [
      "[I 2025-04-22 01:15:16,688] Trial 32 finished with value: -0.20343990489425906 and parameters: {'lookback_period': 7, 'cooldown_period_bars': 1, 'use_atr_filter': True, 'atr_period': 9, 'atr_ma_period': 20, 'use_adx_filter': False, 'use_adx_whipsaw_filter': True, 'adx_whipsaw_threshold': 13, 'use_adaptive_rr': False, 'base_rr': 1.2316587373662402}. Best is trial 30 with value: -0.08256585869701849.\n"
     ]
    },
    {
     "name": "stdout",
     "output_type": "stream",
     "text": [
      "  Total Trades: 153\n",
      "  Win Rate: 33.33% (51 wins)\n",
      "  Total PnL (Points): -572.12846\n",
      "  Sharpe Ratio: -0.203\n",
      "  Sortino Ratio: -0.407\n",
      "\n",
      "--- Running Derivative backtest for: EURUSD (Exit: fixed_rr, Cooldown: 3 bars, Lookback: 7) Filters: ATR>14MA, ADX>=16 ---\n"
     ]
    },
    {
     "name": "stderr",
     "output_type": "stream",
     "text": [
      "[I 2025-04-22 01:15:17,192] Trial 33 finished with value: -0.17601110390103142 and parameters: {'lookback_period': 7, 'cooldown_period_bars': 3, 'use_atr_filter': True, 'atr_period': 10, 'atr_ma_period': 14, 'use_adx_filter': False, 'use_adx_whipsaw_filter': True, 'adx_whipsaw_threshold': 16, 'use_adaptive_rr': False, 'base_rr': 1.835835380427337}. Best is trial 30 with value: -0.08256585869701849.\n"
     ]
    },
    {
     "name": "stdout",
     "output_type": "stream",
     "text": [
      "  Total Trades: 121\n",
      "  Win Rate: 28.93% (35 wins)\n",
      "  Total PnL (Points): -427.08937\n",
      "  Sharpe Ratio: -0.176\n",
      "  Sortino Ratio: -0.424\n",
      "\n",
      "--- Running Derivative backtest for: EURUSD (Exit: fixed_rr, Cooldown: 4 bars, Lookback: 6) Filters: ATR>21MA, ADX>=13 ---\n"
     ]
    },
    {
     "name": "stderr",
     "output_type": "stream",
     "text": [
      "[I 2025-04-22 01:15:17,625] Trial 34 finished with value: -0.191701443299053 and parameters: {'lookback_period': 6, 'cooldown_period_bars': 4, 'use_atr_filter': True, 'atr_period': 7, 'atr_ma_period': 21, 'use_adx_filter': False, 'use_adx_whipsaw_filter': True, 'adx_whipsaw_threshold': 13, 'use_adaptive_rr': False, 'base_rr': 1.5572597508391517}. Best is trial 30 with value: -0.08256585869701849.\n"
     ]
    },
    {
     "name": "stdout",
     "output_type": "stream",
     "text": [
      "  Total Trades: 125\n",
      "  Win Rate: 28.80% (36 wins)\n",
      "  Total PnL (Points): -461.47713\n",
      "  Sharpe Ratio: -0.192\n",
      "  Sortino Ratio: -0.429\n",
      "\n",
      "--- Running Derivative backtest for: EURUSD (Exit: fixed_rr AdaptiveRR, Cooldown: 2 bars, Lookback: 8) Filters: ATR>12MA, ADX>=11 ---\n"
     ]
    },
    {
     "name": "stderr",
     "output_type": "stream",
     "text": [
      "[I 2025-04-22 01:15:18,095] Trial 35 finished with value: -0.2245311132843269 and parameters: {'lookback_period': 8, 'cooldown_period_bars': 2, 'use_atr_filter': True, 'atr_period': 9, 'atr_ma_period': 12, 'use_adx_filter': False, 'use_adx_whipsaw_filter': True, 'adx_whipsaw_threshold': 11, 'use_adaptive_rr': True, 'base_rr': 1.3341643589371763, 'atr_multiplier_rr': 0.9363036586598581}. Best is trial 30 with value: -0.08256585869701849.\n"
     ]
    },
    {
     "name": "stdout",
     "output_type": "stream",
     "text": [
      "  Total Trades: 152\n",
      "  Win Rate: 29.61% (45 wins)\n",
      "  Total PnL (Points): -602.26244\n",
      "  Sharpe Ratio: -0.225\n",
      "  Sortino Ratio: -0.464\n",
      "\n",
      "--- Running Derivative backtest for: EURUSD (Exit: fixed_rr, Cooldown: 10 bars, Lookback: 10) Filters: ATR>15MA, ADX>31 ---\n"
     ]
    },
    {
     "name": "stderr",
     "output_type": "stream",
     "text": [
      "[I 2025-04-22 01:15:18,564] Trial 36 finished with value: -0.1597963455220518 and parameters: {'lookback_period': 10, 'cooldown_period_bars': 10, 'use_atr_filter': True, 'atr_period': 11, 'atr_ma_period': 15, 'use_adx_filter': True, 'adx_period_trend': 13, 'adx_trend_threshold': 31, 'use_adx_whipsaw_filter': False, 'use_adaptive_rr': False, 'base_rr': 1.0568221379916571}. Best is trial 30 with value: -0.08256585869701849.\n"
     ]
    },
    {
     "name": "stdout",
     "output_type": "stream",
     "text": [
      "  Total Trades: 40\n",
      "  Win Rate: 37.50% (15 wins)\n",
      "  Total PnL (Points): -208.55901\n",
      "  Sharpe Ratio: -0.160\n",
      "  Sortino Ratio: -0.221\n",
      "\n",
      "--- Running Derivative backtest for: EURUSD (Exit: fixed_rr AdaptiveRR, Cooldown: 3 bars, Lookback: 8) Filters: ADX>=21 ---\n"
     ]
    },
    {
     "name": "stderr",
     "output_type": "stream",
     "text": [
      "[I 2025-04-22 01:15:18,954] Trial 37 finished with value: -0.35413912956641297 and parameters: {'lookback_period': 8, 'cooldown_period_bars': 3, 'use_atr_filter': False, 'use_adx_filter': False, 'use_adx_whipsaw_filter': True, 'adx_whipsaw_threshold': 21, 'use_adaptive_rr': True, 'base_rr': 1.1675371178871385, 'atr_multiplier_rr': 0.9314696819993818}. Best is trial 30 with value: -0.08256585869701849.\n"
     ]
    },
    {
     "name": "stdout",
     "output_type": "stream",
     "text": [
      "  Total Trades: 165\n",
      "  Win Rate: 30.91% (51 wins)\n",
      "  Total PnL (Points): -686.01994\n",
      "  Sharpe Ratio: -0.354\n",
      "  Sortino Ratio: -0.662\n",
      "\n",
      "--- Running Derivative backtest for: EURUSD (Exit: fixed_rr, Cooldown: 6 bars, Lookback: 11) Filters: ATR>17MA, ADX>22, ADX>=11 ---\n"
     ]
    },
    {
     "name": "stderr",
     "output_type": "stream",
     "text": [
      "[I 2025-04-22 01:15:19,446] Trial 38 finished with value: -0.1258540559059078 and parameters: {'lookback_period': 11, 'cooldown_period_bars': 6, 'use_atr_filter': True, 'atr_period': 11, 'atr_ma_period': 17, 'use_adx_filter': True, 'adx_period_trend': 20, 'adx_trend_threshold': 22, 'use_adx_whipsaw_filter': True, 'adx_whipsaw_threshold': 11, 'use_adaptive_rr': False, 'base_rr': 1.0179653091847531}. Best is trial 30 with value: -0.08256585869701849.\n"
     ]
    },
    {
     "name": "stdout",
     "output_type": "stream",
     "text": [
      "  Total Trades: 65\n",
      "  Win Rate: 40.00% (26 wins)\n",
      "  Total PnL (Points): -197.56221\n",
      "  Sharpe Ratio: -0.126\n",
      "  Sortino Ratio: -0.242\n",
      "\n",
      "--- Running Derivative backtest for: EURUSD (Exit: fixed_rr AdaptiveRR, Cooldown: 7 bars, Lookback: 10) Filters: ATR>10MA ---\n"
     ]
    },
    {
     "name": "stderr",
     "output_type": "stream",
     "text": [
      "[I 2025-04-22 01:15:19,847] Trial 39 finished with value: -0.05066394491613744 and parameters: {'lookback_period': 10, 'cooldown_period_bars': 7, 'use_atr_filter': True, 'atr_period': 8, 'atr_ma_period': 10, 'use_adx_filter': False, 'use_adx_whipsaw_filter': False, 'use_adaptive_rr': True, 'base_rr': 1.0174544204833424, 'atr_multiplier_rr': -0.3471758481507059}. Best is trial 39 with value: -0.05066394491613744.\n"
     ]
    },
    {
     "name": "stdout",
     "output_type": "stream",
     "text": [
      "  Total Trades: 131\n",
      "  Win Rate: 43.51% (57 wins)\n",
      "  Total PnL (Points): -114.83141\n",
      "  Sharpe Ratio: -0.051\n",
      "  Sortino Ratio: -0.101\n",
      "\n",
      "--- Running Derivative backtest for: EURUSD (Exit: fixed_rr AdaptiveRR, Cooldown: 8 bars, Lookback: 9) ---\n"
     ]
    },
    {
     "name": "stderr",
     "output_type": "stream",
     "text": [
      "[I 2025-04-22 01:15:20,200] Trial 40 finished with value: -0.1581924447788926 and parameters: {'lookback_period': 9, 'cooldown_period_bars': 8, 'use_atr_filter': False, 'use_adx_filter': False, 'use_adx_whipsaw_filter': False, 'use_adaptive_rr': True, 'base_rr': 1.5904167894551935, 'atr_multiplier_rr': -0.4675430341768546}. Best is trial 39 with value: -0.05066394491613744.\n"
     ]
    },
    {
     "name": "stdout",
     "output_type": "stream",
     "text": [
      "  Total Trades: 164\n",
      "  Win Rate: 30.49% (50 wins)\n",
      "  Total PnL (Points): -427.43911\n",
      "  Sharpe Ratio: -0.158\n",
      "  Sortino Ratio: -0.385\n",
      "\n",
      "--- Running Derivative backtest for: EURUSD (Exit: fixed_rr AdaptiveRR, Cooldown: 6 bars, Lookback: 11) Filters: ATR>10MA ---\n"
     ]
    },
    {
     "name": "stderr",
     "output_type": "stream",
     "text": [
      "[I 2025-04-22 01:15:20,607] Trial 41 finished with value: -0.06705666674110693 and parameters: {'lookback_period': 11, 'cooldown_period_bars': 6, 'use_atr_filter': True, 'atr_period': 8, 'atr_ma_period': 10, 'use_adx_filter': False, 'use_adx_whipsaw_filter': False, 'use_adaptive_rr': True, 'base_rr': 1.004241360337486, 'atr_multiplier_rr': -0.09722837225333414}. Best is trial 39 with value: -0.05066394491613744.\n"
     ]
    },
    {
     "name": "stdout",
     "output_type": "stream",
     "text": [
      "  Total Trades: 141\n",
      "  Win Rate: 43.26% (61 wins)\n",
      "  Total PnL (Points): -162.16268\n",
      "  Sharpe Ratio: -0.067\n",
      "  Sortino Ratio: -0.145\n",
      "\n",
      "--- Running Derivative backtest for: EURUSD (Exit: fixed_rr AdaptiveRR, Cooldown: 7 bars, Lookback: 10) Filters: ATR>10MA ---\n"
     ]
    },
    {
     "name": "stderr",
     "output_type": "stream",
     "text": [
      "[I 2025-04-22 01:15:21,018] Trial 42 finished with value: -0.11991840022141322 and parameters: {'lookback_period': 10, 'cooldown_period_bars': 7, 'use_atr_filter': True, 'atr_period': 8, 'atr_ma_period': 10, 'use_adx_filter': False, 'use_adx_whipsaw_filter': False, 'use_adaptive_rr': True, 'base_rr': 1.1857141309231727, 'atr_multiplier_rr': -0.09764538414963009}. Best is trial 39 with value: -0.05066394491613744.\n"
     ]
    },
    {
     "name": "stdout",
     "output_type": "stream",
     "text": [
      "  Total Trades: 124\n",
      "  Win Rate: 38.71% (48 wins)\n",
      "  Total PnL (Points): -257.14968\n",
      "  Sharpe Ratio: -0.120\n",
      "  Sortino Ratio: -0.242\n",
      "\n",
      "--- Running Derivative backtest for: EURUSD (Exit: fixed_rr AdaptiveRR, Cooldown: 6 bars, Lookback: 8) Filters: ATR>13MA ---\n"
     ]
    },
    {
     "name": "stderr",
     "output_type": "stream",
     "text": [
      "[I 2025-04-22 01:15:21,445] Trial 43 finished with value: -0.12899670669788765 and parameters: {'lookback_period': 8, 'cooldown_period_bars': 6, 'use_atr_filter': True, 'atr_period': 9, 'atr_ma_period': 13, 'use_adx_filter': False, 'use_adx_whipsaw_filter': False, 'use_adaptive_rr': True, 'base_rr': 1.0106639206787036, 'atr_multiplier_rr': -0.13807440096415746}. Best is trial 39 with value: -0.05066394491613744.\n"
     ]
    },
    {
     "name": "stdout",
     "output_type": "stream",
     "text": [
      "  Total Trades: 135\n",
      "  Win Rate: 42.22% (57 wins)\n",
      "  Total PnL (Points): -343.71336\n",
      "  Sharpe Ratio: -0.129\n",
      "  Sortino Ratio: -0.255\n",
      "\n",
      "--- Running Derivative backtest for: EURUSD (Exit: fixed_rr AdaptiveRR, Cooldown: 8 bars, Lookback: 6) Filters: ATR>14MA ---\n"
     ]
    },
    {
     "name": "stderr",
     "output_type": "stream",
     "text": [
      "[I 2025-04-22 01:15:21,890] Trial 44 finished with value: -0.15921270956820122 and parameters: {'lookback_period': 6, 'cooldown_period_bars': 8, 'use_atr_filter': True, 'atr_period': 8, 'atr_ma_period': 14, 'use_adx_filter': False, 'use_adx_whipsaw_filter': False, 'use_adaptive_rr': True, 'base_rr': 1.3216524514943304, 'atr_multiplier_rr': 0.07258562379366729}. Best is trial 39 with value: -0.05066394491613744.\n"
     ]
    },
    {
     "name": "stdout",
     "output_type": "stream",
     "text": [
      "  Total Trades: 117\n",
      "  Win Rate: 36.75% (43 wins)\n",
      "  Total PnL (Points): -352.69652\n",
      "  Sharpe Ratio: -0.159\n",
      "  Sortino Ratio: -0.337\n",
      "\n",
      "--- Running Derivative backtest for: EURUSD (Exit: fixed_rr AdaptiveRR, Cooldown: 6 bars, Lookback: 11) Filters: ATR>10MA ---\n"
     ]
    },
    {
     "name": "stderr",
     "output_type": "stream",
     "text": [
      "[I 2025-04-22 01:15:22,314] Trial 45 finished with value: -0.2529373284015299 and parameters: {'lookback_period': 11, 'cooldown_period_bars': 6, 'use_atr_filter': True, 'atr_period': 7, 'atr_ma_period': 10, 'use_adx_filter': False, 'use_adx_whipsaw_filter': False, 'use_adaptive_rr': True, 'base_rr': 1.781950973969703, 'atr_multiplier_rr': -0.28425886305199755}. Best is trial 39 with value: -0.05066394491613744.\n"
     ]
    },
    {
     "name": "stdout",
     "output_type": "stream",
     "text": [
      "  Total Trades: 124\n",
      "  Win Rate: 24.19% (30 wins)\n",
      "  Total PnL (Points): -572.02577\n",
      "  Sharpe Ratio: -0.253\n",
      "  Sortino Ratio: -0.637\n",
      "\n",
      "--- Running Derivative backtest for: EURUSD (Exit: fixed_rr AdaptiveRR, Cooldown: 5 bars, Lookback: 9) Filters: ATR>12MA ---\n"
     ]
    },
    {
     "name": "stderr",
     "output_type": "stream",
     "text": [
      "[I 2025-04-22 01:15:22,726] Trial 46 finished with value: -0.16903770543952343 and parameters: {'lookback_period': 9, 'cooldown_period_bars': 5, 'use_atr_filter': True, 'atr_period': 8, 'atr_ma_period': 12, 'use_adx_filter': False, 'use_adx_whipsaw_filter': False, 'use_adaptive_rr': True, 'base_rr': 1.1666656519331717, 'atr_multiplier_rr': 0.06879830421752145}. Best is trial 39 with value: -0.05066394491613744.\n"
     ]
    },
    {
     "name": "stdout",
     "output_type": "stream",
     "text": [
      "  Total Trades: 129\n",
      "  Win Rate: 36.43% (47 wins)\n",
      "  Total PnL (Points): -380.47735\n",
      "  Sharpe Ratio: -0.169\n",
      "  Sortino Ratio: -0.369\n",
      "\n",
      "--- Running Derivative backtest for: EURUSD (Exit: fixed_rr AdaptiveRR, Cooldown: 8 bars, Lookback: 6) Filters: ATR>15MA ---\n"
     ]
    },
    {
     "name": "stderr",
     "output_type": "stream",
     "text": [
      "[I 2025-04-22 01:15:23,070] Trial 47 finished with value: -0.13361594730339438 and parameters: {'lookback_period': 6, 'cooldown_period_bars': 8, 'use_atr_filter': True, 'atr_period': 8, 'atr_ma_period': 15, 'use_adx_filter': False, 'use_adx_whipsaw_filter': False, 'use_adaptive_rr': True, 'base_rr': 1.4219443998647616, 'atr_multiplier_rr': -0.27850508187663503}. Best is trial 39 with value: -0.05066394491613744.\n"
     ]
    },
    {
     "name": "stdout",
     "output_type": "stream",
     "text": [
      "  Total Trades: 115\n",
      "  Win Rate: 35.65% (41 wins)\n",
      "  Total PnL (Points): -287.31240\n",
      "  Sharpe Ratio: -0.134\n",
      "  Sortino Ratio: -0.292\n",
      "\n",
      "--- Running Derivative backtest for: EURUSD (Exit: fixed_rr AdaptiveRR, Cooldown: 7 bars, Lookback: 8) ---\n"
     ]
    },
    {
     "name": "stderr",
     "output_type": "stream",
     "text": [
      "[I 2025-04-22 01:15:23,430] Trial 48 finished with value: -0.24207426304094692 and parameters: {'lookback_period': 8, 'cooldown_period_bars': 7, 'use_atr_filter': False, 'use_adx_filter': False, 'use_adx_whipsaw_filter': False, 'use_adaptive_rr': True, 'base_rr': 1.1395932592361349, 'atr_multiplier_rr': 0.08074689917840877}. Best is trial 39 with value: -0.05066394491613744.\n"
     ]
    },
    {
     "name": "stdout",
     "output_type": "stream",
     "text": [
      "  Total Trades: 201\n",
      "  Win Rate: 36.82% (74 wins)\n",
      "  Total PnL (Points): -692.25933\n",
      "  Sharpe Ratio: -0.242\n",
      "  Sortino Ratio: -0.459\n",
      "\n",
      "--- Running Derivative backtest for: EURUSD (Exit: fixed_rr AdaptiveRR, Cooldown: 5 bars, Lookback: 10) Filters: ATR>22MA ---\n"
     ]
    },
    {
     "name": "stderr",
     "output_type": "stream",
     "text": [
      "[I 2025-04-22 01:15:24,020] Trial 49 finished with value: -0.40066105877849406 and parameters: {'lookback_period': 10, 'cooldown_period_bars': 5, 'use_atr_filter': True, 'atr_period': 7, 'atr_ma_period': 22, 'use_adx_filter': False, 'use_adx_whipsaw_filter': False, 'use_adaptive_rr': True, 'base_rr': 2.7903341499408754, 'atr_multiplier_rr': 0.6467476652047677}. Best is trial 39 with value: -0.05066394491613744.\n"
     ]
    },
    {
     "name": "stdout",
     "output_type": "stream",
     "text": [
      "  Total Trades: 96\n",
      "  Win Rate: 15.62% (15 wins)\n",
      "  Total PnL (Points): -772.58572\n",
      "  Sharpe Ratio: -0.401\n",
      "  Sortino Ratio: -0.842\n",
      "\n",
      "--- Running Derivative backtest for: EURUSD (Exit: fixed_rr AdaptiveRR, Cooldown: 7 bars, Lookback: 9) Filters: ATR>10MA ---\n"
     ]
    },
    {
     "name": "stderr",
     "output_type": "stream",
     "text": [
      "[I 2025-04-22 01:15:24,585] Trial 50 finished with value: -0.24095379385723276 and parameters: {'lookback_period': 9, 'cooldown_period_bars': 7, 'use_atr_filter': True, 'atr_period': 9, 'atr_ma_period': 10, 'use_adx_filter': False, 'use_adx_whipsaw_filter': False, 'use_adaptive_rr': True, 'base_rr': 1.8922483660661833, 'atr_multiplier_rr': -0.2858232214454385}. Best is trial 39 with value: -0.05066394491613744.\n"
     ]
    },
    {
     "name": "stdout",
     "output_type": "stream",
     "text": [
      "  Total Trades: 109\n",
      "  Win Rate: 25.69% (28 wins)\n",
      "  Total PnL (Points): -491.33527\n",
      "  Sharpe Ratio: -0.241\n",
      "  Sortino Ratio: -0.522\n",
      "\n",
      "--- Running Derivative backtest for: EURUSD (Exit: fixed_rr AdaptiveRR, Cooldown: 6 bars, Lookback: 10) Filters: ATR>10MA ---\n"
     ]
    },
    {
     "name": "stderr",
     "output_type": "stream",
     "text": [
      "[I 2025-04-22 01:15:25,124] Trial 51 finished with value: -0.10329510108601454 and parameters: {'lookback_period': 10, 'cooldown_period_bars': 6, 'use_atr_filter': True, 'atr_period': 8, 'atr_ma_period': 10, 'use_adx_filter': False, 'use_adx_whipsaw_filter': False, 'use_adaptive_rr': True, 'base_rr': 1.2159490323472386, 'atr_multiplier_rr': -0.14925203846491575}. Best is trial 39 with value: -0.05066394491613744.\n"
     ]
    },
    {
     "name": "stdout",
     "output_type": "stream",
     "text": [
      "  Total Trades: 135\n",
      "  Win Rate: 38.52% (52 wins)\n",
      "  Total PnL (Points): -247.56043\n",
      "  Sharpe Ratio: -0.103\n",
      "  Sortino Ratio: -0.239\n",
      "\n",
      "--- Running Derivative backtest for: EURUSD (Exit: fixed_rr AdaptiveRR, Cooldown: 6 bars, Lookback: 11) Filters: ATR>12MA ---\n"
     ]
    },
    {
     "name": "stderr",
     "output_type": "stream",
     "text": [
      "[I 2025-04-22 01:15:25,685] Trial 52 finished with value: -0.1831130014167036 and parameters: {'lookback_period': 11, 'cooldown_period_bars': 6, 'use_atr_filter': True, 'atr_period': 10, 'atr_ma_period': 12, 'use_adx_filter': False, 'use_adx_whipsaw_filter': False, 'use_adaptive_rr': True, 'base_rr': 1.342045705613884, 'atr_multiplier_rr': -0.09056187943242627}. Best is trial 39 with value: -0.05066394491613744.\n"
     ]
    },
    {
     "name": "stdout",
     "output_type": "stream",
     "text": [
      "  Total Trades: 119\n",
      "  Win Rate: 31.93% (38 wins)\n",
      "  Total PnL (Points): -462.50100\n",
      "  Sharpe Ratio: -0.183\n",
      "  Sortino Ratio: -0.418\n",
      "\n",
      "--- Running Derivative backtest for: EURUSD (Exit: fixed_rr AdaptiveRR, Cooldown: 6 bars, Lookback: 5) Filters: ATR>25MA ---\n"
     ]
    },
    {
     "name": "stderr",
     "output_type": "stream",
     "text": [
      "[I 2025-04-22 01:15:26,216] Trial 53 finished with value: -0.27148254182410575 and parameters: {'lookback_period': 5, 'cooldown_period_bars': 6, 'use_atr_filter': True, 'atr_period': 9, 'atr_ma_period': 25, 'use_adx_filter': False, 'use_adx_whipsaw_filter': False, 'use_adaptive_rr': True, 'base_rr': 1.553574730681944, 'atr_multiplier_rr': -0.37066098978061535}. Best is trial 39 with value: -0.05066394491613744.\n"
     ]
    },
    {
     "name": "stdout",
     "output_type": "stream",
     "text": [
      "  Total Trades: 124\n",
      "  Win Rate: 26.61% (33 wins)\n",
      "  Total PnL (Points): -614.12417\n",
      "  Sharpe Ratio: -0.271\n",
      "  Sortino Ratio: -0.516\n",
      "\n",
      "--- Running Derivative backtest for: EURUSD (Exit: fixed_rr AdaptiveRR, Cooldown: 5 bars, Lookback: 13) Filters: ATR>16MA ---\n"
     ]
    },
    {
     "name": "stderr",
     "output_type": "stream",
     "text": [
      "[I 2025-04-22 01:15:26,834] Trial 54 finished with value: -0.12038296743713764 and parameters: {'lookback_period': 13, 'cooldown_period_bars': 5, 'use_atr_filter': True, 'atr_period': 7, 'atr_ma_period': 16, 'use_adx_filter': False, 'use_adx_whipsaw_filter': False, 'use_adaptive_rr': True, 'base_rr': 1.1130501016948637, 'atr_multiplier_rr': -0.17125143390667213}. Best is trial 39 with value: -0.05066394491613744.\n"
     ]
    },
    {
     "name": "stdout",
     "output_type": "stream",
     "text": [
      "  Total Trades: 128\n",
      "  Win Rate: 38.28% (49 wins)\n",
      "  Total PnL (Points): -306.52160\n",
      "  Sharpe Ratio: -0.120\n",
      "  Sortino Ratio: -0.259\n",
      "\n",
      "--- Running Derivative backtest for: EURUSD (Exit: fixed_rr AdaptiveRR, Cooldown: 7 bars, Lookback: 10) Filters: ATR>12MA ---\n"
     ]
    },
    {
     "name": "stderr",
     "output_type": "stream",
     "text": [
      "[I 2025-04-22 01:15:27,422] Trial 55 finished with value: -0.23566005988506047 and parameters: {'lookback_period': 10, 'cooldown_period_bars': 7, 'use_atr_filter': True, 'atr_period': 8, 'atr_ma_period': 12, 'use_adx_filter': False, 'use_adx_whipsaw_filter': False, 'use_adaptive_rr': True, 'base_rr': 1.74215586232873, 'atr_multiplier_rr': 0.006866166727550915}. Best is trial 39 with value: -0.05066394491613744.\n"
     ]
    },
    {
     "name": "stdout",
     "output_type": "stream",
     "text": [
      "  Total Trades: 105\n",
      "  Win Rate: 26.67% (28 wins)\n",
      "  Total PnL (Points): -480.64562\n",
      "  Sharpe Ratio: -0.236\n",
      "  Sortino Ratio: -0.509\n",
      "\n",
      "--- Running Derivative backtest for: EURUSD (Exit: fixed_rr AdaptiveRR, Cooldown: 4 bars, Lookback: 12) Filters: ATR>18MA ---\n"
     ]
    },
    {
     "name": "stderr",
     "output_type": "stream",
     "text": [
      "[I 2025-04-22 01:15:28,028] Trial 56 finished with value: -0.2763604039836007 and parameters: {'lookback_period': 12, 'cooldown_period_bars': 4, 'use_atr_filter': True, 'atr_period': 10, 'atr_ma_period': 18, 'use_adx_filter': False, 'use_adx_whipsaw_filter': False, 'use_adaptive_rr': True, 'base_rr': 1.453638140441591, 'atr_multiplier_rr': 0.20761563342685252}. Best is trial 39 with value: -0.05066394491613744.\n"
     ]
    },
    {
     "name": "stdout",
     "output_type": "stream",
     "text": [
      "  Total Trades: 112\n",
      "  Win Rate: 27.68% (31 wins)\n",
      "  Total PnL (Points): -595.11248\n",
      "  Sharpe Ratio: -0.276\n",
      "  Sortino Ratio: -0.529\n",
      "\n",
      "--- Running Derivative backtest for: EURUSD (Exit: fixed_rr AdaptiveRR, Cooldown: 6 bars, Lookback: 9) Filters: ATR>10MA ---\n"
     ]
    },
    {
     "name": "stderr",
     "output_type": "stream",
     "text": [
      "[I 2025-04-22 01:15:28,580] Trial 57 finished with value: -0.2604522105826262 and parameters: {'lookback_period': 9, 'cooldown_period_bars': 6, 'use_atr_filter': True, 'atr_period': 16, 'atr_ma_period': 10, 'use_adx_filter': False, 'use_adx_whipsaw_filter': False, 'use_adaptive_rr': True, 'base_rr': 2.304990156648295, 'atr_multiplier_rr': -0.4820019504491959}. Best is trial 39 with value: -0.05066394491613744.\n"
     ]
    },
    {
     "name": "stdout",
     "output_type": "stream",
     "text": [
      "  Total Trades: 109\n",
      "  Win Rate: 22.02% (24 wins)\n",
      "  Total PnL (Points): -647.62397\n",
      "  Sharpe Ratio: -0.260\n",
      "  Sortino Ratio: -0.612\n",
      "\n",
      "--- Running Derivative backtest for: EURUSD (Exit: fixed_rr AdaptiveRR, Cooldown: 8 bars, Lookback: 7) Filters: ATR>14MA, ADX>=25 ---\n"
     ]
    },
    {
     "name": "stderr",
     "output_type": "stream",
     "text": [
      "[I 2025-04-22 01:15:29,258] Trial 58 finished with value: -0.36863146825073095 and parameters: {'lookback_period': 7, 'cooldown_period_bars': 8, 'use_atr_filter': True, 'atr_period': 21, 'atr_ma_period': 14, 'use_adx_filter': False, 'use_adx_whipsaw_filter': True, 'adx_whipsaw_threshold': 25, 'use_adaptive_rr': True, 'base_rr': 1.2426766578441952, 'atr_multiplier_rr': -0.23275155688914473}. Best is trial 39 with value: -0.05066394491613744.\n"
     ]
    },
    {
     "name": "stdout",
     "output_type": "stream",
     "text": [
      "  Total Trades: 65\n",
      "  Win Rate: 30.77% (20 wins)\n",
      "  Total PnL (Points): -541.12784\n",
      "  Sharpe Ratio: -0.369\n",
      "  Sortino Ratio: -0.610\n",
      "\n",
      "--- Running Derivative backtest for: EURUSD (Exit: fixed_rr, Cooldown: 7 bars, Lookback: 11) ---\n"
     ]
    },
    {
     "name": "stderr",
     "output_type": "stream",
     "text": [
      "[I 2025-04-22 01:15:29,726] Trial 59 finished with value: -0.2709580252666594 and parameters: {'lookback_period': 11, 'cooldown_period_bars': 7, 'use_atr_filter': False, 'use_adx_filter': False, 'use_adx_whipsaw_filter': False, 'use_adaptive_rr': False, 'base_rr': 1.3540033279812307}. Best is trial 39 with value: -0.05066394491613744.\n"
     ]
    },
    {
     "name": "stdout",
     "output_type": "stream",
     "text": [
      "  Total Trades: 171\n",
      "  Win Rate: 30.41% (52 wins)\n",
      "  Total PnL (Points): -755.44147\n",
      "  Sharpe Ratio: -0.271\n",
      "  Sortino Ratio: -0.553\n",
      "\n",
      "--- Running Derivative backtest for: EURUSD (Exit: fixed_rr, Cooldown: 5 bars, Lookback: 17) Filters: ATR>45MA, ADX>=15 ---\n"
     ]
    },
    {
     "name": "stderr",
     "output_type": "stream",
     "text": [
      "[I 2025-04-22 01:15:30,322] Trial 60 finished with value: -0.41420415170845076 and parameters: {'lookback_period': 17, 'cooldown_period_bars': 5, 'use_atr_filter': True, 'atr_period': 13, 'atr_ma_period': 45, 'use_adx_filter': False, 'use_adx_whipsaw_filter': True, 'adx_whipsaw_threshold': 15, 'use_adaptive_rr': False, 'base_rr': 1.9736695575864207}. Best is trial 39 with value: -0.05066394491613744.\n"
     ]
    },
    {
     "name": "stdout",
     "output_type": "stream",
     "text": [
      "  Total Trades: 77\n",
      "  Win Rate: 22.08% (17 wins)\n",
      "  Total PnL (Points): -675.35345\n",
      "  Sharpe Ratio: -0.414\n",
      "  Sortino Ratio: -0.717\n",
      "\n",
      "--- Running Derivative backtest for: EURUSD (Exit: fixed_rr AdaptiveRR, Cooldown: 7 bars, Lookback: 10) Filters: ATR>10MA ---\n"
     ]
    },
    {
     "name": "stderr",
     "output_type": "stream",
     "text": [
      "[I 2025-04-22 01:15:30,880] Trial 61 finished with value: -0.1132682802974939 and parameters: {'lookback_period': 10, 'cooldown_period_bars': 7, 'use_atr_filter': True, 'atr_period': 8, 'atr_ma_period': 10, 'use_adx_filter': False, 'use_adx_whipsaw_filter': False, 'use_adaptive_rr': True, 'base_rr': 1.2045234135431133, 'atr_multiplier_rr': -0.032256857192910465}. Best is trial 39 with value: -0.05066394491613744.\n"
     ]
    },
    {
     "name": "stdout",
     "output_type": "stream",
     "text": [
      "  Total Trades: 124\n",
      "  Win Rate: 38.71% (48 wins)\n",
      "  Total PnL (Points): -244.76207\n",
      "  Sharpe Ratio: -0.113\n",
      "  Sortino Ratio: -0.230\n",
      "\n",
      "--- Running Derivative backtest for: EURUSD (Exit: fixed_rr AdaptiveRR, Cooldown: 7 bars, Lookback: 10) Filters: ATR>11MA ---\n"
     ]
    },
    {
     "name": "stderr",
     "output_type": "stream",
     "text": [
      "[I 2025-04-22 01:15:31,440] Trial 62 finished with value: -0.09852496276048327 and parameters: {'lookback_period': 10, 'cooldown_period_bars': 7, 'use_atr_filter': True, 'atr_period': 8, 'atr_ma_period': 11, 'use_adx_filter': False, 'use_adx_whipsaw_filter': False, 'use_adaptive_rr': True, 'base_rr': 1.1066510296768413, 'atr_multiplier_rr': -0.03500977816871163}. Best is trial 39 with value: -0.05066394491613744.\n"
     ]
    },
    {
     "name": "stdout",
     "output_type": "stream",
     "text": [
      "  Total Trades: 122\n",
      "  Win Rate: 39.34% (48 wins)\n",
      "  Total PnL (Points): -211.61339\n",
      "  Sharpe Ratio: -0.099\n",
      "  Sortino Ratio: -0.201\n",
      "\n",
      "--- Running Derivative backtest for: EURUSD (Exit: fixed_rr AdaptiveRR, Cooldown: 7 bars, Lookback: 10) Filters: ATR>11MA ---\n"
     ]
    },
    {
     "name": "stderr",
     "output_type": "stream",
     "text": [
      "[I 2025-04-22 01:15:32,048] Trial 63 finished with value: -0.11617354197874691 and parameters: {'lookback_period': 10, 'cooldown_period_bars': 7, 'use_atr_filter': True, 'atr_period': 8, 'atr_ma_period': 11, 'use_adx_filter': False, 'use_adx_whipsaw_filter': False, 'use_adaptive_rr': True, 'base_rr': 1.114118236580134, 'atr_multiplier_rr': -0.019754781599087112}. Best is trial 39 with value: -0.05066394491613744.\n"
     ]
    },
    {
     "name": "stdout",
     "output_type": "stream",
     "text": [
      "  Total Trades: 122\n",
      "  Win Rate: 38.52% (47 wins)\n",
      "  Total PnL (Points): -249.51210\n",
      "  Sharpe Ratio: -0.116\n",
      "  Sortino Ratio: -0.238\n",
      "\n",
      "--- Running Derivative backtest for: EURUSD (Exit: fixed_rr AdaptiveRR, Cooldown: 8 bars, Lookback: 8) Filters: ATR>13MA ---\n"
     ]
    },
    {
     "name": "stderr",
     "output_type": "stream",
     "text": [
      "[I 2025-04-22 01:15:32,741] Trial 64 finished with value: -0.134030271538412 and parameters: {'lookback_period': 8, 'cooldown_period_bars': 8, 'use_atr_filter': True, 'atr_period': 7, 'atr_ma_period': 13, 'use_adx_filter': False, 'use_adx_whipsaw_filter': False, 'use_adaptive_rr': True, 'base_rr': 1.0230013550626917, 'atr_multiplier_rr': -0.03385331751229187}. Best is trial 39 with value: -0.05066394491613744.\n"
     ]
    },
    {
     "name": "stdout",
     "output_type": "stream",
     "text": [
      "  Total Trades: 125\n",
      "  Win Rate: 40.80% (51 wins)\n",
      "  Total PnL (Points): -303.47750\n",
      "  Sharpe Ratio: -0.134\n",
      "  Sortino Ratio: -0.266\n",
      "\n",
      "--- Running Derivative backtest for: EURUSD (Exit: fixed_rr AdaptiveRR, Cooldown: 6 bars, Lookback: 10) Filters: ATR>16MA ---\n"
     ]
    },
    {
     "name": "stderr",
     "output_type": "stream",
     "text": [
      "[I 2025-04-22 01:15:33,390] Trial 65 finished with value: -0.12522796655360774 and parameters: {'lookback_period': 10, 'cooldown_period_bars': 6, 'use_atr_filter': True, 'atr_period': 9, 'atr_ma_period': 16, 'use_adx_filter': False, 'use_adx_whipsaw_filter': False, 'use_adaptive_rr': True, 'base_rr': 1.2560242778533708, 'atr_multiplier_rr': -0.2056568097952613}. Best is trial 39 with value: -0.05066394491613744.\n"
     ]
    },
    {
     "name": "stdout",
     "output_type": "stream",
     "text": [
      "  Total Trades: 123\n",
      "  Win Rate: 36.59% (45 wins)\n",
      "  Total PnL (Points): -321.76677\n",
      "  Sharpe Ratio: -0.125\n",
      "  Sortino Ratio: -0.255\n",
      "\n",
      "--- Running Derivative backtest for: EURUSD (Exit: fixed_rr AdaptiveRR, Cooldown: 9 bars, Lookback: 12) Filters: ATR>12MA ---\n"
     ]
    },
    {
     "name": "stderr",
     "output_type": "stream",
     "text": [
      "[I 2025-04-22 01:15:34,094] Trial 66 finished with value: -0.17421066164324167 and parameters: {'lookback_period': 12, 'cooldown_period_bars': 9, 'use_atr_filter': True, 'atr_period': 8, 'atr_ma_period': 12, 'use_adx_filter': False, 'use_adx_whipsaw_filter': False, 'use_adaptive_rr': True, 'base_rr': 3.1513586277937753, 'atr_multiplier_rr': 0.17214770581540567}. Best is trial 39 with value: -0.05066394491613744.\n"
     ]
    },
    {
     "name": "stdout",
     "output_type": "stream",
     "text": [
      "  Total Trades: 87\n",
      "  Win Rate: 17.24% (15 wins)\n",
      "  Total PnL (Points): -389.57309\n",
      "  Sharpe Ratio: -0.174\n",
      "  Sortino Ratio: -0.556\n",
      "\n",
      "--- Running Derivative backtest for: EURUSD (Exit: fixed_rr AdaptiveRR, Cooldown: 7 bars, Lookback: 11) Filters: ATR>10MA ---\n"
     ]
    },
    {
     "name": "stderr",
     "output_type": "stream",
     "text": [
      "[I 2025-04-22 01:15:34,804] Trial 67 finished with value: -0.16275258489669867 and parameters: {'lookback_period': 11, 'cooldown_period_bars': 7, 'use_atr_filter': True, 'atr_period': 10, 'atr_ma_period': 10, 'use_adx_filter': False, 'use_adx_whipsaw_filter': False, 'use_adaptive_rr': True, 'base_rr': 1.510649783214035, 'atr_multiplier_rr': -0.35879414370574264}. Best is trial 39 with value: -0.05066394491613744.\n"
     ]
    },
    {
     "name": "stdout",
     "output_type": "stream",
     "text": [
      "  Total Trades: 115\n",
      "  Win Rate: 30.43% (35 wins)\n",
      "  Total PnL (Points): -367.36952\n",
      "  Sharpe Ratio: -0.163\n",
      "  Sortino Ratio: -0.353\n",
      "\n",
      "--- Running Derivative backtest for: EURUSD (Exit: fixed_rr AdaptiveRR, Cooldown: 7 bars, Lookback: 10) Filters: ATR>15MA ---\n"
     ]
    },
    {
     "name": "stderr",
     "output_type": "stream",
     "text": [
      "[I 2025-04-22 01:15:35,488] Trial 68 finished with value: -0.07596021369556478 and parameters: {'lookback_period': 10, 'cooldown_period_bars': 7, 'use_atr_filter': True, 'atr_period': 9, 'atr_ma_period': 15, 'use_adx_filter': False, 'use_adx_whipsaw_filter': False, 'use_adaptive_rr': True, 'base_rr': 1.2472713326549356, 'atr_multiplier_rr': 0.32654346935758594}. Best is trial 39 with value: -0.05066394491613744.\n"
     ]
    },
    {
     "name": "stdout",
     "output_type": "stream",
     "text": [
      "  Total Trades: 109\n",
      "  Win Rate: 39.45% (43 wins)\n",
      "  Total PnL (Points): -171.07351\n",
      "  Sharpe Ratio: -0.076\n",
      "  Sortino Ratio: -0.156\n",
      "\n",
      "--- Running Derivative backtest for: EURUSD (Exit: fixed_rr AdaptiveRR, Cooldown: 6 bars, Lookback: 7) Filters: ATR>18MA ---\n"
     ]
    },
    {
     "name": "stderr",
     "output_type": "stream",
     "text": [
      "[I 2025-04-22 01:15:36,157] Trial 69 finished with value: -0.20370550079917704 and parameters: {'lookback_period': 7, 'cooldown_period_bars': 6, 'use_atr_filter': True, 'atr_period': 9, 'atr_ma_period': 18, 'use_adx_filter': False, 'use_adx_whipsaw_filter': False, 'use_adaptive_rr': True, 'base_rr': 1.0004184685983262, 'atr_multiplier_rr': 0.4470926680112557}. Best is trial 39 with value: -0.05066394491613744.\n"
     ]
    },
    {
     "name": "stdout",
     "output_type": "stream",
     "text": [
      "  Total Trades: 137\n",
      "  Win Rate: 37.96% (52 wins)\n",
      "  Total PnL (Points): -532.42050\n",
      "  Sharpe Ratio: -0.204\n",
      "  Sortino Ratio: -0.387\n",
      "\n",
      "--- Running Derivative backtest for: EURUSD (Exit: fixed_rr AdaptiveRR, Cooldown: 8 bars, Lookback: 9) Filters: ATR>15MA ---\n"
     ]
    },
    {
     "name": "stderr",
     "output_type": "stream",
     "text": [
      "[I 2025-04-22 01:15:36,809] Trial 70 finished with value: -0.08724487294795413 and parameters: {'lookback_period': 9, 'cooldown_period_bars': 8, 'use_atr_filter': True, 'atr_period': 11, 'atr_ma_period': 15, 'use_adx_filter': False, 'use_adx_whipsaw_filter': False, 'use_adaptive_rr': True, 'base_rr': 1.42633727293277, 'atr_multiplier_rr': 0.339472769529804}. Best is trial 39 with value: -0.05066394491613744.\n"
     ]
    },
    {
     "name": "stdout",
     "output_type": "stream",
     "text": [
      "  Total Trades: 106\n",
      "  Win Rate: 34.91% (37 wins)\n",
      "  Total PnL (Points): -193.01782\n",
      "  Sharpe Ratio: -0.087\n",
      "  Sortino Ratio: -0.197\n",
      "\n",
      "--- Running Derivative backtest for: EURUSD (Exit: fixed_rr AdaptiveRR, Cooldown: 9 bars, Lookback: 9) Filters: ATR>15MA ---\n"
     ]
    },
    {
     "name": "stderr",
     "output_type": "stream",
     "text": [
      "[I 2025-04-22 01:15:37,587] Trial 71 finished with value: -0.04302476551066759 and parameters: {'lookback_period': 9, 'cooldown_period_bars': 9, 'use_atr_filter': True, 'atr_period': 11, 'atr_ma_period': 15, 'use_adx_filter': False, 'use_adx_whipsaw_filter': False, 'use_adaptive_rr': True, 'base_rr': 1.3741210886010877, 'atr_multiplier_rr': 0.31059943185196504}. Best is trial 71 with value: -0.04302476551066759.\n"
     ]
    },
    {
     "name": "stdout",
     "output_type": "stream",
     "text": [
      "  Total Trades: 103\n",
      "  Win Rate: 38.83% (40 wins)\n",
      "  Total PnL (Points): -88.78718\n",
      "  Sharpe Ratio: -0.043\n",
      "  Sortino Ratio: -0.111\n",
      "\n",
      "--- Running Derivative backtest for: EURUSD (Exit: fixed_rr AdaptiveRR, Cooldown: 9 bars, Lookback: 9) Filters: ATR>19MA ---\n"
     ]
    },
    {
     "name": "stderr",
     "output_type": "stream",
     "text": [
      "[I 2025-04-22 01:15:38,235] Trial 72 finished with value: -0.32669841724603527 and parameters: {'lookback_period': 9, 'cooldown_period_bars': 9, 'use_atr_filter': True, 'atr_period': 11, 'atr_ma_period': 19, 'use_adx_filter': False, 'use_adx_whipsaw_filter': False, 'use_adaptive_rr': True, 'base_rr': 1.3726137499863058, 'atr_multiplier_rr': 0.31951233788313893}. Best is trial 71 with value: -0.04302476551066759.\n"
     ]
    },
    {
     "name": "stdout",
     "output_type": "stream",
     "text": [
      "  Total Trades: 95\n",
      "  Win Rate: 27.37% (26 wins)\n",
      "  Total PnL (Points): -603.29524\n",
      "  Sharpe Ratio: -0.327\n",
      "  Sortino Ratio: -0.655\n",
      "\n",
      "--- Running Derivative backtest for: EURUSD (Exit: fixed_rr AdaptiveRR, Cooldown: 10 bars, Lookback: 9) Filters: ATR>15MA ---\n"
     ]
    },
    {
     "name": "stderr",
     "output_type": "stream",
     "text": [
      "[I 2025-04-22 01:15:38,892] Trial 73 finished with value: 0.007134382799992968 and parameters: {'lookback_period': 9, 'cooldown_period_bars': 10, 'use_atr_filter': True, 'atr_period': 10, 'atr_ma_period': 15, 'use_adx_filter': False, 'use_adx_whipsaw_filter': False, 'use_adaptive_rr': True, 'base_rr': 1.6311502122229449, 'atr_multiplier_rr': 0.3549068928286429}. Best is trial 73 with value: 0.007134382799992968.\n"
     ]
    },
    {
     "name": "stdout",
     "output_type": "stream",
     "text": [
      "  Total Trades: 99\n",
      "  Win Rate: 37.37% (37 wins)\n",
      "  Total PnL (Points): 15.40513\n",
      "  Sharpe Ratio: 0.007\n",
      "  Sortino Ratio: 0.019\n",
      "\n",
      "--- Running Derivative backtest for: EURUSD (Exit: fixed_rr AdaptiveRR, Cooldown: 10 bars, Lookback: 8) Filters: ATR>15MA ---\n"
     ]
    },
    {
     "name": "stderr",
     "output_type": "stream",
     "text": [
      "[I 2025-04-22 01:15:39,549] Trial 74 finished with value: -0.059355443242194134 and parameters: {'lookback_period': 8, 'cooldown_period_bars': 10, 'use_atr_filter': True, 'atr_period': 13, 'atr_ma_period': 15, 'use_adx_filter': False, 'use_adx_whipsaw_filter': False, 'use_adaptive_rr': True, 'base_rr': 1.6260444030961545, 'atr_multiplier_rr': 0.5213462140553667}. Best is trial 73 with value: 0.007134382799992968.\n"
     ]
    },
    {
     "name": "stdout",
     "output_type": "stream",
     "text": [
      "  Total Trades: 98\n",
      "  Win Rate: 33.67% (33 wins)\n",
      "  Total PnL (Points): -127.70027\n",
      "  Sharpe Ratio: -0.059\n",
      "  Sortino Ratio: -0.153\n",
      "\n",
      "--- Running Derivative backtest for: EURUSD (Exit: fixed_rr AdaptiveRR, Cooldown: 10 bars, Lookback: 9) Filters: ATR>15MA ---\n"
     ]
    },
    {
     "name": "stderr",
     "output_type": "stream",
     "text": [
      "[I 2025-04-22 01:15:40,216] Trial 75 finished with value: -0.06688685328736065 and parameters: {'lookback_period': 9, 'cooldown_period_bars': 10, 'use_atr_filter': True, 'atr_period': 13, 'atr_ma_period': 15, 'use_adx_filter': False, 'use_adx_whipsaw_filter': False, 'use_adaptive_rr': True, 'base_rr': 1.6638022148993217, 'atr_multiplier_rr': 0.641752766750443}. Best is trial 73 with value: 0.007134382799992968.\n"
     ]
    },
    {
     "name": "stdout",
     "output_type": "stream",
     "text": [
      "  Total Trades: 96\n",
      "  Win Rate: 32.29% (31 wins)\n",
      "  Total PnL (Points): -144.82233\n",
      "  Sharpe Ratio: -0.067\n",
      "  Sortino Ratio: -0.176\n",
      "\n",
      "--- Running Derivative backtest for: EURUSD (Exit: fixed_rr AdaptiveRR, Cooldown: 10 bars, Lookback: 8) ---\n"
     ]
    },
    {
     "name": "stderr",
     "output_type": "stream",
     "text": [
      "[I 2025-04-22 01:15:40,860] Trial 76 finished with value: -0.10992140468061906 and parameters: {'lookback_period': 8, 'cooldown_period_bars': 10, 'use_atr_filter': False, 'use_adx_filter': False, 'use_adx_whipsaw_filter': False, 'use_adaptive_rr': True, 'base_rr': 1.7172634304320953, 'atr_multiplier_rr': 0.6485153109316641}. Best is trial 73 with value: 0.007134382799992968.\n"
     ]
    },
    {
     "name": "stdout",
     "output_type": "stream",
     "text": [
      "  Total Trades: 156\n",
      "  Win Rate: 34.62% (54 wins)\n",
      "  Total PnL (Points): -291.06537\n",
      "  Sharpe Ratio: -0.110\n",
      "  Sortino Ratio: -0.213\n",
      "\n",
      "--- Running Derivative backtest for: EURUSD (Exit: fixed_rr AdaptiveRR, Cooldown: 10 bars, Lookback: 8) Filters: ATR>17MA ---\n"
     ]
    },
    {
     "name": "stderr",
     "output_type": "stream",
     "text": [
      "[I 2025-04-22 01:15:41,505] Trial 77 finished with value: -0.2816664111402825 and parameters: {'lookback_period': 8, 'cooldown_period_bars': 10, 'use_atr_filter': True, 'atr_period': 13, 'atr_ma_period': 17, 'use_adx_filter': False, 'use_adx_whipsaw_filter': False, 'use_adaptive_rr': True, 'base_rr': 1.5825803516235708, 'atr_multiplier_rr': 0.566490477769662}. Best is trial 73 with value: 0.007134382799992968.\n"
     ]
    },
    {
     "name": "stdout",
     "output_type": "stream",
     "text": [
      "  Total Trades: 91\n",
      "  Win Rate: 26.37% (24 wins)\n",
      "  Total PnL (Points): -526.50947\n",
      "  Sharpe Ratio: -0.282\n",
      "  Sortino Ratio: -0.598\n",
      "\n",
      "--- Running Derivative backtest for: EURUSD (Exit: fixed_rr AdaptiveRR, Cooldown: 10 bars, Lookback: 9) Filters: ATR>15MA ---\n"
     ]
    },
    {
     "name": "stderr",
     "output_type": "stream",
     "text": [
      "[I 2025-04-22 01:15:42,156] Trial 78 finished with value: -0.06323097520397596 and parameters: {'lookback_period': 9, 'cooldown_period_bars': 10, 'use_atr_filter': True, 'atr_period': 14, 'atr_ma_period': 15, 'use_adx_filter': False, 'use_adx_whipsaw_filter': False, 'use_adaptive_rr': True, 'base_rr': 1.639763476106729, 'atr_multiplier_rr': 0.4176750923885772}. Best is trial 73 with value: 0.007134382799992968.\n"
     ]
    },
    {
     "name": "stdout",
     "output_type": "stream",
     "text": [
      "  Total Trades: 94\n",
      "  Win Rate: 32.98% (31 wins)\n",
      "  Total PnL (Points): -133.83888\n",
      "  Sharpe Ratio: -0.063\n",
      "  Sortino Ratio: -0.163\n",
      "\n",
      "--- Running Derivative backtest for: EURUSD (Exit: fixed_rr AdaptiveRR, Cooldown: 9 bars, Lookback: 9) Filters: ATR>14MA, ADX>24 ---\n"
     ]
    },
    {
     "name": "stderr",
     "output_type": "stream",
     "text": [
      "[I 2025-04-22 01:15:42,929] Trial 79 finished with value: -0.4690702864740123 and parameters: {'lookback_period': 9, 'cooldown_period_bars': 9, 'use_atr_filter': True, 'atr_period': 15, 'atr_ma_period': 14, 'use_adx_filter': True, 'adx_period_trend': 19, 'adx_trend_threshold': 24, 'use_adx_whipsaw_filter': False, 'use_adaptive_rr': True, 'base_rr': 1.6533747092267863, 'atr_multiplier_rr': 0.4316979721854406}. Best is trial 73 with value: 0.007134382799992968.\n"
     ]
    },
    {
     "name": "stdout",
     "output_type": "stream",
     "text": [
      "  Total Trades: 41\n",
      "  Win Rate: 21.95% (9 wins)\n",
      "  Total PnL (Points): -516.51700\n",
      "  Sharpe Ratio: -0.469\n",
      "  Sortino Ratio: -0.621\n",
      "\n",
      "--- Running Derivative backtest for: EURUSD (Exit: fixed_rr AdaptiveRR, Cooldown: 10 bars, Lookback: 11) Filters: ATR>37MA ---\n"
     ]
    },
    {
     "name": "stderr",
     "output_type": "stream",
     "text": [
      "[I 2025-04-22 01:15:43,613] Trial 80 finished with value: -0.1308919643538996 and parameters: {'lookback_period': 11, 'cooldown_period_bars': 10, 'use_atr_filter': True, 'atr_period': 13, 'atr_ma_period': 37, 'use_adx_filter': False, 'use_adx_whipsaw_filter': False, 'use_adaptive_rr': True, 'base_rr': 2.080106931839745, 'atr_multiplier_rr': 0.5254061512162093}. Best is trial 73 with value: 0.007134382799992968.\n"
     ]
    },
    {
     "name": "stdout",
     "output_type": "stream",
     "text": [
      "  Total Trades: 85\n",
      "  Win Rate: 27.06% (23 wins)\n",
      "  Total PnL (Points): -287.23998\n",
      "  Sharpe Ratio: -0.131\n",
      "  Sortino Ratio: -0.279\n",
      "\n",
      "--- Running Derivative backtest for: EURUSD (Exit: fixed_rr AdaptiveRR, Cooldown: 10 bars, Lookback: 9) Filters: ATR>16MA ---\n"
     ]
    },
    {
     "name": "stderr",
     "output_type": "stream",
     "text": [
      "[I 2025-04-22 01:15:44,356] Trial 81 finished with value: -0.12634142676394128 and parameters: {'lookback_period': 9, 'cooldown_period_bars': 10, 'use_atr_filter': True, 'atr_period': 14, 'atr_ma_period': 16, 'use_adx_filter': False, 'use_adx_whipsaw_filter': False, 'use_adaptive_rr': True, 'base_rr': 1.4991824595898668, 'atr_multiplier_rr': 0.28935945510806155}. Best is trial 73 with value: 0.007134382799992968.\n"
     ]
    },
    {
     "name": "stdout",
     "output_type": "stream",
     "text": [
      "  Total Trades: 92\n",
      "  Win Rate: 33.70% (31 wins)\n",
      "  Total PnL (Points): -244.25110\n",
      "  Sharpe Ratio: -0.126\n",
      "  Sortino Ratio: -0.268\n",
      "\n",
      "--- Running Derivative backtest for: EURUSD (Exit: fixed_rr AdaptiveRR, Cooldown: 10 bars, Lookback: 8) Filters: ATR>20MA ---\n"
     ]
    },
    {
     "name": "stderr",
     "output_type": "stream",
     "text": [
      "[I 2025-04-22 01:15:45,056] Trial 82 finished with value: -0.4899534981527332 and parameters: {'lookback_period': 8, 'cooldown_period_bars': 10, 'use_atr_filter': True, 'atr_period': 15, 'atr_ma_period': 20, 'use_adx_filter': False, 'use_adx_whipsaw_filter': False, 'use_adaptive_rr': True, 'base_rr': 1.6021735224188838, 'atr_multiplier_rr': 0.7558175165088623}. Best is trial 73 with value: 0.007134382799992968.\n"
     ]
    },
    {
     "name": "stdout",
     "output_type": "stream",
     "text": [
      "  Total Trades: 90\n",
      "  Win Rate: 18.89% (17 wins)\n",
      "  Total PnL (Points): -859.92948\n",
      "  Sharpe Ratio: -0.490\n",
      "  Sortino Ratio: -0.836\n",
      "\n",
      "--- Running Derivative backtest for: EURUSD (Exit: fixed_rr AdaptiveRR, Cooldown: 9 bars, Lookback: 9) Filters: ATR>15MA ---\n"
     ]
    },
    {
     "name": "stderr",
     "output_type": "stream",
     "text": [
      "[I 2025-04-22 01:15:45,755] Trial 83 finished with value: 0.008666070611514873 and parameters: {'lookback_period': 9, 'cooldown_period_bars': 9, 'use_atr_filter': True, 'atr_period': 12, 'atr_ma_period': 15, 'use_adx_filter': False, 'use_adx_whipsaw_filter': False, 'use_adaptive_rr': True, 'base_rr': 1.871350421264994, 'atr_multiplier_rr': 0.3918218202768703}. Best is trial 83 with value: 0.008666070611514873.\n"
     ]
    },
    {
     "name": "stdout",
     "output_type": "stream",
     "text": [
      "  Total Trades: 97\n",
      "  Win Rate: 32.99% (32 wins)\n",
      "  Total PnL (Points): 19.86871\n",
      "  Sharpe Ratio: 0.009\n",
      "  Sortino Ratio: 0.027\n",
      "\n",
      "--- Running Derivative backtest for: EURUSD (Exit: fixed_rr AdaptiveRR, Cooldown: 9 bars, Lookback: 9) Filters: ATR>15MA ---\n"
     ]
    },
    {
     "name": "stderr",
     "output_type": "stream",
     "text": [
      "[I 2025-04-22 01:15:46,447] Trial 84 finished with value: 0.01512779469320948 and parameters: {'lookback_period': 9, 'cooldown_period_bars': 9, 'use_atr_filter': True, 'atr_period': 12, 'atr_ma_period': 15, 'use_adx_filter': False, 'use_adx_whipsaw_filter': False, 'use_adaptive_rr': True, 'base_rr': 1.9024892537984972, 'atr_multiplier_rr': 0.3703667049953816}. Best is trial 84 with value: 0.01512779469320948.\n"
     ]
    },
    {
     "name": "stdout",
     "output_type": "stream",
     "text": [
      "  Total Trades: 97\n",
      "  Win Rate: 32.99% (32 wins)\n",
      "  Total PnL (Points): 35.07309\n",
      "  Sharpe Ratio: 0.015\n",
      "  Sortino Ratio: 0.047\n",
      "\n",
      "--- Running Derivative backtest for: EURUSD (Exit: fixed_rr AdaptiveRR, Cooldown: 9 bars, Lookback: 9) Filters: ATR>17MA ---\n"
     ]
    },
    {
     "name": "stderr",
     "output_type": "stream",
     "text": [
      "[I 2025-04-22 01:15:47,134] Trial 85 finished with value: -0.09096030772974716 and parameters: {'lookback_period': 9, 'cooldown_period_bars': 9, 'use_atr_filter': True, 'atr_period': 12, 'atr_ma_period': 17, 'use_adx_filter': False, 'use_adx_whipsaw_filter': False, 'use_adaptive_rr': True, 'base_rr': 1.8438134190668138, 'atr_multiplier_rr': 0.3966405044398058}. Best is trial 84 with value: 0.01512779469320948.\n"
     ]
    },
    {
     "name": "stdout",
     "output_type": "stream",
     "text": [
      "  Total Trades: 93\n",
      "  Win Rate: 31.18% (29 wins)\n",
      "  Total PnL (Points): -190.39187\n",
      "  Sharpe Ratio: -0.091\n",
      "  Sortino Ratio: -0.214\n",
      "\n",
      "--- Running Derivative backtest for: EURUSD (Exit: fixed_rr AdaptiveRR, Cooldown: 9 bars, Lookback: 8) Filters: ATR>13MA ---\n"
     ]
    },
    {
     "name": "stderr",
     "output_type": "stream",
     "text": [
      "[I 2025-04-22 01:15:47,970] Trial 86 finished with value: -0.09187960389618643 and parameters: {'lookback_period': 8, 'cooldown_period_bars': 9, 'use_atr_filter': True, 'atr_period': 14, 'atr_ma_period': 13, 'use_adx_filter': False, 'use_adx_whipsaw_filter': False, 'use_adaptive_rr': True, 'base_rr': 2.2379019597436756, 'atr_multiplier_rr': 0.38898149435458496}. Best is trial 84 with value: 0.01512779469320948.\n"
     ]
    },
    {
     "name": "stdout",
     "output_type": "stream",
     "text": [
      "  Total Trades: 94\n",
      "  Win Rate: 27.66% (26 wins)\n",
      "  Total PnL (Points): -198.07052\n",
      "  Sharpe Ratio: -0.092\n",
      "  Sortino Ratio: -0.277\n",
      "\n",
      "--- Running Derivative backtest for: EURUSD (Exit: fixed_rr AdaptiveRR, Cooldown: 10 bars, Lookback: 9) Filters: ATR>14MA ---\n"
     ]
    },
    {
     "name": "stderr",
     "output_type": "stream",
     "text": [
      "[I 2025-04-22 01:15:48,631] Trial 87 finished with value: 0.00819659632414484 and parameters: {'lookback_period': 9, 'cooldown_period_bars': 10, 'use_atr_filter': True, 'atr_period': 12, 'atr_ma_period': 14, 'use_adx_filter': False, 'use_adx_whipsaw_filter': False, 'use_adaptive_rr': True, 'base_rr': 1.9428479952898545, 'atr_multiplier_rr': 0.4954633828221108}. Best is trial 84 with value: 0.01512779469320948.\n"
     ]
    },
    {
     "name": "stdout",
     "output_type": "stream",
     "text": [
      "  Total Trades: 97\n",
      "  Win Rate: 34.02% (33 wins)\n",
      "  Total PnL (Points): 19.31274\n",
      "  Sharpe Ratio: 0.008\n",
      "  Sortino Ratio: 0.025\n",
      "\n",
      "--- Running Derivative backtest for: EURUSD (Exit: fixed_rr AdaptiveRR, Cooldown: 10 bars, Lookback: 9) Filters: ATR>15MA ---\n"
     ]
    },
    {
     "name": "stderr",
     "output_type": "stream",
     "text": [
      "[I 2025-04-22 01:15:49,262] Trial 88 finished with value: -0.020230338757622278 and parameters: {'lookback_period': 9, 'cooldown_period_bars': 10, 'use_atr_filter': True, 'atr_period': 13, 'atr_ma_period': 15, 'use_adx_filter': False, 'use_adx_whipsaw_filter': False, 'use_adaptive_rr': True, 'base_rr': 2.016484837724571, 'atr_multiplier_rr': 0.48042250618494287}. Best is trial 84 with value: 0.01512779469320948.\n"
     ]
    },
    {
     "name": "stdout",
     "output_type": "stream",
     "text": [
      "  Total Trades: 95\n",
      "  Win Rate: 30.53% (29 wins)\n",
      "  Total PnL (Points): -48.53825\n",
      "  Sharpe Ratio: -0.020\n",
      "  Sortino Ratio: -0.060\n",
      "\n",
      "--- Running Derivative backtest for: EURUSD (Exit: fixed_rr AdaptiveRR, Cooldown: 10 bars, Lookback: 8) Filters: ADX>19 ---\n"
     ]
    },
    {
     "name": "stderr",
     "output_type": "stream",
     "text": [
      "[I 2025-04-22 01:15:49,857] Trial 89 finished with value: -0.3037269528957915 and parameters: {'lookback_period': 8, 'cooldown_period_bars': 10, 'use_atr_filter': False, 'use_adx_filter': True, 'adx_period_trend': 16, 'adx_trend_threshold': 19, 'use_adx_whipsaw_filter': False, 'use_adaptive_rr': True, 'base_rr': 1.976915697234475, 'atr_multiplier_rr': 0.4803741586426854}. Best is trial 84 with value: 0.01512779469320948.\n"
     ]
    },
    {
     "name": "stdout",
     "output_type": "stream",
     "text": [
      "  Total Trades: 111\n",
      "  Win Rate: 24.32% (27 wins)\n",
      "  Total PnL (Points): -554.47559\n",
      "  Sharpe Ratio: -0.304\n",
      "  Sortino Ratio: -0.554\n",
      "\n",
      "--- Running Derivative backtest for: EURUSD (Exit: fixed_rr AdaptiveRR, Cooldown: 9 bars, Lookback: 9) Filters: ATR>18MA ---\n"
     ]
    },
    {
     "name": "stderr",
     "output_type": "stream",
     "text": [
      "[I 2025-04-22 01:15:50,484] Trial 90 finished with value: -0.15022511815062592 and parameters: {'lookback_period': 9, 'cooldown_period_bars': 9, 'use_atr_filter': True, 'atr_period': 12, 'atr_ma_period': 18, 'use_adx_filter': False, 'use_adx_whipsaw_filter': False, 'use_adaptive_rr': True, 'base_rr': 2.169914474203079, 'atr_multiplier_rr': 0.5608383986312769}. Best is trial 84 with value: 0.01512779469320948.\n"
     ]
    },
    {
     "name": "stdout",
     "output_type": "stream",
     "text": [
      "  Total Trades: 93\n",
      "  Win Rate: 26.88% (25 wins)\n",
      "  Total PnL (Points): -331.47847\n",
      "  Sharpe Ratio: -0.150\n",
      "  Sortino Ratio: -0.369\n",
      "\n",
      "--- Running Derivative backtest for: EURUSD (Exit: fixed_rr AdaptiveRR, Cooldown: 10 bars, Lookback: 9) Filters: ATR>15MA ---\n"
     ]
    },
    {
     "name": "stderr",
     "output_type": "stream",
     "text": [
      "[I 2025-04-22 01:15:51,188] Trial 91 finished with value: -0.027970549354896367 and parameters: {'lookback_period': 9, 'cooldown_period_bars': 10, 'use_atr_filter': True, 'atr_period': 13, 'atr_ma_period': 15, 'use_adx_filter': False, 'use_adx_whipsaw_filter': False, 'use_adaptive_rr': True, 'base_rr': 1.8960076510995025, 'atr_multiplier_rr': 0.6168147322054813}. Best is trial 84 with value: 0.01512779469320948.\n"
     ]
    },
    {
     "name": "stdout",
     "output_type": "stream",
     "text": [
      "  Total Trades: 96\n",
      "  Win Rate: 31.25% (30 wins)\n",
      "  Total PnL (Points): -65.61644\n",
      "  Sharpe Ratio: -0.028\n",
      "  Sortino Ratio: -0.080\n",
      "\n",
      "--- Running Derivative backtest for: EURUSD (Exit: fixed_rr AdaptiveRR, Cooldown: 10 bars, Lookback: 9) Filters: ATR>13MA ---\n"
     ]
    },
    {
     "name": "stderr",
     "output_type": "stream",
     "text": [
      "[I 2025-04-22 01:15:51,830] Trial 92 finished with value: -0.019053892473225743 and parameters: {'lookback_period': 9, 'cooldown_period_bars': 10, 'use_atr_filter': True, 'atr_period': 14, 'atr_ma_period': 13, 'use_adx_filter': False, 'use_adx_whipsaw_filter': False, 'use_adaptive_rr': True, 'base_rr': 1.940918363823519, 'atr_multiplier_rr': 0.24133157218848916}. Best is trial 84 with value: 0.01512779469320948.\n"
     ]
    },
    {
     "name": "stdout",
     "output_type": "stream",
     "text": [
      "  Total Trades: 94\n",
      "  Win Rate: 31.91% (30 wins)\n",
      "  Total PnL (Points): -40.95214\n",
      "  Sharpe Ratio: -0.019\n",
      "  Sortino Ratio: -0.059\n",
      "\n",
      "--- Running Derivative backtest for: EURUSD (Exit: fixed_rr AdaptiveRR, Cooldown: 10 bars, Lookback: 8) Filters: ATR>13MA ---\n"
     ]
    },
    {
     "name": "stderr",
     "output_type": "stream",
     "text": [
      "[I 2025-04-22 01:15:52,503] Trial 93 finished with value: -0.011559274765078674 and parameters: {'lookback_period': 8, 'cooldown_period_bars': 10, 'use_atr_filter': True, 'atr_period': 12, 'atr_ma_period': 13, 'use_adx_filter': False, 'use_adx_whipsaw_filter': False, 'use_adaptive_rr': True, 'base_rr': 2.025884472295579, 'atr_multiplier_rr': 0.2633908011229146}. Best is trial 84 with value: 0.01512779469320948.\n"
     ]
    },
    {
     "name": "stdout",
     "output_type": "stream",
     "text": [
      "  Total Trades: 93\n",
      "  Win Rate: 32.26% (30 wins)\n",
      "  Total PnL (Points): -23.55070\n",
      "  Sharpe Ratio: -0.012\n",
      "  Sortino Ratio: -0.036\n",
      "\n",
      "--- Running Derivative backtest for: EURUSD (Exit: fixed_rr AdaptiveRR, Cooldown: 9 bars, Lookback: 7) Filters: ATR>13MA ---\n"
     ]
    },
    {
     "name": "stderr",
     "output_type": "stream",
     "text": [
      "[I 2025-04-22 01:15:53,149] Trial 94 finished with value: -0.12703732857369787 and parameters: {'lookback_period': 7, 'cooldown_period_bars': 9, 'use_atr_filter': True, 'atr_period': 12, 'atr_ma_period': 13, 'use_adx_filter': False, 'use_adx_whipsaw_filter': False, 'use_adaptive_rr': True, 'base_rr': 2.482567965231822, 'atr_multiplier_rr': 0.2676635839682269}. Best is trial 84 with value: 0.01512779469320948.\n"
     ]
    },
    {
     "name": "stdout",
     "output_type": "stream",
     "text": [
      "  Total Trades: 97\n",
      "  Win Rate: 26.80% (26 wins)\n",
      "  Total PnL (Points): -283.45087\n",
      "  Sharpe Ratio: -0.127\n",
      "  Sortino Ratio: -0.360\n",
      "\n",
      "--- Running Derivative backtest for: EURUSD (Exit: fixed_rr AdaptiveRR, Cooldown: 10 bars, Lookback: 9) Filters: ATR>14MA ---\n"
     ]
    },
    {
     "name": "stderr",
     "output_type": "stream",
     "text": [
      "[I 2025-04-22 01:15:53,811] Trial 95 finished with value: -0.05813881365406022 and parameters: {'lookback_period': 9, 'cooldown_period_bars': 10, 'use_atr_filter': True, 'atr_period': 11, 'atr_ma_period': 14, 'use_adx_filter': False, 'use_adx_whipsaw_filter': False, 'use_adaptive_rr': True, 'base_rr': 2.0903316251156827, 'atr_multiplier_rr': 0.20283929997528144}. Best is trial 84 with value: 0.01512779469320948.\n"
     ]
    },
    {
     "name": "stdout",
     "output_type": "stream",
     "text": [
      "  Total Trades: 94\n",
      "  Win Rate: 30.85% (29 wins)\n",
      "  Total PnL (Points): -124.13749\n",
      "  Sharpe Ratio: -0.058\n",
      "  Sortino Ratio: -0.170\n",
      "\n",
      "--- Running Derivative backtest for: EURUSD (Exit: fixed_rr AdaptiveRR, Cooldown: 9 bars, Lookback: 8) Filters: ATR>50MA ---\n"
     ]
    },
    {
     "name": "stderr",
     "output_type": "stream",
     "text": [
      "[I 2025-04-22 01:15:54,620] Trial 96 finished with value: -0.3090598767467099 and parameters: {'lookback_period': 8, 'cooldown_period_bars': 9, 'use_atr_filter': True, 'atr_period': 12, 'atr_ma_period': 50, 'use_adx_filter': False, 'use_adx_whipsaw_filter': False, 'use_adaptive_rr': True, 'base_rr': 1.9051470974607945, 'atr_multiplier_rr': 0.13883954819524308}. Best is trial 84 with value: 0.01512779469320948.\n"
     ]
    },
    {
     "name": "stdout",
     "output_type": "stream",
     "text": [
      "  Total Trades: 90\n",
      "  Win Rate: 24.44% (22 wins)\n",
      "  Total PnL (Points): -629.42280\n",
      "  Sharpe Ratio: -0.309\n",
      "  Sortino Ratio: -0.567\n",
      "\n",
      "--- Running Derivative backtest for: EURUSD (Exit: fixed_rr AdaptiveRR, Cooldown: 10 bars, Lookback: 10) Filters: ATR>12MA ---\n"
     ]
    },
    {
     "name": "stderr",
     "output_type": "stream",
     "text": [
      "[I 2025-04-22 01:15:55,273] Trial 97 finished with value: -0.06943639529331902 and parameters: {'lookback_period': 10, 'cooldown_period_bars': 10, 'use_atr_filter': True, 'atr_period': 13, 'atr_ma_period': 12, 'use_adx_filter': False, 'use_adx_whipsaw_filter': False, 'use_adaptive_rr': True, 'base_rr': 1.7649791219326405, 'atr_multiplier_rr': 0.37280329701252957}. Best is trial 84 with value: 0.01512779469320948.\n"
     ]
    },
    {
     "name": "stdout",
     "output_type": "stream",
     "text": [
      "  Total Trades: 96\n",
      "  Win Rate: 32.29% (31 wins)\n",
      "  Total PnL (Points): -141.71239\n",
      "  Sharpe Ratio: -0.069\n",
      "  Sortino Ratio: -0.197\n",
      "\n",
      "--- Running Derivative backtest for: EURUSD (Exit: fixed_rr AdaptiveRR, Cooldown: 9 bars, Lookback: 9) Filters: ATR>17MA ---\n"
     ]
    },
    {
     "name": "stderr",
     "output_type": "stream",
     "text": [
      "[I 2025-04-22 01:15:55,917] Trial 98 finished with value: -0.05295600513302166 and parameters: {'lookback_period': 9, 'cooldown_period_bars': 9, 'use_atr_filter': True, 'atr_period': 11, 'atr_ma_period': 17, 'use_adx_filter': False, 'use_adx_whipsaw_filter': False, 'use_adaptive_rr': True, 'base_rr': 2.0429220633894287, 'atr_multiplier_rr': 0.7786863321783586}. Best is trial 84 with value: 0.01512779469320948.\n"
     ]
    },
    {
     "name": "stdout",
     "output_type": "stream",
     "text": [
      "  Total Trades: 91\n",
      "  Win Rate: 30.77% (28 wins)\n",
      "  Total PnL (Points): -113.34552\n",
      "  Sharpe Ratio: -0.053\n",
      "  Sortino Ratio: -0.146\n",
      "\n",
      "--- Running Derivative backtest for: EURUSD (Exit: fixed_rr AdaptiveRR, Cooldown: 10 bars, Lookback: 7) Filters: ATR>13MA ---\n"
     ]
    },
    {
     "name": "stderr",
     "output_type": "stream",
     "text": [
      "[I 2025-04-22 01:15:56,579] Trial 99 finished with value: -0.05234980926524279 and parameters: {'lookback_period': 7, 'cooldown_period_bars': 10, 'use_atr_filter': True, 'atr_period': 12, 'atr_ma_period': 13, 'use_adx_filter': False, 'use_adx_whipsaw_filter': False, 'use_adaptive_rr': True, 'base_rr': 2.1852848644971985, 'atr_multiplier_rr': 0.25783658197846676}. Best is trial 84 with value: 0.01512779469320948.\n"
     ]
    },
    {
     "name": "stdout",
     "output_type": "stream",
     "text": [
      "  Total Trades: 96\n",
      "  Win Rate: 31.25% (30 wins)\n",
      "  Total PnL (Points): -113.18916\n",
      "  Sharpe Ratio: -0.052\n",
      "  Sortino Ratio: -0.145\n",
      "  Optimization complete. Best Sharpe (in-sample): 0.015\n",
      "  Best parameters found: {'lookback_period': 9, 'cooldown_period_bars': 9, 'use_atr_filter': True, 'atr_period': 12, 'atr_ma_period': 15, 'use_adx_filter': False, 'use_adx_whipsaw_filter': False, 'use_adaptive_rr': True, 'base_rr': 1.9024892537984972, 'atr_multiplier_rr': 0.3703667049953816}\n",
      "  Running backtest on test data with best parameters...\n",
      "\n",
      "--- Running Derivative backtest for: EURUSD (Exit: fixed_rr AdaptiveRR, Cooldown: 9 bars, Lookback: 9) Filters: ATR>15MA ---\n"
     ]
    },
    {
     "name": "stderr",
     "output_type": "stream",
     "text": [
      "[I 2025-04-22 01:15:56,895] A new study created in memory with name: wf_sharpe_run_2\n"
     ]
    },
    {
     "name": "stdout",
     "output_type": "stream",
     "text": [
      "  Total Trades: 43\n",
      "  Win Rate: 30.23% (13 wins)\n",
      "  Total PnL (Points): -175.47827\n",
      "  Sharpe Ratio: -0.130\n",
      "  Sortino Ratio: -0.268\n",
      "\n",
      "===== Sharpe WF Run 2 =====\n",
      "Optimize Period: 2024-07-20 to 2025-01-16\n",
      "Test Period    : 2025-01-16 to 2025-04-16\n",
      "  Running Optuna (100 trials, maximizing Sharpe) on optimization data...\n",
      "\n",
      "--- Running Derivative backtest for: EURUSD (Exit: fixed_rr, Cooldown: 6 bars, Lookback: 12) Filters: ATR>49MA, ADX>28 ---\n"
     ]
    },
    {
     "name": "stderr",
     "output_type": "stream",
     "text": [
      "[I 2025-04-22 01:15:57,687] Trial 0 finished with value: -0.27233125254292473 and parameters: {'lookback_period': 12, 'cooldown_period_bars': 6, 'use_atr_filter': True, 'atr_period': 10, 'atr_ma_period': 49, 'use_adx_filter': True, 'adx_period_trend': 13, 'adx_trend_threshold': 28, 'use_adx_whipsaw_filter': False, 'use_adaptive_rr': False, 'base_rr': 3.45671178887868}. Best is trial 0 with value: -0.27233125254292473.\n"
     ]
    },
    {
     "name": "stdout",
     "output_type": "stream",
     "text": [
      "  Total Trades: 47\n",
      "  Win Rate: 14.89% (7 wins)\n",
      "  Total PnL (Points): -454.93372\n",
      "  Sharpe Ratio: -0.272\n",
      "  Sortino Ratio: -0.682\n",
      "\n",
      "--- Running Derivative backtest for: EURUSD (Exit: fixed_rr, Cooldown: 9 bars, Lookback: 16) Filters: ADX>35, ADX>=16 ---\n"
     ]
    },
    {
     "name": "stderr",
     "output_type": "stream",
     "text": [
      "[I 2025-04-22 01:15:58,215] Trial 1 finished with value: -0.12171387095998346 and parameters: {'lookback_period': 16, 'cooldown_period_bars': 9, 'use_atr_filter': False, 'use_adx_filter': True, 'adx_period_trend': 8, 'adx_trend_threshold': 35, 'use_adx_whipsaw_filter': True, 'adx_whipsaw_threshold': 16, 'use_adaptive_rr': False, 'base_rr': 1.3989175841847963}. Best is trial 1 with value: -0.12171387095998346.\n"
     ]
    },
    {
     "name": "stdout",
     "output_type": "stream",
     "text": [
      "  Total Trades: 71\n",
      "  Win Rate: 33.80% (24 wins)\n",
      "  Total PnL (Points): -247.52630\n",
      "  Sharpe Ratio: -0.122\n",
      "  Sortino Ratio: -0.196\n",
      "\n",
      "--- Running Derivative backtest for: EURUSD (Exit: fixed_rr AdaptiveRR, Cooldown: 4 bars, Lookback: 6) Filters: ATR>25MA, ADX>25 ---\n"
     ]
    },
    {
     "name": "stderr",
     "output_type": "stream",
     "text": [
      "[I 2025-04-22 01:15:58,876] Trial 2 finished with value: -0.3393353182840647 and parameters: {'lookback_period': 6, 'cooldown_period_bars': 4, 'use_atr_filter': True, 'atr_period': 9, 'atr_ma_period': 25, 'use_adx_filter': True, 'adx_period_trend': 18, 'adx_trend_threshold': 25, 'use_adx_whipsaw_filter': False, 'use_adaptive_rr': True, 'base_rr': 3.2359654231784516, 'atr_multiplier_rr': -0.2596432176833515}. Best is trial 1 with value: -0.12171387095998346.\n"
     ]
    },
    {
     "name": "stdout",
     "output_type": "stream",
     "text": [
      "  Total Trades: 52\n",
      "  Win Rate: 11.54% (6 wins)\n",
      "  Total PnL (Points): -561.14358\n",
      "  Sharpe Ratio: -0.339\n",
      "  Sortino Ratio: -0.585\n",
      "\n",
      "--- Running Derivative backtest for: EURUSD (Exit: fixed_rr, Cooldown: 2 bars, Lookback: 10) Filters: ADX>22, ADX>=13 ---\n"
     ]
    },
    {
     "name": "stderr",
     "output_type": "stream",
     "text": [
      "[I 2025-04-22 01:15:59,469] Trial 3 finished with value: -0.27346529955590143 and parameters: {'lookback_period': 10, 'cooldown_period_bars': 2, 'use_atr_filter': False, 'use_adx_filter': True, 'adx_period_trend': 17, 'adx_trend_threshold': 22, 'use_adx_whipsaw_filter': True, 'adx_whipsaw_threshold': 13, 'use_adaptive_rr': False, 'base_rr': 3.203924216642182}. Best is trial 1 with value: -0.12171387095998346.\n"
     ]
    },
    {
     "name": "stdout",
     "output_type": "stream",
     "text": [
      "  Total Trades: 120\n",
      "  Win Rate: 15.00% (18 wins)\n",
      "  Total PnL (Points): -691.12473\n",
      "  Sharpe Ratio: -0.273\n",
      "  Sortino Ratio: -0.604\n",
      "\n",
      "--- Running Derivative backtest for: EURUSD (Exit: fixed_rr, Cooldown: 3 bars, Lookback: 15) Filters: ATR>39MA ---\n"
     ]
    },
    {
     "name": "stderr",
     "output_type": "stream",
     "text": [
      "[I 2025-04-22 01:16:00,067] Trial 4 finished with value: -0.28948954202943167 and parameters: {'lookback_period': 15, 'cooldown_period_bars': 3, 'use_atr_filter': True, 'atr_period': 9, 'atr_ma_period': 39, 'use_adx_filter': False, 'use_adx_whipsaw_filter': False, 'use_adaptive_rr': False, 'base_rr': 3.080268351548964}. Best is trial 1 with value: -0.12171387095998346.\n"
     ]
    },
    {
     "name": "stdout",
     "output_type": "stream",
     "text": [
      "  Total Trades: 93\n",
      "  Win Rate: 16.13% (15 wins)\n",
      "  Total PnL (Points): -834.63580\n",
      "  Sharpe Ratio: -0.289\n",
      "  Sortino Ratio: -0.586\n",
      "\n",
      "--- Running Derivative backtest for: EURUSD (Exit: fixed_rr AdaptiveRR, Cooldown: 1 bars, Lookback: 9) Filters: ATR>35MA, ADX>28, ADX>=16 ---\n"
     ]
    },
    {
     "name": "stderr",
     "output_type": "stream",
     "text": [
      "[I 2025-04-22 01:16:00,855] Trial 5 finished with value: -0.2934400505105206 and parameters: {'lookback_period': 9, 'cooldown_period_bars': 1, 'use_atr_filter': True, 'atr_period': 17, 'atr_ma_period': 35, 'use_adx_filter': True, 'adx_period_trend': 12, 'adx_trend_threshold': 28, 'use_adx_whipsaw_filter': True, 'adx_whipsaw_threshold': 16, 'use_adaptive_rr': True, 'base_rr': 2.802079295113547, 'atr_multiplier_rr': 0.7903388683558088}. Best is trial 1 with value: -0.12171387095998346.\n"
     ]
    },
    {
     "name": "stdout",
     "output_type": "stream",
     "text": [
      "  Total Trades: 69\n",
      "  Win Rate: 17.39% (12 wins)\n",
      "  Total PnL (Points): -538.62010\n",
      "  Sharpe Ratio: -0.293\n",
      "  Sortino Ratio: -0.667\n",
      "\n",
      "--- Running Derivative backtest for: EURUSD (Exit: fixed_rr, Cooldown: 3 bars, Lookback: 12) Filters: ATR>32MA, ADX>18, ADX>=24 ---\n"
     ]
    },
    {
     "name": "stderr",
     "output_type": "stream",
     "text": [
      "[I 2025-04-22 01:16:01,510] Trial 6 finished with value: -0.17738310362760196 and parameters: {'lookback_period': 12, 'cooldown_period_bars': 3, 'use_atr_filter': True, 'atr_period': 10, 'atr_ma_period': 32, 'use_adx_filter': True, 'adx_period_trend': 13, 'adx_trend_threshold': 18, 'use_adx_whipsaw_filter': True, 'adx_whipsaw_threshold': 24, 'use_adaptive_rr': False, 'base_rr': 1.4530914775233672}. Best is trial 1 with value: -0.12171387095998346.\n"
     ]
    },
    {
     "name": "stdout",
     "output_type": "stream",
     "text": [
      "  Total Trades: 68\n",
      "  Win Rate: 32.35% (22 wins)\n",
      "  Total PnL (Points): -302.73874\n",
      "  Sharpe Ratio: -0.177\n",
      "  Sortino Ratio: -0.358\n",
      "\n",
      "--- Running Derivative backtest for: EURUSD (Exit: fixed_rr AdaptiveRR, Cooldown: 1 bars, Lookback: 16) Filters: ADX>28, ADX>=22 ---\n"
     ]
    },
    {
     "name": "stderr",
     "output_type": "stream",
     "text": [
      "[I 2025-04-22 01:16:02,135] Trial 7 finished with value: -0.2664622265272634 and parameters: {'lookback_period': 16, 'cooldown_period_bars': 1, 'use_atr_filter': False, 'use_adx_filter': True, 'adx_period_trend': 13, 'adx_trend_threshold': 28, 'use_adx_whipsaw_filter': True, 'adx_whipsaw_threshold': 22, 'use_adaptive_rr': True, 'base_rr': 1.9482238340184204, 'atr_multiplier_rr': 0.5886762032260902}. Best is trial 1 with value: -0.12171387095998346.\n"
     ]
    },
    {
     "name": "stdout",
     "output_type": "stream",
     "text": [
      "  Total Trades: 107\n",
      "  Win Rate: 23.36% (25 wins)\n",
      "  Total PnL (Points): -666.35022\n",
      "  Sharpe Ratio: -0.266\n",
      "  Sortino Ratio: -0.492\n",
      "\n",
      "--- Running Derivative backtest for: EURUSD (Exit: fixed_rr AdaptiveRR, Cooldown: 7 bars, Lookback: 9) ---\n"
     ]
    },
    {
     "name": "stderr",
     "output_type": "stream",
     "text": [
      "[I 2025-04-22 01:16:02,743] Trial 8 finished with value: -0.22290146810872027 and parameters: {'lookback_period': 9, 'cooldown_period_bars': 7, 'use_atr_filter': False, 'use_adx_filter': False, 'use_adx_whipsaw_filter': False, 'use_adaptive_rr': True, 'base_rr': 2.0009439090754864, 'atr_multiplier_rr': 0.4060338662363159}. Best is trial 1 with value: -0.12171387095998346.\n"
     ]
    },
    {
     "name": "stdout",
     "output_type": "stream",
     "text": [
      "  Total Trades: 165\n",
      "  Win Rate: 26.06% (43 wins)\n",
      "  Total PnL (Points): -783.85017\n",
      "  Sharpe Ratio: -0.223\n",
      "  Sortino Ratio: -0.436\n",
      "\n",
      "--- Running Derivative backtest for: EURUSD (Exit: fixed_rr, Cooldown: 1 bars, Lookback: 16) ---\n"
     ]
    },
    {
     "name": "stderr",
     "output_type": "stream",
     "text": [
      "[I 2025-04-22 01:16:03,309] Trial 9 finished with value: -0.3857436516929429 and parameters: {'lookback_period': 16, 'cooldown_period_bars': 1, 'use_atr_filter': False, 'use_adx_filter': False, 'use_adx_whipsaw_filter': False, 'use_adaptive_rr': False, 'base_rr': 2.715359829698552}. Best is trial 1 with value: -0.12171387095998346.\n"
     ]
    },
    {
     "name": "stdout",
     "output_type": "stream",
     "text": [
      "  Total Trades: 187\n",
      "  Win Rate: 14.44% (27 wins)\n",
      "  Total PnL (Points): -1323.27208\n",
      "  Sharpe Ratio: -0.386\n",
      "  Sortino Ratio: -0.838\n",
      "\n",
      "--- Running Derivative backtest for: EURUSD (Exit: fixed_rr, Cooldown: 10 bars, Lookback: 20) Filters: ADX>=11 ---\n"
     ]
    },
    {
     "name": "stderr",
     "output_type": "stream",
     "text": [
      "[I 2025-04-22 01:16:03,956] Trial 10 finished with value: 0.043253959235313465 and parameters: {'lookback_period': 20, 'cooldown_period_bars': 10, 'use_atr_filter': False, 'use_adx_filter': False, 'use_adx_whipsaw_filter': True, 'adx_whipsaw_threshold': 11, 'use_adaptive_rr': False, 'base_rr': 1.0729612998034668}. Best is trial 10 with value: 0.043253959235313465.\n"
     ]
    },
    {
     "name": "stdout",
     "output_type": "stream",
     "text": [
      "  Total Trades: 122\n",
      "  Win Rate: 45.90% (56 wins)\n",
      "  Total PnL (Points): 120.28522\n",
      "  Sharpe Ratio: 0.043\n",
      "  Sortino Ratio: 0.094\n",
      "\n",
      "--- Running Derivative backtest for: EURUSD (Exit: fixed_rr, Cooldown: 10 bars, Lookback: 20) Filters: ADX>=10 ---\n"
     ]
    },
    {
     "name": "stderr",
     "output_type": "stream",
     "text": [
      "[I 2025-04-22 01:16:04,566] Trial 11 finished with value: -0.057628528494038475 and parameters: {'lookback_period': 20, 'cooldown_period_bars': 10, 'use_atr_filter': False, 'use_adx_filter': False, 'use_adx_whipsaw_filter': True, 'adx_whipsaw_threshold': 10, 'use_adaptive_rr': False, 'base_rr': 1.1597560788390977}. Best is trial 10 with value: 0.043253959235313465.\n"
     ]
    },
    {
     "name": "stdout",
     "output_type": "stream",
     "text": [
      "  Total Trades: 120\n",
      "  Win Rate: 40.83% (49 wins)\n",
      "  Total PnL (Points): -162.46663\n",
      "  Sharpe Ratio: -0.058\n",
      "  Sortino Ratio: -0.113\n",
      "\n",
      "--- Running Derivative backtest for: EURUSD (Exit: fixed_rr, Cooldown: 10 bars, Lookback: 20) Filters: ADX>=10 ---\n"
     ]
    },
    {
     "name": "stderr",
     "output_type": "stream",
     "text": [
      "[I 2025-04-22 01:16:05,139] Trial 12 finished with value: -0.06994397615001757 and parameters: {'lookback_period': 20, 'cooldown_period_bars': 10, 'use_atr_filter': False, 'use_adx_filter': False, 'use_adx_whipsaw_filter': True, 'adx_whipsaw_threshold': 10, 'use_adaptive_rr': False, 'base_rr': 1.1708758579227918}. Best is trial 10 with value: 0.043253959235313465.\n"
     ]
    },
    {
     "name": "stdout",
     "output_type": "stream",
     "text": [
      "  Total Trades: 118\n",
      "  Win Rate: 39.83% (47 wins)\n",
      "  Total PnL (Points): -194.88075\n",
      "  Sharpe Ratio: -0.070\n",
      "  Sortino Ratio: -0.138\n",
      "\n",
      "--- Running Derivative backtest for: EURUSD (Exit: fixed_rr, Cooldown: 8 bars, Lookback: 20) Filters: ADX>=10 ---\n"
     ]
    },
    {
     "name": "stderr",
     "output_type": "stream",
     "text": [
      "[I 2025-04-22 01:16:05,721] Trial 13 finished with value: -0.5769923589882395 and parameters: {'lookback_period': 20, 'cooldown_period_bars': 8, 'use_atr_filter': False, 'use_adx_filter': False, 'use_adx_whipsaw_filter': True, 'adx_whipsaw_threshold': 10, 'use_adaptive_rr': False, 'base_rr': 3.9761069173612302}. Best is trial 10 with value: 0.043253959235313465.\n"
     ]
    },
    {
     "name": "stdout",
     "output_type": "stream",
     "text": [
      "  Total Trades: 93\n",
      "  Win Rate: 8.60% (8 wins)\n",
      "  Total PnL (Points): -1230.18024\n",
      "  Sharpe Ratio: -0.577\n",
      "  Sortino Ratio: -0.958\n",
      "\n",
      "--- Running Derivative backtest for: EURUSD (Exit: fixed_rr, Cooldown: 10 bars, Lookback: 18) Filters: ADX>=13 ---\n"
     ]
    },
    {
     "name": "stderr",
     "output_type": "stream",
     "text": [
      "[I 2025-04-22 01:16:06,308] Trial 14 finished with value: 0.039889282005557414 and parameters: {'lookback_period': 18, 'cooldown_period_bars': 10, 'use_atr_filter': False, 'use_adx_filter': False, 'use_adx_whipsaw_filter': True, 'adx_whipsaw_threshold': 13, 'use_adaptive_rr': False, 'base_rr': 1.0237968594088505}. Best is trial 10 with value: 0.043253959235313465.\n"
     ]
    },
    {
     "name": "stdout",
     "output_type": "stream",
     "text": [
      "  Total Trades: 126\n",
      "  Win Rate: 48.41% (61 wins)\n",
      "  Total PnL (Points): 114.95082\n",
      "  Sharpe Ratio: 0.040\n",
      "  Sortino Ratio: 0.074\n",
      "\n",
      "--- Running Derivative backtest for: EURUSD (Exit: fixed_rr, Cooldown: 8 bars, Lookback: 18) Filters: ADX>=14 ---\n"
     ]
    },
    {
     "name": "stderr",
     "output_type": "stream",
     "text": [
      "[I 2025-04-22 01:16:07,117] Trial 15 finished with value: -0.3482650137287975 and parameters: {'lookback_period': 18, 'cooldown_period_bars': 8, 'use_atr_filter': False, 'use_adx_filter': False, 'use_adx_whipsaw_filter': True, 'adx_whipsaw_threshold': 14, 'use_adaptive_rr': False, 'base_rr': 1.9109781917617306}. Best is trial 10 with value: 0.043253959235313465.\n"
     ]
    },
    {
     "name": "stdout",
     "output_type": "stream",
     "text": [
      "  Total Trades: 115\n",
      "  Win Rate: 22.61% (26 wins)\n",
      "  Total PnL (Points): -1004.06028\n",
      "  Sharpe Ratio: -0.348\n",
      "  Sortino Ratio: -0.605\n",
      "\n",
      "--- Running Derivative backtest for: EURUSD (Exit: fixed_rr, Cooldown: 9 bars, Lookback: 18) Filters: ADX>=20 ---\n"
     ]
    },
    {
     "name": "stderr",
     "output_type": "stream",
     "text": [
      "[I 2025-04-22 01:16:07,835] Trial 16 finished with value: -0.10450010985225072 and parameters: {'lookback_period': 18, 'cooldown_period_bars': 9, 'use_atr_filter': False, 'use_adx_filter': False, 'use_adx_whipsaw_filter': True, 'adx_whipsaw_threshold': 20, 'use_adaptive_rr': False, 'base_rr': 1.6346636921280615}. Best is trial 10 with value: 0.043253959235313465.\n"
     ]
    },
    {
     "name": "stdout",
     "output_type": "stream",
     "text": [
      "  Total Trades: 91\n",
      "  Win Rate: 39.56% (36 wins)\n",
      "  Total PnL (Points): -241.07274\n",
      "  Sharpe Ratio: -0.105\n",
      "  Sortino Ratio: -0.180\n",
      "\n",
      "--- Running Derivative backtest for: EURUSD (Exit: fixed_rr, Cooldown: 5 bars, Lookback: 18) Filters: ADX>=13 ---\n"
     ]
    },
    {
     "name": "stderr",
     "output_type": "stream",
     "text": [
      "[I 2025-04-22 01:16:08,481] Trial 17 finished with value: -0.46410475302327436 and parameters: {'lookback_period': 18, 'cooldown_period_bars': 5, 'use_atr_filter': False, 'use_adx_filter': False, 'use_adx_whipsaw_filter': True, 'adx_whipsaw_threshold': 13, 'use_adaptive_rr': False, 'base_rr': 2.342173296066031}. Best is trial 10 with value: 0.043253959235313465.\n"
     ]
    },
    {
     "name": "stdout",
     "output_type": "stream",
     "text": [
      "  Total Trades: 135\n",
      "  Win Rate: 14.81% (20 wins)\n",
      "  Total PnL (Points): -1327.45989\n",
      "  Sharpe Ratio: -0.464\n",
      "  Sortino Ratio: -0.803\n",
      "\n",
      "--- Running Derivative backtest for: EURUSD (Exit: fixed_rr AdaptiveRR, Cooldown: 7 bars, Lookback: 14) Filters: ADX>=13 ---\n"
     ]
    },
    {
     "name": "stderr",
     "output_type": "stream",
     "text": [
      "[I 2025-04-22 01:16:09,129] Trial 18 finished with value: -0.013795985848566417 and parameters: {'lookback_period': 14, 'cooldown_period_bars': 7, 'use_atr_filter': False, 'use_adx_filter': False, 'use_adx_whipsaw_filter': True, 'adx_whipsaw_threshold': 13, 'use_adaptive_rr': True, 'base_rr': 1.0173348644522264, 'atr_multiplier_rr': -0.4989093264403992}. Best is trial 10 with value: 0.043253959235313465.\n"
     ]
    },
    {
     "name": "stdout",
     "output_type": "stream",
     "text": [
      "  Total Trades: 166\n",
      "  Win Rate: 45.18% (75 wins)\n",
      "  Total PnL (Points): -52.03241\n",
      "  Sharpe Ratio: -0.014\n",
      "  Sortino Ratio: -0.028\n",
      "\n",
      "--- Running Derivative backtest for: EURUSD (Exit: fixed_rr, Cooldown: 10 bars, Lookback: 18) Filters: ADX>=19 ---\n"
     ]
    },
    {
     "name": "stderr",
     "output_type": "stream",
     "text": [
      "[I 2025-04-22 01:16:09,740] Trial 19 finished with value: -0.32420583540145514 and parameters: {'lookback_period': 18, 'cooldown_period_bars': 10, 'use_atr_filter': False, 'use_adx_filter': False, 'use_adx_whipsaw_filter': True, 'adx_whipsaw_threshold': 19, 'use_adaptive_rr': False, 'base_rr': 1.6371733502372483}. Best is trial 10 with value: 0.043253959235313465.\n"
     ]
    },
    {
     "name": "stdout",
     "output_type": "stream",
     "text": [
      "  Total Trades: 90\n",
      "  Win Rate: 22.22% (20 wins)\n",
      "  Total PnL (Points): -718.05135\n",
      "  Sharpe Ratio: -0.324\n",
      "  Sortino Ratio: -0.569\n",
      "\n",
      "--- Running Derivative backtest for: EURUSD (Exit: fixed_rr, Cooldown: 9 bars, Lookback: 14) Filters: ADX>=15 ---\n"
     ]
    },
    {
     "name": "stderr",
     "output_type": "stream",
     "text": [
      "[I 2025-04-22 01:16:10,474] Trial 20 finished with value: -0.3440662967041436 and parameters: {'lookback_period': 14, 'cooldown_period_bars': 9, 'use_atr_filter': False, 'use_adx_filter': False, 'use_adx_whipsaw_filter': True, 'adx_whipsaw_threshold': 15, 'use_adaptive_rr': False, 'base_rr': 2.2962401223567426}. Best is trial 10 with value: 0.043253959235313465.\n"
     ]
    },
    {
     "name": "stdout",
     "output_type": "stream",
     "text": [
      "  Total Trades: 115\n",
      "  Win Rate: 17.39% (20 wins)\n",
      "  Total PnL (Points): -876.28612\n",
      "  Sharpe Ratio: -0.344\n",
      "  Sortino Ratio: -0.846\n",
      "\n",
      "--- Running Derivative backtest for: EURUSD (Exit: fixed_rr AdaptiveRR, Cooldown: 7 bars, Lookback: 14) Filters: ADX>=12 ---\n"
     ]
    },
    {
     "name": "stderr",
     "output_type": "stream",
     "text": [
      "[I 2025-04-22 01:16:11,102] Trial 21 finished with value: -0.13579725843985074 and parameters: {'lookback_period': 14, 'cooldown_period_bars': 7, 'use_atr_filter': False, 'use_adx_filter': False, 'use_adx_whipsaw_filter': True, 'adx_whipsaw_threshold': 12, 'use_adaptive_rr': True, 'base_rr': 1.3056269667070093, 'atr_multiplier_rr': -0.44733054962336427}. Best is trial 10 with value: 0.043253959235313465.\n"
     ]
    },
    {
     "name": "stdout",
     "output_type": "stream",
     "text": [
      "  Total Trades: 152\n",
      "  Win Rate: 34.21% (52 wins)\n",
      "  Total PnL (Points): -467.07062\n",
      "  Sharpe Ratio: -0.136\n",
      "  Sortino Ratio: -0.290\n",
      "\n",
      "--- Running Derivative backtest for: EURUSD (Exit: fixed_rr AdaptiveRR, Cooldown: 8 bars, Lookback: 19) Filters: ADX>=12 ---\n"
     ]
    },
    {
     "name": "stderr",
     "output_type": "stream",
     "text": [
      "[I 2025-04-22 01:16:11,759] Trial 22 finished with value: 0.005805268946858728 and parameters: {'lookback_period': 19, 'cooldown_period_bars': 8, 'use_atr_filter': False, 'use_adx_filter': False, 'use_adx_whipsaw_filter': True, 'adx_whipsaw_threshold': 12, 'use_adaptive_rr': True, 'base_rr': 1.0182522911872622, 'atr_multiplier_rr': -0.005147582604245304}. Best is trial 10 with value: 0.043253959235313465.\n"
     ]
    },
    {
     "name": "stdout",
     "output_type": "stream",
     "text": [
      "  Total Trades: 140\n",
      "  Win Rate: 45.71% (64 wins)\n",
      "  Total PnL (Points): 20.99333\n",
      "  Sharpe Ratio: 0.006\n",
      "  Sortino Ratio: 0.011\n",
      "\n",
      "--- Running Derivative backtest for: EURUSD (Exit: fixed_rr AdaptiveRR, Cooldown: 8 bars, Lookback: 19) Filters: ADX>=12 ---\n"
     ]
    },
    {
     "name": "stderr",
     "output_type": "stream",
     "text": [
      "[I 2025-04-22 01:16:12,417] Trial 23 finished with value: -0.01934999595123974 and parameters: {'lookback_period': 19, 'cooldown_period_bars': 8, 'use_atr_filter': False, 'use_adx_filter': False, 'use_adx_whipsaw_filter': True, 'adx_whipsaw_threshold': 12, 'use_adaptive_rr': True, 'base_rr': 1.0451347097019015, 'atr_multiplier_rr': 0.05928379230249234}. Best is trial 10 with value: 0.043253959235313465.\n"
     ]
    },
    {
     "name": "stdout",
     "output_type": "stream",
     "text": [
      "  Total Trades: 138\n",
      "  Win Rate: 44.20% (61 wins)\n",
      "  Total PnL (Points): -69.18863\n",
      "  Sharpe Ratio: -0.019\n",
      "  Sortino Ratio: -0.038\n",
      "\n",
      "--- Running Derivative backtest for: EURUSD (Exit: fixed_rr AdaptiveRR, Cooldown: 10 bars, Lookback: 17) Filters: ADX>=11 ---\n"
     ]
    },
    {
     "name": "stderr",
     "output_type": "stream",
     "text": [
      "[I 2025-04-22 01:16:13,020] Trial 24 finished with value: -0.161842148187298 and parameters: {'lookback_period': 17, 'cooldown_period_bars': 10, 'use_atr_filter': False, 'use_adx_filter': False, 'use_adx_whipsaw_filter': True, 'adx_whipsaw_threshold': 11, 'use_adaptive_rr': True, 'base_rr': 1.6530936275167925, 'atr_multiplier_rr': 0.07449402295448787}. Best is trial 10 with value: 0.043253959235313465.\n"
     ]
    },
    {
     "name": "stdout",
     "output_type": "stream",
     "text": [
      "  Total Trades: 107\n",
      "  Win Rate: 30.84% (33 wins)\n",
      "  Total PnL (Points): -393.02364\n",
      "  Sharpe Ratio: -0.162\n",
      "  Sortino Ratio: -0.328\n",
      "\n",
      "--- Running Derivative backtest for: EURUSD (Exit: fixed_rr AdaptiveRR, Cooldown: 9 bars, Lookback: 19) Filters: ADX>=18 ---\n"
     ]
    },
    {
     "name": "stderr",
     "output_type": "stream",
     "text": [
      "[I 2025-04-22 01:16:13,734] Trial 25 finished with value: -0.1246683334383353 and parameters: {'lookback_period': 19, 'cooldown_period_bars': 9, 'use_atr_filter': False, 'use_adx_filter': False, 'use_adx_whipsaw_filter': True, 'adx_whipsaw_threshold': 18, 'use_adaptive_rr': True, 'base_rr': 1.3471491417076504, 'atr_multiplier_rr': -0.03644649009148104}. Best is trial 10 with value: 0.043253959235313465.\n"
     ]
    },
    {
     "name": "stdout",
     "output_type": "stream",
     "text": [
      "  Total Trades: 108\n",
      "  Win Rate: 36.11% (39 wins)\n",
      "  Total PnL (Points): -349.21724\n",
      "  Sharpe Ratio: -0.125\n",
      "  Sortino Ratio: -0.232\n",
      "\n",
      "--- Running Derivative backtest for: EURUSD (Exit: fixed_rr AdaptiveRR, Cooldown: 8 bars, Lookback: 19) Filters: ATR>10MA ---\n"
     ]
    },
    {
     "name": "stderr",
     "output_type": "stream",
     "text": [
      "[I 2025-04-22 01:16:14,371] Trial 26 finished with value: 0.04960427983719816 and parameters: {'lookback_period': 19, 'cooldown_period_bars': 8, 'use_atr_filter': True, 'atr_period': 20, 'atr_ma_period': 10, 'use_adx_filter': False, 'use_adx_whipsaw_filter': False, 'use_adaptive_rr': True, 'base_rr': 1.0127326939296328, 'atr_multiplier_rr': 0.34874766465167983}. Best is trial 26 with value: 0.04960427983719816.\n"
     ]
    },
    {
     "name": "stdout",
     "output_type": "stream",
     "text": [
      "  Total Trades: 101\n",
      "  Win Rate: 45.54% (46 wins)\n",
      "  Total PnL (Points): 162.45378\n",
      "  Sharpe Ratio: 0.050\n",
      "  Sortino Ratio: 0.097\n",
      "\n",
      "--- Running Derivative backtest for: EURUSD (Exit: fixed_rr, Cooldown: 6 bars, Lookback: 5) Filters: ATR>10MA ---\n"
     ]
    },
    {
     "name": "stderr",
     "output_type": "stream",
     "text": [
      "[I 2025-04-22 01:16:15,002] Trial 27 finished with value: -0.2076873995043694 and parameters: {'lookback_period': 5, 'cooldown_period_bars': 6, 'use_atr_filter': True, 'atr_period': 21, 'atr_ma_period': 10, 'use_adx_filter': False, 'use_adx_whipsaw_filter': False, 'use_adaptive_rr': False, 'base_rr': 1.7257896891309297}. Best is trial 26 with value: 0.04960427983719816.\n"
     ]
    },
    {
     "name": "stdout",
     "output_type": "stream",
     "text": [
      "  Total Trades: 127\n",
      "  Win Rate: 27.56% (35 wins)\n",
      "  Total PnL (Points): -629.81786\n",
      "  Sharpe Ratio: -0.208\n",
      "  Sortino Ratio: -0.425\n",
      "\n",
      "--- Running Derivative backtest for: EURUSD (Exit: fixed_rr AdaptiveRR, Cooldown: 9 bars, Lookback: 17) Filters: ATR>12MA ---\n"
     ]
    },
    {
     "name": "stderr",
     "output_type": "stream",
     "text": [
      "[I 2025-04-22 01:16:15,646] Trial 28 finished with value: -0.03641968871782726 and parameters: {'lookback_period': 17, 'cooldown_period_bars': 9, 'use_atr_filter': True, 'atr_period': 20, 'atr_ma_period': 12, 'use_adx_filter': False, 'use_adx_whipsaw_filter': False, 'use_adaptive_rr': True, 'base_rr': 2.1589440401074134, 'atr_multiplier_rr': 0.9727699506374194}. Best is trial 26 with value: 0.04960427983719816.\n"
     ]
    },
    {
     "name": "stdout",
     "output_type": "stream",
     "text": [
      "  Total Trades: 77\n",
      "  Win Rate: 33.77% (26 wins)\n",
      "  Total PnL (Points): -100.43571\n",
      "  Sharpe Ratio: -0.036\n",
      "  Sortino Ratio: -0.067\n",
      "\n",
      "--- Running Derivative backtest for: EURUSD (Exit: fixed_rr, Cooldown: 6 bars, Lookback: 20) Filters: ATR>20MA ---\n"
     ]
    },
    {
     "name": "stderr",
     "output_type": "stream",
     "text": [
      "[I 2025-04-22 01:16:16,284] Trial 29 finished with value: -0.5487719130810396 and parameters: {'lookback_period': 20, 'cooldown_period_bars': 6, 'use_atr_filter': True, 'atr_period': 15, 'atr_ma_period': 20, 'use_adx_filter': False, 'use_adx_whipsaw_filter': False, 'use_adaptive_rr': False, 'base_rr': 3.7636515520384846}. Best is trial 26 with value: 0.04960427983719816.\n"
     ]
    },
    {
     "name": "stdout",
     "output_type": "stream",
     "text": [
      "  Total Trades: 76\n",
      "  Win Rate: 10.53% (8 wins)\n",
      "  Total PnL (Points): -1058.68758\n",
      "  Sharpe Ratio: -0.549\n",
      "  Sortino Ratio: -0.904\n",
      "\n",
      "--- Running Derivative backtest for: EURUSD (Exit: fixed_rr, Cooldown: 10 bars, Lookback: 17) Filters: ATR>17MA ---\n"
     ]
    },
    {
     "name": "stderr",
     "output_type": "stream",
     "text": [
      "[I 2025-04-22 01:16:17,016] Trial 30 finished with value: -0.2643171402535545 and parameters: {'lookback_period': 17, 'cooldown_period_bars': 10, 'use_atr_filter': True, 'atr_period': 18, 'atr_ma_period': 17, 'use_adx_filter': False, 'use_adx_whipsaw_filter': False, 'use_adaptive_rr': False, 'base_rr': 1.500603898017737}. Best is trial 26 with value: 0.04960427983719816.\n"
     ]
    },
    {
     "name": "stdout",
     "output_type": "stream",
     "text": [
      "  Total Trades: 82\n",
      "  Win Rate: 29.27% (24 wins)\n",
      "  Total PnL (Points): -629.43052\n",
      "  Sharpe Ratio: -0.264\n",
      "  Sortino Ratio: -0.404\n",
      "\n",
      "--- Running Derivative backtest for: EURUSD (Exit: fixed_rr AdaptiveRR, Cooldown: 8 bars, Lookback: 19) Filters: ATR>26MA ---\n"
     ]
    },
    {
     "name": "stderr",
     "output_type": "stream",
     "text": [
      "[I 2025-04-22 01:16:17,710] Trial 31 finished with value: -0.17567414244892104 and parameters: {'lookback_period': 19, 'cooldown_period_bars': 8, 'use_atr_filter': True, 'atr_period': 13, 'atr_ma_period': 26, 'use_adx_filter': False, 'use_adx_whipsaw_filter': False, 'use_adaptive_rr': True, 'base_rr': 1.1959669758325973, 'atr_multiplier_rr': 0.4042176501159364}. Best is trial 26 with value: 0.04960427983719816.\n"
     ]
    },
    {
     "name": "stdout",
     "output_type": "stream",
     "text": [
      "  Total Trades: 85\n",
      "  Win Rate: 32.94% (28 wins)\n",
      "  Total PnL (Points): -459.63290\n",
      "  Sharpe Ratio: -0.176\n",
      "  Sortino Ratio: -0.341\n",
      "\n",
      "--- Running Derivative backtest for: EURUSD (Exit: fixed_rr AdaptiveRR, Cooldown: 7 bars, Lookback: 19) Filters: ATR>43MA ---\n"
     ]
    },
    {
     "name": "stderr",
     "output_type": "stream",
     "text": [
      "[I 2025-04-22 01:16:18,364] Trial 32 finished with value: -0.032665821855024896 and parameters: {'lookback_period': 19, 'cooldown_period_bars': 7, 'use_atr_filter': True, 'atr_period': 13, 'atr_ma_period': 43, 'use_adx_filter': False, 'use_adx_whipsaw_filter': False, 'use_adaptive_rr': True, 'base_rr': 1.036568636629625, 'atr_multiplier_rr': 0.2635462502721978}. Best is trial 26 with value: 0.04960427983719816.\n"
     ]
    },
    {
     "name": "stdout",
     "output_type": "stream",
     "text": [
      "  Total Trades: 96\n",
      "  Win Rate: 43.75% (42 wins)\n",
      "  Total PnL (Points): -91.83739\n",
      "  Sharpe Ratio: -0.033\n",
      "  Sortino Ratio: -0.064\n",
      "\n",
      "--- Running Derivative backtest for: EURUSD (Exit: fixed_rr AdaptiveRR, Cooldown: 9 bars, Lookback: 17) Filters: ADX>=15 ---\n"
     ]
    },
    {
     "name": "stderr",
     "output_type": "stream",
     "text": [
      "[I 2025-04-22 01:16:18,986] Trial 33 finished with value: -0.12285616081635269 and parameters: {'lookback_period': 17, 'cooldown_period_bars': 9, 'use_atr_filter': False, 'use_adx_filter': False, 'use_adx_whipsaw_filter': True, 'adx_whipsaw_threshold': 15, 'use_adaptive_rr': True, 'base_rr': 1.3216763016578046, 'atr_multiplier_rr': -0.131074896911673}. Best is trial 26 with value: 0.04960427983719816.\n"
     ]
    },
    {
     "name": "stdout",
     "output_type": "stream",
     "text": [
      "  Total Trades: 129\n",
      "  Win Rate: 34.11% (44 wins)\n",
      "  Total PnL (Points): -389.35471\n",
      "  Sharpe Ratio: -0.123\n",
      "  Sortino Ratio: -0.259\n",
      "\n",
      "--- Running Derivative backtest for: EURUSD (Exit: fixed_rr AdaptiveRR, Cooldown: 5 bars, Lookback: 12) Filters: ADX>16, ADX>=12 ---\n"
     ]
    },
    {
     "name": "stderr",
     "output_type": "stream",
     "text": [
      "[I 2025-04-22 01:16:19,617] Trial 34 finished with value: -0.22240445542358034 and parameters: {'lookback_period': 12, 'cooldown_period_bars': 5, 'use_atr_filter': False, 'use_adx_filter': True, 'adx_period_trend': 21, 'adx_trend_threshold': 16, 'use_adx_whipsaw_filter': True, 'adx_whipsaw_threshold': 12, 'use_adaptive_rr': True, 'base_rr': 1.4813831891499383, 'atr_multiplier_rr': 0.25022987256072016}. Best is trial 26 with value: 0.04960427983719816.\n"
     ]
    },
    {
     "name": "stdout",
     "output_type": "stream",
     "text": [
      "  Total Trades: 156\n",
      "  Win Rate: 28.85% (45 wins)\n",
      "  Total PnL (Points): -735.13329\n",
      "  Sharpe Ratio: -0.222\n",
      "  Sortino Ratio: -0.373\n",
      "\n",
      "--- Running Derivative backtest for: EURUSD (Exit: fixed_rr AdaptiveRR, Cooldown: 8 bars, Lookback: 15) Filters: ATR>18MA ---\n"
     ]
    },
    {
     "name": "stderr",
     "output_type": "stream",
     "text": [
      "[I 2025-04-22 01:16:20,374] Trial 35 finished with value: -0.28519203089884687 and parameters: {'lookback_period': 15, 'cooldown_period_bars': 8, 'use_atr_filter': True, 'atr_period': 18, 'atr_ma_period': 18, 'use_adx_filter': False, 'use_adx_whipsaw_filter': False, 'use_adaptive_rr': True, 'base_rr': 1.2039631097796295, 'atr_multiplier_rr': 0.5535505576738812}. Best is trial 26 with value: 0.04960427983719816.\n"
     ]
    },
    {
     "name": "stdout",
     "output_type": "stream",
     "text": [
      "  Total Trades: 93\n",
      "  Win Rate: 31.18% (29 wins)\n",
      "  Total PnL (Points): -679.61498\n",
      "  Sharpe Ratio: -0.285\n",
      "  Sortino Ratio: -0.442\n",
      "\n",
      "--- Running Derivative backtest for: EURUSD (Exit: fixed_rr AdaptiveRR, Cooldown: 10 bars, Lookback: 19) Filters: ADX>34, ADX>=11 ---\n"
     ]
    },
    {
     "name": "stderr",
     "output_type": "stream",
     "text": [
      "[I 2025-04-22 01:16:20,989] Trial 36 finished with value: -0.059892516433264646 and parameters: {'lookback_period': 19, 'cooldown_period_bars': 10, 'use_atr_filter': False, 'use_adx_filter': True, 'adx_period_trend': 7, 'adx_trend_threshold': 34, 'use_adx_whipsaw_filter': True, 'adx_whipsaw_threshold': 11, 'use_adaptive_rr': True, 'base_rr': 1.005209628557017, 'atr_multiplier_rr': -0.29476672777296026}. Best is trial 26 with value: 0.04960427983719816.\n"
     ]
    },
    {
     "name": "stdout",
     "output_type": "stream",
     "text": [
      "  Total Trades: 86\n",
      "  Win Rate: 46.51% (40 wins)\n",
      "  Total PnL (Points): -148.08980\n",
      "  Sharpe Ratio: -0.060\n",
      "  Sortino Ratio: -0.096\n",
      "\n",
      "--- Running Derivative backtest for: EURUSD (Exit: fixed_rr, Cooldown: 9 bars, Lookback: 20) Filters: ATR>26MA ---\n"
     ]
    },
    {
     "name": "stderr",
     "output_type": "stream",
     "text": [
      "[I 2025-04-22 01:16:21,609] Trial 37 finished with value: -0.2909026267525418 and parameters: {'lookback_period': 20, 'cooldown_period_bars': 9, 'use_atr_filter': True, 'atr_period': 15, 'atr_ma_period': 26, 'use_adx_filter': False, 'use_adx_whipsaw_filter': False, 'use_adaptive_rr': False, 'base_rr': 1.792043393993656}. Best is trial 26 with value: 0.04960427983719816.\n"
     ]
    },
    {
     "name": "stdout",
     "output_type": "stream",
     "text": [
      "  Total Trades: 73\n",
      "  Win Rate: 27.40% (20 wins)\n",
      "  Total PnL (Points): -640.25770\n",
      "  Sharpe Ratio: -0.291\n",
      "  Sortino Ratio: -0.462\n",
      "\n",
      "--- Running Derivative backtest for: EURUSD (Exit: fixed_rr AdaptiveRR, Cooldown: 6 bars, Lookback: 7) Filters: ADX>20, ADX>=14 ---\n"
     ]
    },
    {
     "name": "stderr",
     "output_type": "stream",
     "text": [
      "[I 2025-04-22 01:16:22,260] Trial 38 finished with value: -0.12376497660661528 and parameters: {'lookback_period': 7, 'cooldown_period_bars': 6, 'use_atr_filter': False, 'use_adx_filter': True, 'adx_period_trend': 10, 'adx_trend_threshold': 20, 'use_adx_whipsaw_filter': True, 'adx_whipsaw_threshold': 14, 'use_adaptive_rr': True, 'base_rr': 1.4637716809928323, 'atr_multiplier_rr': 0.14600815897191605}. Best is trial 26 with value: 0.04960427983719816.\n"
     ]
    },
    {
     "name": "stdout",
     "output_type": "stream",
     "text": [
      "  Total Trades: 173\n",
      "  Win Rate: 35.84% (62 wins)\n",
      "  Total PnL (Points): -406.94756\n",
      "  Sharpe Ratio: -0.124\n",
      "  Sortino Ratio: -0.237\n",
      "\n",
      "--- Running Derivative backtest for: EURUSD (Exit: fixed_rr, Cooldown: 4 bars, Lookback: 11) Filters: ATR>15MA, ADX>=16 ---\n"
     ]
    },
    {
     "name": "stderr",
     "output_type": "stream",
     "text": [
      "[I 2025-04-22 01:16:23,005] Trial 39 finished with value: -0.060365238331763084 and parameters: {'lookback_period': 11, 'cooldown_period_bars': 4, 'use_atr_filter': True, 'atr_period': 7, 'atr_ma_period': 15, 'use_adx_filter': False, 'use_adx_whipsaw_filter': True, 'adx_whipsaw_threshold': 16, 'use_adaptive_rr': False, 'base_rr': 1.250556416301451}. Best is trial 26 with value: 0.04960427983719816.\n"
     ]
    },
    {
     "name": "stdout",
     "output_type": "stream",
     "text": [
      "  Total Trades: 120\n",
      "  Win Rate: 39.17% (47 wins)\n",
      "  Total PnL (Points): -178.35678\n",
      "  Sharpe Ratio: -0.060\n",
      "  Sortino Ratio: -0.102\n",
      "\n",
      "--- Running Derivative backtest for: EURUSD (Exit: fixed_rr AdaptiveRR, Cooldown: 7 bars, Lookback: 15) Filters: ADX>15 ---\n"
     ]
    },
    {
     "name": "stderr",
     "output_type": "stream",
     "text": [
      "[I 2025-04-22 01:16:23,694] Trial 40 finished with value: -0.5089944190476534 and parameters: {'lookback_period': 15, 'cooldown_period_bars': 7, 'use_atr_filter': False, 'use_adx_filter': True, 'adx_period_trend': 17, 'adx_trend_threshold': 15, 'use_adx_whipsaw_filter': False, 'use_adaptive_rr': True, 'base_rr': 3.013567698540844, 'atr_multiplier_rr': -0.12591825602668244}. Best is trial 26 with value: 0.04960427983719816.\n"
     ]
    },
    {
     "name": "stdout",
     "output_type": "stream",
     "text": [
      "  Total Trades: 118\n",
      "  Win Rate: 11.02% (13 wins)\n",
      "  Total PnL (Points): -1353.32542\n",
      "  Sharpe Ratio: -0.509\n",
      "  Sortino Ratio: -0.927\n",
      "\n",
      "--- Running Derivative backtest for: EURUSD (Exit: fixed_rr AdaptiveRR, Cooldown: 7 bars, Lookback: 14) Filters: ADX>=13 ---\n"
     ]
    },
    {
     "name": "stderr",
     "output_type": "stream",
     "text": [
      "[I 2025-04-22 01:16:24,300] Trial 41 finished with value: -0.013308186450938902 and parameters: {'lookback_period': 14, 'cooldown_period_bars': 7, 'use_atr_filter': False, 'use_adx_filter': False, 'use_adx_whipsaw_filter': True, 'adx_whipsaw_threshold': 13, 'use_adaptive_rr': True, 'base_rr': 1.0079263188931984, 'atr_multiplier_rr': -0.49155691037983046}. Best is trial 26 with value: 0.04960427983719816.\n"
     ]
    },
    {
     "name": "stdout",
     "output_type": "stream",
     "text": [
      "  Total Trades: 167\n",
      "  Win Rate: 45.51% (76 wins)\n",
      "  Total PnL (Points): -50.16525\n",
      "  Sharpe Ratio: -0.013\n",
      "  Sortino Ratio: -0.027\n",
      "\n",
      "--- Running Derivative backtest for: EURUSD (Exit: fixed_rr AdaptiveRR, Cooldown: 8 bars, Lookback: 18) Filters: ADX>=11 ---\n"
     ]
    },
    {
     "name": "stderr",
     "output_type": "stream",
     "text": [
      "[I 2025-04-22 01:16:24,885] Trial 42 finished with value: -0.021159831243805095 and parameters: {'lookback_period': 18, 'cooldown_period_bars': 8, 'use_atr_filter': False, 'use_adx_filter': False, 'use_adx_whipsaw_filter': True, 'adx_whipsaw_threshold': 11, 'use_adaptive_rr': True, 'base_rr': 1.1267140024000692, 'atr_multiplier_rr': -0.29379073969855607}. Best is trial 26 with value: 0.04960427983719816.\n"
     ]
    },
    {
     "name": "stdout",
     "output_type": "stream",
     "text": [
      "  Total Trades: 143\n",
      "  Win Rate: 42.66% (61 wins)\n",
      "  Total PnL (Points): -79.21428\n",
      "  Sharpe Ratio: -0.021\n",
      "  Sortino Ratio: -0.043\n",
      "\n",
      "--- Running Derivative backtest for: EURUSD (Exit: fixed_rr AdaptiveRR, Cooldown: 7 bars, Lookback: 16) Filters: ADX>=14 ---\n"
     ]
    },
    {
     "name": "stderr",
     "output_type": "stream",
     "text": [
      "[I 2025-04-22 01:16:25,487] Trial 43 finished with value: -0.16629132963144946 and parameters: {'lookback_period': 16, 'cooldown_period_bars': 7, 'use_atr_filter': False, 'use_adx_filter': False, 'use_adx_whipsaw_filter': True, 'adx_whipsaw_threshold': 14, 'use_adaptive_rr': True, 'base_rr': 1.3559554213360123, 'atr_multiplier_rr': 0.41535525582172383}. Best is trial 26 with value: 0.04960427983719816.\n"
     ]
    },
    {
     "name": "stdout",
     "output_type": "stream",
     "text": [
      "  Total Trades: 139\n",
      "  Win Rate: 34.53% (48 wins)\n",
      "  Total PnL (Points): -510.65928\n",
      "  Sharpe Ratio: -0.166\n",
      "  Sortino Ratio: -0.347\n",
      "\n",
      "--- Running Derivative backtest for: EURUSD (Exit: fixed_rr AdaptiveRR, Cooldown: 9 bars, Lookback: 13) Filters: ADX>=12 ---\n"
     ]
    },
    {
     "name": "stderr",
     "output_type": "stream",
     "text": [
      "[I 2025-04-22 01:16:26,063] Trial 44 finished with value: 0.0933740569651163 and parameters: {'lookback_period': 13, 'cooldown_period_bars': 9, 'use_atr_filter': False, 'use_adx_filter': False, 'use_adx_whipsaw_filter': True, 'adx_whipsaw_threshold': 12, 'use_adaptive_rr': True, 'base_rr': 1.0018592233959551, 'atr_multiplier_rr': 0.63534595966437}. Best is trial 44 with value: 0.0933740569651163.\n"
     ]
    },
    {
     "name": "stdout",
     "output_type": "stream",
     "text": [
      "  Total Trades: 159\n",
      "  Win Rate: 49.69% (79 wins)\n",
      "  Total PnL (Points): 315.15901\n",
      "  Sharpe Ratio: 0.093\n",
      "  Sortino Ratio: 0.202\n",
      "\n",
      "--- Running Derivative backtest for: EURUSD (Exit: fixed_rr, Cooldown: 10 bars, Lookback: 8) Filters: ADX>=11 ---\n"
     ]
    },
    {
     "name": "stderr",
     "output_type": "stream",
     "text": [
      "[I 2025-04-22 01:16:26,783] Trial 45 finished with value: -0.08681911089572306 and parameters: {'lookback_period': 8, 'cooldown_period_bars': 10, 'use_atr_filter': False, 'use_adx_filter': False, 'use_adx_whipsaw_filter': True, 'adx_whipsaw_threshold': 11, 'use_adaptive_rr': False, 'base_rr': 1.5069496330221046}. Best is trial 44 with value: 0.0933740569651163.\n"
     ]
    },
    {
     "name": "stdout",
     "output_type": "stream",
     "text": [
      "  Total Trades: 152\n",
      "  Win Rate: 36.18% (55 wins)\n",
      "  Total PnL (Points): -268.91486\n",
      "  Sharpe Ratio: -0.087\n",
      "  Sortino Ratio: -0.176\n",
      "\n",
      "--- Running Derivative backtest for: EURUSD (Exit: fixed_rr AdaptiveRR, Cooldown: 9 bars, Lookback: 11) Filters: ADX>=17 ---\n"
     ]
    },
    {
     "name": "stderr",
     "output_type": "stream",
     "text": [
      "[I 2025-04-22 01:16:27,371] Trial 46 finished with value: -0.06488955441161662 and parameters: {'lookback_period': 11, 'cooldown_period_bars': 9, 'use_atr_filter': False, 'use_adx_filter': False, 'use_adx_whipsaw_filter': True, 'adx_whipsaw_threshold': 17, 'use_adaptive_rr': True, 'base_rr': 1.1486693060772306, 'atr_multiplier_rr': 0.6913809803934059}. Best is trial 44 with value: 0.0933740569651163.\n"
     ]
    },
    {
     "name": "stdout",
     "output_type": "stream",
     "text": [
      "  Total Trades: 130\n",
      "  Win Rate: 43.08% (56 wins)\n",
      "  Total PnL (Points): -177.26163\n",
      "  Sharpe Ratio: -0.065\n",
      "  Sortino Ratio: -0.127\n",
      "\n",
      "--- Running Derivative backtest for: EURUSD (Exit: fixed_rr, Cooldown: 9 bars, Lookback: 13) Filters: ADX>=12 ---\n"
     ]
    },
    {
     "name": "stderr",
     "output_type": "stream",
     "text": [
      "[I 2025-04-22 01:16:27,920] Trial 47 finished with value: -0.2375302985268261 and parameters: {'lookback_period': 13, 'cooldown_period_bars': 9, 'use_atr_filter': False, 'use_adx_filter': False, 'use_adx_whipsaw_filter': True, 'adx_whipsaw_threshold': 12, 'use_adaptive_rr': False, 'base_rr': 3.43373163832708}. Best is trial 44 with value: 0.0933740569651163.\n"
     ]
    },
    {
     "name": "stdout",
     "output_type": "stream",
     "text": [
      "  Total Trades: 116\n",
      "  Win Rate: 13.79% (16 wins)\n",
      "  Total PnL (Points): -688.99445\n",
      "  Sharpe Ratio: -0.238\n",
      "  Sortino Ratio: -0.641\n",
      "\n",
      "--- Running Derivative backtest for: EURUSD (Exit: fixed_rr AdaptiveRR, Cooldown: 10 bars, Lookback: 20) Filters: ATR>22MA, ADX>32, ADX>=15 ---\n"
     ]
    },
    {
     "name": "stderr",
     "output_type": "stream",
     "text": [
      "[I 2025-04-22 01:16:28,703] Trial 48 finished with value: -0.2766182825436646 and parameters: {'lookback_period': 20, 'cooldown_period_bars': 10, 'use_atr_filter': True, 'atr_period': 20, 'atr_ma_period': 22, 'use_adx_filter': True, 'adx_period_trend': 21, 'adx_trend_threshold': 32, 'use_adx_whipsaw_filter': True, 'adx_whipsaw_threshold': 15, 'use_adaptive_rr': True, 'base_rr': 1.2346651959380484, 'atr_multiplier_rr': 0.9873479374136391}. Best is trial 44 with value: 0.0933740569651163.\n"
     ]
    },
    {
     "name": "stdout",
     "output_type": "stream",
     "text": [
      "  Total Trades: 21\n",
      "  Win Rate: 33.33% (7 wins)\n",
      "  Total PnL (Points): -164.37672\n",
      "  Sharpe Ratio: -0.277\n",
      "  Sortino Ratio: -0.425\n",
      "\n",
      "--- Running Derivative backtest for: EURUSD (Exit: fixed_rr, Cooldown: 8 bars, Lookback: 19) ---\n"
     ]
    },
    {
     "name": "stderr",
     "output_type": "stream",
     "text": [
      "[I 2025-04-22 01:16:29,315] Trial 49 finished with value: -0.05522385280262878 and parameters: {'lookback_period': 19, 'cooldown_period_bars': 8, 'use_atr_filter': False, 'use_adx_filter': False, 'use_adx_whipsaw_filter': False, 'use_adaptive_rr': False, 'base_rr': 1.3928091351217453}. Best is trial 44 with value: 0.0933740569651163.\n"
     ]
    },
    {
     "name": "stdout",
     "output_type": "stream",
     "text": [
      "  Total Trades: 128\n",
      "  Win Rate: 39.06% (50 wins)\n",
      "  Total PnL (Points): -182.56895\n",
      "  Sharpe Ratio: -0.055\n",
      "  Sortino Ratio: -0.107\n",
      "\n",
      "--- Running Derivative backtest for: EURUSD (Exit: fixed_rr, Cooldown: 9 bars, Lookback: 18) Filters: ADX>=25 ---\n"
     ]
    },
    {
     "name": "stderr",
     "output_type": "stream",
     "text": [
      "[I 2025-04-22 01:16:29,868] Trial 50 finished with value: -0.2293693116624768 and parameters: {'lookback_period': 18, 'cooldown_period_bars': 9, 'use_atr_filter': False, 'use_adx_filter': False, 'use_adx_whipsaw_filter': True, 'adx_whipsaw_threshold': 25, 'use_adaptive_rr': False, 'base_rr': 2.5906199943124664}. Best is trial 44 with value: 0.0933740569651163.\n"
     ]
    },
    {
     "name": "stdout",
     "output_type": "stream",
     "text": [
      "  Total Trades: 76\n",
      "  Win Rate: 23.68% (18 wins)\n",
      "  Total PnL (Points): -526.88650\n",
      "  Sharpe Ratio: -0.229\n",
      "  Sortino Ratio: -0.442\n",
      "\n",
      "--- Running Derivative backtest for: EURUSD (Exit: fixed_rr AdaptiveRR, Cooldown: 8 bars, Lookback: 13) Filters: ADX>=13 ---\n"
     ]
    },
    {
     "name": "stderr",
     "output_type": "stream",
     "text": [
      "[I 2025-04-22 01:16:30,439] Trial 51 finished with value: -0.08585374243286462 and parameters: {'lookback_period': 13, 'cooldown_period_bars': 8, 'use_atr_filter': False, 'use_adx_filter': False, 'use_adx_whipsaw_filter': True, 'adx_whipsaw_threshold': 13, 'use_adaptive_rr': True, 'base_rr': 1.0967611060689528, 'atr_multiplier_rr': 0.74047854051994}. Best is trial 44 with value: 0.0933740569651163.\n"
     ]
    },
    {
     "name": "stdout",
     "output_type": "stream",
     "text": [
      "  Total Trades: 154\n",
      "  Win Rate: 42.86% (66 wins)\n",
      "  Total PnL (Points): -303.85278\n",
      "  Sharpe Ratio: -0.086\n",
      "  Sortino Ratio: -0.148\n",
      "\n",
      "--- Running Derivative backtest for: EURUSD (Exit: fixed_rr AdaptiveRR, Cooldown: 9 bars, Lookback: 11) Filters: ADX>=12 ---\n"
     ]
    },
    {
     "name": "stderr",
     "output_type": "stream",
     "text": [
      "[I 2025-04-22 01:16:31,005] Trial 52 finished with value: 0.05890167462865939 and parameters: {'lookback_period': 11, 'cooldown_period_bars': 9, 'use_atr_filter': False, 'use_adx_filter': False, 'use_adx_whipsaw_filter': True, 'adx_whipsaw_threshold': 12, 'use_adaptive_rr': True, 'base_rr': 1.0022839793293805, 'atr_multiplier_rr': 0.5032271779100768}. Best is trial 44 with value: 0.0933740569651163.\n"
     ]
    },
    {
     "name": "stdout",
     "output_type": "stream",
     "text": [
      "  Total Trades: 163\n",
      "  Win Rate: 49.08% (80 wins)\n",
      "  Total PnL (Points): 196.58069\n",
      "  Sharpe Ratio: 0.059\n",
      "  Sortino Ratio: 0.121\n",
      "\n",
      "--- Running Derivative backtest for: EURUSD (Exit: fixed_rr AdaptiveRR, Cooldown: 10 bars, Lookback: 9) Filters: ADX>=11 ---\n"
     ]
    },
    {
     "name": "stderr",
     "output_type": "stream",
     "text": [
      "[I 2025-04-22 01:16:31,582] Trial 53 finished with value: -0.023041704287657956 and parameters: {'lookback_period': 9, 'cooldown_period_bars': 10, 'use_atr_filter': False, 'use_adx_filter': False, 'use_adx_whipsaw_filter': True, 'adx_whipsaw_threshold': 11, 'use_adaptive_rr': True, 'base_rr': 1.1403496762276573, 'atr_multiplier_rr': 0.5232760145609612}. Best is trial 44 with value: 0.0933740569651163.\n"
     ]
    },
    {
     "name": "stdout",
     "output_type": "stream",
     "text": [
      "  Total Trades: 158\n",
      "  Win Rate: 43.67% (69 wins)\n",
      "  Total PnL (Points): -72.58263\n",
      "  Sharpe Ratio: -0.023\n",
      "  Sortino Ratio: -0.043\n",
      "\n",
      "--- Running Derivative backtest for: EURUSD (Exit: fixed_rr AdaptiveRR, Cooldown: 10 bars, Lookback: 10) Filters: ADX>=10 ---\n"
     ]
    },
    {
     "name": "stderr",
     "output_type": "stream",
     "text": [
      "[I 2025-04-22 01:16:32,154] Trial 54 finished with value: -0.06053458359089716 and parameters: {'lookback_period': 10, 'cooldown_period_bars': 10, 'use_atr_filter': False, 'use_adx_filter': False, 'use_adx_whipsaw_filter': True, 'adx_whipsaw_threshold': 10, 'use_adaptive_rr': True, 'base_rr': 1.2667937129632096, 'atr_multiplier_rr': 0.3132852758340447}. Best is trial 44 with value: 0.0933740569651163.\n"
     ]
    },
    {
     "name": "stdout",
     "output_type": "stream",
     "text": [
      "  Total Trades: 154\n",
      "  Win Rate: 38.31% (59 wins)\n",
      "  Total PnL (Points): -190.87370\n",
      "  Sharpe Ratio: -0.061\n",
      "  Sortino Ratio: -0.122\n",
      "\n",
      "--- Running Derivative backtest for: EURUSD (Exit: fixed_rr AdaptiveRR, Cooldown: 9 bars, Lookback: 10) Filters: ADX>=12 ---\n"
     ]
    },
    {
     "name": "stderr",
     "output_type": "stream",
     "text": [
      "[I 2025-04-22 01:16:32,920] Trial 55 finished with value: -0.06257226269086799 and parameters: {'lookback_period': 10, 'cooldown_period_bars': 9, 'use_atr_filter': False, 'use_adx_filter': False, 'use_adx_whipsaw_filter': True, 'adx_whipsaw_threshold': 12, 'use_adaptive_rr': True, 'base_rr': 1.558030229286451, 'atr_multiplier_rr': 0.642174186981202}. Best is trial 44 with value: 0.0933740569651163.\n"
     ]
    },
    {
     "name": "stdout",
     "output_type": "stream",
     "text": [
      "  Total Trades: 144\n",
      "  Win Rate: 34.03% (49 wins)\n",
      "  Total PnL (Points): -195.31643\n",
      "  Sharpe Ratio: -0.063\n",
      "  Sortino Ratio: -0.145\n",
      "\n",
      "--- Running Derivative backtest for: EURUSD (Exit: fixed_rr AdaptiveRR, Cooldown: 8 bars, Lookback: 11) Filters: ADX>=14 ---\n"
     ]
    },
    {
     "name": "stderr",
     "output_type": "stream",
     "text": [
      "[I 2025-04-22 01:16:33,540] Trial 56 finished with value: -0.13369872970815197 and parameters: {'lookback_period': 11, 'cooldown_period_bars': 8, 'use_atr_filter': False, 'use_adx_filter': False, 'use_adx_whipsaw_filter': True, 'adx_whipsaw_threshold': 14, 'use_adaptive_rr': True, 'base_rr': 1.1193183115994472, 'atr_multiplier_rr': 0.8238077180639617}. Best is trial 44 with value: 0.0933740569651163.\n"
     ]
    },
    {
     "name": "stdout",
     "output_type": "stream",
     "text": [
      "  Total Trades: 159\n",
      "  Win Rate: 40.25% (64 wins)\n",
      "  Total PnL (Points): -461.39477\n",
      "  Sharpe Ratio: -0.134\n",
      "  Sortino Ratio: -0.234\n",
      "\n",
      "--- Running Derivative backtest for: EURUSD (Exit: fixed_rr, Cooldown: 9 bars, Lookback: 20) Filters: ADX>=10 ---\n"
     ]
    },
    {
     "name": "stderr",
     "output_type": "stream",
     "text": [
      "[I 2025-04-22 01:16:34,163] Trial 57 finished with value: 0.03554474268936674 and parameters: {'lookback_period': 20, 'cooldown_period_bars': 9, 'use_atr_filter': False, 'use_adx_filter': False, 'use_adx_whipsaw_filter': True, 'adx_whipsaw_threshold': 10, 'use_adaptive_rr': False, 'base_rr': 1.0000907886106762}. Best is trial 44 with value: 0.0933740569651163.\n"
     ]
    },
    {
     "name": "stdout",
     "output_type": "stream",
     "text": [
      "  Total Trades: 141\n",
      "  Win Rate: 46.81% (66 wins)\n",
      "  Total PnL (Points): 118.83664\n",
      "  Sharpe Ratio: 0.036\n",
      "  Sortino Ratio: 0.086\n",
      "\n",
      "--- Running Derivative backtest for: EURUSD (Exit: fixed_rr, Cooldown: 10 bars, Lookback: 20) Filters: ADX>=10 ---\n"
     ]
    },
    {
     "name": "stderr",
     "output_type": "stream",
     "text": [
      "[I 2025-04-22 01:16:34,735] Trial 58 finished with value: -0.14702169288275266 and parameters: {'lookback_period': 20, 'cooldown_period_bars': 10, 'use_atr_filter': False, 'use_adx_filter': False, 'use_adx_whipsaw_filter': True, 'adx_whipsaw_threshold': 10, 'use_adaptive_rr': False, 'base_rr': 1.3737646990125687}. Best is trial 44 with value: 0.0933740569651163.\n"
     ]
    },
    {
     "name": "stdout",
     "output_type": "stream",
     "text": [
      "  Total Trades: 109\n",
      "  Win Rate: 33.94% (37 wins)\n",
      "  Total PnL (Points): -379.28611\n",
      "  Sharpe Ratio: -0.147\n",
      "  Sortino Ratio: -0.291\n",
      "\n",
      "--- Running Derivative backtest for: EURUSD (Exit: fixed_rr, Cooldown: 2 bars, Lookback: 8) Filters: ADX>=22 ---\n"
     ]
    },
    {
     "name": "stderr",
     "output_type": "stream",
     "text": [
      "[I 2025-04-22 01:16:35,441] Trial 59 finished with value: -0.16260447406895207 and parameters: {'lookback_period': 8, 'cooldown_period_bars': 2, 'use_atr_filter': False, 'use_adx_filter': False, 'use_adx_whipsaw_filter': True, 'adx_whipsaw_threshold': 22, 'use_adaptive_rr': False, 'base_rr': 1.2515676699082992}. Best is trial 44 with value: 0.0933740569651163.\n"
     ]
    },
    {
     "name": "stdout",
     "output_type": "stream",
     "text": [
      "  Total Trades: 183\n",
      "  Win Rate: 32.79% (60 wins)\n",
      "  Total PnL (Points): -463.48936\n",
      "  Sharpe Ratio: -0.163\n",
      "  Sortino Ratio: -0.285\n",
      "\n",
      "--- Running Derivative backtest for: EURUSD (Exit: fixed_rr, Cooldown: 9 bars, Lookback: 16) Filters: ATR>48MA, ADX>=10 ---\n"
     ]
    },
    {
     "name": "stderr",
     "output_type": "stream",
     "text": [
      "[I 2025-04-22 01:16:36,068] Trial 60 finished with value: -0.22609250699643643 and parameters: {'lookback_period': 16, 'cooldown_period_bars': 9, 'use_atr_filter': True, 'atr_period': 17, 'atr_ma_period': 48, 'use_adx_filter': False, 'use_adx_whipsaw_filter': True, 'adx_whipsaw_threshold': 10, 'use_adaptive_rr': False, 'base_rr': 1.8664558632103958}. Best is trial 44 with value: 0.0933740569651163.\n"
     ]
    },
    {
     "name": "stdout",
     "output_type": "stream",
     "text": [
      "  Total Trades: 69\n",
      "  Win Rate: 28.99% (20 wins)\n",
      "  Total PnL (Points): -552.29363\n",
      "  Sharpe Ratio: -0.226\n",
      "  Sortino Ratio: -0.423\n",
      "\n",
      "--- Running Derivative backtest for: EURUSD (Exit: fixed_rr, Cooldown: 9 bars, Lookback: 19) Filters: ADX>=11 ---\n"
     ]
    },
    {
     "name": "stderr",
     "output_type": "stream",
     "text": [
      "[I 2025-04-22 01:16:36,641] Trial 61 finished with value: 0.08516064292314116 and parameters: {'lookback_period': 19, 'cooldown_period_bars': 9, 'use_atr_filter': False, 'use_adx_filter': False, 'use_adx_whipsaw_filter': True, 'adx_whipsaw_threshold': 11, 'use_adaptive_rr': False, 'base_rr': 1.0104493616028842}. Best is trial 44 with value: 0.0933740569651163.\n"
     ]
    },
    {
     "name": "stdout",
     "output_type": "stream",
     "text": [
      "  Total Trades: 139\n",
      "  Win Rate: 48.20% (67 wins)\n",
      "  Total PnL (Points): 276.00047\n",
      "  Sharpe Ratio: 0.085\n",
      "  Sortino Ratio: 0.227\n",
      "\n",
      "--- Running Derivative backtest for: EURUSD (Exit: fixed_rr, Cooldown: 9 bars, Lookback: 20) Filters: ADX>=11 ---\n"
     ]
    },
    {
     "name": "stderr",
     "output_type": "stream",
     "text": [
      "[I 2025-04-22 01:16:37,208] Trial 62 finished with value: 0.08642291396111243 and parameters: {'lookback_period': 20, 'cooldown_period_bars': 9, 'use_atr_filter': False, 'use_adx_filter': False, 'use_adx_whipsaw_filter': True, 'adx_whipsaw_threshold': 11, 'use_adaptive_rr': False, 'base_rr': 1.0037911144495595}. Best is trial 44 with value: 0.0933740569651163.\n"
     ]
    },
    {
     "name": "stdout",
     "output_type": "stream",
     "text": [
      "  Total Trades: 138\n",
      "  Win Rate: 48.55% (67 wins)\n",
      "  Total PnL (Points): 284.31371\n",
      "  Sharpe Ratio: 0.086\n",
      "  Sortino Ratio: 0.220\n",
      "\n",
      "--- Running Derivative backtest for: EURUSD (Exit: fixed_rr, Cooldown: 10 bars, Lookback: 19) Filters: ADX>=11 ---\n"
     ]
    },
    {
     "name": "stderr",
     "output_type": "stream",
     "text": [
      "[I 2025-04-22 01:16:37,803] Trial 63 finished with value: 0.0077976314679872785 and parameters: {'lookback_period': 19, 'cooldown_period_bars': 10, 'use_atr_filter': False, 'use_adx_filter': False, 'use_adx_whipsaw_filter': True, 'adx_whipsaw_threshold': 11, 'use_adaptive_rr': False, 'base_rr': 1.1306515491547726}. Best is trial 44 with value: 0.0933740569651163.\n"
     ]
    },
    {
     "name": "stdout",
     "output_type": "stream",
     "text": [
      "  Total Trades: 120\n",
      "  Win Rate: 41.67% (50 wins)\n",
      "  Total PnL (Points): 21.78460\n",
      "  Sharpe Ratio: 0.008\n",
      "  Sortino Ratio: 0.018\n",
      "\n",
      "--- Running Derivative backtest for: EURUSD (Exit: fixed_rr, Cooldown: 9 bars, Lookback: 18) Filters: ADX>=13 ---\n"
     ]
    },
    {
     "name": "stderr",
     "output_type": "stream",
     "text": [
      "[I 2025-04-22 01:16:38,454] Trial 64 finished with value: -0.020311484492394786 and parameters: {'lookback_period': 18, 'cooldown_period_bars': 9, 'use_atr_filter': False, 'use_adx_filter': False, 'use_adx_whipsaw_filter': True, 'adx_whipsaw_threshold': 13, 'use_adaptive_rr': False, 'base_rr': 1.27579344001187}. Best is trial 44 with value: 0.0933740569651163.\n"
     ]
    },
    {
     "name": "stdout",
     "output_type": "stream",
     "text": [
      "  Total Trades: 133\n",
      "  Win Rate: 38.35% (51 wins)\n",
      "  Total PnL (Points): -64.08440\n",
      "  Sharpe Ratio: -0.020\n",
      "  Sortino Ratio: -0.054\n",
      "\n",
      "--- Running Derivative backtest for: EURUSD (Exit: fixed_rr, Cooldown: 9 bars, Lookback: 17) ---\n"
     ]
    },
    {
     "name": "stderr",
     "output_type": "stream",
     "text": [
      "[I 2025-04-22 01:16:38,977] Trial 65 finished with value: -0.04719475620123804 and parameters: {'lookback_period': 17, 'cooldown_period_bars': 9, 'use_atr_filter': False, 'use_adx_filter': False, 'use_adx_whipsaw_filter': False, 'use_adaptive_rr': False, 'base_rr': 1.1039012573101576}. Best is trial 44 with value: 0.0933740569651163.\n"
     ]
    },
    {
     "name": "stdout",
     "output_type": "stream",
     "text": [
      "  Total Trades: 141\n",
      "  Win Rate: 42.55% (60 wins)\n",
      "  Total PnL (Points): -150.40486\n",
      "  Sharpe Ratio: -0.047\n",
      "  Sortino Ratio: -0.103\n",
      "\n",
      "--- Running Derivative backtest for: EURUSD (Exit: fixed_rr, Cooldown: 10 bars, Lookback: 12) Filters: ADX>=12 ---\n"
     ]
    },
    {
     "name": "stderr",
     "output_type": "stream",
     "text": [
      "[I 2025-04-22 01:16:39,542] Trial 66 finished with value: -0.05174291029763114 and parameters: {'lookback_period': 12, 'cooldown_period_bars': 10, 'use_atr_filter': False, 'use_adx_filter': False, 'use_adx_whipsaw_filter': True, 'adx_whipsaw_threshold': 12, 'use_adaptive_rr': False, 'base_rr': 1.39788338439648}. Best is trial 44 with value: 0.0933740569651163.\n"
     ]
    },
    {
     "name": "stdout",
     "output_type": "stream",
     "text": [
      "  Total Trades: 132\n",
      "  Win Rate: 37.88% (50 wins)\n",
      "  Total PnL (Points): -161.22238\n",
      "  Sharpe Ratio: -0.052\n",
      "  Sortino Ratio: -0.103\n",
      "\n",
      "--- Running Derivative backtest for: EURUSD (Exit: fixed_rr, Cooldown: 10 bars, Lookback: 18) Filters: ADX>=11 ---\n"
     ]
    },
    {
     "name": "stderr",
     "output_type": "stream",
     "text": [
      "[I 2025-04-22 01:16:40,087] Trial 67 finished with value: -0.22324975069280728 and parameters: {'lookback_period': 18, 'cooldown_period_bars': 10, 'use_atr_filter': False, 'use_adx_filter': False, 'use_adx_whipsaw_filter': True, 'adx_whipsaw_threshold': 11, 'use_adaptive_rr': False, 'base_rr': 2.054096724643006}. Best is trial 44 with value: 0.0933740569651163.\n"
     ]
    },
    {
     "name": "stdout",
     "output_type": "stream",
     "text": [
      "  Total Trades: 97\n",
      "  Win Rate: 22.68% (22 wins)\n",
      "  Total PnL (Points): -510.96277\n",
      "  Sharpe Ratio: -0.223\n",
      "  Sortino Ratio: -0.514\n",
      "\n",
      "--- Running Derivative backtest for: EURUSD (Exit: fixed_rr, Cooldown: 9 bars, Lookback: 20) Filters: ATR>31MA, ADX>24 ---\n"
     ]
    },
    {
     "name": "stderr",
     "output_type": "stream",
     "text": [
      "[I 2025-04-22 01:16:40,744] Trial 68 finished with value: 0.02306855196851098 and parameters: {'lookback_period': 20, 'cooldown_period_bars': 9, 'use_atr_filter': True, 'atr_period': 12, 'atr_ma_period': 31, 'use_adx_filter': True, 'adx_period_trend': 15, 'adx_trend_threshold': 24, 'use_adx_whipsaw_filter': False, 'use_adaptive_rr': False, 'base_rr': 1.203282306097098}. Best is trial 44 with value: 0.0933740569651163.\n"
     ]
    },
    {
     "name": "stdout",
     "output_type": "stream",
     "text": [
      "  Total Trades: 52\n",
      "  Win Rate: 48.08% (25 wins)\n",
      "  Total PnL (Points): 41.34762\n",
      "  Sharpe Ratio: 0.023\n",
      "  Sortino Ratio: 0.043\n",
      "\n",
      "--- Running Derivative backtest for: EURUSD (Exit: fixed_rr, Cooldown: 8 bars, Lookback: 19) Filters: ADX>=13 ---\n"
     ]
    },
    {
     "name": "stderr",
     "output_type": "stream",
     "text": [
      "[I 2025-04-22 01:16:41,386] Trial 69 finished with value: -0.237770587796739 and parameters: {'lookback_period': 19, 'cooldown_period_bars': 8, 'use_atr_filter': False, 'use_adx_filter': False, 'use_adx_whipsaw_filter': True, 'adx_whipsaw_threshold': 13, 'use_adaptive_rr': False, 'base_rr': 1.5572929849270885}. Best is trial 44 with value: 0.0933740569651163.\n"
     ]
    },
    {
     "name": "stdout",
     "output_type": "stream",
     "text": [
      "  Total Trades: 124\n",
      "  Win Rate: 29.03% (36 wins)\n",
      "  Total PnL (Points): -733.90632\n",
      "  Sharpe Ratio: -0.238\n",
      "  Sortino Ratio: -0.432\n",
      "\n",
      "--- Running Derivative backtest for: EURUSD (Exit: fixed_rr, Cooldown: 9 bars, Lookback: 18) Filters: ADX>=14 ---\n"
     ]
    },
    {
     "name": "stderr",
     "output_type": "stream",
     "text": [
      "[I 2025-04-22 01:16:41,965] Trial 70 finished with value: -0.0626094008790995 and parameters: {'lookback_period': 18, 'cooldown_period_bars': 9, 'use_atr_filter': False, 'use_adx_filter': False, 'use_adx_whipsaw_filter': True, 'adx_whipsaw_threshold': 14, 'use_adaptive_rr': False, 'base_rr': 1.1059652069080235}. Best is trial 44 with value: 0.0933740569651163.\n"
     ]
    },
    {
     "name": "stdout",
     "output_type": "stream",
     "text": [
      "  Total Trades: 137\n",
      "  Win Rate: 42.34% (58 wins)\n",
      "  Total PnL (Points): -199.18056\n",
      "  Sharpe Ratio: -0.063\n",
      "  Sortino Ratio: -0.133\n",
      "\n",
      "--- Running Derivative backtest for: EURUSD (Exit: fixed_rr, Cooldown: 9 bars, Lookback: 20) Filters: ADX>=10 ---\n"
     ]
    },
    {
     "name": "stderr",
     "output_type": "stream",
     "text": [
      "[I 2025-04-22 01:16:42,601] Trial 71 finished with value: -0.013897323376026047 and parameters: {'lookback_period': 20, 'cooldown_period_bars': 9, 'use_atr_filter': False, 'use_adx_filter': False, 'use_adx_whipsaw_filter': True, 'adx_whipsaw_threshold': 10, 'use_adaptive_rr': False, 'base_rr': 1.0759733611245677}. Best is trial 44 with value: 0.0933740569651163.\n"
     ]
    },
    {
     "name": "stdout",
     "output_type": "stream",
     "text": [
      "  Total Trades: 135\n",
      "  Win Rate: 44.44% (60 wins)\n",
      "  Total PnL (Points): -43.19149\n",
      "  Sharpe Ratio: -0.014\n",
      "  Sortino Ratio: -0.033\n",
      "\n",
      "--- Running Derivative backtest for: EURUSD (Exit: fixed_rr, Cooldown: 10 bars, Lookback: 20) Filters: ADX>=10 ---\n"
     ]
    },
    {
     "name": "stderr",
     "output_type": "stream",
     "text": [
      "[I 2025-04-22 01:16:43,188] Trial 72 finished with value: 0.07642519382352207 and parameters: {'lookback_period': 20, 'cooldown_period_bars': 10, 'use_atr_filter': False, 'use_adx_filter': False, 'use_adx_whipsaw_filter': True, 'adx_whipsaw_threshold': 10, 'use_adaptive_rr': False, 'base_rr': 1.0023188298486518}. Best is trial 44 with value: 0.0933740569651163.\n"
     ]
    },
    {
     "name": "stdout",
     "output_type": "stream",
     "text": [
      "  Total Trades: 134\n",
      "  Win Rate: 49.25% (66 wins)\n",
      "  Total PnL (Points): 243.43845\n",
      "  Sharpe Ratio: 0.076\n",
      "  Sortino Ratio: 0.153\n",
      "\n",
      "--- Running Derivative backtest for: EURUSD (Exit: fixed_rr, Cooldown: 10 bars, Lookback: 19) Filters: ADX>=11 ---\n"
     ]
    },
    {
     "name": "stderr",
     "output_type": "stream",
     "text": [
      "[I 2025-04-22 01:16:43,747] Trial 73 finished with value: -0.053750681537604275 and parameters: {'lookback_period': 19, 'cooldown_period_bars': 10, 'use_atr_filter': False, 'use_adx_filter': False, 'use_adx_whipsaw_filter': True, 'adx_whipsaw_threshold': 11, 'use_adaptive_rr': False, 'base_rr': 1.2962817059258764}. Best is trial 44 with value: 0.0933740569651163.\n"
     ]
    },
    {
     "name": "stdout",
     "output_type": "stream",
     "text": [
      "  Total Trades: 112\n",
      "  Win Rate: 36.61% (41 wins)\n",
      "  Total PnL (Points): -142.50712\n",
      "  Sharpe Ratio: -0.054\n",
      "  Sortino Ratio: -0.124\n",
      "\n",
      "--- Running Derivative backtest for: EURUSD (Exit: fixed_rr, Cooldown: 10 bars, Lookback: 20) Filters: ADX>=12 ---\n"
     ]
    },
    {
     "name": "stderr",
     "output_type": "stream",
     "text": [
      "[I 2025-04-22 01:16:44,423] Trial 74 finished with value: 0.06075269363548198 and parameters: {'lookback_period': 20, 'cooldown_period_bars': 10, 'use_atr_filter': False, 'use_adx_filter': False, 'use_adx_whipsaw_filter': True, 'adx_whipsaw_threshold': 12, 'use_adaptive_rr': False, 'base_rr': 1.0050458836632719}. Best is trial 44 with value: 0.0933740569651163.\n"
     ]
    },
    {
     "name": "stdout",
     "output_type": "stream",
     "text": [
      "  Total Trades: 125\n",
      "  Win Rate: 47.20% (59 wins)\n",
      "  Total PnL (Points): 172.47303\n",
      "  Sharpe Ratio: 0.061\n",
      "  Sortino Ratio: 0.133\n",
      "\n",
      "--- Running Derivative backtest for: EURUSD (Exit: fixed_rr, Cooldown: 10 bars, Lookback: 20) Filters: ADX>=12 ---\n"
     ]
    },
    {
     "name": "stderr",
     "output_type": "stream",
     "text": [
      "[I 2025-04-22 01:16:44,971] Trial 75 finished with value: -0.017893181695537476 and parameters: {'lookback_period': 20, 'cooldown_period_bars': 10, 'use_atr_filter': False, 'use_adx_filter': False, 'use_adx_whipsaw_filter': True, 'adx_whipsaw_threshold': 12, 'use_adaptive_rr': False, 'base_rr': 1.2050404361333658}. Best is trial 44 with value: 0.0933740569651163.\n"
     ]
    },
    {
     "name": "stdout",
     "output_type": "stream",
     "text": [
      "  Total Trades: 114\n",
      "  Win Rate: 39.47% (45 wins)\n",
      "  Total PnL (Points): -49.34985\n",
      "  Sharpe Ratio: -0.018\n",
      "  Sortino Ratio: -0.041\n",
      "\n",
      "--- Running Derivative backtest for: EURUSD (Exit: fixed_rr, Cooldown: 9 bars, Lookback: 19) Filters: ATR>37MA, ADX>=10 ---\n"
     ]
    },
    {
     "name": "stderr",
     "output_type": "stream",
     "text": [
      "[I 2025-04-22 01:16:45,625] Trial 76 finished with value: 0.015279861819875512 and parameters: {'lookback_period': 19, 'cooldown_period_bars': 9, 'use_atr_filter': True, 'atr_period': 19, 'atr_ma_period': 37, 'use_adx_filter': False, 'use_adx_whipsaw_filter': True, 'adx_whipsaw_threshold': 10, 'use_adaptive_rr': False, 'base_rr': 1.0084899597300296}. Best is trial 44 with value: 0.0933740569651163.\n"
     ]
    },
    {
     "name": "stdout",
     "output_type": "stream",
     "text": [
      "  Total Trades: 82\n",
      "  Win Rate: 50.00% (41 wins)\n",
      "  Total PnL (Points): 37.06560\n",
      "  Sharpe Ratio: 0.015\n",
      "  Sortino Ratio: 0.026\n",
      "\n",
      "--- Running Derivative backtest for: EURUSD (Exit: fixed_rr, Cooldown: 10 bars, Lookback: 20) ---\n"
     ]
    },
    {
     "name": "stderr",
     "output_type": "stream",
     "text": [
      "[I 2025-04-22 01:16:46,161] Trial 77 finished with value: -0.05973229457504917 and parameters: {'lookback_period': 20, 'cooldown_period_bars': 10, 'use_atr_filter': False, 'use_adx_filter': False, 'use_adx_whipsaw_filter': False, 'use_adaptive_rr': False, 'base_rr': 1.1837842487634116}. Best is trial 44 with value: 0.0933740569651163.\n"
     ]
    },
    {
     "name": "stdout",
     "output_type": "stream",
     "text": [
      "  Total Trades: 120\n",
      "  Win Rate: 40.00% (48 wins)\n",
      "  Total PnL (Points): -170.88332\n",
      "  Sharpe Ratio: -0.060\n",
      "  Sortino Ratio: -0.118\n",
      "\n",
      "--- Running Derivative backtest for: EURUSD (Exit: fixed_rr, Cooldown: 10 bars, Lookback: 5) Filters: ADX>=11 ---\n"
     ]
    },
    {
     "name": "stderr",
     "output_type": "stream",
     "text": [
      "[I 2025-04-22 01:16:46,727] Trial 78 finished with value: 3.181823244111058e-05 and parameters: {'lookback_period': 5, 'cooldown_period_bars': 10, 'use_atr_filter': False, 'use_adx_filter': False, 'use_adx_whipsaw_filter': True, 'adx_whipsaw_threshold': 11, 'use_adaptive_rr': False, 'base_rr': 1.071331812500438}. Best is trial 44 with value: 0.0933740569651163.\n"
     ]
    },
    {
     "name": "stdout",
     "output_type": "stream",
     "text": [
      "  Total Trades: 174\n",
      "  Win Rate: 42.53% (74 wins)\n",
      "  Total PnL (Points): 0.09758\n",
      "  Sharpe Ratio: 0.000\n",
      "  Sortino Ratio: 0.000\n",
      "\n",
      "--- Running Derivative backtest for: EURUSD (Exit: fixed_rr AdaptiveRR, Cooldown: 9 bars, Lookback: 19) Filters: ADX>=12 ---\n"
     ]
    },
    {
     "name": "stderr",
     "output_type": "stream",
     "text": [
      "[I 2025-04-22 01:16:47,444] Trial 79 finished with value: -0.23241785504460813 and parameters: {'lookback_period': 19, 'cooldown_period_bars': 9, 'use_atr_filter': False, 'use_adx_filter': False, 'use_adx_whipsaw_filter': True, 'adx_whipsaw_threshold': 12, 'use_adaptive_rr': True, 'base_rr': 2.8795512534425454, 'atr_multiplier_rr': 0.8520648772344357}. Best is trial 44 with value: 0.0933740569651163.\n"
     ]
    },
    {
     "name": "stdout",
     "output_type": "stream",
     "text": [
      "  Total Trades: 103\n",
      "  Win Rate: 15.53% (16 wins)\n",
      "  Total PnL (Points): -642.85044\n",
      "  Sharpe Ratio: -0.232\n",
      "  Sortino Ratio: -0.707\n",
      "\n",
      "--- Running Derivative backtest for: EURUSD (Exit: fixed_rr, Cooldown: 8 bars, Lookback: 20) Filters: ATR>14MA, ADX>31, ADX>=21 ---\n"
     ]
    },
    {
     "name": "stderr",
     "output_type": "stream",
     "text": [
      "[I 2025-04-22 01:16:48,180] Trial 80 finished with value: -0.022357540763915437 and parameters: {'lookback_period': 20, 'cooldown_period_bars': 8, 'use_atr_filter': True, 'atr_period': 16, 'atr_ma_period': 14, 'use_adx_filter': True, 'adx_period_trend': 10, 'adx_trend_threshold': 31, 'use_adx_whipsaw_filter': True, 'adx_whipsaw_threshold': 21, 'use_adaptive_rr': False, 'base_rr': 1.4243754825903947}. Best is trial 44 with value: 0.0933740569651163.\n"
     ]
    },
    {
     "name": "stdout",
     "output_type": "stream",
     "text": [
      "  Total Trades: 45\n",
      "  Win Rate: 33.33% (15 wins)\n",
      "  Total PnL (Points): -40.41897\n",
      "  Sharpe Ratio: -0.022\n",
      "  Sortino Ratio: -0.045\n",
      "\n",
      "--- Running Derivative backtest for: EURUSD (Exit: fixed_rr, Cooldown: 10 bars, Lookback: 19) Filters: ADX>=13 ---\n"
     ]
    },
    {
     "name": "stderr",
     "output_type": "stream",
     "text": [
      "[I 2025-04-22 01:16:48,724] Trial 81 finished with value: -0.02911791517555596 and parameters: {'lookback_period': 19, 'cooldown_period_bars': 10, 'use_atr_filter': False, 'use_adx_filter': False, 'use_adx_whipsaw_filter': True, 'adx_whipsaw_threshold': 13, 'use_adaptive_rr': False, 'base_rr': 1.0716813213886505}. Best is trial 44 with value: 0.0933740569651163.\n"
     ]
    },
    {
     "name": "stdout",
     "output_type": "stream",
     "text": [
      "  Total Trades: 122\n",
      "  Win Rate: 44.26% (54 wins)\n",
      "  Total PnL (Points): -84.36466\n",
      "  Sharpe Ratio: -0.029\n",
      "  Sortino Ratio: -0.057\n",
      "\n",
      "--- Running Derivative backtest for: EURUSD (Exit: fixed_rr, Cooldown: 10 bars, Lookback: 18) Filters: ADX>=11 ---\n"
     ]
    },
    {
     "name": "stderr",
     "output_type": "stream",
     "text": [
      "[I 2025-04-22 01:16:49,283] Trial 82 finished with value: 0.10608747213103802 and parameters: {'lookback_period': 18, 'cooldown_period_bars': 10, 'use_atr_filter': False, 'use_adx_filter': False, 'use_adx_whipsaw_filter': True, 'adx_whipsaw_threshold': 11, 'use_adaptive_rr': False, 'base_rr': 1.0018549590834438}. Best is trial 82 with value: 0.10608747213103802.\n"
     ]
    },
    {
     "name": "stdout",
     "output_type": "stream",
     "text": [
      "  Total Trades: 131\n",
      "  Win Rate: 49.62% (65 wins)\n",
      "  Total PnL (Points): 298.64765\n",
      "  Sharpe Ratio: 0.106\n",
      "  Sortino Ratio: 0.223\n",
      "\n",
      "--- Running Derivative backtest for: EURUSD (Exit: fixed_rr, Cooldown: 10 bars, Lookback: 20) Filters: ADX>=11 ---\n"
     ]
    },
    {
     "name": "stderr",
     "output_type": "stream",
     "text": [
      "[I 2025-04-22 01:16:49,866] Trial 83 finished with value: -0.029493833416654965 and parameters: {'lookback_period': 20, 'cooldown_period_bars': 10, 'use_atr_filter': False, 'use_adx_filter': False, 'use_adx_whipsaw_filter': True, 'adx_whipsaw_threshold': 11, 'use_adaptive_rr': False, 'base_rr': 1.1778327887379132}. Best is trial 82 with value: 0.10608747213103802.\n"
     ]
    },
    {
     "name": "stdout",
     "output_type": "stream",
     "text": [
      "  Total Trades: 113\n",
      "  Win Rate: 39.82% (45 wins)\n",
      "  Total PnL (Points): -77.19964\n",
      "  Sharpe Ratio: -0.029\n",
      "  Sortino Ratio: -0.065\n",
      "\n",
      "--- Running Derivative backtest for: EURUSD (Exit: fixed_rr, Cooldown: 9 bars, Lookback: 13) Filters: ADX>=10 ---\n"
     ]
    },
    {
     "name": "stderr",
     "output_type": "stream",
     "text": [
      "[I 2025-04-22 01:16:50,525] Trial 84 finished with value: -0.01794605591954201 and parameters: {'lookback_period': 13, 'cooldown_period_bars': 9, 'use_atr_filter': False, 'use_adx_filter': False, 'use_adx_whipsaw_filter': True, 'adx_whipsaw_threshold': 10, 'use_adaptive_rr': False, 'base_rr': 1.3173248336469778}. Best is trial 82 with value: 0.10608747213103802.\n"
     ]
    },
    {
     "name": "stdout",
     "output_type": "stream",
     "text": [
      "  Total Trades: 147\n",
      "  Win Rate: 36.73% (54 wins)\n",
      "  Total PnL (Points): -60.36865\n",
      "  Sharpe Ratio: -0.018\n",
      "  Sortino Ratio: -0.043\n",
      "\n",
      "--- Running Derivative backtest for: EURUSD (Exit: fixed_rr, Cooldown: 10 bars, Lookback: 17) Filters: ADX>=12 ---\n"
     ]
    },
    {
     "name": "stderr",
     "output_type": "stream",
     "text": [
      "[I 2025-04-22 01:16:51,082] Trial 85 finished with value: 0.11015493898237269 and parameters: {'lookback_period': 17, 'cooldown_period_bars': 10, 'use_atr_filter': False, 'use_adx_filter': False, 'use_adx_whipsaw_filter': True, 'adx_whipsaw_threshold': 12, 'use_adaptive_rr': False, 'base_rr': 1.0015773586608767}. Best is trial 85 with value: 0.11015493898237269.\n"
     ]
    },
    {
     "name": "stdout",
     "output_type": "stream",
     "text": [
      "  Total Trades: 135\n",
      "  Win Rate: 50.37% (68 wins)\n",
      "  Total PnL (Points): 337.97778\n",
      "  Sharpe Ratio: 0.110\n",
      "  Sortino Ratio: 0.222\n",
      "\n",
      "--- Running Derivative backtest for: EURUSD (Exit: fixed_rr, Cooldown: 10 bars, Lookback: 17) ---\n"
     ]
    },
    {
     "name": "stderr",
     "output_type": "stream",
     "text": [
      "[I 2025-04-22 01:16:51,641] Trial 86 finished with value: 0.08078705548373538 and parameters: {'lookback_period': 17, 'cooldown_period_bars': 10, 'use_atr_filter': False, 'use_adx_filter': False, 'use_adx_whipsaw_filter': False, 'use_adaptive_rr': False, 'base_rr': 1.0414837820948475}. Best is trial 85 with value: 0.11015493898237269.\n"
     ]
    },
    {
     "name": "stdout",
     "output_type": "stream",
     "text": [
      "  Total Trades: 138\n",
      "  Win Rate: 50.00% (69 wins)\n",
      "  Total PnL (Points): 266.74156\n",
      "  Sharpe Ratio: 0.081\n",
      "  Sortino Ratio: 0.152\n",
      "\n",
      "--- Running Derivative backtest for: EURUSD (Exit: fixed_rr, Cooldown: 10 bars, Lookback: 17) Filters: ADX>=12 ---\n"
     ]
    },
    {
     "name": "stderr",
     "output_type": "stream",
     "text": [
      "[I 2025-04-22 01:16:52,235] Trial 87 finished with value: 0.03080923686394904 and parameters: {'lookback_period': 17, 'cooldown_period_bars': 10, 'use_atr_filter': False, 'use_adx_filter': False, 'use_adx_whipsaw_filter': True, 'adx_whipsaw_threshold': 12, 'use_adaptive_rr': False, 'base_rr': 1.0927844785674192}. Best is trial 85 with value: 0.11015493898237269.\n"
     ]
    },
    {
     "name": "stdout",
     "output_type": "stream",
     "text": [
      "  Total Trades: 126\n",
      "  Win Rate: 46.03% (58 wins)\n",
      "  Total PnL (Points): 88.59888\n",
      "  Sharpe Ratio: 0.031\n",
      "  Sortino Ratio: 0.061\n",
      "\n",
      "--- Running Derivative backtest for: EURUSD (Exit: fixed_rr, Cooldown: 10 bars, Lookback: 15) Filters: ADX>=12 ---\n"
     ]
    },
    {
     "name": "stderr",
     "output_type": "stream",
     "text": [
      "[I 2025-04-22 01:16:52,840] Trial 88 finished with value: 0.05751638075261944 and parameters: {'lookback_period': 15, 'cooldown_period_bars': 10, 'use_atr_filter': False, 'use_adx_filter': False, 'use_adx_whipsaw_filter': True, 'adx_whipsaw_threshold': 12, 'use_adaptive_rr': False, 'base_rr': 1.0040076758552323}. Best is trial 85 with value: 0.11015493898237269.\n"
     ]
    },
    {
     "name": "stdout",
     "output_type": "stream",
     "text": [
      "  Total Trades: 136\n",
      "  Win Rate: 47.06% (64 wins)\n",
      "  Total PnL (Points): 174.96605\n",
      "  Sharpe Ratio: 0.058\n",
      "  Sortino Ratio: 0.109\n",
      "\n",
      "--- Running Derivative backtest for: EURUSD (Exit: fixed_rr, Cooldown: 10 bars, Lookback: 17) ---\n"
     ]
    },
    {
     "name": "stderr",
     "output_type": "stream",
     "text": [
      "[I 2025-04-22 01:16:53,469] Trial 89 finished with value: -0.04222587754146295 and parameters: {'lookback_period': 17, 'cooldown_period_bars': 10, 'use_atr_filter': False, 'use_adx_filter': False, 'use_adx_whipsaw_filter': False, 'use_adaptive_rr': False, 'base_rr': 1.1968589206331637}. Best is trial 85 with value: 0.11015493898237269.\n"
     ]
    },
    {
     "name": "stdout",
     "output_type": "stream",
     "text": [
      "  Total Trades: 127\n",
      "  Win Rate: 42.52% (54 wins)\n",
      "  Total PnL (Points): -125.22535\n",
      "  Sharpe Ratio: -0.042\n",
      "  Sortino Ratio: -0.078\n",
      "\n",
      "--- Running Derivative backtest for: EURUSD (Exit: fixed_rr, Cooldown: 4 bars, Lookback: 16) Filters: ADX>=11 ---\n"
     ]
    },
    {
     "name": "stderr",
     "output_type": "stream",
     "text": [
      "[I 2025-04-22 01:16:54,039] Trial 90 finished with value: 0.019809424579850132 and parameters: {'lookback_period': 16, 'cooldown_period_bars': 4, 'use_atr_filter': False, 'use_adx_filter': False, 'use_adx_whipsaw_filter': True, 'adx_whipsaw_threshold': 11, 'use_adaptive_rr': False, 'base_rr': 1.2666754888819307}. Best is trial 85 with value: 0.11015493898237269.\n"
     ]
    },
    {
     "name": "stdout",
     "output_type": "stream",
     "text": [
      "  Total Trades: 178\n",
      "  Win Rate: 42.13% (75 wins)\n",
      "  Total PnL (Points): 82.20731\n",
      "  Sharpe Ratio: 0.020\n",
      "  Sortino Ratio: 0.046\n",
      "\n",
      "--- Running Derivative backtest for: EURUSD (Exit: fixed_rr, Cooldown: 10 bars, Lookback: 15) Filters: ADX>=12 ---\n"
     ]
    },
    {
     "name": "stderr",
     "output_type": "stream",
     "text": [
      "[I 2025-04-22 01:16:54,603] Trial 91 finished with value: 0.06748420835193703 and parameters: {'lookback_period': 15, 'cooldown_period_bars': 10, 'use_atr_filter': False, 'use_adx_filter': False, 'use_adx_whipsaw_filter': True, 'adx_whipsaw_threshold': 12, 'use_adaptive_rr': False, 'base_rr': 1.001778750459702}. Best is trial 85 with value: 0.11015493898237269.\n"
     ]
    },
    {
     "name": "stdout",
     "output_type": "stream",
     "text": [
      "  Total Trades: 138\n",
      "  Win Rate: 47.83% (66 wins)\n",
      "  Total PnL (Points): 207.35440\n",
      "  Sharpe Ratio: 0.067\n",
      "  Sortino Ratio: 0.128\n",
      "\n",
      "--- Running Derivative backtest for: EURUSD (Exit: fixed_rr, Cooldown: 10 bars, Lookback: 14) Filters: ADX>=12 ---\n"
     ]
    },
    {
     "name": "stderr",
     "output_type": "stream",
     "text": [
      "[I 2025-04-22 01:16:55,151] Trial 92 finished with value: 0.003900919491304548 and parameters: {'lookback_period': 14, 'cooldown_period_bars': 10, 'use_atr_filter': False, 'use_adx_filter': False, 'use_adx_whipsaw_filter': True, 'adx_whipsaw_threshold': 12, 'use_adaptive_rr': False, 'base_rr': 1.0582208345834923}. Best is trial 85 with value: 0.11015493898237269.\n"
     ]
    },
    {
     "name": "stdout",
     "output_type": "stream",
     "text": [
      "  Total Trades: 136\n",
      "  Win Rate: 44.85% (61 wins)\n",
      "  Total PnL (Points): 11.80098\n",
      "  Sharpe Ratio: 0.004\n",
      "  Sortino Ratio: 0.007\n",
      "\n",
      "--- Running Derivative backtest for: EURUSD (Exit: fixed_rr, Cooldown: 10 bars, Lookback: 15) Filters: ADX>=13 ---\n"
     ]
    },
    {
     "name": "stderr",
     "output_type": "stream",
     "text": [
      "[I 2025-04-22 01:16:55,736] Trial 93 finished with value: -0.07754469270775893 and parameters: {'lookback_period': 15, 'cooldown_period_bars': 10, 'use_atr_filter': False, 'use_adx_filter': False, 'use_adx_whipsaw_filter': True, 'adx_whipsaw_threshold': 13, 'use_adaptive_rr': False, 'base_rr': 1.1653590023728846}. Best is trial 85 with value: 0.11015493898237269.\n"
     ]
    },
    {
     "name": "stdout",
     "output_type": "stream",
     "text": [
      "  Total Trades: 124\n",
      "  Win Rate: 39.52% (49 wins)\n",
      "  Total PnL (Points): -223.28055\n",
      "  Sharpe Ratio: -0.078\n",
      "  Sortino Ratio: -0.139\n",
      "\n",
      "--- Running Derivative backtest for: EURUSD (Exit: fixed_rr, Cooldown: 9 bars, Lookback: 16) Filters: ADX>=11 ---\n"
     ]
    },
    {
     "name": "stderr",
     "output_type": "stream",
     "text": [
      "[I 2025-04-22 01:16:56,332] Trial 94 finished with value: 0.05832311786286574 and parameters: {'lookback_period': 16, 'cooldown_period_bars': 9, 'use_atr_filter': False, 'use_adx_filter': False, 'use_adx_whipsaw_filter': True, 'adx_whipsaw_threshold': 11, 'use_adaptive_rr': False, 'base_rr': 1.0672272425101121}. Best is trial 85 with value: 0.11015493898237269.\n"
     ]
    },
    {
     "name": "stdout",
     "output_type": "stream",
     "text": [
      "  Total Trades: 144\n",
      "  Win Rate: 46.53% (67 wins)\n",
      "  Total PnL (Points): 186.91194\n",
      "  Sharpe Ratio: 0.058\n",
      "  Sortino Ratio: 0.146\n",
      "\n",
      "--- Running Derivative backtest for: EURUSD (Exit: fixed_rr, Cooldown: 10 bars, Lookback: 18) Filters: ADX>=12 ---\n"
     ]
    },
    {
     "name": "stderr",
     "output_type": "stream",
     "text": [
      "[I 2025-04-22 01:16:56,920] Trial 95 finished with value: -0.01609511854181172 and parameters: {'lookback_period': 18, 'cooldown_period_bars': 10, 'use_atr_filter': False, 'use_adx_filter': False, 'use_adx_whipsaw_filter': True, 'adx_whipsaw_threshold': 12, 'use_adaptive_rr': False, 'base_rr': 1.3241429342031417}. Best is trial 85 with value: 0.11015493898237269.\n"
     ]
    },
    {
     "name": "stdout",
     "output_type": "stream",
     "text": [
      "  Total Trades: 113\n",
      "  Win Rate: 38.05% (43 wins)\n",
      "  Total PnL (Points): -44.15575\n",
      "  Sharpe Ratio: -0.016\n",
      "  Sortino Ratio: -0.038\n",
      "\n",
      "--- Running Derivative backtest for: EURUSD (Exit: fixed_rr, Cooldown: 9 bars, Lookback: 11) Filters: ADX>=10 ---\n"
     ]
    },
    {
     "name": "stderr",
     "output_type": "stream",
     "text": [
      "[I 2025-04-22 01:16:57,521] Trial 96 finished with value: -0.003110818535012327 and parameters: {'lookback_period': 11, 'cooldown_period_bars': 9, 'use_atr_filter': False, 'use_adx_filter': False, 'use_adx_whipsaw_filter': True, 'adx_whipsaw_threshold': 10, 'use_adaptive_rr': False, 'base_rr': 1.1425009023232953}. Best is trial 85 with value: 0.11015493898237269.\n"
     ]
    },
    {
     "name": "stdout",
     "output_type": "stream",
     "text": [
      "  Total Trades: 160\n",
      "  Win Rate: 42.50% (68 wins)\n",
      "  Total PnL (Points): -10.00743\n",
      "  Sharpe Ratio: -0.003\n",
      "  Sortino Ratio: -0.007\n",
      "\n",
      "--- Running Derivative backtest for: EURUSD (Exit: fixed_rr, Cooldown: 10 bars, Lookback: 12) Filters: ADX>=13 ---\n"
     ]
    },
    {
     "name": "stderr",
     "output_type": "stream",
     "text": [
      "[I 2025-04-22 01:16:58,119] Trial 97 finished with value: -0.04092697073047655 and parameters: {'lookback_period': 12, 'cooldown_period_bars': 10, 'use_atr_filter': False, 'use_adx_filter': False, 'use_adx_whipsaw_filter': True, 'adx_whipsaw_threshold': 13, 'use_adaptive_rr': False, 'base_rr': 1.2318507482512877}. Best is trial 85 with value: 0.11015493898237269.\n"
     ]
    },
    {
     "name": "stdout",
     "output_type": "stream",
     "text": [
      "  Total Trades: 136\n",
      "  Win Rate: 39.71% (54 wins)\n",
      "  Total PnL (Points): -131.30768\n",
      "  Sharpe Ratio: -0.041\n",
      "  Sortino Ratio: -0.077\n",
      "\n",
      "--- Running Derivative backtest for: EURUSD (Exit: fixed_rr, Cooldown: 9 bars, Lookback: 17) Filters: ADX>20, ADX>=11 ---\n"
     ]
    },
    {
     "name": "stderr",
     "output_type": "stream",
     "text": [
      "[I 2025-04-22 01:16:58,746] Trial 98 finished with value: -0.05633916514389244 and parameters: {'lookback_period': 17, 'cooldown_period_bars': 9, 'use_atr_filter': False, 'use_adx_filter': True, 'adx_period_trend': 19, 'adx_trend_threshold': 20, 'use_adx_whipsaw_filter': True, 'adx_whipsaw_threshold': 11, 'use_adaptive_rr': False, 'base_rr': 1.0035637573481704}. Best is trial 85 with value: 0.11015493898237269.\n"
     ]
    },
    {
     "name": "stdout",
     "output_type": "stream",
     "text": [
      "  Total Trades: 101\n",
      "  Win Rate: 42.57% (43 wins)\n",
      "  Total PnL (Points): -147.45622\n",
      "  Sharpe Ratio: -0.056\n",
      "  Sortino Ratio: -0.096\n",
      "\n",
      "--- Running Derivative backtest for: EURUSD (Exit: fixed_rr, Cooldown: 10 bars, Lookback: 18) ---\n"
     ]
    },
    {
     "name": "stderr",
     "output_type": "stream",
     "text": [
      "[I 2025-04-22 01:16:59,378] Trial 99 finished with value: -0.23566396229645006 and parameters: {'lookback_period': 18, 'cooldown_period_bars': 10, 'use_atr_filter': False, 'use_adx_filter': False, 'use_adx_whipsaw_filter': False, 'use_adaptive_rr': False, 'base_rr': 2.27810252738284}. Best is trial 85 with value: 0.11015493898237269.\n"
     ]
    },
    {
     "name": "stdout",
     "output_type": "stream",
     "text": [
      "  Total Trades: 102\n",
      "  Win Rate: 21.57% (22 wins)\n",
      "  Total PnL (Points): -610.53942\n",
      "  Sharpe Ratio: -0.236\n",
      "  Sortino Ratio: -0.508\n",
      "  Optimization complete. Best Sharpe (in-sample): 0.110\n",
      "  Best parameters found: {'lookback_period': 17, 'cooldown_period_bars': 10, 'use_atr_filter': False, 'use_adx_filter': False, 'use_adx_whipsaw_filter': True, 'adx_whipsaw_threshold': 12, 'use_adaptive_rr': False, 'base_rr': 1.0015773586608767}\n",
      "  Running backtest on test data with best parameters...\n",
      "\n",
      "--- Running Derivative backtest for: EURUSD (Exit: fixed_rr, Cooldown: 10 bars, Lookback: 17) Filters: ADX>=12 ---\n",
      "  Total Trades: 63\n",
      "  Win Rate: 61.90% (39 wins)\n",
      "  Total PnL (Points): 570.78770\n",
      "  Sharpe Ratio: 0.233\n",
      "  Sortino Ratio: 0.590\n",
      "\n",
      "==============================\n",
      "Sharpe Ratio Walk-Forward Analysis Complete.\n",
      "==============================\n",
      "\n",
      "===== Sharpe Walk-Forward OOS Results Summary =====\n",
      "     pair  strategy  cooldown  total_trades   win_rate  total_pnl  sharpe_ratio  sortino_ratio  rr_ratio trailing_sl_distance max_hold_bars  lookback_period  use_atr_filter  atr_period  atr_ma_period  use_adx_filter  adx_period adx_trend_threshold  use_adx_whipsaw_filter  adx_whipsaw_threshold  use_adaptive_rr   base_rr  atr_multiplier_rr            optimize_start              optimize_end                test_start                  test_end\n",
      "0  EURUSD  fixed_rr         9            43  30.232558  -0.017548     -0.129954      -0.268188       NaN                 None          None                9            True        12.0           15.0           False         NaN                None                   False                    NaN             True  1.902489           0.370367 2024-04-21 23:00:00+00:00 2024-10-18 23:00:00+00:00 2024-10-18 23:00:00+00:00 2025-01-16 23:00:00+00:00\n",
      "1  EURUSD  fixed_rr        10            63  61.904762   0.057079      0.232790       0.589502       2.0                 None          None               17           False         NaN            NaN           False        14.0                None                    True                   12.0            False       NaN                NaN 2024-07-20 23:00:00+00:00 2025-01-16 23:00:00+00:00 2025-01-16 23:00:00+00:00 2025-04-16 23:00:00+00:00\n",
      "\n",
      "===== Aggregated Sharpe OOS Performance =====\n",
      "Total Out-of-Sample PnL: 0.03953\n",
      "Total Out-of-Sample Trades: 106\n",
      "Overall Weighted Out-of-Sample Win Rate: 49.06%\n",
      "Average Out-of-Sample Sharpe Ratio: 0.051\n",
      "\n",
      "Combined 106 trades from all Sharpe OOS periods.\n"
     ]
    }
   ],
   "source": [
    "import optuna\n",
    "import pandas as pd\n",
    "import numpy as np\n",
    "\n",
    "# Define the objective function for Optuna (Maximize Sharpe Ratio)\n",
    "def objective_sharpe(trial, df_optimize): # Add df_optimize as an argument\n",
    "    # --- Parameters to Optimize (Same as PnL objective) ---\n",
    "    pair_to_optimize = 'eurusd'\n",
    "    exit_strategy_to_optimize = 'fixed_rr'\n",
    "\n",
    "    lookback_period = trial.suggest_int('lookback_period', 5, 20)\n",
    "    cooldown_period = trial.suggest_int('cooldown_period_bars', 1, 10)\n",
    "\n",
    "    use_atr = trial.suggest_categorical('use_atr_filter', [True, False])\n",
    "    atr_p = trial.suggest_int('atr_period', 7, 21) if use_atr else 14\n",
    "    atr_ma_p = trial.suggest_int('atr_ma_period', 10, 50) if use_atr else 20\n",
    "\n",
    "    use_adx_trend = trial.suggest_categorical('use_adx_filter', [True, False])\n",
    "    adx_p_trend = trial.suggest_int('adx_period_trend', 7, 21) if use_adx_trend else 14\n",
    "    adx_thresh_trend = trial.suggest_int('adx_trend_threshold', 15, 35) if use_adx_trend else 25\n",
    "\n",
    "    use_adx_whip = trial.suggest_categorical('use_adx_whipsaw_filter', [True, False])\n",
    "    adx_p_whip = adx_p_trend\n",
    "    adx_thresh_whip = trial.suggest_int('adx_whipsaw_threshold', 10, 25) if use_adx_whip else 20\n",
    "\n",
    "    if exit_strategy_to_optimize == 'fixed_rr':\n",
    "        use_adaptive = trial.suggest_categorical('use_adaptive_rr', [True, False])\n",
    "        base_rr_val = trial.suggest_float('base_rr', 1.0, 4.0)\n",
    "        atr_mult_rr = trial.suggest_float('atr_multiplier_rr', -0.5, 1.0) if use_adaptive else 0.5\n",
    "        adaptive_rr_atr_p = 14\n",
    "        adaptive_rr_atr_ma_p = 50\n",
    "        rr_ratio_param = base_rr_val\n",
    "        trailing_sl_param = None\n",
    "        max_hold_param = None\n",
    "    # ... (add elif for other strategies if needed, similar to PnL objective) ...\n",
    "    else: # Default/fallback\n",
    "        rr_ratio_param = 2.0\n",
    "        trailing_sl_param = None\n",
    "        max_hold_param = None\n",
    "        use_adaptive = False\n",
    "        base_rr_val = None\n",
    "        atr_mult_rr = None\n",
    "\n",
    "    # --- Run the Backtest (Same as PnL objective) ---\n",
    "    results, _ = run_derivative_backtest_for_pair_with_cooldown(\n",
    "        df_original=df_optimize,\n",
    "        pair_suffix=pair_to_optimize,\n",
    "        exit_strategy=exit_strategy_to_optimize,\n",
    "        lookback_period=lookback_period,\n",
    "        cooldown_period_bars=cooldown_period,\n",
    "        use_atr_filter=use_atr,\n",
    "        atr_period=atr_p,\n",
    "        atr_ma_period=atr_ma_p,\n",
    "        use_adx_filter=use_adx_trend,\n",
    "        adx_period=adx_p_trend,\n",
    "        adx_trend_threshold=adx_thresh_trend,\n",
    "        use_adx_whipsaw_filter=use_adx_whip,\n",
    "        adx_whipsaw_threshold=adx_thresh_whip,\n",
    "        rr_ratio=rr_ratio_param,\n",
    "        trailing_sl_distance=trailing_sl_param,\n",
    "        max_hold_bars=max_hold_param,\n",
    "        use_adaptive_rr=use_adaptive,\n",
    "        base_rr=base_rr_val,\n",
    "        atr_multiplier_rr=atr_mult_rr,\n",
    "        adaptive_rr_atr_period=adaptive_rr_atr_p,\n",
    "        adaptive_rr_atr_ma_period=adaptive_rr_atr_ma_p\n",
    "    )\n",
    "\n",
    "    # --- Return the Metric to Maximize (Sharpe Ratio) ---\n",
    "    sharpe = results.get('sharpe_ratio', np.nan)\n",
    "\n",
    "    # Penalize if Sharpe is NaN or invalid\n",
    "    if not isinstance(sharpe, (int, float)) or pd.isna(sharpe):\n",
    "        sharpe = -1e9 # Return a very small number\n",
    "\n",
    "    # Also penalize for too few trades (as Sharpe can be misleading with few data points)\n",
    "    num_trades = results.get('total_trades', 0)\n",
    "    if not isinstance(num_trades, int) or num_trades < 5: # Minimum trades threshold\n",
    "        return -1e9 # Return a very small number\n",
    "\n",
    "    return sharpe\n",
    "\n",
    "# --- Walk-Forward Analysis Cell (Optimizing for Sharpe Ratio) ---\n",
    "\n",
    "# --- 1. Define Walk-Forward Parameters (Same as before) ---\n",
    "data_to_use_sharpe = df_yf_adapted # Or df\n",
    "optimize_duration_sharpe = pd.Timedelta(days=180)\n",
    "test_duration_sharpe = pd.Timedelta(days=90)\n",
    "step_duration_sharpe = pd.Timedelta(days=90)\n",
    "wf_pair_suffix_sharpe = 'eurusd'\n",
    "wf_exit_strategy_sharpe = 'fixed_rr'\n",
    "n_optuna_trials_wf_sharpe = 100 # Trials per window\n",
    "\n",
    "# --- 2. Walk-Forward Loop ---\n",
    "all_oos_results_sharpe = []\n",
    "all_oos_trades_sharpe = {}\n",
    "start_date_sharpe = data_to_use_sharpe.index.min()\n",
    "end_date_sharpe = data_to_use_sharpe.index.max()\n",
    "current_optimize_start_sharpe = start_date_sharpe\n",
    "wf_run_count_sharpe = 0\n",
    "\n",
    "print(\"Starting Walk-Forward Analysis (Optimizing for Sharpe Ratio)...\")\n",
    "print(f\"Optimize Duration: {optimize_duration_sharpe}\")\n",
    "print(f\"Test Duration: {test_duration_sharpe}\")\n",
    "print(f\"Step Duration: {step_duration_sharpe}\")\n",
    "print(\"-\" * 30)\n",
    "\n",
    "while current_optimize_start_sharpe + optimize_duration_sharpe + test_duration_sharpe <= end_date_sharpe:\n",
    "    wf_run_count_sharpe += 1\n",
    "    optimize_end_sharpe = current_optimize_start_sharpe + optimize_duration_sharpe\n",
    "    test_start_sharpe = optimize_end_sharpe\n",
    "    test_end_sharpe = test_start_sharpe + test_duration_sharpe\n",
    "\n",
    "    print(f\"\\n===== Sharpe WF Run {wf_run_count_sharpe} =====\")\n",
    "    print(f\"Optimize Period: {current_optimize_start_sharpe.date()} to {optimize_end_sharpe.date()}\")\n",
    "    print(f\"Test Period    : {test_start_sharpe.date()} to {test_end_sharpe.date()}\")\n",
    "\n",
    "    # --- 3. Data Slicing ---\n",
    "    df_optimize_sharpe = data_to_use_sharpe.loc[current_optimize_start_sharpe:optimize_end_sharpe].copy()\n",
    "    df_test_sharpe = data_to_use_sharpe.loc[test_start_sharpe:test_end_sharpe].copy()\n",
    "\n",
    "    if df_optimize_sharpe.empty or df_test_sharpe.empty:\n",
    "        print(\"  Skipping run: Insufficient data.\")\n",
    "        current_optimize_start_sharpe += step_duration_sharpe\n",
    "        continue\n",
    "\n",
    "    # --- 4. Optimization (In-Sample using objective_sharpe) ---\n",
    "    print(f\"  Running Optuna ({n_optuna_trials_wf_sharpe} trials, maximizing Sharpe) on optimization data...\")\n",
    "    study_wf_sharpe = optuna.create_study(direction='maximize', study_name=f\"wf_sharpe_run_{wf_run_count_sharpe}\")\n",
    "    try:\n",
    "        # Use the new objective_sharpe function\n",
    "        study_wf_sharpe.optimize(lambda trial: objective_sharpe(trial, df_optimize_sharpe), n_trials=n_optuna_trials_wf_sharpe, n_jobs=1)\n",
    "        best_params_wf_sharpe = study_wf_sharpe.best_params\n",
    "        print(f\"  Optimization complete. Best Sharpe (in-sample): {study_wf_sharpe.best_value:.3f}\")\n",
    "        print(f\"  Best parameters found: {best_params_wf_sharpe}\")\n",
    "\n",
    "        # --- 5. Testing (Out-of-Sample) ---\n",
    "        print(f\"  Running backtest on test data with best parameters...\")\n",
    "        backtest_params_sharpe = {\n",
    "            'df_original': df_test_sharpe,\n",
    "            'pair_suffix': wf_pair_suffix_sharpe,\n",
    "            'exit_strategy': wf_exit_strategy_sharpe,\n",
    "            **best_params_wf_sharpe\n",
    "        }\n",
    "\n",
    "        oos_results_sharpe, oos_trades_sharpe = run_derivative_backtest_for_pair_with_cooldown(**backtest_params_sharpe)\n",
    "\n",
    "        # Add window info\n",
    "        oos_results_sharpe['optimize_start'] = current_optimize_start_sharpe\n",
    "        oos_results_sharpe['optimize_end'] = optimize_end_sharpe\n",
    "        oos_results_sharpe['test_start'] = test_start_sharpe\n",
    "        oos_results_sharpe['test_end'] = test_end_sharpe\n",
    "\n",
    "        all_oos_results_sharpe.append(oos_results_sharpe)\n",
    "        if not oos_trades_sharpe.empty:\n",
    "             all_oos_trades_sharpe[f\"run_{wf_run_count_sharpe}_{test_start_sharpe.date()}_{test_end_sharpe.date()}\"] = oos_trades_sharpe\n",
    "\n",
    "    except Exception as e:\n",
    "        print(f\"  Error during Optuna optimization or OOS backtest for Sharpe run {wf_run_count_sharpe}: {e}\")\n",
    "\n",
    "    # --- Slide Window ---\n",
    "    current_optimize_start_sharpe += step_duration_sharpe\n",
    "\n",
    "print(\"\\n\" + \"=\" * 30)\n",
    "print(\"Sharpe Ratio Walk-Forward Analysis Complete.\")\n",
    "print(\"=\" * 30 + \"\\n\")\n",
    "\n",
    "# --- 6. Aggregate and Display Results ---\n",
    "if all_oos_results_sharpe:\n",
    "    wf_results_df_sharpe = pd.DataFrame(all_oos_results_sharpe)\n",
    "\n",
    "    print(\"===== Sharpe Walk-Forward OOS Results Summary =====\")\n",
    "    pd.set_option('display.max_rows', None)\n",
    "    pd.set_option('display.max_columns', None)\n",
    "    pd.set_option('display.width', 1000)\n",
    "    print(wf_results_df_sharpe.to_string())\n",
    "\n",
    "    print(\"\\n===== Aggregated Sharpe OOS Performance =====\")\n",
    "    wf_results_df_sharpe['total_pnl_numeric'] = pd.to_numeric(wf_results_df_sharpe['total_pnl'], errors='coerce').fillna(0)\n",
    "    wf_results_df_sharpe['total_trades_numeric'] = pd.to_numeric(wf_results_df_sharpe['total_trades'], errors='coerce').fillna(0)\n",
    "\n",
    "    total_oos_pnl_sharpe = wf_results_df_sharpe['total_pnl_numeric'].sum()\n",
    "    total_oos_trades_sharpe = wf_results_df_sharpe['total_trades_numeric'].sum()\n",
    "\n",
    "    wf_results_df_sharpe['weighted_wins'] = pd.to_numeric(wf_results_df_sharpe['win_rate'], errors='coerce')/100 * wf_results_df_sharpe['total_trades_numeric']\n",
    "    total_oos_wins_sharpe = wf_results_df_sharpe['weighted_wins'].sum()\n",
    "    overall_weighted_win_rate_sharpe = (total_oos_wins_sharpe / total_oos_trades_sharpe * 100) if total_oos_trades_sharpe > 0 else 0\n",
    "\n",
    "    # Calculate average OOS Sharpe (simple average, could also weight by trades or PnL std dev)\n",
    "    avg_oos_sharpe = pd.to_numeric(wf_results_df_sharpe['sharpe_ratio'], errors='coerce').mean()\n",
    "\n",
    "    print(f\"Total Out-of-Sample PnL: {total_oos_pnl_sharpe:.5f}\")\n",
    "    print(f\"Total Out-of-Sample Trades: {int(total_oos_trades_sharpe)}\")\n",
    "    print(f\"Overall Weighted Out-of-Sample Win Rate: {overall_weighted_win_rate_sharpe:.2f}%\")\n",
    "    print(f\"Average Out-of-Sample Sharpe Ratio: {avg_oos_sharpe:.3f}\") # Display avg Sharpe\n",
    "\n",
    "    if all_oos_trades_sharpe:\n",
    "        combined_oos_trades_df_sharpe = pd.concat(all_oos_trades_sharpe.values(), ignore_index=True)\n",
    "        print(f\"\\nCombined {len(combined_oos_trades_df_sharpe)} trades from all Sharpe OOS periods.\")\n",
    "    else:\n",
    "        print(\"\\nNo trades recorded across all Sharpe OOS periods.\")\n",
    "\n",
    "else:\n",
    "    print(\"No Sharpe walk-forward runs were completed successfully.\")\n",
    "\n",
    "# Reset display options if desired\n",
    "# pd.reset_option('display.max_rows')\n",
    "# pd.reset_option('display.max_columns')\n",
    "# pd.reset_option('display.width')"
   ]
  },
  {
   "cell_type": "raw",
   "id": "f8387f92",
   "metadata": {
    "vscode": {
     "languageId": "raw"
    }
   },
   "source": [
    "===== Sharpe Walk-Forward OOS Results Summary =====\n",
    "     pair  strategy  cooldown  total_trades   win_rate  total_pnl  sharpe_ratio  sortino_ratio  rr_ratio trailing_sl_distance max_hold_bars  lookback_period  use_atr_filter atr_period atr_ma_period  use_adx_filter  adx_period adx_trend_threshold  use_adx_whipsaw_filter  adx_whipsaw_threshold  use_adaptive_rr base_rr atr_multiplier_rr            optimize_start              optimize_end                test_start                  test_end\n",
    "0  EURUSD  fixed_rr        10            58  46.551724   0.002648      0.016436       0.033373       2.0                 None          None               20           False       None          None           False        14.0                None                    True                   10.0            False    None              None 2024-04-21 23:00:00+00:00 2024-10-18 23:00:00+00:00 2024-10-18 23:00:00+00:00 2025-01-16 23:00:00+00:00\n",
    "1  EURUSD  fixed_rr        10            72  50.000000   0.020362      0.076100       0.170210       2.0                 None          None               13           False       None          None           False         NaN                None                   False                    NaN            False    None              None 2024-07-20 23:00:00+00:00 2025-01-16 23:00:00+00:00 2025-01-16 23:00:00+00:00 2025-04-16 23:00:00+00:00\n",
    "...\n",
    "Overall Weighted Out-of-Sample Win Rate: 48.46%\n",
    "Average Out-of-Sample Sharpe Ratio: 0.046\n",
    "\n",
    "===== Sharpe Walk-Forward OOS Results Summary =====\n",
    "     pair  strategy  cooldown  total_trades   win_rate  total_pnl  sharpe_ratio  sortino_ratio  rr_ratio trailing_sl_distance max_hold_bars  lookback_period  use_atr_filter  atr_period  atr_ma_period  use_adx_filter  adx_period adx_trend_threshold  use_adx_whipsaw_filter  adx_whipsaw_threshold  use_adaptive_rr   base_rr  atr_multiplier_rr            optimize_start              optimize_end                test_start                  test_end\n",
    "0  EURUSD  fixed_rr         9            43  30.232558  -0.017548     -0.129954      -0.268188       NaN                 None          None                9            True        12.0           15.0           False         NaN                None                   False                    NaN             True  1.902489           0.370367 2024-04-21 23:00:00+00:00 2024-10-18 23:00:00+00:00 2024-10-18 23:00:00+00:00 2025-01-16 23:00:00+00:00\n",
    "1  EURUSD  fixed_rr        10            63  61.904762   0.057079      0.232790       0.589502       2.0                 None          None               17           False         NaN            NaN           False        14.0                None                    True                   12.0            False       NaN                NaN 2024-07-20 23:00:00+00:00 2025-01-16 23:00:00+00:00 2025-01-16 23:00:00+00:00 2025-04-16 23:00:00+00:00\n",
    "...\n",
    "Overall Weighted Out-of-Sample Win Rate: 49.06%\n",
    "Average Out-of-Sample Sharpe Ratio: 0.051"
   ]
  },
  {
   "cell_type": "code",
   "execution_count": 56,
   "id": "b9c7be32",
   "metadata": {},
   "outputs": [],
   "source": [
    "# Objective function for Optuna - Maximize Win Rate\n",
    "def objective_winrate(trial, df_pair, pair, initial_capital, cooldown_period, lookback_period, optimize_start_dt, optimize_end_dt):\n",
    "    # --- Suggest Filters ---\n",
    "    use_atr_filter = trial.suggest_categorical('use_atr_filter', [True, False])\n",
    "    use_adx_filter = trial.suggest_categorical('use_adx_filter', [True, False])\n",
    "    use_adx_whipsaw_filter = trial.suggest_categorical('use_adx_whipsaw_filter', [True, False])\n",
    "    use_adaptive_rr = trial.suggest_categorical('use_adaptive_rr', [True, False])\n",
    "\n",
    "    # --- Base Parameters ---\n",
    "    params = {\n",
    "        'pair': pair,\n",
    "        'strategy': 'fixed_rr', # Assuming fixed_rr\n",
    "        'cooldown': cooldown_period,\n",
    "        'lookback_period': lookback_period,\n",
    "        'use_atr_filter': use_atr_filter,\n",
    "        'use_adx_filter': use_adx_filter,\n",
    "        'use_adx_whipsaw_filter': use_adx_whipsaw_filter,\n",
    "        'use_adaptive_rr': use_adaptive_rr,\n",
    "        'initial_capital': initial_capital,\n",
    "        'optimize_start': optimize_start_dt,\n",
    "        'optimize_end': optimize_end_dt,\n",
    "        'test_start': None,\n",
    "        'test_end': None,\n",
    "        'trailing_sl_distance': None,\n",
    "        'max_hold_bars': None\n",
    "    }\n",
    "    filter_desc = []\n",
    "\n",
    "    # --- Suggest Parameters based on selected Filters ---\n",
    "    if use_atr_filter:\n",
    "        atr_period = trial.suggest_int('atr_period', 5, 20)\n",
    "        atr_ma_period = trial.suggest_int('atr_ma_period', 20, 100)\n",
    "        params['atr_period'] = atr_period\n",
    "        params['atr_ma_period'] = atr_ma_period\n",
    "        filter_desc.append(f\"ATR({atr_period}, MA{atr_ma_period})\")\n",
    "    else:\n",
    "        params['atr_period'] = None\n",
    "        params['atr_ma_period'] = None\n",
    "\n",
    "    if use_adx_filter:\n",
    "        adx_period = trial.suggest_int('adx_period', 5, 21)\n",
    "        adx_trend_threshold = trial.suggest_int('adx_trend_threshold', 15, 35)\n",
    "        params['adx_period'] = adx_period\n",
    "        params['adx_trend_threshold'] = adx_trend_threshold\n",
    "        filter_desc.append(f\"ADX>{adx_trend_threshold}\")\n",
    "    else:\n",
    "        params['adx_period'] = None\n",
    "        params['adx_trend_threshold'] = None\n",
    "\n",
    "    if use_adx_whipsaw_filter:\n",
    "        adx_whipsaw_threshold = trial.suggest_int('adx_whipsaw_threshold', 15, 35)\n",
    "        params['adx_whipsaw_threshold'] = adx_whipsaw_threshold\n",
    "        filter_desc.append(f\"ADXWhip<{adx_whipsaw_threshold}\")\n",
    "    else:\n",
    "         params['adx_whipsaw_threshold'] = None\n",
    "\n",
    "    if use_adaptive_rr:\n",
    "        base_rr = trial.suggest_float('base_rr', 0.5, 3.0, step=0.1)\n",
    "        atr_multiplier_rr = trial.suggest_float('atr_multiplier_rr', 0.1, 2.0, step=0.1)\n",
    "        params['base_rr'] = base_rr\n",
    "        params['atr_multiplier_rr'] = atr_multiplier_rr\n",
    "        filter_desc.append(f\"AdaptRR({base_rr:.1f}, {atr_multiplier_rr:.1f})\")\n",
    "    else:\n",
    "        params['base_rr'] = None\n",
    "        params['atr_multiplier_rr'] = None\n",
    "\n",
    "    # --- Run Backtest ---\n",
    "    try:\n",
    "        results_df, performance_metrics = run_derivative_backtest_for_pair_with_cooldown(\n",
    "            df_pair,\n",
    "            pair=pair,\n",
    "            strategy=params['strategy'],\n",
    "            cooldown_period=cooldown_period,\n",
    "            lookback_period=lookback_period,\n",
    "            initial_capital=initial_capital,\n",
    "            use_atr_filter=params['use_atr_filter'],\n",
    "            atr_period=params.get('atr_period'),\n",
    "            atr_ma_period=params.get('atr_ma_period'),\n",
    "            use_adx_filter=params['use_adx_filter'],\n",
    "            adx_period=params.get('adx_period'),\n",
    "            adx_trend_threshold=params.get('adx_trend_threshold'),\n",
    "            use_adx_whipsaw_filter=params['use_adx_whipsaw_filter'],\n",
    "            adx_whipsaw_threshold=params.get('adx_whipsaw_threshold'),\n",
    "            use_adaptive_rr=params['use_adaptive_rr'],\n",
    "            base_rr=params.get('base_rr'),\n",
    "            atr_multiplier_rr=params.get('atr_multiplier_rr'),\n",
    "            start_date=optimize_start_dt,\n",
    "            end_date=optimize_end_dt\n",
    "        )\n",
    "\n",
    "        # --- Return Win Rate ---\n",
    "        win_rate = performance_metrics.get('Win Rate (%)', 0) # Default to 0 if not found\n",
    "        win_rate = win_rate if pd.notna(win_rate) else 0 # Handle potential NaN\n",
    "\n",
    "        # Optional: Penalize if no trades were made\n",
    "        if performance_metrics.get('Total Trades', 0) == 0:\n",
    "            return 0 # Or a small negative number if preferred\n",
    "\n",
    "        return win_rate\n",
    "\n",
    "    except Exception as e:\n",
    "        print(f\"Error during winrate objective trial {trial.number} for {pair}: {e}\")\n",
    "        print(f\"Parameters causing error: {params}\")\n",
    "        # Penalize errors heavily\n",
    "        return -float('inf')\n",
    "\n",
    "# --- Add this function definition to finance.ipynb ---"
   ]
  },
  {
   "cell_type": "code",
   "execution_count": 58,
   "id": "e95d6284",
   "metadata": {},
   "outputs": [],
   "source": [
    "# Objective function for Optuna - Maximize Total PnL\n",
    "def objective_pnl(trial, df_pair, pair, initial_capital, cooldown_period, lookback_period, optimize_start_dt, optimize_end_dt):\n",
    "    # --- Suggest Filters ---\n",
    "    use_atr_filter = trial.suggest_categorical('use_atr_filter', [True, False])\n",
    "    use_adx_filter = trial.suggest_categorical('use_adx_filter', [True, False])\n",
    "    use_adx_whipsaw_filter = trial.suggest_categorical('use_adx_whipsaw_filter', [True, False])\n",
    "    use_adaptive_rr = trial.suggest_categorical('use_adaptive_rr', [True, False])\n",
    "\n",
    "    # --- Base Parameters ---\n",
    "    params = {\n",
    "        'pair': pair,\n",
    "        'strategy': 'fixed_rr', # Assuming fixed_rr\n",
    "        'cooldown': cooldown_period,\n",
    "        'lookback_period': lookback_period,\n",
    "        'use_atr_filter': use_atr_filter,\n",
    "        'use_adx_filter': use_adx_filter,\n",
    "        'use_adx_whipsaw_filter': use_adx_whipsaw_filter,\n",
    "        'use_adaptive_rr': use_adaptive_rr,\n",
    "        'initial_capital': initial_capital,\n",
    "        'optimize_start': optimize_start_dt,\n",
    "        'optimize_end': optimize_end_dt,\n",
    "        'test_start': None,\n",
    "        'test_end': None,\n",
    "        'trailing_sl_distance': None,\n",
    "        'max_hold_bars': None\n",
    "    }\n",
    "    filter_desc = [] # Keep track for debugging/logging if needed\n",
    "\n",
    "    # --- Suggest Parameters based on selected Filters ---\n",
    "    if use_atr_filter:\n",
    "        atr_period = trial.suggest_int('atr_period', 5, 20)\n",
    "        atr_ma_period = trial.suggest_int('atr_ma_period', 20, 100)\n",
    "        params['atr_period'] = atr_period\n",
    "        params['atr_ma_period'] = atr_ma_period\n",
    "        filter_desc.append(f\"ATR({atr_period}, MA{atr_ma_period})\")\n",
    "    else:\n",
    "        params['atr_period'] = None\n",
    "        params['atr_ma_period'] = None\n",
    "\n",
    "    if use_adx_filter:\n",
    "        adx_period = trial.suggest_int('adx_period', 5, 21)\n",
    "        adx_trend_threshold = trial.suggest_int('adx_trend_threshold', 15, 35)\n",
    "        params['adx_period'] = adx_period\n",
    "        params['adx_trend_threshold'] = adx_trend_threshold\n",
    "        filter_desc.append(f\"ADX>{adx_trend_threshold}\")\n",
    "    else:\n",
    "        params['adx_period'] = None\n",
    "        params['adx_trend_threshold'] = None\n",
    "\n",
    "    if use_adx_whipsaw_filter:\n",
    "        adx_whipsaw_threshold = trial.suggest_int('adx_whipsaw_threshold', 15, 35)\n",
    "        params['adx_whipsaw_threshold'] = adx_whipsaw_threshold\n",
    "        filter_desc.append(f\"ADXWhip<{adx_whipsaw_threshold}\")\n",
    "    else:\n",
    "         params['adx_whipsaw_threshold'] = None\n",
    "\n",
    "    if use_adaptive_rr:\n",
    "        base_rr = trial.suggest_float('base_rr', 0.5, 3.0, step=0.1)\n",
    "        atr_multiplier_rr = trial.suggest_float('atr_multiplier_rr', 0.1, 2.0, step=0.1)\n",
    "        params['base_rr'] = base_rr\n",
    "        params['atr_multiplier_rr'] = atr_multiplier_rr\n",
    "        filter_desc.append(f\"AdaptRR({base_rr:.1f}, {atr_multiplier_rr:.1f})\")\n",
    "    else:\n",
    "        params['base_rr'] = None\n",
    "        params['atr_multiplier_rr'] = None\n",
    "\n",
    "    # --- Run Backtest ---\n",
    "    try:\n",
    "        results_df, performance_metrics = run_derivative_backtest_for_pair_with_cooldown(\n",
    "            df_pair,\n",
    "            pair=pair,\n",
    "            strategy=params['strategy'],\n",
    "            cooldown_period=cooldown_period,\n",
    "            lookback_period=lookback_period,\n",
    "            initial_capital=initial_capital,\n",
    "            use_atr_filter=params['use_atr_filter'],\n",
    "            atr_period=params.get('atr_period'),\n",
    "            atr_ma_period=params.get('atr_ma_period'),\n",
    "            use_adx_filter=params['use_adx_filter'],\n",
    "            adx_period=params.get('adx_period'),\n",
    "            adx_trend_threshold=params.get('adx_trend_threshold'),\n",
    "            use_adx_whipsaw_filter=params['use_adx_whipsaw_filter'],\n",
    "            adx_whipsaw_threshold=params.get('adx_whipsaw_threshold'),\n",
    "            use_adaptive_rr=params['use_adaptive_rr'],\n",
    "            base_rr=params.get('base_rr'),\n",
    "            atr_multiplier_rr=params.get('atr_multiplier_rr'),\n",
    "            start_date=optimize_start_dt,\n",
    "            end_date=optimize_end_dt\n",
    "        )\n",
    "\n",
    "        # --- Return Total PnL ---\n",
    "        total_pnl = performance_metrics.get('Total PnL', -float('inf')) # Penalize if PnL not calculated\n",
    "        total_pnl = total_pnl if pd.notna(total_pnl) else -float('inf') # Handle potential NaN\n",
    "\n",
    "        # Optional: Penalize if no trades were made to avoid trivial solutions\n",
    "        if performance_metrics.get('Total Trades', 0) == 0:\n",
    "            return -1e-6 # Return a very small negative number instead of 0\n",
    "\n",
    "        return total_pnl\n",
    "\n",
    "    except Exception as e:\n",
    "        # Use the refined error printing\n",
    "        print(f\"Error during PnL objective trial {trial.number} for {pair}: {e}\")\n",
    "        print(f\"Parameters causing error: {params}\") # Print params causing error\n",
    "        # Penalize errors heavily\n",
    "        return -float('inf')\n",
    "\n",
    "# --- Add this function definition to finance.ipynb ---"
   ]
  },
  {
   "cell_type": "code",
   "execution_count": 59,
   "id": "714d7f77",
   "metadata": {},
   "outputs": [
    {
     "name": "stdout",
     "output_type": "stream",
     "text": [
      "\n",
      "=============================================\n",
      "Walk-Forward Optimization Comparison\n",
      "=============================================\n"
     ]
    },
    {
     "ename": "NameError",
     "evalue": "name 'sharpe_oos_results' is not defined",
     "output_type": "error",
     "traceback": [
      "\u001b[1;31m---------------------------------------------------------------------------\u001b[0m",
      "\u001b[1;31mNameError\u001b[0m                                 Traceback (most recent call last)",
      "Cell \u001b[1;32mIn[59], line 53\u001b[0m\n\u001b[0;32m     44\u001b[0m     \u001b[38;5;28;01mreturn\u001b[39;00m {\n\u001b[0;32m     45\u001b[0m         \u001b[38;5;124m'\u001b[39m\u001b[38;5;124mTotal PnL\u001b[39m\u001b[38;5;124m'\u001b[39m: total_pnl,\n\u001b[0;32m     46\u001b[0m         \u001b[38;5;124m'\u001b[39m\u001b[38;5;124mAvg Sharpe Ratio\u001b[39m\u001b[38;5;124m'\u001b[39m: weighted_sharpe,\n\u001b[0;32m     47\u001b[0m         \u001b[38;5;124m'\u001b[39m\u001b[38;5;124mAvg Win Rate (\u001b[39m\u001b[38;5;124m%\u001b[39m\u001b[38;5;124m)\u001b[39m\u001b[38;5;124m'\u001b[39m: weighted_win_rate,\n\u001b[0;32m     48\u001b[0m         \u001b[38;5;124m'\u001b[39m\u001b[38;5;124mTotal Trades\u001b[39m\u001b[38;5;124m'\u001b[39m: total_trades\n\u001b[0;32m     49\u001b[0m     }\n\u001b[0;32m     51\u001b[0m \u001b[38;5;66;03m# --- Extract Aggregated Results (Assuming lists are named appropriately) ---\u001b[39;00m\n\u001b[0;32m     52\u001b[0m \u001b[38;5;66;03m# IMPORTANT: Ensure these list names match exactly how they are defined in your WF loops\u001b[39;00m\n\u001b[1;32m---> 53\u001b[0m sharpe_metrics \u001b[38;5;241m=\u001b[39m get_aggregated_metrics(\u001b[43msharpe_oos_results\u001b[49m, sharpe_oos_trades_dfs, \u001b[38;5;124m\"\u001b[39m\u001b[38;5;124mSharpe\u001b[39m\u001b[38;5;124m\"\u001b[39m)\n\u001b[0;32m     54\u001b[0m pnl_metrics \u001b[38;5;241m=\u001b[39m get_aggregated_metrics(pnl_oos_results, pnl_oos_trades_dfs, \u001b[38;5;124m\"\u001b[39m\u001b[38;5;124mPnL\u001b[39m\u001b[38;5;124m\"\u001b[39m) \u001b[38;5;66;03m# Assumes pnl lists exist\u001b[39;00m\n\u001b[0;32m     55\u001b[0m \u001b[38;5;66;03m# combined_metrics = get_aggregated_metrics(combined_oos_results, combined_oos_trades_dfs, \"Combined\") # Optional\u001b[39;00m\n\u001b[0;32m     56\u001b[0m \u001b[38;5;66;03m# winrate_metrics = get_aggregated_metrics(winrate_oos_results, winrate_oos_trades_dfs, \"WinRate\") # Optional\u001b[39;00m\n",
      "\u001b[1;31mNameError\u001b[0m: name 'sharpe_oos_results' is not defined"
     ]
    }
   ],
   "source": [
    "# --- Comparison and Plotting Section (Add at the end of the notebook) ---\n",
    "import matplotlib.pyplot as plt\n",
    "import numpy as np\n",
    "import pandas as pd # Ensure pandas is imported\n",
    "\n",
    "print(\"\\n=============================================\")\n",
    "print(\"Walk-Forward Optimization Comparison\")\n",
    "print(\"=============================================\")\n",
    "\n",
    "# --- Data Preparation for Comparison ---\n",
    "comparison_data = {}\n",
    "\n",
    "# Function to safely extract aggregated metrics\n",
    "def get_aggregated_metrics(results_list, trades_df_list, objective_name):\n",
    "    if not results_list:\n",
    "        print(f\"No successful OOS runs found for {objective_name} optimization.\")\n",
    "        return None\n",
    "\n",
    "    all_oos_results_df = pd.concat(results_list, ignore_index=True)\n",
    "    all_oos_trades_df = pd.concat(trades_df_list, ignore_index=True) if trades_df_list else pd.DataFrame()\n",
    "\n",
    "    total_pnl = all_oos_results_df['total_pnl'].sum()\n",
    "    total_trades = all_oos_results_df['total_trades'].sum()\n",
    "\n",
    "    # Calculate weighted average Sharpe and Win Rate\n",
    "    if total_trades > 0:\n",
    "        weighted_sharpe = (all_oos_results_df['sharpe_ratio'] * all_oos_results_df['total_trades']).sum() / total_trades\n",
    "        weighted_win_rate = (all_oos_results_df['win_rate'] * all_oos_results_df['total_trades']).sum() / total_trades\n",
    "    else:\n",
    "        weighted_sharpe = 0\n",
    "        weighted_win_rate = 0\n",
    "\n",
    "    # Handle cases where Sharpe might be NaN or Inf if only one trade occurred etc.\n",
    "    weighted_sharpe = weighted_sharpe if pd.notna(weighted_sharpe) and np.isfinite(weighted_sharpe) else 0\n",
    "\n",
    "    print(f\"\\n===== Aggregated {objective_name} OOS Performance =====\")\n",
    "    print(f\"Total Out-of-Sample PnL: {total_pnl:.5f}\")\n",
    "    print(f\"Total Out-of-Sample Trades: {total_trades}\")\n",
    "    print(f\"Overall Weighted Out-of-Sample Win Rate: {weighted_win_rate:.2f}%\")\n",
    "    print(f\"Average Weighted Out-of-Sample Sharpe Ratio: {weighted_sharpe:.3f}\")\n",
    "    if not all_oos_trades_df.empty:\n",
    "         print(f\"Combined {total_trades} trades from all {objective_name} OOS periods.\")\n",
    "\n",
    "    return {\n",
    "        'Total PnL': total_pnl,\n",
    "        'Avg Sharpe Ratio': weighted_sharpe,\n",
    "        'Avg Win Rate (%)': weighted_win_rate,\n",
    "        'Total Trades': total_trades\n",
    "    }\n",
    "\n",
    "# --- Extract Aggregated Results (Assuming lists are named appropriately) ---\n",
    "# IMPORTANT: Ensure these list names match exactly how they are defined in your WF loops\n",
    "sharpe_metrics = get_aggregated_metrics(sharpe_oos_results, sharpe_oos_trades_dfs, \"Sharpe\")\n",
    "pnl_metrics = get_aggregated_metrics(pnl_oos_results, pnl_oos_trades_dfs, \"PnL\") # Assumes pnl lists exist\n",
    "# combined_metrics = get_aggregated_metrics(combined_oos_results, combined_oos_trades_dfs, \"Combined\") # Optional\n",
    "# winrate_metrics = get_aggregated_metrics(winrate_oos_results, winrate_oos_trades_dfs, \"WinRate\") # Optional\n",
    "\n",
    "if sharpe_metrics:\n",
    "    comparison_data['Sharpe Optimized'] = sharpe_metrics\n",
    "if pnl_metrics:\n",
    "    comparison_data['PnL Optimized'] = pnl_metrics\n",
    "# Add others if needed and available\n",
    "# if combined_metrics:\n",
    "#     comparison_data['Combined Optimized'] = combined_metrics\n",
    "# if winrate_metrics:\n",
    "#     comparison_data['WinRate Optimized'] = winrate_metrics\n",
    "\n",
    "\n",
    "# --- Text Comparison ---\n",
    "print(\"\\n--- Comparison Summary ---\")\n",
    "if 'Sharpe Optimized' in comparison_data and 'PnL Optimized' in comparison_data:\n",
    "    sharpe_res = comparison_data['Sharpe Optimized']\n",
    "    pnl_res = comparison_data['PnL Optimized']\n",
    "    print(f\"Metric            | Sharpe Opt. | PnL Opt.\")\n",
    "    print(f\"------------------|-------------|-----------\")\n",
    "    print(f\"Total PnL         | {sharpe_res['Total PnL']:<11.5f} | {pnl_res['Total PnL']:<9.5f}\")\n",
    "    print(f\"Avg Sharpe Ratio  | {sharpe_res['Avg Sharpe Ratio']:<11.3f} | {pnl_res['Avg Sharpe Ratio']:<9.3f}\")\n",
    "    print(f\"Avg Win Rate (%)  | {sharpe_res['Avg Win Rate (%)']:<11.2f} | {pnl_res['Avg Win Rate (%)']:<9.2f}\")\n",
    "    print(f\"Total Trades      | {sharpe_res['Total Trades']:<11} | {pnl_res['Total Trades']:<9}\")\n",
    "\n",
    "    # Interpretation\n",
    "    if pnl_res['Total PnL'] > sharpe_res['Total PnL'] and \\\n",
    "       pnl_res['Avg Sharpe Ratio'] > sharpe_res['Avg Sharpe Ratio'] and \\\n",
    "       pnl_res['Avg Win Rate (%)'] > sharpe_res['Avg Win Rate (%)']:\n",
    "        print(\"\\nInterpretation: PnL-optimized strategy appears dominant across PnL, Sharpe, and Win Rate.\")\n",
    "    elif sharpe_res['Avg Sharpe Ratio'] > pnl_res['Avg Sharpe Ratio']:\n",
    "        print(\"\\nInterpretation: Sharpe-optimized strategy achieved better risk-adjusted returns (Sharpe).\")\n",
    "    elif pnl_res['Total PnL'] > sharpe_res['Total PnL']:\n",
    "         print(\"\\nInterpretation: PnL-optimized strategy achieved higher overall profit.\")\n",
    "    else:\n",
    "        print(\"\\nInterpretation: Results are mixed. Evaluate trade-offs based on goals.\")\n",
    "\n",
    "elif 'Sharpe Optimized' in comparison_data:\n",
    "    print(\"Only Sharpe optimization results are available for comparison.\")\n",
    "elif 'PnL Optimized' in comparison_data:\n",
    "    print(\"Only PnL optimization results are available for comparison.\")\n",
    "else:\n",
    "    print(\"No optimization results available to compare.\")\n",
    "\n",
    "\n",
    "# --- Plotting ---\n",
    "if len(comparison_data) >= 2: # Only plot if we have at least two sets of results\n",
    "    comp_df = pd.DataFrame(comparison_data)\n",
    "\n",
    "    metrics_to_plot = ['Total PnL', 'Avg Sharpe Ratio', 'Avg Win Rate (%)', 'Total Trades']\n",
    "    comp_df = comp_df.loc[metrics_to_plot] # Ensure correct order and selection\n",
    "\n",
    "    n_groups = len(comp_df.columns)\n",
    "    n_metrics = len(comp_df.index)\n",
    "    fig, ax = plt.subplots(figsize=(12, 7))\n",
    "\n",
    "    index = np.arange(n_metrics)\n",
    "    bar_width = 0.35\n",
    "    opacity = 0.8\n",
    "\n",
    "    # Create bars for each optimization strategy\n",
    "    rects = []\n",
    "    for i, col in enumerate(comp_df.columns):\n",
    "         # Adjust position for each group\n",
    "        pos = index + i * bar_width / n_groups - (bar_width * (n_groups -1) / (2 * n_groups))\n",
    "        rects.append(ax.bar(pos, comp_df[col], bar_width / n_groups,\n",
    "                        alpha=opacity, label=col))\n",
    "\n",
    "    ax.set_xlabel('Metrics')\n",
    "    ax.set_ylabel('Values')\n",
    "    ax.set_title('Comparison of Walk-Forward OOS Performance by Optimization Objective')\n",
    "    ax.set_xticks(index)\n",
    "    ax.set_xticklabels(comp_df.index)\n",
    "    ax.legend()\n",
    "    ax.grid(axis='y', linestyle='--', alpha=0.7)\n",
    "\n",
    "    # Add labels to bars\n",
    "    def autolabel(rect_group):\n",
    "        for rect in rect_group:\n",
    "            height = rect.get_height()\n",
    "            # Format labels based on metric type\n",
    "            label_text = f'{height:.2f}' if isinstance(height, float) and abs(height) < 100 else f'{height:.0f}'\n",
    "            if isinstance(height, float) and abs(height) < 0.1:\n",
    "                 label_text = f'{height:.4f}'\n",
    "\n",
    "            ax.annotate(label_text,\n",
    "                        xy=(rect.get_x() + rect.get_width() / 2, height),\n",
    "                        xytext=(0, 3),  # 3 points vertical offset\n",
    "                        textcoords=\"offset points\",\n",
    "                        ha='center', va='bottom', fontsize=8)\n",
    "\n",
    "    for rect_group in rects:\n",
    "        autolabel(rect_group)\n",
    "\n",
    "    fig.tight_layout()\n",
    "    plt.show()\n",
    "\n",
    "else:\n",
    "    print(\"\\nPlotting skipped: Need results from at least two optimization strategies to compare.\")\n",
    "\n",
    "# --- End of Comparison and Plotting Section ---"
   ]
  },
  {
   "cell_type": "code",
   "execution_count": null,
   "id": "9e8f19ae",
   "metadata": {},
   "outputs": [],
   "source": []
  }
 ],
 "metadata": {
  "kernelspec": {
   "display_name": ".venv",
   "language": "python",
   "name": "python3"
  },
  "language_info": {
   "codemirror_mode": {
    "name": "ipython",
    "version": 3
   },
   "file_extension": ".py",
   "mimetype": "text/x-python",
   "name": "python",
   "nbconvert_exporter": "python",
   "pygments_lexer": "ipython3",
   "version": "3.10.12"
  }
 },
 "nbformat": 4,
 "nbformat_minor": 5
}
